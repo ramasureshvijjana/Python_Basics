{
 "cells": [
  {
   "cell_type": "markdown",
   "id": "f2926176",
   "metadata": {},
   "source": [
    "## Properties\n",
    "\n",
    "=> Ordered  \n",
    "=> Changeable  \n",
    "=> Duplicates not allow.  \n",
    "=> Allow all data types.  \n",
    "=> Immutable  \n",
    "=> Not intering  "
   ]
  },
  {
   "cell_type": "markdown",
   "id": "39aa23da",
   "metadata": {},
   "source": [
    "### Ordered"
   ]
  },
  {
   "cell_type": "markdown",
   "id": "185dbcab",
   "metadata": {},
   "source": [
    "=> As of Python version 3.7, dictionaries are ordered. In Python 3.6 and earlier, dictionaries are unordered."
   ]
  },
  {
   "cell_type": "code",
   "execution_count": 18,
   "id": "372ffa79",
   "metadata": {},
   "outputs": [
    {
     "name": "stdout",
     "output_type": "stream",
     "text": [
      "Key : name            value: Suresh VJ\n",
      "Key : age            value: 24\n",
      "Key : DBO            value: 26/02/1997\n"
     ]
    }
   ],
   "source": [
    "person = {'name' : 'Suresh VJ',\n",
    "         'age' : 24,\n",
    "         'DBO' : '26/02/1997'}\n",
    "\n",
    "for i in person:\n",
    "    print('Key : {}            value: {}'.format(i, person[i]))"
   ]
  },
  {
   "cell_type": "markdown",
   "id": "489f4e53",
   "metadata": {},
   "source": [
    "### Changeable\n",
    "\n",
    "=> Dictionaries are changeable, meaning that we can change, add or remove items.  "
   ]
  },
  {
   "cell_type": "code",
   "execution_count": 19,
   "id": "f637784b",
   "metadata": {},
   "outputs": [
    {
     "name": "stdout",
     "output_type": "stream",
     "text": [
      "{'name': 'Suresh VJ', 'age': 24, 'DBO': '26/02/1997', 'phone': 123456789, 'Address': 'AMP', 'Edu': 'B.Tech'}\n"
     ]
    }
   ],
   "source": [
    "# Add some key: Value pairs to person dict\n",
    "\n",
    "person.update({'phone' : 123456789})\n",
    "person.update({'Address' : 'AMP', 'Edu' : 'B.Tech'})\n",
    "print(person)"
   ]
  },
  {
   "cell_type": "code",
   "execution_count": 20,
   "id": "7fe4ac98",
   "metadata": {},
   "outputs": [
    {
     "name": "stdout",
     "output_type": "stream",
     "text": [
      "{'name': 'Suresh VJ', 'age': 24, 'DBO': '26/02/1997', 'Address': 'AMP', 'Edu': 'B.Tech'}\n"
     ]
    }
   ],
   "source": [
    "# Remove some value with key\n",
    "\n",
    "person.pop('phone')\n",
    "print(person)"
   ]
  },
  {
   "cell_type": "markdown",
   "id": "6be25dcf",
   "metadata": {},
   "source": [
    "### Duplicates not allow."
   ]
  },
  {
   "cell_type": "code",
   "execution_count": 21,
   "id": "54e43626",
   "metadata": {},
   "outputs": [
    {
     "name": "stdout",
     "output_type": "stream",
     "text": [
      "{'name': 'Suresh VJ', 'age': 24, 'DBO': '26/02/1997', 'Address': 'AMP', 'Edu': 'B.Tech'}\n"
     ]
    }
   ],
   "source": [
    "# Try to add already existed values\n",
    "\n",
    "person.update({'Address' : 'AMP', 'Edu' : 'B.Tech'})\n",
    "print(person)\n",
    "\n",
    "# Dict will not add duplicates"
   ]
  },
  {
   "cell_type": "markdown",
   "id": "38ed52b1",
   "metadata": {},
   "source": [
    "### Allow all data types.\n",
    "\n",
    "=> we can see all data types in person. So dictionary allows all data types."
   ]
  },
  {
   "cell_type": "markdown",
   "id": "c02f4370",
   "metadata": {},
   "source": [
    "### Immutable"
   ]
  },
  {
   "cell_type": "code",
   "execution_count": 22,
   "id": "7c3ec4e4",
   "metadata": {},
   "outputs": [
    {
     "name": "stdout",
     "output_type": "stream",
     "text": [
      "Before reintialization:  1739137480128\n",
      "After reintialization:   1739137481856\n"
     ]
    }
   ],
   "source": [
    "print('Before reintialization: ', id(person))\n",
    "\n",
    "person = {'name' : 'Suresh VJ',\n",
    "         'age' : 24,\n",
    "         'DBO' : '26/02/1997'}\n",
    "\n",
    "print('After reintialization:  ', id(person))"
   ]
  },
  {
   "cell_type": "markdown",
   "id": "a70e6992",
   "metadata": {},
   "source": [
    "### Not intering "
   ]
  },
  {
   "cell_type": "code",
   "execution_count": 17,
   "id": "a3ce1fe6",
   "metadata": {},
   "outputs": [
    {
     "name": "stdout",
     "output_type": "stream",
     "text": [
      "1739136358464\n",
      "1739137006080\n"
     ]
    }
   ],
   "source": [
    "x = {'name' : 'Suresh VJ',\n",
    "         'age' : 24,\n",
    "         'DBO' : '26/02/1997'}\n",
    "\n",
    "y = {'name' : 'Suresh VJ',\n",
    "         'age' : 24,\n",
    "         'DBO' : '26/02/1997'}\n",
    "\n",
    "print(id(x))\n",
    "print(id(y))"
   ]
  }
 ],
 "metadata": {
  "kernelspec": {
   "display_name": "Python 3",
   "language": "python",
   "name": "python3"
  },
  "language_info": {
   "codemirror_mode": {
    "name": "ipython",
    "version": 3
   },
   "file_extension": ".py",
   "mimetype": "text/x-python",
   "name": "python",
   "nbconvert_exporter": "python",
   "pygments_lexer": "ipython3",
   "version": "3.8.3"
  }
 },
 "nbformat": 4,
 "nbformat_minor": 5
}
