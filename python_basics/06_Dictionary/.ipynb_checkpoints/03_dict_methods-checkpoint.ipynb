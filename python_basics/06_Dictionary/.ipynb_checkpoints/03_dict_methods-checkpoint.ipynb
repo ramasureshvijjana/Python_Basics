{
 "cells": [
  {
   "cell_type": "markdown",
   "id": "665f2610",
   "metadata": {},
   "source": [
    "## Dictionary Methods"
   ]
  },
  {
   "cell_type": "code",
   "execution_count": 7,
   "id": "b0fe092a",
   "metadata": {},
   "outputs": [
    {
     "name": "stdout",
     "output_type": "stream",
     "text": [
      "{'name': 'Suresh VJ', 'age': 24, 'DOB': '26/02/1997'}\n"
     ]
    }
   ],
   "source": [
    "# copy() --------------> Returns a copy of the dictionary\n",
    "\n",
    "# Define a dict\n",
    "person = {'name' : 'Suresh VJ',\n",
    "         'age' : 24,\n",
    "         'DOB' : '26/02/1997'}\n",
    "\n",
    "# Copy the person dict into copy_dict\n",
    "copy_dict = person.copy()\n",
    "# printing copy_dict\n",
    "print(copy_dict)"
   ]
  },
  {
   "cell_type": "code",
   "execution_count": 8,
   "id": "507fa4d5",
   "metadata": {},
   "outputs": [
    {
     "name": "stdout",
     "output_type": "stream",
     "text": [
      "Suresh VJ\n"
     ]
    }
   ],
   "source": [
    "# get() ---------> Returns the value of the specified key\n",
    "\n",
    "print(person.get('name'))"
   ]
  },
  {
   "cell_type": "code",
   "execution_count": 9,
   "id": "ab238c52",
   "metadata": {},
   "outputs": [
    {
     "name": "stdout",
     "output_type": "stream",
     "text": [
      "dict_items([('name', 'Suresh VJ'), ('age', 24), ('DOB', '26/02/1997')])\n"
     ]
    }
   ],
   "source": [
    "# items() --------------> Returns a list containing each key value pair in te form of tuple.\n",
    "\n",
    "print(person.items())"
   ]
  },
  {
   "cell_type": "code",
   "execution_count": 10,
   "id": "b1ff11a7",
   "metadata": {},
   "outputs": [
    {
     "name": "stdout",
     "output_type": "stream",
     "text": [
      "dict_keys(['name', 'age', 'DOB'])\n"
     ]
    }
   ],
   "source": [
    "# keys() -------------> Returns a list containing the dictionary's keys\n",
    "\n",
    "print(person.keys())"
   ]
  },
  {
   "cell_type": "code",
   "execution_count": 14,
   "id": "302f4598",
   "metadata": {},
   "outputs": [
    {
     "name": "stdout",
     "output_type": "stream",
     "text": [
      "dict_values(['Suresh VJ', 24, '26/02/1997'])\n"
     ]
    }
   ],
   "source": [
    "# values() -------------> Returns a list of all the values in the dictionary\n",
    "\n",
    "print(person.values())"
   ]
  },
  {
   "cell_type": "code",
   "execution_count": 15,
   "id": "90ed9dcb",
   "metadata": {},
   "outputs": [
    {
     "name": "stdout",
     "output_type": "stream",
     "text": [
      "{'name': 'Suresh VJ', 'age': 24}\n"
     ]
    }
   ],
   "source": [
    "# pop() -----------------> Removes the element with the specified key\n",
    "\n",
    "person.pop('DOB')\n",
    "print(person)"
   ]
  },
  {
   "cell_type": "code",
   "execution_count": 16,
   "id": "ad6ab40b",
   "metadata": {},
   "outputs": [
    {
     "name": "stdout",
     "output_type": "stream",
     "text": [
      "{'name': 'Suresh VJ'}\n"
     ]
    }
   ],
   "source": [
    "# popitem() ---------------> Removes the last inserted key-value pair\n",
    "\n",
    "person.popitem()\n",
    "print(person)"
   ]
  },
  {
   "cell_type": "code",
   "execution_count": 17,
   "id": "f4243542",
   "metadata": {},
   "outputs": [
    {
     "name": "stdout",
     "output_type": "stream",
     "text": [
      "{'name': 'Suresh VJ', 'age': 24, 'DOB': '26/02/1997'}\n"
     ]
    }
   ],
   "source": [
    "# update() ---------------> Updates the dictionary with the specified key-value pairs\n",
    "\n",
    "person.update({'age' : 24, 'DOB' : '26/02/1997'})\n",
    "print(person)"
   ]
  },
  {
   "cell_type": "markdown",
   "id": "79c8ab09",
   "metadata": {},
   "source": [
    "### setdefault()"
   ]
  },
  {
   "cell_type": "markdown",
   "id": "959b96fd",
   "metadata": {},
   "source": [
    "=> The setdefault() method returns the value of the item with the specified key.  \n",
    "=> If the key does not exist, insert the key, with the specified value, see example below.  "
   ]
  },
  {
   "cell_type": "code",
   "execution_count": 19,
   "id": "189700b0",
   "metadata": {},
   "outputs": [
    {
     "name": "stdout",
     "output_type": "stream",
     "text": [
      "Suresh VJ\n",
      "{'name': 'Suresh VJ', 'age': 24, 'DOB': '26/02/1997'}\n"
     ]
    }
   ],
   "source": [
    "# give existed key\n",
    "# Here i am giving 'name' as key\n",
    "x = person.setdefault('name', 'VJ')\n",
    "print(x)\n",
    "print(person)"
   ]
  },
  {
   "cell_type": "code",
   "execution_count": 21,
   "id": "a9d6792f",
   "metadata": {},
   "outputs": [
    {
     "name": "stdout",
     "output_type": "stream",
     "text": [
      "GDP\n",
      "{'name': 'Suresh VJ', 'age': 24, 'DOB': '26/02/1997', 'address': 'GDP'}\n"
     ]
    }
   ],
   "source": [
    "# give NOT existed key\n",
    "# Here i am giving 'address' as key\n",
    "\n",
    "y = person.setdefault('address', 'GDP')\n",
    "print(y)\n",
    "print(person)"
   ]
  },
  {
   "cell_type": "code",
   "execution_count": 23,
   "id": "45866529",
   "metadata": {},
   "outputs": [
    {
     "name": "stdout",
     "output_type": "stream",
     "text": [
      "{} <class 'dict'>\n"
     ]
    }
   ],
   "source": [
    "# clear() -------------> Removes all the elements from the dictionary\n",
    "\n",
    "person.clear()\n",
    "print(person, type(person))"
   ]
  }
 ],
 "metadata": {
  "kernelspec": {
   "display_name": "Python 3",
   "language": "python",
   "name": "python3"
  },
  "language_info": {
   "codemirror_mode": {
    "name": "ipython",
    "version": 3
   },
   "file_extension": ".py",
   "mimetype": "text/x-python",
   "name": "python",
   "nbconvert_exporter": "python",
   "pygments_lexer": "ipython3",
   "version": "3.8.3"
  }
 },
 "nbformat": 4,
 "nbformat_minor": 5
}
