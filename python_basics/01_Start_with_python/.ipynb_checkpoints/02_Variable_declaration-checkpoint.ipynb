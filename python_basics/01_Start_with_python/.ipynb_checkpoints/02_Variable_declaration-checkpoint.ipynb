{
 "cells": [
  {
   "cell_type": "markdown",
   "id": "afba49e7",
   "metadata": {},
   "source": [
    "# VARIABLE DECLARATION"
   ]
  },
  {
   "cell_type": "markdown",
   "id": "4cbaaf5c",
   "metadata": {},
   "source": [
    "  \n",
    "   The variable declaration has two major steps in every programming language, which are declaration and initialization.\n",
    "But in python, these two steps are in one process.PYTHON doesn't have a separate part for declaration.\n"
   ]
  },
  {
   "cell_type": "markdown",
   "id": "b69d0446",
   "metadata": {},
   "source": [
    "## Roles for variable declaration"
   ]
  },
  {
   "cell_type": "markdown",
   "id": "18558e6a",
   "metadata": {},
   "source": [
    "\n",
    "The roles for declaring a variable  \n",
    "\n",
    "=> Variable name should start with lower case character.  \n",
    "=> Variable name shouldn't start with a number or a special character.  \n",
    "=> variable name words should separate with underscore \" _ \".    \n",
    "\n",
    "Note: Above roles are for only best practice not restricted by python.\n"
   ]
  },
  {
   "cell_type": "code",
   "execution_count": 18,
   "id": "63e72be2",
   "metadata": {},
   "outputs": [
    {
     "name": "stdout",
     "output_type": "stream",
     "text": [
      "My name: Suresh VJ \n",
      "My salary:  21800\n"
     ]
    }
   ],
   "source": [
    "# Variable declaration\n",
    "name = \"Suresh VJ\"\n",
    "my_salary = 21800\n",
    "\n",
    "print(\"My name:\", name, \"\\nMy salary: \", my_salary)"
   ]
  },
  {
   "cell_type": "markdown",
   "id": "1d1a9b40",
   "metadata": {},
   "source": [
    "## Use of type() and id() method"
   ]
  },
  {
   "cell_type": "markdown",
   "id": "6bbdd884",
   "metadata": {},
   "source": [
    "\n",
    "type() -----> it is used for to see the type of a variable.  \n",
    "\n",
    "id()   -----> it is used for to see the address of a variable.  \n"
   ]
  },
  {
   "cell_type": "code",
   "execution_count": 19,
   "id": "6d96b9fd",
   "metadata": {},
   "outputs": [
    {
     "name": "stdout",
     "output_type": "stream",
     "text": [
      "name variable type:  <class 'str'> \n",
      "my_salary variable type:  <class 'int'>\n"
     ]
    }
   ],
   "source": [
    "print(\"name variable type: \", type(name), \"\\nmy_salary variable type: \", type(my_salary))"
   ]
  },
  {
   "cell_type": "code",
   "execution_count": 20,
   "id": "6c558102",
   "metadata": {},
   "outputs": [
    {
     "name": "stdout",
     "output_type": "stream",
     "text": [
      "name variable address:  2717420073200 \n",
      "my_salary variable address:  2717419325328\n"
     ]
    }
   ],
   "source": [
    "print(\"name variable address: \", id(name), \"\\nmy_salary variable address: \", id(my_salary))"
   ]
  },
  {
   "cell_type": "markdown",
   "id": "e1956586",
   "metadata": {},
   "source": [
    "## Immutable property of python variables"
   ]
  },
  {
   "cell_type": "markdown",
   "id": "a333c9f5",
   "metadata": {},
   "source": [
    "   \n",
    "   In Python, all variables have immutable properties, which means it doesn't allow changes in the current object once it created. If you try to change it will create another object and store now value and delate old object.\n",
    "    "
   ]
  },
  {
   "cell_type": "code",
   "execution_count": 2,
   "id": "5dc669ba",
   "metadata": {},
   "outputs": [
    {
     "name": "stdout",
     "output_type": "stream",
     "text": [
      "140726110339904 2157250038512 2157250279856 2157250038832 140726110054224\n",
      "140726110337056 2157250038064 2157250280880 2157250038736 140726110054256\n"
     ]
    }
   ],
   "source": [
    "# First declaration\n",
    "int_var = 98\n",
    "float_var = 98.78\n",
    "string_var = \"LOVE\"\n",
    "complex_var = 3 + 5j\n",
    "boolean_var = True\n",
    "\n",
    "print(id(int_var), id(float_var), id(string_var), id(complex_var), id(boolean_var))\n",
    "\n",
    "# Second declaration\n",
    "int_var = 9\n",
    "float_var = 98.7\n",
    "string_var = \"LOVER\"\n",
    "complex_var = 6 + 5j\n",
    "boolean_var = False\n",
    "\n",
    "print(id(int_var), id(float_var), id(string_var), id(complex_var), id(boolean_var))"
   ]
  },
  {
   "cell_type": "markdown",
   "id": "d06a558a",
   "metadata": {},
   "source": [
    "     \n",
    "We can easily understand whenever we change the values of the same variables the addresses also changed.\n"
   ]
  },
  {
   "cell_type": "markdown",
   "id": "530eeba7",
   "metadata": {},
   "source": [
    "## Object Intering"
   ]
  },
  {
   "cell_type": "markdown",
   "id": "5e6d6639",
   "metadata": {},
   "source": [
    "\n",
    "Whenever we created two variables with the same data, the python compiler creates only one object and gives the same location to two variables. this process is called OBJECT INTERING. this is one of the immutable properties.\n"
   ]
  },
  {
   "cell_type": "code",
   "execution_count": 22,
   "id": "302a142a",
   "metadata": {},
   "outputs": [
    {
     "name": "stdout",
     "output_type": "stream",
     "text": [
      " 140726052995968 \n",
      " 140726052995968\n"
     ]
    }
   ],
   "source": [
    "first_num = 100\n",
    "second_num = 100\n",
    "\n",
    "print('', id(first_num), '\\n', id(second_num))"
   ]
  }
 ],
 "metadata": {
  "kernelspec": {
   "display_name": "Python 3",
   "language": "python",
   "name": "python3"
  },
  "language_info": {
   "codemirror_mode": {
    "name": "ipython",
    "version": 3
   },
   "file_extension": ".py",
   "mimetype": "text/x-python",
   "name": "python",
   "nbconvert_exporter": "python",
   "pygments_lexer": "ipython3",
   "version": "3.8.3"
  }
 },
 "nbformat": 4,
 "nbformat_minor": 5
}
