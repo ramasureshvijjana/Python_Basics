{
 "cells": [
  {
   "cell_type": "markdown",
   "id": "720599bf",
   "metadata": {},
   "source": [
    "## Q4.) Use range(1,21) make two list, one should contain even numbers and the other should contain odd numbers\n"
   ]
  },
  {
   "cell_type": "code",
   "execution_count": 2,
   "id": "9ce1420b",
   "metadata": {},
   "outputs": [
    {
     "name": "stdout",
     "output_type": "stream",
     "text": [
      "[2, 4, 6, 8, 10, 12, 14, 16, 18, 20]\n",
      "[1, 3, 5, 7, 9, 11, 13, 15, 17, 19]\n"
     ]
    }
   ],
   "source": [
    "even, odd = [], []\n",
    "for i in range(1,21):\n",
    "    if i % 2 == 0:\n",
    "        even.append(i)\n",
    "    else:\n",
    "        odd.append(i)\n",
    "        \n",
    "print(even)\n",
    "print(odd)"
   ]
  },
  {
   "cell_type": "markdown",
   "id": "ef6eee64",
   "metadata": {},
   "source": [
    "Alternative Q4: \n",
    "student_list = [{'name':'A','subject':'phy','marks':90},\n",
    "                {'name':'B','subject':'chem','marks':59},\n",
    "                {'name':'C','subject':'maths','marks':89}]\n",
    "\n",
    "Make a generic code which will sum all the marks of all the students whose \n",
    "subject name contains an vowel.\n"
   ]
  },
  {
   "cell_type": "markdown",
   "id": "b6a86313",
   "metadata": {},
   "source": [
    "## Q.5) given two tuples , arrange their unique elements in sorted order in a list"
   ]
  },
  {
   "cell_type": "code",
   "execution_count": null,
   "id": "0735c13c",
   "metadata": {},
   "outputs": [],
   "source": [
    "### Intuition: Tuples are immutable, create an empty list to store the unique elements and sort them.\n",
    "\n",
    "### Pseudocode:\n",
    "    1.)Create a new tuple by adding them.\n",
    "    2.)loop through them to append only value not already present\n",
    "    3.)finally use sorted method on the list.\n"
   ]
  },
  {
   "cell_type": "markdown",
   "id": "c1793eed",
   "metadata": {},
   "source": [
    "### Method - 1"
   ]
  },
  {
   "cell_type": "code",
   "execution_count": 7,
   "id": "685946ba",
   "metadata": {},
   "outputs": [
    {
     "name": "stdout",
     "output_type": "stream",
     "text": [
      "[1, 2, 9, 19, 20, 28, 34, 39, 89, 90, 1900, 8900, 10000]\n"
     ]
    }
   ],
   "source": [
    "t1 = (89,1,90,34,28,90,39,2,90,19)\n",
    "t2 = (8900,10000,9,20,9,1900,34,28,90)\n",
    "t3 = t1+t2\n",
    "list_var = []\n",
    "for i in t3:\n",
    "    if i not in list_var:\n",
    "        list_var.append(i)\n",
    "        \n",
    "final = sorted(list_var)\n",
    "print(final)"
   ]
  },
  {
   "cell_type": "markdown",
   "id": "c0709156",
   "metadata": {},
   "source": [
    "### Method - 2"
   ]
  },
  {
   "cell_type": "code",
   "execution_count": 9,
   "id": "d52a5fcc",
   "metadata": {},
   "outputs": [
    {
     "name": "stdout",
     "output_type": "stream",
     "text": [
      "[1, 2, 9, 19, 20, 28, 34, 39, 89, 90, 1900, 8900, 10000]\n"
     ]
    }
   ],
   "source": [
    "final = sorted(set(t3))\n",
    "print(final)"
   ]
  },
  {
   "cell_type": "code",
   "execution_count": null,
   "id": "f4924d4c",
   "metadata": {},
   "outputs": [],
   "source": []
  }
 ],
 "metadata": {
  "kernelspec": {
   "display_name": "Python 3",
   "language": "python",
   "name": "python3"
  },
  "language_info": {
   "codemirror_mode": {
    "name": "ipython",
    "version": 3
   },
   "file_extension": ".py",
   "mimetype": "text/x-python",
   "name": "python",
   "nbconvert_exporter": "python",
   "pygments_lexer": "ipython3",
   "version": "3.8.3"
  }
 },
 "nbformat": 4,
 "nbformat_minor": 5
}
