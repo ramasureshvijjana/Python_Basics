{
 "cells": [
  {
   "cell_type": "markdown",
   "id": "6a5d9e1f",
   "metadata": {},
   "source": [
    "# Tuple\n",
    "=> Tuples are used to store multiple items in a single variable.  \n",
    "=> Tuples are written with round brackets.  \n",
    "=> We can create tuples in 2 ways, with round brackets () or by using tuple constructer.  \n",
    "\n",
    "Link : https://www.programiz.com/python-programming/tuple  "
   ]
  },
  {
   "cell_type": "markdown",
   "id": "4c0191b7",
   "metadata": {},
   "source": [
    "### Create a tuple using \" () \""
   ]
  },
  {
   "cell_type": "code",
   "execution_count": 1,
   "id": "2fc518ca",
   "metadata": {},
   "outputs": [
    {
     "name": "stdout",
     "output_type": "stream",
     "text": [
      "('Suresh', 'Chandu', 'Bhanu')\n"
     ]
    }
   ],
   "source": [
    "# Creating a tuple variable\n",
    "tuple_var_1 = ('Suresh', 'Chandu', 'Bhanu')\n",
    "\n",
    "print(tuple_var_1)"
   ]
  },
  {
   "cell_type": "code",
   "execution_count": 7,
   "id": "1e937a0a",
   "metadata": {},
   "outputs": [
    {
     "name": "stdout",
     "output_type": "stream",
     "text": [
      "<class 'tuple'>\n",
      "\n",
      "tuple_var_1 address:      1793948276352\n"
     ]
    }
   ],
   "source": [
    "# see the type of \" tuple_var_1 \" \n",
    "print(type(tuple_var_1))\n",
    "\n",
    "# see the address of \" tuple_var_1 \" \n",
    "print('\\ntuple_var_1 address:     ', id(tuple_var_1))"
   ]
  },
  {
   "cell_type": "markdown",
   "id": "b9e69a25",
   "metadata": {},
   "source": [
    "### Create a tuple using tuple constructor."
   ]
  },
  {
   "cell_type": "code",
   "execution_count": 8,
   "id": "9fb58ffb",
   "metadata": {},
   "outputs": [
    {
     "name": "stdout",
     "output_type": "stream",
     "text": [
      "('Suresh', 'Chandu', 'Bhanu')\n",
      "<class 'tuple'>\n",
      "\n",
      "tuple_var_2 address:      1793948370688\n"
     ]
    }
   ],
   "source": [
    "tuple_var_2 = tuple(('Suresh', 'Chandu', 'Bhanu')) # Here don't forget double brackets\n",
    "print(tuple_var_2)\n",
    "\n",
    "print(type(tuple_var_2))\n",
    "print('\\ntuple_var_2 address:     ', id(tuple_var_2))"
   ]
  }
 ],
 "metadata": {
  "kernelspec": {
   "display_name": "Python 3",
   "language": "python",
   "name": "python3"
  },
  "language_info": {
   "codemirror_mode": {
    "name": "ipython",
    "version": 3
   },
   "file_extension": ".py",
   "mimetype": "text/x-python",
   "name": "python",
   "nbconvert_exporter": "python",
   "pygments_lexer": "ipython3",
   "version": "3.8.3"
  }
 },
 "nbformat": 4,
 "nbformat_minor": 5
}
