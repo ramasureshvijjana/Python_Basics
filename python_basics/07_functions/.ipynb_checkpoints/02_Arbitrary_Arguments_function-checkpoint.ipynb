{
 "cells": [
  {
   "cell_type": "markdown",
   "id": "19e130d1",
   "metadata": {},
   "source": [
    "### Arbitrary Arguments, *args\n",
    "=> If you do not know how many arguments that will be passed into your function, add a * before the parameter name in the function definition.  \n",
    "=> This way the function will receive a tuple of arguments, and can access the items accordingly"
   ]
  },
  {
   "cell_type": "code",
   "execution_count": 1,
   "id": "b7bfb31a",
   "metadata": {},
   "outputs": [
    {
     "name": "stdout",
     "output_type": "stream",
     "text": [
      "Suresh VJ\n"
     ]
    }
   ],
   "source": [
    "# Create a arbitrary argument fuction\n",
    "def my_function(*args):\n",
    "    \n",
    "    # acess elements from args tuple\n",
    "    print(args[0], args[1])\n",
    "\n",
    "# Calling function \n",
    "my_function('Suresh', 'VJ')"
   ]
  },
  {
   "cell_type": "markdown",
   "id": "9616c80f",
   "metadata": {},
   "source": [
    "### Arbitrary Keyword Arguments, **kwargs\n",
    "=> If you do not know how many keyword arguments that will be passed into your function, add two asterisk: ** before the parameter name in the function definition.  \n",
    "=> This way the function will receive a dictionary of arguments, and can access the items accordingly"
   ]
  },
  {
   "cell_type": "code",
   "execution_count": 5,
   "id": "14392ffd",
   "metadata": {},
   "outputs": [
    {
     "name": "stdout",
     "output_type": "stream",
     "text": [
      "Suresh VJ\n"
     ]
    }
   ],
   "source": [
    "# Create a arbitrary argument fuction\n",
    "def my_function(**args):\n",
    "    \n",
    "    # acess elements from args tuple\n",
    "    print(args['fname'], args['lname'])\n",
    "\n",
    "# Calling function \n",
    "my_function(fname = 'Suresh', lname = 'VJ')"
   ]
  },
  {
   "cell_type": "code",
   "execution_count": 6,
   "id": "f12f0c87",
   "metadata": {},
   "outputs": [
    {
     "ename": "KeyError",
     "evalue": "0",
     "output_type": "error",
     "traceback": [
      "\u001b[1;31m---------------------------------------------------------------------------\u001b[0m",
      "\u001b[1;31mKeyError\u001b[0m                                  Traceback (most recent call last)",
      "\u001b[1;32m<ipython-input-6-0818d5b77dce>\u001b[0m in \u001b[0;36m<module>\u001b[1;34m\u001b[0m\n\u001b[0;32m      8\u001b[0m \u001b[1;33m\u001b[0m\u001b[0m\n\u001b[0;32m      9\u001b[0m \u001b[1;31m# Calling function\u001b[0m\u001b[1;33m\u001b[0m\u001b[1;33m\u001b[0m\u001b[1;33m\u001b[0m\u001b[0m\n\u001b[1;32m---> 10\u001b[1;33m \u001b[0mmy_function\u001b[0m\u001b[1;33m(\u001b[0m\u001b[0mfname\u001b[0m \u001b[1;33m=\u001b[0m \u001b[1;34m'Suresh'\u001b[0m\u001b[1;33m,\u001b[0m \u001b[0mlname\u001b[0m \u001b[1;33m=\u001b[0m \u001b[1;34m'VJ'\u001b[0m\u001b[1;33m)\u001b[0m\u001b[1;33m\u001b[0m\u001b[1;33m\u001b[0m\u001b[0m\n\u001b[0m",
      "\u001b[1;32m<ipython-input-6-0818d5b77dce>\u001b[0m in \u001b[0;36mmy_function\u001b[1;34m(**args)\u001b[0m\n\u001b[0;32m      5\u001b[0m \u001b[1;33m\u001b[0m\u001b[0m\n\u001b[0;32m      6\u001b[0m     \u001b[1;31m# acess elements from args tuple\u001b[0m\u001b[1;33m\u001b[0m\u001b[1;33m\u001b[0m\u001b[1;33m\u001b[0m\u001b[0m\n\u001b[1;32m----> 7\u001b[1;33m     \u001b[0mprint\u001b[0m\u001b[1;33m(\u001b[0m\u001b[0margs\u001b[0m\u001b[1;33m[\u001b[0m\u001b[1;36m0\u001b[0m\u001b[1;33m]\u001b[0m\u001b[1;33m,\u001b[0m \u001b[0margs\u001b[0m\u001b[1;33m[\u001b[0m\u001b[1;36m1\u001b[0m\u001b[1;33m]\u001b[0m\u001b[1;33m)\u001b[0m\u001b[1;33m\u001b[0m\u001b[1;33m\u001b[0m\u001b[0m\n\u001b[0m\u001b[0;32m      8\u001b[0m \u001b[1;33m\u001b[0m\u001b[0m\n\u001b[0;32m      9\u001b[0m \u001b[1;31m# Calling function\u001b[0m\u001b[1;33m\u001b[0m\u001b[1;33m\u001b[0m\u001b[1;33m\u001b[0m\u001b[0m\n",
      "\u001b[1;31mKeyError\u001b[0m: 0"
     ]
    }
   ],
   "source": [
    "######################## ERROR ############################\n",
    "\n",
    "# Create a arbitrary argument fuction\n",
    "def my_function(**args):\n",
    "    \n",
    "    # You should acess values with keys only not with index numbers.\n",
    "    # Because args is Dict here\n",
    "    print(args[0], args[1])\n",
    "\n",
    "# Calling function \n",
    "my_function(fname = 'Suresh', lname = 'VJ')"
   ]
  }
 ],
 "metadata": {
  "kernelspec": {
   "display_name": "Python 3",
   "language": "python",
   "name": "python3"
  },
  "language_info": {
   "codemirror_mode": {
    "name": "ipython",
    "version": 3
   },
   "file_extension": ".py",
   "mimetype": "text/x-python",
   "name": "python",
   "nbconvert_exporter": "python",
   "pygments_lexer": "ipython3",
   "version": "3.8.3"
  }
 },
 "nbformat": 4,
 "nbformat_minor": 5
}
