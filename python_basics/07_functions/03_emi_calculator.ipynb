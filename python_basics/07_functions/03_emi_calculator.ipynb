{
 "cells": [
  {
   "cell_type": "markdown",
   "id": "86f8f22d",
   "metadata": {},
   "source": [
    "## EMI Calculator"
   ]
  },
  {
   "cell_type": "code",
   "execution_count": 3,
   "id": "2bba5caf",
   "metadata": {},
   "outputs": [
    {
     "name": "stdout",
     "output_type": "stream",
     "text": [
      "Enter Total amount:33198\n",
      "Enter the payment priod:12\n",
      "Your monthly payment is : 2766.5\n"
     ]
    }
   ],
   "source": [
    "def emi_calculator(total_amount, period):\n",
    "    monthly_payment = int(total_amount)/int(period)\n",
    "    return monthly_payment\n",
    "\n",
    "mnt_amount = emi_calculator(input('Enter Total amount:'), input('Enter the payment priod:'))\n",
    "\n",
    "print(f'Your monthly payment is : {mnt_amount}')"
   ]
  }
 ],
 "metadata": {
  "kernelspec": {
   "display_name": "Python 3",
   "language": "python",
   "name": "python3"
  },
  "language_info": {
   "codemirror_mode": {
    "name": "ipython",
    "version": 3
   },
   "file_extension": ".py",
   "mimetype": "text/x-python",
   "name": "python",
   "nbconvert_exporter": "python",
   "pygments_lexer": "ipython3",
   "version": "3.8.3"
  }
 },
 "nbformat": 4,
 "nbformat_minor": 5
}
