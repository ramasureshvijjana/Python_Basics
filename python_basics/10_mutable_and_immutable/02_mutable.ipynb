{
 "cells": [
  {
   "cell_type": "markdown",
   "id": "8c349f27",
   "metadata": {},
   "source": [
    "### Set"
   ]
  },
  {
   "cell_type": "code",
   "execution_count": 5,
   "id": "454c022d",
   "metadata": {},
   "outputs": [
    {
     "name": "stdout",
     "output_type": "stream",
     "text": [
      "Way-1\n",
      "\n",
      "Before Change:  2741481895520\n",
      "After Change:   2741481893952\n",
      "\n",
      "Way-2\n",
      "\n",
      "Before Change:  2741481894400 {'Anand', 'Suresh VJ'}\n",
      "After Change:   2741481894400 {'Anand', 'Ram', 'Suresh VJ'}\n"
     ]
    }
   ],
   "source": [
    "############################ Method - 1 ############################\n",
    "print('Way-1\\n')\n",
    "set_var_1 = {'Suresh', 'Eswar'}\n",
    "print('Before Change: ', id(set_var_1))\n",
    "\n",
    "set_var_1 = {'Ram', 'Naveen'}\n",
    "print('After Change:  ', id(set_var_1))\n",
    "\n",
    "############################ Method - 2 ############################\n",
    "print('\\nWay-2\\n')\n",
    "set_var_2 = {'Suresh VJ', 'Anand'}\n",
    "print('Before Change: ', id(set_var_2), set_var_2)\n",
    "\n",
    "\n",
    "set_var_2.add('Ram')\n",
    "print('After Change:  ', id(set_var_2), set_var_2)"
   ]
  },
  {
   "cell_type": "code",
   "execution_count": 12,
   "id": "f49ac678",
   "metadata": {},
   "outputs": [
    {
     "name": "stdout",
     "output_type": "stream",
     "text": [
      "Way-1\n",
      "\n",
      "Before Change:  2741480366400\n",
      "After Change:   2741480356864\n",
      "\n",
      "Way-2\n",
      "\n",
      "Before Change:  2741480357760 ['Suresh VJ', 'Anand']\n",
      "Before Change:  2741480907952 Suresh VJ\n",
      "\n",
      "After Change:   2741480357760 ['Mahesh', 'Suresh VJ', 'Anand']\n",
      "After Change:   2741480907952 Suresh VJ\n"
     ]
    }
   ],
   "source": [
    "############################ Method - 1 ############################\n",
    "print('Way-1\\n')\n",
    "list_var_1 = ['Suresh', 'Eswar']\n",
    "print('Before Change: ', id(list_var_1))\n",
    "\n",
    "list_var_1 = ['Ram', 'Naveen']\n",
    "print('After Change:  ', id(list_var_1))\n",
    "\n",
    "############################ Method - 2 ############################\n",
    "print('\\nWay-2\\n')\n",
    "list_var_1 = ['Suresh VJ', 'Anand']\n",
    "print('Before Change: ', id(list_var_1), list_var_1)\n",
    "print('Before Change: ', id(list_var_1[0]), list_var_1[0])\n",
    "\n",
    "\n",
    "list_var_1.insert(0, 'Mahesh')\n",
    "print('\\nAfter Change:  ', id(list_var_1), list_var_1)\n",
    "print('After Change:  ', id(list_var_1[1]), list_var_1[1])"
   ]
  },
  {
   "cell_type": "code",
   "execution_count": null,
   "id": "0ef50aff",
   "metadata": {},
   "outputs": [],
   "source": []
  },
  {
   "cell_type": "code",
   "execution_count": null,
   "id": "84f39e62",
   "metadata": {},
   "outputs": [],
   "source": []
  }
 ],
 "metadata": {
  "kernelspec": {
   "display_name": "Python 3",
   "language": "python",
   "name": "python3"
  },
  "language_info": {
   "codemirror_mode": {
    "name": "ipython",
    "version": 3
   },
   "file_extension": ".py",
   "mimetype": "text/x-python",
   "name": "python",
   "nbconvert_exporter": "python",
   "pygments_lexer": "ipython3",
   "version": "3.8.3"
  }
 },
 "nbformat": 4,
 "nbformat_minor": 5
}
