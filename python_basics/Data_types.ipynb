{
 "cells": [
  {
   "cell_type": "markdown",
   "id": "f3025555",
   "metadata": {},
   "source": [
    "# DATA TYPES"
   ]
  },
  {
   "cell_type": "markdown",
   "id": "0505409d",
   "metadata": {},
   "source": [
    "Mainly 5 types of data types in python.\n",
    "\n",
    "#### 1. Numeric  \n",
    "   a. Integer  \n",
    "   b. Float  \n",
    "   c. Complex\n",
    "   \n",
    "#### 2. Boolean\n",
    "#### 3. Set\n",
    "#### 4. Dictionary\n",
    "#### 5. Sequence Types  \n",
    "\n",
    "   a. String  \n",
    "   b. Tuple  \n",
    "   c. List\n",
    "   "
   ]
  },
  {
   "cell_type": "markdown",
   "id": "73e6f2c5",
   "metadata": {},
   "source": [
    "## Numeric"
   ]
  },
  {
   "cell_type": "markdown",
   "id": "8099c88c",
   "metadata": {},
   "source": [
    "Let's start with the Integer data type from numeric.  \n",
    "Here Type() method is used to know the variable type."
   ]
  },
  {
   "cell_type": "markdown",
   "id": "60e8cf62",
   "metadata": {},
   "source": [
    "### Integer  \n",
    "\n",
    "All positive and negative numbers are called integers.\n"
   ]
  },
  {
   "cell_type": "code",
   "execution_count": 5,
   "id": "70759663",
   "metadata": {},
   "outputs": [
    {
     "name": "stdout",
     "output_type": "stream",
     "text": [
      "5 -98\n",
      "number variable data type <class 'int'>\n"
     ]
    }
   ],
   "source": [
    "positive_num = 5\n",
    "negative_num = -98\n",
    "print(positive_num, negative_num)\n",
    "print(type(number))"
   ]
  },
  {
   "cell_type": "markdown",
   "id": "63e9aad0",
   "metadata": {},
   "source": [
    "### Float\n",
    "\n",
    "All fractional numbers are called float data types."
   ]
  },
  {
   "cell_type": "code",
   "execution_count": 6,
   "id": "e0aa8e22",
   "metadata": {},
   "outputs": [
    {
     "name": "stdout",
     "output_type": "stream",
     "text": [
      "78.98 -98.88\n",
      "<class 'float'>\n"
     ]
    }
   ],
   "source": [
    "positive_flt = 78.98\n",
    "negative_flt = -98.88\n",
    "\n",
    "print(positive_flt, negative_flt)\n",
    "print(type(negative_flt))"
   ]
  },
  {
   "cell_type": "markdown",
   "id": "081eee02",
   "metadata": {},
   "source": [
    "### Complex\n",
    "\n",
    "The combination of real and imaginary numbers are called complex numbers.  \n",
    "complex number ========> (5 + 6j),  (7 - 8j),  (3j),  (-1j)"
   ]
  },
  {
   "cell_type": "code",
   "execution_count": 12,
   "id": "86811cf7",
   "metadata": {},
   "outputs": [
    {
     "name": "stdout",
     "output_type": "stream",
     "text": [
      "<class 'complex'>\n"
     ]
    }
   ],
   "source": [
    "complex_num_1 = 5 + 6j\n",
    "complex_num_2 = 5 - 7j\n",
    "complex_num_3 = 7j\n",
    "complex_num_4 = - 7j\n",
    "\n",
    "print(type(complex_num_1))\n",
    "\n",
    "# complex_num = 5 + 6 j ------> SyntaxError: invalid syntax [Don't give space between 6 j]"
   ]
  },
  {
   "cell_type": "markdown",
   "id": "9ea7a798",
   "metadata": {},
   "source": [
    "## Boolean"
   ]
  },
  {
   "cell_type": "markdown",
   "id": "cb85337b",
   "metadata": {},
   "source": [
    "Boolean is validatin data type has only two values ========> True, False"
   ]
  },
  {
   "cell_type": "code",
   "execution_count": 15,
   "id": "95259e88",
   "metadata": {},
   "outputs": [
    {
     "name": "stdout",
     "output_type": "stream",
     "text": [
      "<class 'bool'>\n"
     ]
    }
   ],
   "source": [
    "boolean_1 = True\n",
    "boolean_2 = False\n",
    "\n",
    "print(type(boolean_1))\n",
    "\n",
    "# boolean_1 = true --------->   NameError: name 'true' is not defined (Starting letter must capital for true and false)"
   ]
  },
  {
   "cell_type": "code",
   "execution_count": null,
   "id": "a11e8568",
   "metadata": {},
   "outputs": [],
   "source": []
  }
 ],
 "metadata": {
  "kernelspec": {
   "display_name": "Python 3",
   "language": "python",
   "name": "python3"
  },
  "language_info": {
   "codemirror_mode": {
    "name": "ipython",
    "version": 3
   },
   "file_extension": ".py",
   "mimetype": "text/x-python",
   "name": "python",
   "nbconvert_exporter": "python",
   "pygments_lexer": "ipython3",
   "version": "3.8.3"
  }
 },
 "nbformat": 4,
 "nbformat_minor": 5
}
