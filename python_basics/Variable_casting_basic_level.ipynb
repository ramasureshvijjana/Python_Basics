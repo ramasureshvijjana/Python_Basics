{
 "cells": [
  {
   "cell_type": "markdown",
   "id": "9a93fb43",
   "metadata": {},
   "source": [
    "# TYPE CASTING"
   ]
  },
  {
   "cell_type": "markdown",
   "id": "5a05cee0",
   "metadata": {},
   "source": [
    "\n",
    "=>  Type-casting is a process of converting one data type to another data type.  \n",
    "=>  Converting into int or float or string are comes under basic level type-casting.  \n",
    "=>  The in-depth of this concept we can learning after inheritance topic, But up to now focus on basic only.  \n",
    "=> Casting in python is done by using constructor functions. \n"
   ]
  },
  {
   "cell_type": "markdown",
   "id": "6a1fbf0b",
   "metadata": {},
   "source": [
    "## Convert in to integer"
   ]
  },
  {
   "cell_type": "markdown",
   "id": "a78fcc30",
   "metadata": {},
   "source": [
    "\n",
    "=> The int() constructor is used to convert into int.\n"
   ]
  },
  {
   "cell_type": "code",
   "execution_count": 6,
   "id": "254b8160",
   "metadata": {},
   "outputs": [
    {
     "name": "stdout",
     "output_type": "stream",
     "text": [
      "value is:  2         Type is:  <class 'int'>\n",
      "value is:  98        Type is:  <class 'int'>\n",
      "value is:  26        Type is:  <class 'int'>\n"
     ]
    }
   ],
   "source": [
    "int_conv = int(2)\n",
    "print('value is: ', int_conv, '        Type is: ', type(int_conv))\n",
    "\n",
    "float_conv = int(98.45)\n",
    "print('value is: ', float_conv, '       Type is: ', type(float_conv))\n",
    "\n",
    "str_conv = int('26')\n",
    "print('value is: ', str_conv, '       Type is: ', type(str_conv))\n",
    "\n",
    "# NOT WORKING WAYS\n",
    "# wron_way = int('MATHS')  ----------------->   ValueError: invalid literal for int() with base 10: 'MATHS'"
   ]
  },
  {
   "cell_type": "markdown",
   "id": "65a96bdc",
   "metadata": {},
   "source": [
    "## Convert in to float"
   ]
  },
  {
   "cell_type": "markdown",
   "id": "f086cc11",
   "metadata": {},
   "source": [
    "=> The float() constructor is used to convert into float."
   ]
  },
  {
   "cell_type": "code",
   "execution_count": 17,
   "id": "e247faff",
   "metadata": {
    "scrolled": true
   },
   "outputs": [
    {
     "name": "stdout",
     "output_type": "stream",
     "text": [
      "value is:  5.0         Type is:  <class 'float'>\n",
      "value is:  5.98        Type is:  <class 'float'>\n",
      "value is:  78.0        Type is:  <class 'float'>\n",
      "value is:  34.09       Type is:  <class 'float'>\n"
     ]
    }
   ],
   "source": [
    "int_flt_conv = float(5)\n",
    "print('value is: ', int_flt_conv, '        Type is: ', type(int_flt_conv))\n",
    "\n",
    "flt_flt_conv = float(5.98)\n",
    "print('value is: ', flt_flt_conv, '       Type is: ', type(flt_flt_conv))\n",
    "\n",
    "str1_flt_conv = float('78')\n",
    "print('value is: ', str1_flt_conv, '       Type is: ', type(str1_flt_conv))\n",
    "\n",
    "str2_flt_conv = float('34.09')\n",
    "print('value is: ', str2_flt_conv, '      Type is: ', type(str2_flt_conv))\n",
    "\n",
    "# NOT WORKING WAYS\n",
    "# wron_way = float('MATHS')  ----------------->   ValueError: could not convert string to float: 'MATHS'"
   ]
  },
  {
   "cell_type": "markdown",
   "id": "f684ed08",
   "metadata": {},
   "source": [
    "## Convert in to string"
   ]
  },
  {
   "cell_type": "markdown",
   "id": "5fc97b57",
   "metadata": {},
   "source": [
    "=> The string() constructor is used to convert into string."
   ]
  },
  {
   "cell_type": "code",
   "execution_count": 13,
   "id": "19f99626",
   "metadata": {},
   "outputs": [
    {
     "name": "stdout",
     "output_type": "stream",
     "text": [
      "value is:  54         Type is:  <class 'str'>\n",
      "value is:  56.09      Type is:  <class 'str'>\n",
      "value is:  VJ         Type is:  <class 'str'>\n"
     ]
    }
   ],
   "source": [
    "int_str_conv = str(54)\n",
    "print('value is: ', int_str_conv, '        Type is: ', type(int_str_conv))\n",
    "\n",
    "float_str_conv = str(56.09)\n",
    "print('value is: ', float_str_conv, '     Type is: ', type(float_str_conv))\n",
    "\n",
    "str_str_conv = str('VJ')\n",
    "print('value is: ', str_str_conv, '        Type is: ', type(str_str_conv))"
   ]
  }
 ],
 "metadata": {
  "kernelspec": {
   "display_name": "Python 3",
   "language": "python",
   "name": "python3"
  },
  "language_info": {
   "codemirror_mode": {
    "name": "ipython",
    "version": 3
   },
   "file_extension": ".py",
   "mimetype": "text/x-python",
   "name": "python",
   "nbconvert_exporter": "python",
   "pygments_lexer": "ipython3",
   "version": "3.8.3"
  }
 },
 "nbformat": 4,
 "nbformat_minor": 5
}
