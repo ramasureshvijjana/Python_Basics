{
 "cells": [
  {
   "cell_type": "markdown",
   "id": "0a63c872",
   "metadata": {},
   "source": [
    "## Print any information in console"
   ]
  },
  {
   "cell_type": "markdown",
   "id": "117eb325",
   "metadata": {},
   "source": [
    "Print() is a method in python used to print any information or string in the console."
   ]
  },
  {
   "cell_type": "code",
   "execution_count": 1,
   "id": "7ae166ea",
   "metadata": {},
   "outputs": [
    {
     "name": "stdout",
     "output_type": "stream",
     "text": [
      "VJ\n"
     ]
    }
   ],
   "source": [
    "print(\"VJ\")"
   ]
  },
  {
   "cell_type": "code",
   "execution_count": 15,
   "id": "67f5c34c",
   "metadata": {},
   "outputs": [
    {
     "name": "stdout",
     "output_type": "stream",
     "text": [
      "Name : Rama  Suresh\n"
     ]
    }
   ],
   "source": [
    "x, y = 'Rama', 'Suresh'\n",
    "print('Name :', x, '', y)"
   ]
  },
  {
   "cell_type": "code",
   "execution_count": 14,
   "id": "ae3b1755",
   "metadata": {},
   "outputs": [
    {
     "name": "stdout",
     "output_type": "stream",
     "text": [
      "First name : Rama \n",
      "Last name  : Suresh\n"
     ]
    }
   ],
   "source": [
    "print('First name : {} \\nLast name  : {}'.format(x,y))"
   ]
  },
  {
   "cell_type": "code",
   "execution_count": 16,
   "id": "10ab6ce1",
   "metadata": {},
   "outputs": [
    {
     "name": "stdout",
     "output_type": "stream",
     "text": [
      "Enter your name : Rama Suresh VJ\n",
      "Rama Suresh VJ\n"
     ]
    }
   ],
   "source": [
    "print(input('Enter your name : '))"
   ]
  }
 ],
 "metadata": {
  "kernelspec": {
   "display_name": "Python 3",
   "language": "python",
   "name": "python3"
  },
  "language_info": {
   "codemirror_mode": {
    "name": "ipython",
    "version": 3
   },
   "file_extension": ".py",
   "mimetype": "text/x-python",
   "name": "python",
   "nbconvert_exporter": "python",
   "pygments_lexer": "ipython3",
   "version": "3.8.3"
  }
 },
 "nbformat": 4,
 "nbformat_minor": 5
}
