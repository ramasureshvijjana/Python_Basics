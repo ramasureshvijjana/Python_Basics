{
 "cells": [
  {
   "cell_type": "markdown",
   "id": "b01458d5",
   "metadata": {},
   "source": [
    "# STRING"
   ]
  },
  {
   "cell_type": "markdown",
   "id": "5aab4d27",
   "metadata": {},
   "source": [
    "=> The string is made up of ordered sequences of characters.  \n",
    "=> Sring is an iterable object in python.  \n",
    "=> String can be difine with in ' ' or  \" \"  or  ''' '''  or  \"\"\" \"\"\"  "
   ]
  },
  {
   "cell_type": "code",
   "execution_count": 2,
   "id": "f0bf8d1d",
   "metadata": {},
   "outputs": [
    {
     "name": "stdout",
     "output_type": "stream",
     "text": [
      "RAMA SURESH VJ\n"
     ]
    }
   ],
   "source": [
    "str1 = 'SURESH VJ'\n",
    "str2 = \"RAMA\"\n",
    "\n",
    "print(str2, str1)"
   ]
  },
  {
   "cell_type": "markdown",
   "id": "ce3f4e8a",
   "metadata": {},
   "source": [
    "## Multiline Strings"
   ]
  },
  {
   "cell_type": "code",
   "execution_count": 5,
   "id": "76de83e3",
   "metadata": {},
   "outputs": [
    {
     "name": "stdout",
     "output_type": "stream",
     "text": [
      "My name is RAMA SURESH VIJJANA, \n",
      "Call me as SURESH VJ\n",
      "Maths lover, \n",
      "music lover\n"
     ]
    }
   ],
   "source": [
    "multiline_str1 = '''My name is RAMA SURESH VIJJANA, \n",
    "Call me as SURESH VJ'''\n",
    "\n",
    "multiline_str2 = \"\"\"Maths lover, \n",
    "music lover\"\"\"\n",
    "\n",
    "print(multiline_str1)\n",
    "print(multiline_str2)"
   ]
  },
  {
   "cell_type": "markdown",
   "id": "eef215fb",
   "metadata": {},
   "source": [
    "## Character or substring access"
   ]
  },
  {
   "cell_type": "markdown",
   "id": "0b95b571",
   "metadata": {},
   "source": [
    "=> In python, the string also acts as a string array.  \n",
    "=> We can access any character or a substring from a string.  \n",
    "=> access of substring by using square / matrix brackets [].  \n",
    "=> Substring starting from the start index number to one step before the position of the end index number.  \n",
    "=> If you define name[3:5], substring will be 3 to 4 indexed values only.\n"
   ]
  },
  {
   "cell_type": "code",
   "execution_count": 8,
   "id": "2948dbf6",
   "metadata": {},
   "outputs": [
    {
     "name": "stdout",
     "output_type": "stream",
     "text": [
      "S\n",
      "SURESH\n",
      "ESH VJ\n",
      "SURESH \n"
     ]
    }
   ],
   "source": [
    "name = 'SURESH VJ'\n",
    "print(name[0])\n",
    "print(name[0 : 6])\n",
    "print(name[3 :])\n",
    "print(name[: 6], '')\n"
   ]
  },
  {
   "cell_type": "code",
   "execution_count": 13,
   "id": "9ed8d1f9",
   "metadata": {},
   "outputs": [
    {
     "name": "stdout",
     "output_type": "stream",
     "text": [
      "J\n",
      "SURESH V\n",
      "VJ\n",
      "SH V\n"
     ]
    }
   ],
   "source": [
    "print(name[-1])\n",
    "print(name[: -1])\n",
    "print(name[-2 :])\n",
    "print(name[-5: -1])"
   ]
  },
  {
   "cell_type": "markdown",
   "id": "e2a8b301",
   "metadata": {},
   "source": [
    "## Looping Through a String\n",
    "=> Since strings are arrays, we can loop through the characters in a string, with a for loop."
   ]
  },
  {
   "cell_type": "code",
   "execution_count": 15,
   "id": "28ddbba3",
   "metadata": {},
   "outputs": [
    {
     "name": "stdout",
     "output_type": "stream",
     "text": [
      "S\n",
      "U\n",
      "R\n",
      "E\n",
      "S\n",
      "H\n",
      " \n",
      "V\n",
      "J\n"
     ]
    }
   ],
   "source": [
    "for i in name:\n",
    "    print(i)"
   ]
  },
  {
   "cell_type": "markdown",
   "id": "7708c480",
   "metadata": {},
   "source": [
    "## String Length\n",
    "=> To get the length of a string, use the len() function."
   ]
  },
  {
   "cell_type": "code",
   "execution_count": 17,
   "id": "20643359",
   "metadata": {},
   "outputs": [
    {
     "name": "stdout",
     "output_type": "stream",
     "text": [
      "9\n"
     ]
    }
   ],
   "source": [
    "print(len(name))"
   ]
  },
  {
   "cell_type": "code",
   "execution_count": 20,
   "id": "557a8112",
   "metadata": {},
   "outputs": [
    {
     "name": "stdout",
     "output_type": "stream",
     "text": [
      "index is: 0      value is: S\n",
      "index is: 1      value is: U\n",
      "index is: 2      value is: R\n",
      "index is: 3      value is: E\n",
      "index is: 4      value is: S\n",
      "index is: 5      value is: H\n",
      "index is: 6      value is:  \n",
      "index is: 7      value is: V\n",
      "index is: 8      value is: J\n"
     ]
    }
   ],
   "source": [
    "for i in range(len(name)):\n",
    "    print('index is: {}      value is: {}'.format(i, name[i]))"
   ]
  },
  {
   "cell_type": "markdown",
   "id": "d0c90732",
   "metadata": {},
   "source": [
    "## Check String\n",
    "=> To check if a certain phrase or character is present or not present in a string by using \" in \" or \" not in \" keywords."
   ]
  },
  {
   "cell_type": "code",
   "execution_count": 23,
   "id": "eb451109",
   "metadata": {},
   "outputs": [
    {
     "name": "stdout",
     "output_type": "stream",
     "text": [
      "True\n",
      "False\n"
     ]
    }
   ],
   "source": [
    "string_var = 'DS is a subpart in ML and ML is a subpart in AI'\n",
    "\n",
    "print(\"DS\" in string_var)\n",
    "print(\"ML\" not in string_var)"
   ]
  },
  {
   "cell_type": "code",
   "execution_count": null,
   "id": "8f4bed08",
   "metadata": {},
   "outputs": [],
   "source": []
  }
 ],
 "metadata": {
  "kernelspec": {
   "display_name": "Python 3",
   "language": "python",
   "name": "python3"
  },
  "language_info": {
   "codemirror_mode": {
    "name": "ipython",
    "version": 3
   },
   "file_extension": ".py",
   "mimetype": "text/x-python",
   "name": "python",
   "nbconvert_exporter": "python",
   "pygments_lexer": "ipython3",
   "version": "3.8.3"
  }
 },
 "nbformat": 4,
 "nbformat_minor": 5
}
