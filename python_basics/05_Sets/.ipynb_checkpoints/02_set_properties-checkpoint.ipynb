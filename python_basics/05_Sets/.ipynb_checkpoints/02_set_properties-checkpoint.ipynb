{
 "cells": [
  {
   "cell_type": "markdown",
   "id": "a8be7e42",
   "metadata": {},
   "source": [
    "# Set Properties\n",
    "### Unordered\n",
    "=> Unordered means that the items in a set do not have a defined order.  \n",
    "=> Set items can appear in a different order every time you use them, and cannot be referred to by index or key.  "
   ]
  },
  {
   "cell_type": "code",
   "execution_count": 11,
   "id": "56c89f7c",
   "metadata": {},
   "outputs": [
    {
     "name": "stdout",
     "output_type": "stream",
     "text": [
      "{'Hima', 'Varun', 'Chinnu', 'shushanth'}\n",
      "Hima\n",
      "Varun\n",
      "Chinnu\n",
      "shushanth\n"
     ]
    }
   ],
   "source": [
    "set_var = {'shushanth', 'Hima', 'Varun', 'Chinnu'}\n",
    "print(set_var)\n",
    "\n",
    "for name in set_var:\n",
    "    print(name)"
   ]
  },
  {
   "cell_type": "code",
   "execution_count": null,
   "id": "3f7ce96c",
   "metadata": {},
   "outputs": [],
   "source": [
    "### Unchangeable\n",
    "Sets are unchangeable, meaning that we cannot change the items after the set has been created.\n",
    "\n",
    "Once a set is created, you cannot change its items, but you can add new items."
   ]
  }
 ],
 "metadata": {
  "kernelspec": {
   "display_name": "Python 3",
   "language": "python",
   "name": "python3"
  },
  "language_info": {
   "codemirror_mode": {
    "name": "ipython",
    "version": 3
   },
   "file_extension": ".py",
   "mimetype": "text/x-python",
   "name": "python",
   "nbconvert_exporter": "python",
   "pygments_lexer": "ipython3",
   "version": "3.8.3"
  }
 },
 "nbformat": 4,
 "nbformat_minor": 5
}
