{
 "cells": [
  {
   "cell_type": "markdown",
   "id": "a8be7e42",
   "metadata": {},
   "source": [
    "# Set Properties\n"
   ]
  },
  {
   "cell_type": "markdown",
   "id": "dfd79733",
   "metadata": {},
   "source": [
    "=> Unordered  \n",
    "=> Unchangeable.  \n",
    "=> Duplicates not allow.  \n",
    "=> Allow all data types.  \n",
    "=> immutable.  \n",
    "=> Set doesn't has intering property.  "
   ]
  },
  {
   "cell_type": "markdown",
   "id": "33738033",
   "metadata": {},
   "source": [
    "### Unordered\n",
    "=> Unordered means that the items in a set do not have a defined order.  \n",
    "=> Set items can appear in a different order every time you use them, and cannot be referred to by index or key.  "
   ]
  },
  {
   "cell_type": "code",
   "execution_count": 17,
   "id": "56c89f7c",
   "metadata": {},
   "outputs": [
    {
     "name": "stdout",
     "output_type": "stream",
     "text": [
      "{'shushanth', 'Varun', 'Chinnu', 'Hima'}\n",
      "shushanth\n",
      "Varun\n",
      "Chinnu\n",
      "Hima\n"
     ]
    }
   ],
   "source": [
    "set_var = {'shushanth', 'Hima', 'Varun', 'Chinnu'}\n",
    "print(set_var)\n",
    "\n",
    "for name in set_var:\n",
    "    print(name)"
   ]
  },
  {
   "cell_type": "markdown",
   "id": "1f24c9a7",
   "metadata": {},
   "source": [
    "### Unchangeable\n",
    "=> Sets are unchangeable, meaning that we cannot change the items after the set has been created.  \n",
    "=> Once a set is created, you cannot change its items, but you can add new items"
   ]
  },
  {
   "cell_type": "markdown",
   "id": "6c9f817d",
   "metadata": {},
   "source": [
    "### Duplicates not allow."
   ]
  },
  {
   "cell_type": "markdown",
   "id": "97f96013",
   "metadata": {},
   "source": [
    "=> In this case, it will not give an error but the set automatically removes duplicates.  \n",
    "=> In this case, it will not give an error but the set will not add duplicates."
   ]
  },
  {
   "cell_type": "code",
   "execution_count": 18,
   "id": "4792cb1c",
   "metadata": {},
   "outputs": [
    {
     "name": "stdout",
     "output_type": "stream",
     "text": [
      "{'shushanth', 'Varun', 'Chinnu', 'Hima'}\n"
     ]
    }
   ],
   "source": [
    "# Try to create a set with duplicates\n",
    "\n",
    "set_var_1 = {'shushanth', 'Hima', 'Varun', 'Chinnu', 'Chinnu'}\n",
    "print(set_var_1)\n",
    "\n",
    "# In this case, it will not give an error but the set automatically removes duplicates."
   ]
  },
  {
   "cell_type": "code",
   "execution_count": 19,
   "id": "3ac49a25",
   "metadata": {},
   "outputs": [
    {
     "name": "stdout",
     "output_type": "stream",
     "text": [
      "{'shushanth', 'Varun', 'Chinnu', 'Hima'}\n"
     ]
    }
   ],
   "source": [
    "# Try to add a duplicate to existed set.\n",
    "\n",
    "set_var_1.add('Varun')\n",
    "print(set_var_1)\n",
    "\n",
    "# In this case, it will not give an error but the set will not add duplicates."
   ]
  },
  {
   "cell_type": "markdown",
   "id": "7ddc4cd4",
   "metadata": {},
   "source": [
    " ### Allow all data types."
   ]
  },
  {
   "cell_type": "code",
   "execution_count": 20,
   "id": "9b232d1c",
   "metadata": {},
   "outputs": [
    {
     "name": "stdout",
     "output_type": "stream",
     "text": [
      "{True, 2.1997, (3+26j), 'Rama', 24}\n"
     ]
    }
   ],
   "source": [
    "# Creating the set variable with different data types.\n",
    "\n",
    "set_var_2 = {'Rama', 24, 02.1997, 3+26j, True}\n",
    "print(set_var_2)"
   ]
  },
  {
   "cell_type": "markdown",
   "id": "c2743023",
   "metadata": {},
   "source": [
    "### Immutable."
   ]
  },
  {
   "cell_type": "code",
   "execution_count": 22,
   "id": "d0b96d65",
   "metadata": {},
   "outputs": [
    {
     "name": "stdout",
     "output_type": "stream",
     "text": [
      "Before reinitialization address:      2253183247744\n",
      "After reinitialization address:       2253183246400\n"
     ]
    }
   ],
   "source": [
    "\n",
    "set_var_3 ={'Rama', 45}\n",
    "print('Before reinitialization address:      {}'.format(id(set_var_3)))\n",
    "set_var_3 ={'Rama', 45, 678}\n",
    "print('After reinitialization address:       {}'.format(id(set_var_3)))"
   ]
  },
  {
   "cell_type": "markdown",
   "id": "155b8cc5",
   "metadata": {},
   "source": [
    "### Set doesn't has intering"
   ]
  },
  {
   "cell_type": "code",
   "execution_count": 23,
   "id": "e9b3c285",
   "metadata": {},
   "outputs": [
    {
     "name": "stdout",
     "output_type": "stream",
     "text": [
      "2253183246624\n",
      "2253183217728\n"
     ]
    }
   ],
   "source": [
    "set_var_4 ={'Rama', 26, 2, 1997}\n",
    "set_var_5 ={'Rama', 26, 2, 1997}\n",
    "\n",
    "print(id(set_var_4))\n",
    "print(id(set_var_5))"
   ]
  }
 ],
 "metadata": {
  "kernelspec": {
   "display_name": "Python 3",
   "language": "python",
   "name": "python3"
  },
  "language_info": {
   "codemirror_mode": {
    "name": "ipython",
    "version": 3
   },
   "file_extension": ".py",
   "mimetype": "text/x-python",
   "name": "python",
   "nbconvert_exporter": "python",
   "pygments_lexer": "ipython3",
   "version": "3.8.3"
  }
 },
 "nbformat": 4,
 "nbformat_minor": 5
}
