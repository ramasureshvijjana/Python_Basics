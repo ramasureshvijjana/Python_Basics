{
 "cells": [
  {
   "cell_type": "markdown",
   "id": "ee8810cb",
   "metadata": {},
   "source": [
    "## List Mutilplication\n",
    "\n",
    "=> We can not multiply list directly in python, which means 2*[2,3] is not posible.  \n",
    "=> So now we will see different methods for multiply a list.  "
   ]
  },
  {
   "cell_type": "markdown",
   "id": "45be7c0d",
   "metadata": {},
   "source": [
    "### Method-1:  Using for loop"
   ]
  },
  {
   "cell_type": "code",
   "execution_count": 2,
   "id": "ee0b5acb",
   "metadata": {},
   "outputs": [
    {
     "name": "stdout",
     "output_type": "stream",
     "text": [
      "[4, 10, 2, 18, 14]\n"
     ]
    }
   ],
   "source": [
    "# Define a list \n",
    "list_var = [2, 5, 1, 9, 7]\n",
    "\n",
    "# Define a empty list\n",
    "final_list = []\n",
    "\n",
    "# creating a for loop to list_var \n",
    "for i in list_var:\n",
    "    # appending each value from list_var to final_list after multiply with 2\n",
    "    final_list.append(i*2)\n",
    "\n",
    "# print the result of final list\n",
    "print(final_list)"
   ]
  },
  {
   "cell_type": "markdown",
   "id": "f2465857",
   "metadata": {},
   "source": [
    "### Method-2: Using pandas Series"
   ]
  },
  {
   "cell_type": "code",
   "execution_count": 13,
   "id": "2d813ef6",
   "metadata": {},
   "outputs": [
    {
     "name": "stdout",
     "output_type": "stream",
     "text": [
      "[4, 10, 2, 18, 14]\n"
     ]
    }
   ],
   "source": [
    "# Import pandas libriry\n",
    "import pandas as pd\n",
    "\n",
    "# Converting the list_var from list to pandas series tupe and multiply with 2\n",
    "final_list_1 = pd.Series(list_var)*2\n",
    "# tolist() method convert the apndas series type to list \n",
    "print(final_list_1.tolist())"
   ]
  },
  {
   "cell_type": "markdown",
   "id": "439963b5",
   "metadata": {},
   "source": [
    "### Method-3: Using numpy array"
   ]
  },
  {
   "cell_type": "code",
   "execution_count": 12,
   "id": "d2d69ba9",
   "metadata": {},
   "outputs": [
    {
     "name": "stdout",
     "output_type": "stream",
     "text": [
      "[4, 10, 2, 18, 14]\n"
     ]
    }
   ],
   "source": [
    "# Import numpy libriry\n",
    "import numpy  as np\n",
    "\n",
    "# Conerting list to numpy array and multiply with 2\n",
    "numpy_arr = np.array(list_var)*2\n",
    "# Converting numpy array to list\n",
    "print(numpy_arr.tolist())"
   ]
  }
 ],
 "metadata": {
  "kernelspec": {
   "display_name": "Python 3",
   "language": "python",
   "name": "python3"
  },
  "language_info": {
   "codemirror_mode": {
    "name": "ipython",
    "version": 3
   },
   "file_extension": ".py",
   "mimetype": "text/x-python",
   "name": "python",
   "nbconvert_exporter": "python",
   "pygments_lexer": "ipython3",
   "version": "3.8.3"
  }
 },
 "nbformat": 4,
 "nbformat_minor": 5
}
