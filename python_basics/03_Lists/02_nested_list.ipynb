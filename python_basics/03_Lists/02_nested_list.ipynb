{
 "cells": [
  {
   "cell_type": "markdown",
   "id": "5c529268",
   "metadata": {},
   "source": [
    "## Nested list"
   ]
  },
  {
   "cell_type": "code",
   "execution_count": 2,
   "id": "265a445f",
   "metadata": {},
   "outputs": [
    {
     "name": "stdout",
     "output_type": "stream",
     "text": [
      "[23, 4, 67, 74, [67, 89], [43, 65]]\n"
     ]
    }
   ],
   "source": [
    "# Creating a nested lost\n",
    "list_var = [23, 4, 67, 74, [67, 89], [43, 65]]\n",
    "print(list_var)"
   ]
  },
  {
   "cell_type": "markdown",
   "id": "e75bf4cf",
   "metadata": {},
   "source": [
    "## Acess element from the nested list.  \n",
    "\n",
    "=> We using index numbers to access the elements from the list"
   ]
  },
  {
   "cell_type": "code",
   "execution_count": 3,
   "id": "31a3efdd",
   "metadata": {},
   "outputs": [
    {
     "name": "stdout",
     "output_type": "stream",
     "text": [
      "23\n",
      "74\n",
      "[67, 89]\n",
      "89\n",
      "43\n"
     ]
    }
   ],
   "source": [
    "print(list_var[0])\n",
    "print(list_var[3])\n",
    "print(list_var[4])\n",
    "print(list_var[4][1])\n",
    "print(list_var[5][0])"
   ]
  },
  {
   "cell_type": "markdown",
   "id": "79d10637",
   "metadata": {},
   "source": [
    "## Add list / tuple / set / Dict as nested in list.  \n",
    "\n",
    "=> We can add any cillecton data to a list.  "
   ]
  },
  {
   "cell_type": "code",
   "execution_count": 4,
   "id": "d06ded07",
   "metadata": {},
   "outputs": [
    {
     "name": "stdout",
     "output_type": "stream",
     "text": [
      "[23, 4, 67, 74, [67, 89], [43, 65], [1209, 7623]]\n"
     ]
    }
   ],
   "source": [
    "# Add a list\n",
    "list_var.append([1209, 7623])\n",
    "print(list_var)"
   ]
  },
  {
   "cell_type": "code",
   "execution_count": 5,
   "id": "943456c8",
   "metadata": {},
   "outputs": [
    {
     "name": "stdout",
     "output_type": "stream",
     "text": [
      "[23, 4, 67, 74, [67, 89], [43, 65], [1209, 7623], (23, 89, 65)]\n"
     ]
    }
   ],
   "source": [
    "# Add a Tuple\n",
    "list_var.append((23,89,65))\n",
    "print(list_var)"
   ]
  },
  {
   "cell_type": "code",
   "execution_count": 6,
   "id": "dd7253ec",
   "metadata": {},
   "outputs": [
    {
     "name": "stdout",
     "output_type": "stream",
     "text": [
      "[23, 4, 67, 74, [67, 89], [43, 65], [1209, 7623], (23, 89, 65), {65, 89, 23}]\n"
     ]
    }
   ],
   "source": [
    "# Add a set\n",
    "list_var.append({23,89,65})\n",
    "print(list_var)"
   ]
  },
  {
   "cell_type": "code",
   "execution_count": 7,
   "id": "601ad4b4",
   "metadata": {},
   "outputs": [
    {
     "name": "stdout",
     "output_type": "stream",
     "text": [
      "[23, 4, 67, 74, [67, 89], [43, 65], [1209, 7623], (23, 89, 65), {65, 89, 23}, {'x': 23, 'y': 89, 'z': 65}]\n",
      "23\n"
     ]
    }
   ],
   "source": [
    "# Add a Dict\n",
    "list_var.append({'x' : 23, 'y' : 89, 'z' : 65})\n",
    "print(list_var)\n",
    "\n",
    "# Acess a element from a dict which is nested element of a list.\n",
    "print(list_var[-1]['x'])"
   ]
  },
  {
   "cell_type": "markdown",
   "id": "e4e64670",
   "metadata": {},
   "source": [
    "## Difference between extend() & append()"
   ]
  },
  {
   "cell_type": "code",
   "execution_count": 8,
   "id": "434c3b1d",
   "metadata": {},
   "outputs": [
    {
     "name": "stdout",
     "output_type": "stream",
     "text": [
      "Original list:  ['rama', 'sursh']\n",
      "Extend a list:  ['rama', 'sursh', 'Naveen', 'Eswar']\n",
      "Append a list:  ['rama', 'sursh', 'Naveen', 'Eswar', ['Naveen', 'Eswar']]\n"
     ]
    }
   ],
   "source": [
    "list_var_1 = ['rama', 'sursh']\n",
    "print('Original list: ', list_var_1)\n",
    "\n",
    "# Extend will add all elements to list_var_1\n",
    "list_var_1.extend(['Naveen', 'Eswar'])\n",
    "print('Extend a list: ', list_var_1)\n",
    "\n",
    "# Append will add argumented list as sublist to list_var_1\n",
    "list_var_1.append(['Naveen', 'Eswar'])\n",
    "print('Append a list: ', list_var_1)"
   ]
  },
  {
   "cell_type": "code",
   "execution_count": 9,
   "id": "6a309a12",
   "metadata": {},
   "outputs": [
    {
     "name": "stdout",
     "output_type": "stream",
     "text": [
      "[2, 3, 4, 2, 3, 4]\n",
      "[2, 3, 4]\n"
     ]
    }
   ],
   "source": [
    "list_var_2 = [2,3,4]\n",
    "\n",
    "print(2*list_var_2)\n",
    "\n",
    "print(list_var_2)"
   ]
  }
 ],
 "metadata": {
  "kernelspec": {
   "display_name": "Python 3",
   "language": "python",
   "name": "python3"
  },
  "language_info": {
   "codemirror_mode": {
    "name": "ipython",
    "version": 3
   },
   "file_extension": ".py",
   "mimetype": "text/x-python",
   "name": "python",
   "nbconvert_exporter": "python",
   "pygments_lexer": "ipython3",
   "version": "3.8.3"
  }
 },
 "nbformat": 4,
 "nbformat_minor": 5
}
