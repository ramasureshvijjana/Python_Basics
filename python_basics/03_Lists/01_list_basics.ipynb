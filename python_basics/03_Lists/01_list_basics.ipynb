{
 "cells": [
  {
   "cell_type": "markdown",
   "id": "5887efcd",
   "metadata": {},
   "source": [
    "# LIST"
   ]
  },
  {
   "cell_type": "markdown",
   "id": "91377f1b",
   "metadata": {},
   "source": [
    "=> Lists are used to store multiple items in a single variable.  \n",
    "=> Lists are created using square brackets [].  \n",
    "=> List items are ordered, changeable, and allow duplicate values.  \n",
    "=> Index numbers start with 0.  "
   ]
  },
  {
   "cell_type": "markdown",
   "id": "d0ee4066",
   "metadata": {},
   "source": [
    "## Creat a List"
   ]
  },
  {
   "cell_type": "markdown",
   "id": "d01ee734",
   "metadata": {},
   "source": [
    "=> We can define or create a list in two ways  \n",
    "=> Way-1 : Using [ ]  \n",
    "=> Way-2 : Using list() constructor.  "
   ]
  },
  {
   "cell_type": "markdown",
   "id": "c1b4232c",
   "metadata": {},
   "source": [
    "### Way-1 : Using [ ]"
   ]
  },
  {
   "cell_type": "code",
   "execution_count": 58,
   "id": "ee5a11b6",
   "metadata": {},
   "outputs": [
    {
     "name": "stdout",
     "output_type": "stream",
     "text": [
      "['Suresh', 'Anand', 'Kiran Kumar', 'Prasad']\n",
      "<class 'list'>\n"
     ]
    }
   ],
   "source": [
    "# Define a list\n",
    "friends = ['Suresh', 'Anand', 'Kiran Kumar', 'Prasad']\n",
    "\n",
    "# Print the list\n",
    "print(friends)\n",
    "\n",
    "# Print the type\n",
    "print(type(friends))"
   ]
  },
  {
   "cell_type": "markdown",
   "id": "ad302028",
   "metadata": {},
   "source": [
    "### Way-2 : Using list() constructor."
   ]
  },
  {
   "cell_type": "code",
   "execution_count": 59,
   "id": "16978fb1",
   "metadata": {},
   "outputs": [
    {
     "name": "stdout",
     "output_type": "stream",
     "text": [
      "[98, 88, 78]\n"
     ]
    }
   ],
   "source": [
    "thislist = list((98, 88, 78)) # note the double round-brackets\n",
    "print(thislist)"
   ]
  },
  {
   "cell_type": "markdown",
   "id": "806f8d1c",
   "metadata": {},
   "source": [
    "## List Methods\n",
    "\n",
    "=> Python has many methods for handling the lists.  \n",
    "=> Now we will learn all list methods."
   ]
  },
  {
   "cell_type": "code",
   "execution_count": 60,
   "id": "56da3a2c",
   "metadata": {},
   "outputs": [
    {
     "name": "stdout",
     "output_type": "stream",
     "text": [
      "['Suresh', 'Anand', 'Kiran Kumar', 'Prasad', 'Rama']\n"
     ]
    }
   ],
   "source": [
    "# append() ----------> Adds an element at the end of the list\n",
    "# We can add only one element at a time using the append() method.\n",
    "\n",
    "friends.append('Rama')\n",
    "print(friends)\n",
    "\n",
    "# friends.append('Rama', 'Vijay') -------------> TypeError: append() takes exactly one argument (2 given)"
   ]
  },
  {
   "cell_type": "code",
   "execution_count": 61,
   "id": "e4db08b5",
   "metadata": {},
   "outputs": [
    {
     "name": "stdout",
     "output_type": "stream",
     "text": [
      "Coppied list is :  ['Suresh', 'Anand', 'Kiran Kumar', 'Prasad', 'Rama']\n"
     ]
    }
   ],
   "source": [
    "# copy() -----------> Returns a copy of the list\n",
    "\n",
    "coppied_list = friends.copy()\n",
    "print('Coppied list is : ', coppied_list)"
   ]
  },
  {
   "cell_type": "code",
   "execution_count": 62,
   "id": "46bc8b3d",
   "metadata": {},
   "outputs": [
    {
     "name": "stdout",
     "output_type": "stream",
     "text": [
      "1\n"
     ]
    }
   ],
   "source": [
    "# count() -----------> Returns the number of elements with the specified value\n",
    "\n",
    "print(friends.count('Anand')) # It counts how many 'Anand' values are in the friends list."
   ]
  },
  {
   "cell_type": "code",
   "execution_count": 63,
   "id": "4c3db07f",
   "metadata": {},
   "outputs": [
    {
     "name": "stdout",
     "output_type": "stream",
     "text": [
      "['Suresh', 'Anand', 'Kiran Kumar', 'Prasad', 'Rama', 'Prasad', 'Anand']\n"
     ]
    }
   ],
   "source": [
    "# extend() ------------> Add the elements of a list (or any iterable), to the end of the current list\n",
    "# Simple we can add multiple elements at the end.\n",
    "\n",
    "extra = ['Prasad', 'Anand']\n",
    "friends.extend(extra)\n",
    "print(friends)\n",
    "\n",
    "# NOT POSSIBEL\n",
    "# friends.extend('Vijay', 'Eswar') ------> TypeError: extend() takes exactly one argument (2 given)"
   ]
  },
  {
   "cell_type": "code",
   "execution_count": 64,
   "id": "62f79251",
   "metadata": {},
   "outputs": [
    {
     "name": "stdout",
     "output_type": "stream",
     "text": [
      "1\n"
     ]
    }
   ],
   "source": [
    "# index() ------------> Returns the index of the first element with the specified value\n",
    "\n",
    "print(friends.index('Anand'))\n",
    "\n",
    "# NOT WORKING\n",
    "# print(friends.index('anand')) ------> ValueError: 'anand' is not in list\n",
    "# index() has case-sensitive property."
   ]
  },
  {
   "cell_type": "code",
   "execution_count": 65,
   "id": "04a36915",
   "metadata": {},
   "outputs": [
    {
     "name": "stdout",
     "output_type": "stream",
     "text": [
      "['Suresh', 'Anand', 'Kiran Kumar', 'Prasad', 'Rama', 'Ali', 'Prasad', 'Anand']\n"
     ]
    }
   ],
   "source": [
    "# insert() ------------> Adds an element at the specified position\n",
    "\n",
    "# Syntax:   list.insert(pos, elmnt)\n",
    "\n",
    "friends.insert(5, 'Ali')\n",
    "print(friends)"
   ]
  },
  {
   "cell_type": "code",
   "execution_count": 66,
   "id": "97406c33",
   "metadata": {},
   "outputs": [
    {
     "name": "stdout",
     "output_type": "stream",
     "text": [
      "['Suresh', 'Anand', 'Kiran Kumar', 'Prasad', 'Rama', 'Ali', 'Prasad']\n"
     ]
    }
   ],
   "source": [
    "# pop() -----------> Removes the element at the specified position\n",
    "\n",
    "friends.pop(-1)\n",
    "print(friends)"
   ]
  },
  {
   "cell_type": "code",
   "execution_count": 67,
   "id": "fd388c9d",
   "metadata": {},
   "outputs": [
    {
     "name": "stdout",
     "output_type": "stream",
     "text": [
      "['Suresh', 'Anand', 'Kiran Kumar', 'Rama', 'Ali', 'Prasad']\n"
     ]
    }
   ],
   "source": [
    "# remove() ------------> Removes the item with the specified value whichi is first match.\n",
    "\n",
    "friends.remove('Prasad') # It removes only first matched value only.\n",
    "print(friends)"
   ]
  },
  {
   "cell_type": "code",
   "execution_count": 68,
   "id": "55dfbce8",
   "metadata": {},
   "outputs": [
    {
     "name": "stdout",
     "output_type": "stream",
     "text": [
      "['Prasad', 'Ali', 'Rama', 'Kiran Kumar', 'Anand', 'Suresh']\n"
     ]
    }
   ],
   "source": [
    "# reverse() ----------> Reverses the order of the list\n",
    "\n",
    "friends.reverse()\n",
    "print(friends)"
   ]
  },
  {
   "cell_type": "code",
   "execution_count": 69,
   "id": "b6cd7ea1",
   "metadata": {},
   "outputs": [
    {
     "name": "stdout",
     "output_type": "stream",
     "text": [
      "['Ali', 'Anand', 'Kiran Kumar', 'Prasad', 'Rama', 'Suresh']\n"
     ]
    }
   ],
   "source": [
    "# sort() ----------> Sorts the list\n",
    "\n",
    "friends.sort()\n",
    "print(friends)"
   ]
  },
  {
   "cell_type": "markdown",
   "id": "b5ff8cc6",
   "metadata": {},
   "source": [
    "## List properties\n",
    "\n",
    "=> Ordered.  \n",
    "=> Allow duplicate.  \n",
    "=> Changeable.  \n",
    "=> Allow all data types."
   ]
  },
  {
   "cell_type": "markdown",
   "id": "361e8234",
   "metadata": {},
   "source": [
    "### List is ordered\n",
    "=> List is ordered, which means if you add new items to a list, the new items will be placed at the end of the list.  \n",
    "=> Note: There are some list methods that will change the order, but in general: the order of the items will not change."
   ]
  },
  {
   "cell_type": "code",
   "execution_count": 70,
   "id": "13bca4c7",
   "metadata": {},
   "outputs": [
    {
     "name": "stdout",
     "output_type": "stream",
     "text": [
      "['Ali', 'Anand', 'Kiran Kumar', 'Prasad', 'Rama', 'Suresh', 'Mahesh']\n"
     ]
    }
   ],
   "source": [
    "# Add one more name to friends list.\n",
    "friends.append('Mahesh')\n",
    "print(friends)"
   ]
  },
  {
   "cell_type": "markdown",
   "id": "2e0c100e",
   "metadata": {},
   "source": [
    "### Allow Duplicates\n",
    "=> Since lists are indexed, lists can have items with the same value."
   ]
  },
  {
   "cell_type": "code",
   "execution_count": 71,
   "id": "44a9a4d8",
   "metadata": {},
   "outputs": [
    {
     "name": "stdout",
     "output_type": "stream",
     "text": [
      "['Ali', 'Anand', 'Kiran Kumar', 'Prasad', 'Rama', 'Suresh', 'Mahesh', 'Anand']\n"
     ]
    }
   ],
   "source": [
    "# Try to add another value which is already existed to check the allowance of duplicates.\n",
    "\n",
    "friends.append('Anand') # It allows duplicates so 'Anand\" will add at the end.\n",
    "print(friends)"
   ]
  },
  {
   "cell_type": "markdown",
   "id": "dd0a88dd",
   "metadata": {},
   "source": [
    "### Changeable\n",
    "=> The list is changeable, meaning that we can change, add, and remove items in a list after it has been created.  \n",
    "=> For this concept refer LIST METHOD concept."
   ]
  },
  {
   "cell_type": "markdown",
   "id": "2baaf046",
   "metadata": {},
   "source": [
    "### Allow all data types."
   ]
  },
  {
   "cell_type": "code",
   "execution_count": 72,
   "id": "9d1dfb31",
   "metadata": {},
   "outputs": [
    {
     "name": "stdout",
     "output_type": "stream",
     "text": [
      "['Suresh vj', 25, 21800.9, True]\n"
     ]
    }
   ],
   "source": [
    "# Allow any type of data.\n",
    "\n",
    "combination_list = ['Suresh vj', 25, 21800.90, True]\n",
    "print(combination_list)"
   ]
  },
  {
   "cell_type": "markdown",
   "id": "0fc88864",
   "metadata": {},
   "source": [
    "## List Length\n",
    "To determine how many items a list has, use the len() function."
   ]
  },
  {
   "cell_type": "markdown",
   "id": "d5e26a4e",
   "metadata": {},
   "source": [
    "### Mutable"
   ]
  },
  {
   "cell_type": "code",
   "execution_count": 6,
   "id": "941e4599",
   "metadata": {},
   "outputs": [
    {
     "name": "stdout",
     "output_type": "stream",
     "text": [
      "2185051782464\n",
      "2185051782208\n"
     ]
    }
   ],
   "source": [
    "var = [33, 66, 55]\n",
    "print(id(var))\n",
    "\n",
    "var = [23, 66, 55, 45]\n",
    "print(id(var))\n"
   ]
  },
  {
   "cell_type": "code",
   "execution_count": null,
   "id": "385dd971",
   "metadata": {},
   "outputs": [],
   "source": []
  }
 ],
 "metadata": {
  "kernelspec": {
   "display_name": "Python 3",
   "language": "python",
   "name": "python3"
  },
  "language_info": {
   "codemirror_mode": {
    "name": "ipython",
    "version": 3
   },
   "file_extension": ".py",
   "mimetype": "text/x-python",
   "name": "python",
   "nbconvert_exporter": "python",
   "pygments_lexer": "ipython3",
   "version": "3.8.3"
  }
 },
 "nbformat": 4,
 "nbformat_minor": 5
}
