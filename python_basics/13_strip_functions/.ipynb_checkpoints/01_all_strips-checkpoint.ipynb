{
 "cells": [
  {
   "cell_type": "markdown",
   "id": "13f56cfe",
   "metadata": {},
   "source": [
    "## Strip Functions"
   ]
  },
  {
   "cell_type": "code",
   "execution_count": null,
   "id": "9935d536",
   "metadata": {},
   "outputs": [],
   "source": [
    "1. Total 3 strip functions.\n",
    "2. Strip functions are string class functions\n",
    "3. These functions are used to strip the long spaces from a string.\n",
    "4. Strip function can't remove middle extra spaces.\n",
    "\n",
    "    => strip()\n",
    "    => lstrip()\n",
    "    => rstrip()"
   ]
  },
  {
   "cell_type": "markdown",
   "id": "09dc3c8a",
   "metadata": {},
   "source": [
    "### strip()"
   ]
  },
  {
   "cell_type": "code",
   "execution_count": 6,
   "id": "5c3a5983",
   "metadata": {},
   "outputs": [
    {
     "name": "stdout",
     "output_type": "stream",
     "text": [
      "SURESH VJ\n"
     ]
    }
   ],
   "source": [
    "s1 = '            SURESH VJ           '\n",
    "print(s1.strip())"
   ]
  },
  {
   "cell_type": "code",
   "execution_count": 5,
   "id": "3c03d6e2",
   "metadata": {},
   "outputs": [
    {
     "name": "stdout",
     "output_type": "stream",
     "text": [
      "aaa              aaa\n"
     ]
    }
   ],
   "source": [
    "# Strip function can't remove middle extra spaces.\n",
    "\n",
    "s2 = 'aaa              aaa'\n",
    "print(s2.strip())"
   ]
  },
  {
   "cell_type": "code",
   "execution_count": null,
   "id": "3e09786e",
   "metadata": {},
   "outputs": [],
   "source": []
  }
 ],
 "metadata": {
  "kernelspec": {
   "display_name": "Python 3",
   "language": "python",
   "name": "python3"
  },
  "language_info": {
   "codemirror_mode": {
    "name": "ipython",
    "version": 3
   },
   "file_extension": ".py",
   "mimetype": "text/x-python",
   "name": "python",
   "nbconvert_exporter": "python",
   "pygments_lexer": "ipython3",
   "version": "3.8.3"
  }
 },
 "nbformat": 4,
 "nbformat_minor": 5
}
