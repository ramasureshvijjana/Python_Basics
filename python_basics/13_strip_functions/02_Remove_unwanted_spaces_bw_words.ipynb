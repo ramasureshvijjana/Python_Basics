{
 "cells": [
  {
   "cell_type": "markdown",
   "id": "0ffb18d1",
   "metadata": {},
   "source": [
    "## Remove unwanted spaces between words"
   ]
  },
  {
   "cell_type": "markdown",
   "id": "ea916c78",
   "metadata": {},
   "source": [
    "### Method - 1"
   ]
  },
  {
   "cell_type": "code",
   "execution_count": 3,
   "id": "20df7ec8",
   "metadata": {},
   "outputs": [
    {
     "name": "stdout",
     "output_type": "stream",
     "text": [
      "Sresh VJ\n"
     ]
    }
   ],
   "source": [
    "s = 'Sresh       VJ'\n",
    "\n",
    "print(' '.join(s.split()))"
   ]
  },
  {
   "cell_type": "markdown",
   "id": "ac9c0917",
   "metadata": {},
   "source": [
    "### Method - 2"
   ]
  },
  {
   "cell_type": "code",
   "execution_count": 4,
   "id": "d9c10e63",
   "metadata": {},
   "outputs": [
    {
     "name": "stdout",
     "output_type": "stream",
     "text": [
      "Sresh VJ\n"
     ]
    }
   ],
   "source": [
    "import re\n",
    "\n",
    "x = re.sub(r'\\s+', ' ', s)\n",
    "print(x)"
   ]
  }
 ],
 "metadata": {
  "kernelspec": {
   "display_name": "Python 3",
   "language": "python",
   "name": "python3"
  },
  "language_info": {
   "codemirror_mode": {
    "name": "ipython",
    "version": 3
   },
   "file_extension": ".py",
   "mimetype": "text/x-python",
   "name": "python",
   "nbconvert_exporter": "python",
   "pygments_lexer": "ipython3",
   "version": "3.8.3"
  }
 },
 "nbformat": 4,
 "nbformat_minor": 5
}
