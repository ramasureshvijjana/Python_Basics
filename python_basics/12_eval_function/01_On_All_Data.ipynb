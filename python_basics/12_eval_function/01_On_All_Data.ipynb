{
 "cells": [
  {
   "cell_type": "markdown",
   "id": "136554f9",
   "metadata": {},
   "source": [
    "## eval() Function On sequence Data"
   ]
  },
  {
   "cell_type": "code",
   "execution_count": null,
   "id": "9670ece2",
   "metadata": {},
   "outputs": [],
   "source": [
    "\n",
    "Ref link: https://developer.mozilla.org/en-US/docs/Web/JavaScript/Reference/Global_Objects/eval\n",
    "\n",
    "1. eval() is a function property of the global object.\n",
    "2. If the string represents an expression, eval() evaluates the expression.\n",
    "3. If the argument represents one or more JavaScript statements, eval() evaluates the statements. \n",
    "4. If you construct an arithmetic expression as a string, you can use eval() to evaluate it at a later time (ex: \"3 * x + 2\")."
   ]
  },
  {
   "cell_type": "markdown",
   "id": "15f4365a",
   "metadata": {},
   "source": [
    "### Apply on collecton data types"
   ]
  },
  {
   "cell_type": "code",
   "execution_count": 10,
   "id": "9fb30b4b",
   "metadata": {},
   "outputs": [
    {
     "name": "stdout",
     "output_type": "stream",
     "text": [
      "(34, 45) ----------------> <class 'tuple'> \n",
      "\n",
      "[98, 5, 'ramu'] ----------------> <class 'list'> \n",
      "\n",
      "{'Ramu', 'Eswar', 'Naveen'} ----------------> <class 'set'> \n",
      "\n",
      "{'name': '3 as 1', 'Type': 'Group', 'caption': \"Can't live with one missing\"} ----------------> <class 'dict'> \n",
      "\n"
     ]
    }
   ],
   "source": [
    "in_1 = '(34, 45)'\n",
    "in_2 = '[98, 5, \"ramu\"]'\n",
    "in_3 = '{\"Ramu\", \"Eswar\", \"Naveen\"}'\n",
    "in_4 = '{\"name\": \"3 as 1\", \"Type\": \"Group\", \"caption\": \"Can\\'t live with one missing\"}'\n",
    "\n",
    "all_collections = [in_1, in_2, in_3, in_4]\n",
    "\n",
    "for i in all_collections:\n",
    "    final = eval(i)\n",
    "    print(final,'---------------->', type(final), '\\n')\n",
    "    \n"
   ]
  },
  {
   "cell_type": "markdown",
   "id": "74eab00a",
   "metadata": {},
   "source": [
    "### Apply on Genaral data types"
   ]
  },
  {
   "cell_type": "code",
   "execution_count": null,
   "id": "93e4a77b",
   "metadata": {},
   "outputs": [],
   "source": [
    "1. intS\n",
    "2. float\n",
    "5. complex\n",
    "6. string"
   ]
  },
  {
   "cell_type": "code",
   "execution_count": 16,
   "id": "28efb2e6",
   "metadata": {},
   "outputs": [
    {
     "name": "stdout",
     "output_type": "stream",
     "text": [
      "3566 ----------------> <class 'int'> \n",
      "\n",
      "457.346 ----------------> <class 'float'> \n",
      "\n",
      "(45+5j) ----------------> <class 'complex'> \n",
      "\n"
     ]
    },
    {
     "ename": "NameError",
     "evalue": "name 'Suresh' is not defined",
     "output_type": "error",
     "traceback": [
      "\u001b[1;31m---------------------------------------------------------------------------\u001b[0m",
      "\u001b[1;31mNameError\u001b[0m                                 Traceback (most recent call last)",
      "\u001b[1;32m<ipython-input-16-cd78e4d84a09>\u001b[0m in \u001b[0;36m<module>\u001b[1;34m\u001b[0m\n\u001b[0;32m     11\u001b[0m \u001b[1;33m\u001b[0m\u001b[0m\n\u001b[0;32m     12\u001b[0m \u001b[1;32mfor\u001b[0m \u001b[0mi\u001b[0m \u001b[1;32min\u001b[0m \u001b[0mall_objs\u001b[0m\u001b[1;33m:\u001b[0m\u001b[1;33m\u001b[0m\u001b[1;33m\u001b[0m\u001b[0m\n\u001b[1;32m---> 13\u001b[1;33m     \u001b[0mfinal\u001b[0m \u001b[1;33m=\u001b[0m \u001b[0meval\u001b[0m\u001b[1;33m(\u001b[0m\u001b[0mi\u001b[0m\u001b[1;33m)\u001b[0m\u001b[1;33m\u001b[0m\u001b[1;33m\u001b[0m\u001b[0m\n\u001b[0m\u001b[0;32m     14\u001b[0m     \u001b[0mprint\u001b[0m\u001b[1;33m(\u001b[0m\u001b[0mfinal\u001b[0m\u001b[1;33m,\u001b[0m\u001b[1;34m'---------------->'\u001b[0m\u001b[1;33m,\u001b[0m \u001b[0mtype\u001b[0m\u001b[1;33m(\u001b[0m\u001b[0mfinal\u001b[0m\u001b[1;33m)\u001b[0m\u001b[1;33m,\u001b[0m \u001b[1;34m'\\n'\u001b[0m\u001b[1;33m)\u001b[0m\u001b[1;33m\u001b[0m\u001b[1;33m\u001b[0m\u001b[0m\n",
      "\u001b[1;32m<string>\u001b[0m in \u001b[0;36m<module>\u001b[1;34m\u001b[0m\n",
      "\u001b[1;31mNameError\u001b[0m: name 'Suresh' is not defined"
     ]
    }
   ],
   "source": [
    "int_obj = '3566'\n",
    "float_obj = '457.346' \n",
    "complex_obj = '45 + 5j'\n",
    "\n",
    "\n",
    "# never ever apply eval() function to string value (like ---- 'rama', 'eswar', 'naven')\n",
    "# It will give an error\n",
    "str_obj = 'Suresh' \n",
    "\n",
    "all_objs = [int_obj, float_obj, complex_obj, str_obj]\n",
    "\n",
    "for i in all_objs:\n",
    "    final = eval(i)\n",
    "    print(final,'---------------->', type(final), '\\n')"
   ]
  },
  {
   "cell_type": "markdown",
   "id": "7c65b776",
   "metadata": {},
   "source": [
    "### Apply on Number system data types"
   ]
  },
  {
   "cell_type": "code",
   "execution_count": null,
   "id": "8b781bc7",
   "metadata": {},
   "outputs": [],
   "source": [
    "1. Binary\n",
    "2. Decimal\n",
    "3. Octal\n",
    "4. Hexa Decimal\n",
    "5. Long Int"
   ]
  },
  {
   "cell_type": "code",
   "execution_count": 20,
   "id": "5ab419fe",
   "metadata": {},
   "outputs": [
    {
     "name": "stdout",
     "output_type": "stream",
     "text": [
      "19189 ----------------> <class 'int'> \n",
      "\n",
      "100 ----------------> <class 'int'> \n",
      "\n",
      "82 ----------------> <class 'int'> \n",
      "\n",
      "4637 ----------------> <class 'int'> \n",
      "\n"
     ]
    },
    {
     "ename": "SyntaxError",
     "evalue": "unexpected EOF while parsing (<string>, line 1)",
     "output_type": "error",
     "traceback": [
      "Traceback \u001b[1;36m(most recent call last)\u001b[0m:\n",
      "  File \u001b[0;32m\"C:\\Users\\RAMU\\anaconda3\\lib\\site-packages\\IPython\\core\\interactiveshell.py\"\u001b[0m, line \u001b[0;32m3437\u001b[0m, in \u001b[0;35mrun_code\u001b[0m\n    exec(code_obj, self.user_global_ns, self.user_ns)\n",
      "\u001b[1;36m  File \u001b[1;32m\"<ipython-input-20-2d6bc9e80306>\"\u001b[1;36m, line \u001b[1;32m10\u001b[1;36m, in \u001b[1;35m<module>\u001b[1;36m\u001b[0m\n\u001b[1;33m    final = eval(i)\u001b[0m\n",
      "\u001b[1;36m  File \u001b[1;32m\"<string>\"\u001b[1;36m, line \u001b[1;32m1\u001b[0m\n\u001b[1;33m    754387898898477L\u001b[0m\n\u001b[1;37m                   ^\u001b[0m\n\u001b[1;31mSyntaxError\u001b[0m\u001b[1;31m:\u001b[0m unexpected EOF while parsing\n"
     ]
    }
   ],
   "source": [
    "binary = '0b0100101011110101'\n",
    "decimal = '100'\n",
    "octal = '0o122'\n",
    "hexa_dec = '0x121d'\n",
    "long_int = '754387898898477L' # can't apply to long int -------> Error\n",
    "\n",
    "all_values = [binary, decimal, octal, hexa_dec, long_int]\n",
    "\n",
    "for i in all_values:\n",
    "    final = eval(i)\n",
    "    print(final,'---------------->', type(final), '\\n')"
   ]
  }
 ],
 "metadata": {
  "kernelspec": {
   "display_name": "Python 3",
   "language": "python",
   "name": "python3"
  },
  "language_info": {
   "codemirror_mode": {
    "name": "ipython",
    "version": 3
   },
   "file_extension": ".py",
   "mimetype": "text/x-python",
   "name": "python",
   "nbconvert_exporter": "python",
   "pygments_lexer": "ipython3",
   "version": "3.8.3"
  }
 },
 "nbformat": 4,
 "nbformat_minor": 5
}
