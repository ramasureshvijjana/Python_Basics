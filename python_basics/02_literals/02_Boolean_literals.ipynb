{
 "cells": [
  {
   "cell_type": "markdown",
   "id": "2e91c754",
   "metadata": {},
   "source": [
    "### Boolean literals"
   ]
  },
  {
   "cell_type": "code",
   "execution_count": 5,
   "id": "2ea0cda7",
   "metadata": {},
   "outputs": [
    {
     "name": "stdout",
     "output_type": "stream",
     "text": [
      "x is True\n",
      "y is False\n",
      "z is False\n",
      "a: 11\n",
      "b: 10\n",
      "1\n",
      "0\n"
     ]
    }
   ],
   "source": [
    "x = (1 == True)  \n",
    "y = (2 == False)  \n",
    "z = (3 == True)  \n",
    "a = True + 10  \n",
    "b = False + 10  \n",
    "  \n",
    "print(\"x is\", x)  \n",
    "print(\"y is\", y)  \n",
    "print(\"z is\", z)  \n",
    "print(\"a:\", a)  \n",
    "print(\"b:\", b)  \n",
    "print(int(True))\n",
    "print(int(False))"
   ]
  }
 ],
 "metadata": {
  "kernelspec": {
   "display_name": "Python 3",
   "language": "python",
   "name": "python3"
  },
  "language_info": {
   "codemirror_mode": {
    "name": "ipython",
    "version": 3
   },
   "file_extension": ".py",
   "mimetype": "text/x-python",
   "name": "python",
   "nbconvert_exporter": "python",
   "pygments_lexer": "ipython3",
   "version": "3.8.3"
  }
 },
 "nbformat": 4,
 "nbformat_minor": 5
}
