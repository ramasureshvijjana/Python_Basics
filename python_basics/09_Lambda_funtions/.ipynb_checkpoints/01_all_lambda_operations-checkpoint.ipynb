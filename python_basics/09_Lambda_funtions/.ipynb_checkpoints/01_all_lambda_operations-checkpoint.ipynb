{
 "cells": [
  {
   "cell_type": "markdown",
   "id": "48805679",
   "metadata": {},
   "source": [
    "## Python Lambda"
   ]
  },
  {
   "cell_type": "code",
   "execution_count": null,
   "id": "69c787a6",
   "metadata": {},
   "outputs": [],
   "source": [
    "=> A lambda function is a small anonymous function.\n",
    "=> A lambda function can take any number of arguments, but can only have one expression."
   ]
  },
  {
   "cell_type": "code",
   "execution_count": 2,
   "id": "4c9c2c3a",
   "metadata": {},
   "outputs": [
    {
     "name": "stdout",
     "output_type": "stream",
     "text": [
      "6\n",
      "<class 'function'>\n"
     ]
    }
   ],
   "source": [
    "# Lambda function will create with lambda keyword\n",
    "sum_num = lambda a, b : a * b \n",
    "\n",
    "# Calling lambda function\n",
    "# Call that function with stored variable name\n",
    "print(sum_num(2, 3))\n",
    "# sum_num is a function type\n",
    "print(type(sum_num))"
   ]
  },
  {
   "cell_type": "markdown",
   "id": "5d317f03",
   "metadata": {},
   "source": [
    "## Why Use Lambda Functions?"
   ]
  },
  {
   "cell_type": "code",
   "execution_count": null,
   "id": "c779c343",
   "metadata": {},
   "outputs": [],
   "source": [
    "=> The power of lambda is better shown when you use them as an anonymous function inside another function.\n",
    "=> Say you have a function definition that takes one argument, and that argument will be multiplied with an unknown number"
   ]
  },
  {
   "cell_type": "code",
   "execution_count": 19,
   "id": "39bff717",
   "metadata": {},
   "outputs": [
    {
     "name": "stdout",
     "output_type": "stream",
     "text": [
      "1\n"
     ]
    }
   ],
   "source": [
    "# create a function\n",
    "def sumnum(a,b):\n",
    "    return lambda n : (a ** b - n)\n",
    "\n",
    "x = sumnum(2, 3)\n",
    "print(x(7))"
   ]
  }
 ],
 "metadata": {
  "kernelspec": {
   "display_name": "Python 3",
   "language": "python",
   "name": "python3"
  },
  "language_info": {
   "codemirror_mode": {
    "name": "ipython",
    "version": 3
   },
   "file_extension": ".py",
   "mimetype": "text/x-python",
   "name": "python",
   "nbconvert_exporter": "python",
   "pygments_lexer": "ipython3",
   "version": "3.8.3"
  }
 },
 "nbformat": 4,
 "nbformat_minor": 5
}
