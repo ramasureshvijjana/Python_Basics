{
 "cells": [
  {
   "cell_type": "code",
   "execution_count": 1,
   "id": "5cc68969",
   "metadata": {},
   "outputs": [
    {
     "name": "stdout",
     "output_type": "stream",
     "text": [
      "4\n"
     ]
    }
   ],
   "source": [
    "a = {1: 'A', 2: 'B', 3: 'C'}\n",
    "print(a.get(5,4))"
   ]
  },
  {
   "cell_type": "code",
   "execution_count": 2,
   "id": "24541f1f",
   "metadata": {},
   "outputs": [
    {
     "name": "stdout",
     "output_type": "stream",
     "text": [
      "1245"
     ]
    }
   ],
   "source": [
    "list1 = [1,2,3,4,5]\n",
    "\n",
    "for i in list1:\n",
    "    print(i, end=\"\")\n",
    "    if i == 2:\n",
    "        list1.remove(i)"
   ]
  },
  {
   "cell_type": "code",
   "execution_count": 3,
   "id": "27bcb583",
   "metadata": {},
   "outputs": [
    {
     "name": "stdout",
     "output_type": "stream",
     "text": [
      "3\n"
     ]
    }
   ],
   "source": [
    "def o(x,y,a,r):\n",
    "    print(x+y)\n",
    "    \n",
    "num = [1,2,3,4]\n",
    "o(*num)"
   ]
  },
  {
   "cell_type": "code",
   "execution_count": 5,
   "id": "0f6ed593",
   "metadata": {},
   "outputs": [
    {
     "data": {
      "text/plain": [
       "15.0"
      ]
     },
     "execution_count": 5,
     "metadata": {},
     "output_type": "execute_result"
    }
   ],
   "source": [
    "(lambda x: (x+3) * 5/2)(3)"
   ]
  },
  {
   "cell_type": "code",
   "execution_count": 8,
   "id": "d106c62e",
   "metadata": {},
   "outputs": [
    {
     "data": {
      "text/plain": [
       "[2, 3]"
      ]
     },
     "execution_count": 8,
     "metadata": {},
     "output_type": "execute_result"
    }
   ],
   "source": [
    "nums = [1,2,3]\n",
    "\n",
    "list(filter(lambda X: X>1, nums))"
   ]
  },
  {
   "cell_type": "code",
   "execution_count": 9,
   "id": "629484e8",
   "metadata": {},
   "outputs": [],
   "source": [
    "m = [[x, x+1, x+2] for x in range(0,3)]"
   ]
  },
  {
   "cell_type": "code",
   "execution_count": 10,
   "id": "a7226f91",
   "metadata": {},
   "outputs": [
    {
     "name": "stdout",
     "output_type": "stream",
     "text": [
      "[[0, 1, 2], [1, 2, 3], [2, 3, 4]]\n"
     ]
    }
   ],
   "source": [
    "print(m)"
   ]
  },
  {
   "cell_type": "code",
   "execution_count": 11,
   "id": "57c89d96",
   "metadata": {},
   "outputs": [
    {
     "name": "stdout",
     "output_type": "stream",
     "text": [
      "[4, 5, 6, 8, 10, 12, 12, 15, 18]\n"
     ]
    }
   ],
   "source": [
    "l1 = [1,2,3]\n",
    "l2 = [4,5,6]\n",
    "\n",
    "print([x*y for x in l1 for y in l2])"
   ]
  },
  {
   "cell_type": "code",
   "execution_count": null,
   "id": "8e5480f5",
   "metadata": {},
   "outputs": [],
   "source": [
    "https://www.techbeamers.com/online-python-quiz-beginners-classes-objects/"
   ]
  },
  {
   "cell_type": "code",
   "execution_count": 13,
   "id": "bb7d8ceb",
   "metadata": {},
   "outputs": [
    {
     "name": "stdout",
     "output_type": "stream",
     "text": [
      "Hellow Word\n"
     ]
    }
   ],
   "source": [
    "class test:\n",
    "    def __init__(self, a='Hellow Word'):\n",
    "        self.a = a\n",
    "    def display(self):\n",
    "        print(self.a)\n",
    "        \n",
    "obj = test()\n",
    "obj.display()"
   ]
  },
  {
   "cell_type": "code",
   "execution_count": 15,
   "id": "0805e306",
   "metadata": {},
   "outputs": [
    {
     "name": "stdout",
     "output_type": "stream",
     "text": [
      "[0] [1]\n"
     ]
    }
   ],
   "source": [
    "x = [[0], [1]]\n",
    "\n",
    "print(' '.join(list(map(str, x))))"
   ]
  },
  {
   "cell_type": "code",
   "execution_count": 17,
   "id": "d53bada5",
   "metadata": {},
   "outputs": [
    {
     "name": "stdout",
     "output_type": "stream",
     "text": [
      "1##2##3##4##"
     ]
    }
   ],
   "source": [
    "l = [1,2,3,4]\n",
    "\n",
    "obj = iter(l)\n",
    "\n",
    "while True:\n",
    "    try:\n",
    "        print(next(obj), end='##')\n",
    "    except StopIteration:\n",
    "        break"
   ]
  },
  {
   "cell_type": "code",
   "execution_count": 18,
   "id": "0fe778c7",
   "metadata": {},
   "outputs": [
    {
     "data": {
      "text/plain": [
       "False"
      ]
     },
     "execution_count": 18,
     "metadata": {},
     "output_type": "execute_result"
    }
   ],
   "source": [
    "t1 = (1,2,4,3)\n",
    "t2 = (1,2,3,4)\n",
    "\n",
    "t1 <t2"
   ]
  },
  {
   "cell_type": "code",
   "execution_count": 22,
   "id": "a0f5beb7",
   "metadata": {},
   "outputs": [
    {
     "ename": "TypeError",
     "evalue": "unhashable type: 'set'",
     "output_type": "error",
     "traceback": [
      "\u001b[1;31m---------------------------------------------------------------------------\u001b[0m",
      "\u001b[1;31mTypeError\u001b[0m                                 Traceback (most recent call last)",
      "\u001b[1;32m<ipython-input-22-a1b674351a2e>\u001b[0m in \u001b[0;36m<module>\u001b[1;34m\u001b[0m\n\u001b[1;32m----> 1\u001b[1;33m \u001b[0mx\u001b[0m \u001b[1;33m=\u001b[0m \u001b[1;33m{\u001b[0m\u001b[1;33m{\u001b[0m\u001b[1;36m4544\u001b[0m\u001b[1;33m,\u001b[0m \u001b[1;36m56\u001b[0m\u001b[1;33m}\u001b[0m\u001b[1;33m,\u001b[0m \u001b[1;36m6\u001b[0m\u001b[1;33m}\u001b[0m\u001b[1;33m\u001b[0m\u001b[1;33m\u001b[0m\u001b[0m\n\u001b[0m",
      "\u001b[1;31mTypeError\u001b[0m: unhashable type: 'set'"
     ]
    }
   ],
   "source": [
    "x = {{4544, 56}, 6}"
   ]
  },
  {
   "cell_type": "code",
   "execution_count": 23,
   "id": "71d44c0b",
   "metadata": {},
   "outputs": [
    {
     "name": "stdout",
     "output_type": "stream",
     "text": [
      "4\n"
     ]
    }
   ],
   "source": [
    "#31\n",
    "\n",
    "def x():\n",
    "    num = 0\n",
    "    while True:\n",
    "        yield num\n",
    "        num+=2\n",
    "        \n",
    "obj = x()\n",
    "\n",
    "for i in range(2):\n",
    "    next(obj)\n",
    "    \n",
    "print(next(obj))\n",
    "    "
   ]
  },
  {
   "cell_type": "code",
   "execution_count": 24,
   "id": "69ebfb6d",
   "metadata": {},
   "outputs": [
    {
     "name": "stdout",
     "output_type": "stream",
     "text": [
      "DogAnimal"
     ]
    }
   ],
   "source": [
    "class Animal:\n",
    "    def __init__(self, name):\n",
    "        print(\"Animal\", end=\"\")\n",
    "        self.name = name\n",
    "        \n",
    "class Dog(Animal):\n",
    "    def __init__(self, name, age):\n",
    "        print(\"Dog\", end=\"\")\n",
    "        super().__init__(name)\n",
    "        self.age = age\n",
    "        \n",
    "k = Dog('kkk', 4)\n",
    "        "
   ]
  },
  {
   "cell_type": "code",
   "execution_count": 25,
   "id": "16ee4780",
   "metadata": {},
   "outputs": [
    {
     "name": "stdout",
     "output_type": "stream",
     "text": [
      "6\n"
     ]
    },
    {
     "ename": "TypeError",
     "evalue": "'int' object is not callable",
     "output_type": "error",
     "traceback": [
      "\u001b[1;31m---------------------------------------------------------------------------\u001b[0m",
      "\u001b[1;31mTypeError\u001b[0m                                 Traceback (most recent call last)",
      "\u001b[1;32m<ipython-input-25-386594b259b0>\u001b[0m in \u001b[0;36m<module>\u001b[1;34m\u001b[0m\n\u001b[0;32m      5\u001b[0m \u001b[1;33m\u001b[0m\u001b[0m\n\u001b[0;32m      6\u001b[0m \u001b[0mprint\u001b[0m\u001b[1;33m(\u001b[0m\u001b[0msum\u001b[0m\u001b[1;33m)\u001b[0m\u001b[1;33m\u001b[0m\u001b[1;33m\u001b[0m\u001b[0m\n\u001b[1;32m----> 7\u001b[1;33m \u001b[0msum\u001b[0m\u001b[1;33m(\u001b[0m\u001b[1;36m34\u001b[0m\u001b[1;33m,\u001b[0m\u001b[1;36m23\u001b[0m\u001b[1;33m)\u001b[0m\u001b[1;33m\u001b[0m\u001b[1;33m\u001b[0m\u001b[0m\n\u001b[0m",
      "\u001b[1;31mTypeError\u001b[0m: 'int' object is not callable"
     ]
    }
   ],
   "source": [
    "sum = 0\n",
    "\n",
    "for i in range(4):\n",
    "    sum += i\n",
    "    \n",
    "print(sum)\n",
    "sum(34,23)"
   ]
  },
  {
   "cell_type": "code",
   "execution_count": 26,
   "id": "bfc84f87",
   "metadata": {},
   "outputs": [
    {
     "ename": "SyntaxError",
     "evalue": "invalid syntax (<ipython-input-26-9eee8dba9cd8>, line 10)",
     "output_type": "error",
     "traceback": [
      "\u001b[1;36m  File \u001b[1;32m\"<ipython-input-26-9eee8dba9cd8>\"\u001b[1;36m, line \u001b[1;32m10\u001b[0m\n\u001b[1;33m    except \"Some error\"\u001b[0m\n\u001b[1;37m                       ^\u001b[0m\n\u001b[1;31mSyntaxError\u001b[0m\u001b[1;31m:\u001b[0m invalid syntax\n"
     ]
    }
   ],
   "source": [
    "try:\n",
    "    \n",
    "    if '1' != 1:\n",
    "        \n",
    "        raise 'Some error'\n",
    "        \n",
    "    else:\n",
    "        print('not occ')\n",
    "        \n",
    "except \"Some error\""
   ]
  },
  {
   "cell_type": "code",
   "execution_count": 3,
   "id": "78fda713",
   "metadata": {},
   "outputs": [
    {
     "name": "stdout",
     "output_type": "stream",
     "text": [
      "[1 2 3 4]\n",
      "<class 'numpy.ndarray'>\n"
     ]
    }
   ],
   "source": [
    "import numpy as np\n",
    "\n",
    "x = np.array([1,2,3,4])\n",
    "print(x)\n",
    "print(type(x))"
   ]
  },
  {
   "cell_type": "code",
   "execution_count": null,
   "id": "2d905646",
   "metadata": {},
   "outputs": [],
   "source": []
  }
 ],
 "metadata": {
  "kernelspec": {
   "display_name": "Python 3",
   "language": "python",
   "name": "python3"
  },
  "language_info": {
   "codemirror_mode": {
    "name": "ipython",
    "version": 3
   },
   "file_extension": ".py",
   "mimetype": "text/x-python",
   "name": "python",
   "nbconvert_exporter": "python",
   "pygments_lexer": "ipython3",
   "version": "3.8.3"
  }
 },
 "nbformat": 4,
 "nbformat_minor": 5
}
