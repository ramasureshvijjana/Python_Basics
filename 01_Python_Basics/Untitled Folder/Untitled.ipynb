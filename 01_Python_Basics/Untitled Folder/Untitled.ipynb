{
 "cells": [
  {
   "cell_type": "code",
   "execution_count": 15,
   "id": "e4709f67",
   "metadata": {},
   "outputs": [
    {
     "ename": "ValueError",
     "evalue": "could not convert string to float: 'A'",
     "output_type": "error",
     "traceback": [
      "\u001b[1;31m---------------------------------------------------------------------------\u001b[0m",
      "\u001b[1;31mValueError\u001b[0m                                Traceback (most recent call last)",
      "\u001b[1;32m<ipython-input-15-a9dc5abcec4b>\u001b[0m in \u001b[0;36m<module>\u001b[1;34m\u001b[0m\n\u001b[1;32m----> 1\u001b[1;33m \u001b[0mprint\u001b[0m\u001b[1;33m(\u001b[0m\u001b[0mfloat\u001b[0m\u001b[1;33m(\u001b[0m\u001b[1;34m'A'\u001b[0m\u001b[1;33m)\u001b[0m\u001b[1;33m)\u001b[0m\u001b[1;33m\u001b[0m\u001b[1;33m\u001b[0m\u001b[0m\n\u001b[0m",
      "\u001b[1;31mValueError\u001b[0m: could not convert string to float: 'A'"
     ]
    }
   ],
   "source": [
    "print(float('A'))"
   ]
  },
  {
   "cell_type": "code",
   "execution_count": 17,
   "id": "4ded32b7",
   "metadata": {},
   "outputs": [
    {
     "name": "stdout",
     "output_type": "stream",
     "text": [
      "3 2\n"
     ]
    }
   ],
   "source": [
    "x = 3%5\n",
    "y = 5%3\n",
    "print(x, y)"
   ]
  },
  {
   "cell_type": "code",
   "execution_count": 2,
   "id": "88a3673b",
   "metadata": {},
   "outputs": [
    {
     "data": {
      "text/plain": [
       "0.4"
      ]
     },
     "execution_count": 2,
     "metadata": {},
     "output_type": "execute_result"
    }
   ],
   "source": [
    "2/5"
   ]
  },
  {
   "cell_type": "code",
   "execution_count": 3,
   "id": "5055183b",
   "metadata": {},
   "outputs": [
    {
     "data": {
      "text/plain": [
       "2.0"
      ]
     },
     "execution_count": 3,
     "metadata": {},
     "output_type": "execute_result"
    }
   ],
   "source": [
    "4.67//2"
   ]
  },
  {
   "cell_type": "code",
   "execution_count": 4,
   "id": "2c12fd52",
   "metadata": {},
   "outputs": [
    {
     "data": {
      "text/plain": [
       "3"
      ]
     },
     "execution_count": 4,
     "metadata": {},
     "output_type": "execute_result"
    }
   ],
   "source": [
    "3%13\n"
   ]
  },
  {
   "cell_type": "code",
   "execution_count": 11,
   "id": "1c945478",
   "metadata": {},
   "outputs": [
    {
     "name": "stdout",
     "output_type": "stream",
     "text": [
      "Blash\n"
     ]
    }
   ],
   "source": [
    "my_list = [1,4, 'mango', 'apple']\n",
    "\n",
    "if 1 in my_list and 'mango' in my_list:\n",
    "    print('WOW')\n",
    "else:\n",
    "    print('Blash')\n",
    "    \n",
    "\n",
    "############# Method 2##############\n",
    "\n",
    "# work for any number of checkings\n",
    "my_list = [1, 4, 'mango', 'apple']\n",
    "check = [1, 'mango']\n",
    "count = 0\n",
    "\n",
    "for i in range(len(check)):\n",
    "    if check[i] in my_list:\n",
    "        count += 1\n",
    "\n",
    "if count == len(check):\n",
    "    print('WOW')\n",
    "else:\n",
    "    print('Blash')"
   ]
  },
  {
   "cell_type": "code",
   "execution_count": 15,
   "id": "769098e7",
   "metadata": {},
   "outputs": [
    {
     "name": "stdout",
     "output_type": "stream",
     "text": [
      "Suresh\n",
      "['S', 'u', 'r', 'e', 's', 'h']\n"
     ]
    }
   ],
   "source": [
    "x = list(input())\n",
    "print(x)\n",
    "\n",
    "###### Output\n",
    "#Suresh\n",
    "# ['S', 'u', 'r', 'e', 's', 'h']"
   ]
  },
  {
   "cell_type": "code",
   "execution_count": 24,
   "id": "28094a0d",
   "metadata": {},
   "outputs": [
    {
     "name": "stdout",
     "output_type": "stream",
     "text": [
      "Enter your percentage :90\n",
      "Your grade is A++\n"
     ]
    }
   ],
   "source": [
    "percentage = int(input('Enter your percentage :'))\n",
    "\n",
    "if percentage >= 90:\n",
    "    print('Your grade is A++')\n",
    "elif percentage >= 80 and percentage < 90:\n",
    "    print('Your grade is A+')\n",
    "elif percentage >= 70 and percentage < 80:\n",
    "    print('Your grade is A')\n",
    "elif percentage >= 60 and percentage < 70:\n",
    "    print('Your grade is B')\n",
    "elif percentage >= 50 and percentage < 60:\n",
    "    print('Your grade is C')\n",
    "else:\n",
    "    print('You failed')"
   ]
  },
  {
   "cell_type": "code",
   "execution_count": 28,
   "id": "5b5e60ea",
   "metadata": {},
   "outputs": [
    {
     "name": "stdout",
     "output_type": "stream",
     "text": [
      "0\n",
      "1\n",
      "2\n",
      "3\n",
      "4\n",
      "5\n",
      "6\n",
      "7\n",
      "8\n",
      "9\n",
      "10\n",
      "11\n",
      "12\n",
      "13\n",
      "14\n",
      "15\n",
      "16\n",
      "17\n",
      "18\n",
      "19\n",
      "20\n",
      "21\n",
      "22\n",
      "23\n",
      "24\n",
      "25\n",
      "26\n",
      "27\n",
      "28\n",
      "29\n",
      "30\n",
      "31\n",
      "32\n",
      "33\n",
      "34\n",
      "35\n",
      "36\n",
      "37\n",
      "38\n",
      "39\n",
      "40\n",
      "41\n",
      "42\n",
      "43\n",
      "44\n",
      "45\n",
      "46\n",
      "47\n",
      "48\n",
      "49\n",
      "50\n",
      "51\n",
      "52\n",
      "53\n",
      "54\n",
      "55\n",
      "56\n",
      "57\n",
      "58\n",
      "59\n",
      "60\n",
      "61\n",
      "62\n",
      "63\n",
      "64\n",
      "65\n",
      "66\n",
      "67\n",
      "68\n",
      "69\n",
      "70\n",
      "71\n",
      "72\n",
      "73\n",
      "74\n",
      "75\n",
      "76\n",
      "77\n",
      "78\n",
      "79\n",
      "80\n",
      "81\n",
      "82\n",
      "83\n",
      "84\n",
      "85\n",
      "86\n",
      "87\n",
      "88\n",
      "89\n",
      "90\n",
      "91\n",
      "92\n",
      "93\n",
      "94\n",
      "95\n",
      "96\n",
      "97\n",
      "98\n",
      "99\n",
      "100\n"
     ]
    }
   ],
   "source": [
    "x = range(0, 1000)\n",
    "count = 0\n",
    "y = count\n",
    "\n",
    "for i in range(y, y+100):\n",
    "    print(x[i])\n",
    "    count += 1\n"
   ]
  },
  {
   "cell_type": "code",
   "execution_count": 2,
   "id": "9ca54b56",
   "metadata": {},
   "outputs": [
    {
     "name": "stdout",
     "output_type": "stream",
     "text": [
      "True\n"
     ]
    }
   ],
   "source": [
    "x = 40\n",
    "y = 40\n",
    "\n",
    "print(x is y)"
   ]
  },
  {
   "cell_type": "code",
   "execution_count": 3,
   "id": "be7d3da3",
   "metadata": {},
   "outputs": [
    {
     "data": {
      "text/plain": [
       "('a',)"
      ]
     },
     "execution_count": 3,
     "metadata": {},
     "output_type": "execute_result"
    }
   ],
   "source": [
    "'a',"
   ]
  },
  {
   "cell_type": "code",
   "execution_count": null,
   "id": "f6add79f",
   "metadata": {},
   "outputs": [],
   "source": [
    "Q1) HW: Make a Program which will filter out comments from a comment box(comment\n",
    "    box is list containing strings), which does not contain the word 'BroCode'.\n",
    "    Print all those which does not contain the brocode.\n",
    "    \n",
    "example_comment_box = ['Bhai Bhai BroCode mat tod','BroCode Tod diya isne',\n",
    "                      'Check my Story guys','I make memes check my account',\n",
    "                      'OO bhai bhai bhai','Like If you did  not understood the meme']"
   ]
  },
  {
   "cell_type": "code",
   "execution_count": 8,
   "id": "3b8cb74a",
   "metadata": {},
   "outputs": [
    {
     "name": "stdout",
     "output_type": "stream",
     "text": [
      "['Bhai Bhai  mat tod', ' Tod diya isne', 'Check my Story guys', 'I make memes check my account', 'OO bhai bhai bhai', 'Like If you did  not understood the meme']\n"
     ]
    }
   ],
   "source": [
    "example_comment_box = ['Bhai Bhai BroCode mat tod','BroCode Tod diya isne',\n",
    "                      'Check my Story guys','I make memes check my account',\n",
    "                      'OO bhai bhai bhai','Like If you did  not understood the meme']\n",
    "y = []\n",
    "for i in example_comment_box:\n",
    "    y.append(i.replace('BroCode', ''))\n",
    "    \n",
    "print(y)\n"
   ]
  },
  {
   "cell_type": "code",
   "execution_count": 12,
   "id": "4d7c4ad5",
   "metadata": {},
   "outputs": [
    {
     "name": "stdout",
     "output_type": "stream",
     "text": [
      "Nope\n"
     ]
    }
   ],
   "source": [
    "x = 4\n",
    "\n",
    "if x%3 == 0 and x % 5 == 0:\n",
    "    print('YES')\n",
    "else:\n",
    "    print('Nope')"
   ]
  },
  {
   "cell_type": "code",
   "execution_count": 13,
   "id": "2223108e",
   "metadata": {},
   "outputs": [
    {
     "name": "stdout",
     "output_type": "stream",
     "text": [
      "YES\n"
     ]
    }
   ],
   "source": [
    "x = 15\n",
    "\n",
    "if x%3 == 0 or x % 5 == 0:\n",
    "    print('YES')\n",
    "else:\n",
    "    print('Nope')"
   ]
  },
  {
   "cell_type": "code",
   "execution_count": 17,
   "id": "358b3aeb",
   "metadata": {},
   "outputs": [
    {
     "name": "stdout",
     "output_type": "stream",
     "text": [
      "Not divisible by 2\n"
     ]
    }
   ],
   "source": [
    "x = 5\n",
    "\n",
    "if x % 2 != 0:\n",
    "    print('Not divisible by 2')\n",
    "else:\n",
    "    print('Its divisible by 2')"
   ]
  },
  {
   "cell_type": "code",
   "execution_count": 20,
   "id": "fe3cb3f1",
   "metadata": {},
   "outputs": [
    {
     "name": "stdout",
     "output_type": "stream",
     "text": [
      "Not divisible by 2\n"
     ]
    },
    {
     "name": "stderr",
     "output_type": "stream",
     "text": [
      "<>:3: SyntaxWarning: \"is not\" with a literal. Did you mean \"!=\"?\n",
      "<>:3: SyntaxWarning: \"is not\" with a literal. Did you mean \"!=\"?\n",
      "<ipython-input-20-18499e89754a>:3: SyntaxWarning: \"is not\" with a literal. Did you mean \"!=\"?\n",
      "  if x % 2 is not 0:\n"
     ]
    }
   ],
   "source": [
    "x = 5\n",
    "\n",
    "if x % 2 is not 0:\n",
    "    print('Not divisible by 2')\n",
    "else:\n",
    "    print('Its divisible by 2')"
   ]
  },
  {
   "cell_type": "code",
   "execution_count": 23,
   "id": "e255eb4b",
   "metadata": {},
   "outputs": [
    {
     "name": "stdout",
     "output_type": "stream",
     "text": [
      "True True\n",
      "[''] True\n",
      "[0] True\n",
      "('',) True\n",
      "(0,) True\n",
      "{''} True\n",
      "{'': ''} True\n",
      "{0} True\n",
      "1.2 True\n",
      "10 True\n",
      "-20 True\n",
      "Ram True\n",
      "  True\n"
     ]
    }
   ],
   "source": [
    "truly = [True, [''], [0], ('',), (0,), {''}, {'':''}, {0}, 1.2, 10, -20, 'Ram', \" \"]\n",
    "\n",
    "for item in truly:\n",
    "    print(item, bool(item))"
   ]
  },
  {
   "cell_type": "code",
   "execution_count": 8,
   "id": "828e137d",
   "metadata": {},
   "outputs": [
    {
     "name": "stdout",
     "output_type": "stream",
     "text": [
      "no\n",
      "yes\n",
      "no\n",
      "yes\n",
      "no\n",
      "yes\n",
      "no\n",
      "yes\n",
      "no\n",
      "yes\n"
     ]
    }
   ],
   "source": [
    "for i in range(1,11):\n",
    "    # print(i)\n",
    "    if i % 2 == 0:\n",
    "        print('yes')\n",
    "    else:\n",
    "        print('no')"
   ]
  },
  {
   "cell_type": "code",
   "execution_count": 10,
   "id": "07153dbe",
   "metadata": {},
   "outputs": [
    {
     "ename": "SyntaxError",
     "evalue": "invalid digit '8' in octal literal (<ipython-input-10-cde5435f9f8a>, line 1)",
     "output_type": "error",
     "traceback": [
      "\u001b[1;36m  File \u001b[1;32m\"<ipython-input-10-cde5435f9f8a>\"\u001b[1;36m, line \u001b[1;32m1\u001b[0m\n\u001b[1;33m    x = 0o123456678865\u001b[0m\n\u001b[1;37m                  ^\u001b[0m\n\u001b[1;31mSyntaxError\u001b[0m\u001b[1;31m:\u001b[0m invalid digit '8' in octal literal\n"
     ]
    }
   ],
   "source": [
    "x = 0o123456678865\n",
    "\n",
    "len(x)"
   ]
  },
  {
   "cell_type": "code",
   "execution_count": 14,
   "id": "b270426f",
   "metadata": {},
   "outputs": [
    {
     "name": "stdout",
     "output_type": "stream",
     "text": [
      "Help on class range in module builtins:\n",
      "\n",
      "class range(object)\n",
      " |  range(stop) -> range object\n",
      " |  range(start, stop[, step]) -> range object\n",
      " |  \n",
      " |  Return an object that produces a sequence of integers from start (inclusive)\n",
      " |  to stop (exclusive) by step.  range(i, j) produces i, i+1, i+2, ..., j-1.\n",
      " |  start defaults to 0, and stop is omitted!  range(4) produces 0, 1, 2, 3.\n",
      " |  These are exactly the valid indices for a list of 4 elements.\n",
      " |  When step is given, it specifies the increment (or decrement).\n",
      " |  \n",
      " |  Methods defined here:\n",
      " |  \n",
      " |  __bool__(self, /)\n",
      " |      self != 0\n",
      " |  \n",
      " |  __contains__(self, key, /)\n",
      " |      Return key in self.\n",
      " |  \n",
      " |  __eq__(self, value, /)\n",
      " |      Return self==value.\n",
      " |  \n",
      " |  __ge__(self, value, /)\n",
      " |      Return self>=value.\n",
      " |  \n",
      " |  __getattribute__(self, name, /)\n",
      " |      Return getattr(self, name).\n",
      " |  \n",
      " |  __getitem__(self, key, /)\n",
      " |      Return self[key].\n",
      " |  \n",
      " |  __gt__(self, value, /)\n",
      " |      Return self>value.\n",
      " |  \n",
      " |  __hash__(self, /)\n",
      " |      Return hash(self).\n",
      " |  \n",
      " |  __iter__(self, /)\n",
      " |      Implement iter(self).\n",
      " |  \n",
      " |  __le__(self, value, /)\n",
      " |      Return self<=value.\n",
      " |  \n",
      " |  __len__(self, /)\n",
      " |      Return len(self).\n",
      " |  \n",
      " |  __lt__(self, value, /)\n",
      " |      Return self<value.\n",
      " |  \n",
      " |  __ne__(self, value, /)\n",
      " |      Return self!=value.\n",
      " |  \n",
      " |  __reduce__(...)\n",
      " |      Helper for pickle.\n",
      " |  \n",
      " |  __repr__(self, /)\n",
      " |      Return repr(self).\n",
      " |  \n",
      " |  __reversed__(...)\n",
      " |      Return a reverse iterator.\n",
      " |  \n",
      " |  count(...)\n",
      " |      rangeobject.count(value) -> integer -- return number of occurrences of value\n",
      " |  \n",
      " |  index(...)\n",
      " |      rangeobject.index(value) -> integer -- return index of value.\n",
      " |      Raise ValueError if the value is not present.\n",
      " |  \n",
      " |  ----------------------------------------------------------------------\n",
      " |  Static methods defined here:\n",
      " |  \n",
      " |  __new__(*args, **kwargs) from builtins.type\n",
      " |      Create and return a new object.  See help(type) for accurate signature.\n",
      " |  \n",
      " |  ----------------------------------------------------------------------\n",
      " |  Data descriptors defined here:\n",
      " |  \n",
      " |  start\n",
      " |  \n",
      " |  step\n",
      " |  \n",
      " |  stop\n",
      "\n"
     ]
    }
   ],
   "source": [
    "help(range\n",
    "    )"
   ]
  },
  {
   "cell_type": "code",
   "execution_count": 16,
   "id": "bbb7e269",
   "metadata": {},
   "outputs": [
    {
     "name": "stdout",
     "output_type": "stream",
     "text": [
      "1\n",
      "4\n",
      "7\n"
     ]
    }
   ],
   "source": [
    "for i in range(1,10,3):\n",
    "    print(i)"
   ]
  },
  {
   "cell_type": "code",
   "execution_count": 17,
   "id": "8fe70abe",
   "metadata": {},
   "outputs": [
    {
     "name": "stdout",
     "output_type": "stream",
     "text": [
      "start: 10\n",
      "end: 1\n",
      "step: -1\n",
      "10\n",
      "9\n",
      "8\n",
      "7\n",
      "6\n",
      "5\n",
      "4\n",
      "3\n",
      "2\n"
     ]
    }
   ],
   "source": [
    "start = int(input(\"start: \"))\n",
    "end = int(input(\"end: \"))\n",
    "step = int(input(\"step: \"))\n",
    "\n",
    "for i in range(start, end, step):\n",
    "    print(i)\n",
    "\n"
   ]
  },
  {
   "cell_type": "code",
   "execution_count": 19,
   "id": "ef300946",
   "metadata": {},
   "outputs": [
    {
     "name": "stdout",
     "output_type": "stream",
     "text": [
      "5\n",
      "10\n",
      "15\n",
      "20\n",
      "25\n",
      "30\n",
      "35\n",
      "40\n",
      "45\n",
      "50\n"
     ]
    }
   ],
   "source": [
    "for i in range(1,11):\n",
    "    print(i*5)"
   ]
  },
  {
   "cell_type": "code",
   "execution_count": 20,
   "id": "ee4f32b7",
   "metadata": {},
   "outputs": [
    {
     "name": "stdout",
     "output_type": "stream",
     "text": [
      "-51\n"
     ]
    }
   ],
   "source": [
    "lst = [23, 25, -43, 0, -56]\n",
    "sum_t = 0\n",
    "\n",
    "for i in lst:\n",
    "    sum_t += i\n",
    "    \n",
    "print(sum_t)"
   ]
  },
  {
   "cell_type": "code",
   "execution_count": 21,
   "id": "08835a75",
   "metadata": {},
   "outputs": [
    {
     "name": "stdout",
     "output_type": "stream",
     "text": [
      "25\n"
     ]
    }
   ],
   "source": [
    "lst = [23, 25, -43, 0, -56]\n",
    "\n",
    "max_no = 0\n",
    "\n",
    "for i in lst:\n",
    "    if max_no < i:\n",
    "        max_no = i\n",
    "        \n",
    "print(max_no)"
   ]
  },
  {
   "cell_type": "code",
   "execution_count": 4,
   "id": "2c05fb23",
   "metadata": {},
   "outputs": [
    {
     "ename": "SyntaxError",
     "evalue": "invalid syntax (<ipython-input-4-4b3990b1920f>, line 3)",
     "output_type": "error",
     "traceback": [
      "\u001b[1;36m  File \u001b[1;32m\"<ipython-input-4-4b3990b1920f>\"\u001b[1;36m, line \u001b[1;32m3\u001b[0m\n\u001b[1;33m    if name == r*:\u001b[0m\n\u001b[1;37m                 ^\u001b[0m\n\u001b[1;31mSyntaxError\u001b[0m\u001b[1;31m:\u001b[0m invalid syntax\n"
     ]
    }
   ],
   "source": [
    "name = 'rama'\n",
    "\n",
    "if name == r*:\n",
    "    print('yes this name start with r')"
   ]
  },
  {
   "cell_type": "code",
   "execution_count": 5,
   "id": "77d6e22e",
   "metadata": {},
   "outputs": [
    {
     "name": "stdout",
     "output_type": "stream",
     "text": [
      "4.0\n"
     ]
    }
   ],
   "source": [
    "print(100/25)"
   ]
  },
  {
   "cell_type": "code",
   "execution_count": 19,
   "id": "46c1006c",
   "metadata": {},
   "outputs": [
    {
     "name": "stdout",
     "output_type": "stream",
     "text": [
      "True\n"
     ]
    }
   ],
   "source": [
    "print(\"P\" in \"Python\")"
   ]
  },
  {
   "cell_type": "code",
   "execution_count": 7,
   "id": "e3fa43b5",
   "metadata": {},
   "outputs": [
    {
     "name": "stdout",
     "output_type": "stream",
     "text": [
      "4\n"
     ]
    }
   ],
   "source": [
    "print(9//2)"
   ]
  },
  {
   "cell_type": "code",
   "execution_count": 8,
   "id": "3ed15821",
   "metadata": {},
   "outputs": [
    {
     "name": "stdout",
     "output_type": "stream",
     "text": [
      "True\n",
      "False\n"
     ]
    }
   ],
   "source": [
    "print(not(3>4))\n",
    "\n",
    "print(not(1&1))"
   ]
  },
  {
   "cell_type": "code",
   "execution_count": 11,
   "id": "9a5845dd",
   "metadata": {},
   "outputs": [
    {
     "ename": "SyntaxError",
     "evalue": "cannot assign to operator (<ipython-input-11-7c8a8ba0f833>, line 1)",
     "output_type": "error",
     "traceback": [
      "\u001b[1;36m  File \u001b[1;32m\"<ipython-input-11-7c8a8ba0f833>\"\u001b[1;36m, line \u001b[1;32m1\u001b[0m\n\u001b[1;33m    first-name = \"Tom\"\u001b[0m\n\u001b[1;37m    ^\u001b[0m\n\u001b[1;31mSyntaxError\u001b[0m\u001b[1;31m:\u001b[0m cannot assign to operator\n"
     ]
    }
   ],
   "source": [
    "first-name = \"Tom\"\n"
   ]
  },
  {
   "cell_type": "code",
   "execution_count": 12,
   "id": "2096ef76",
   "metadata": {},
   "outputs": [
    {
     "name": "stdout",
     "output_type": "stream",
     "text": [
      "Good\n"
     ]
    }
   ],
   "source": [
    "if (9<0) and (0 < -9):\n",
    "    print('h')\n",
    "elif (9>0) or False:\n",
    "    print('Good')\n",
    "else:\n",
    "    print('b')"
   ]
  },
  {
   "cell_type": "code",
   "execution_count": 20,
   "id": "b7cfd2b8",
   "metadata": {},
   "outputs": [
    {
     "name": "stdout",
     "output_type": "stream",
     "text": [
      "*\n",
      "**\n",
      "***\n",
      "****\n",
      "*****\n"
     ]
    }
   ],
   "source": [
    "for i in range(1,6):\n",
    "    print(i*'*')\n"
   ]
  },
  {
   "cell_type": "code",
   "execution_count": 27,
   "id": "375de4ff",
   "metadata": {},
   "outputs": [
    {
     "name": "stdout",
     "output_type": "stream",
     "text": [
      "*\n",
      "**\n",
      "***\n",
      "****\n",
      "*****\n"
     ]
    }
   ],
   "source": [
    "for k in range(1,6):\n",
    "    for j in range(k):\n",
    "        print('*',end=\"\")\n",
    "    print()\n"
   ]
  },
  {
   "cell_type": "code",
   "execution_count": 54,
   "id": "94f42b8f",
   "metadata": {},
   "outputs": [
    {
     "name": "stdout",
     "output_type": "stream",
     "text": [
      "    * \r\n",
      "   * * \r\n",
      "  * * * \r\n",
      " * * * * \r\n",
      "* * * * * \r\n"
     ]
    }
   ],
   "source": [
    "    # number of spaces\n",
    "    n = 5\n",
    "    k = n - 1\n",
    " \n",
    "    for i in range(0, n):\n",
    "        \n",
    "        for j in range(0, k):\n",
    "            print(end=\" \")\n",
    "            \n",
    "        k = k - 1\n",
    "        \n",
    "        for j in range(0, i+1):\n",
    "            print(\"* \", end=\"\")\n",
    "            \n",
    "        print(\"\\r\")"
   ]
  },
  {
   "cell_type": "code",
   "execution_count": 60,
   "id": "89ca2fc9",
   "metadata": {},
   "outputs": [
    {
     "name": "stdout",
     "output_type": "stream",
     "text": [
      "      \n",
      "     *\n",
      "    **\n",
      "   ***\n",
      "  ****\n",
      " *****\n",
      "******\n"
     ]
    }
   ],
   "source": [
    "n = 7\n",
    "spaces = n\n",
    "for row in range(1,n+1):\n",
    "    for space in range(1, spaces):\n",
    "        print(end=' ')\n",
    "        \n",
    "    for star in range(1, row):\n",
    "        print('*', end='')\n",
    "    spaces -= 1\n",
    "    print()\n",
    "           "
   ]
  },
  {
   "cell_type": "code",
   "execution_count": 2,
   "id": "ca49b120",
   "metadata": {},
   "outputs": [
    {
     "name": "stdout",
     "output_type": "stream",
     "text": [
      "1 1 1\n",
      "1 1 2\n",
      "1 1 3\n",
      "1 2 1\n",
      "1 2 2\n",
      "1 2 3\n",
      "1 3 1\n",
      "1 3 2\n",
      "1 3 3\n",
      "2 1 1\n",
      "2 1 2\n",
      "2 1 3\n",
      "2 2 1\n",
      "2 2 2\n",
      "2 2 3\n",
      "2 3 1\n",
      "2 3 2\n",
      "2 3 3\n",
      "3 1 1\n",
      "3 1 2\n",
      "3 1 3\n",
      "3 2 1\n",
      "3 2 2\n",
      "3 2 3\n",
      "3 3 1\n",
      "3 3 2\n",
      "3 3 3\n"
     ]
    }
   ],
   "source": [
    "for i in range(1,4):          # i = 1 2 3\n",
    "    \n",
    "    for j in range(1,4):      # j = 1 2 3, 1\n",
    "        \n",
    "        for k in range(1,4):  # k = 1 2 3, 1 2 3, 1 2 3, 1\n",
    "            \n",
    "            print(i,j,k)\n",
    "            \n",
    "1 1 1\n",
    "1 1 2\n",
    "1 1 3\n",
    "\n",
    "1 2 1\n",
    "1 2 2\n",
    "1 2 3\n",
    "\n",
    "1 3 1\n",
    "1 3 2\n",
    "1 3 3\n",
    "\n",
    "2"
   ]
  },
  {
   "cell_type": "code",
   "execution_count": 7,
   "id": "e2af8fb2",
   "metadata": {},
   "outputs": [
    {
     "name": "stdout",
     "output_type": "stream",
     "text": [
      "* * * * \n",
      "* * * * \n",
      "* * * * \n",
      "* * * * \n"
     ]
    }
   ],
   "source": [
    "for row in range(1, 5):\n",
    "    \n",
    "    for clm in range(1, 5):\n",
    "        \n",
    "        print('* ', end='')\n",
    "        \n",
    "    print()"
   ]
  },
  {
   "cell_type": "code",
   "execution_count": 14,
   "id": "dde30575",
   "metadata": {},
   "outputs": [
    {
     "name": "stdout",
     "output_type": "stream",
     "text": [
      "* * * * * * * \n",
      "* * * * * * * \n",
      "* * * * * * * \n",
      "* * * * * * * \n"
     ]
    }
   ],
   "source": [
    "for row in range(1, 5):\n",
    "    \n",
    "    for clm in range(1, 8):\n",
    "        \n",
    "        print('* ', end='')\n",
    "        \n",
    "    print()"
   ]
  },
  {
   "cell_type": "code",
   "execution_count": 18,
   "id": "51a016d5",
   "metadata": {},
   "outputs": [
    {
     "name": "stdout",
     "output_type": "stream",
     "text": [
      "* # # # \n",
      "# * # # \n",
      "# # * # \n",
      "# # # * \n"
     ]
    }
   ],
   "source": [
    "for row in range(1, 5):\n",
    "    \n",
    "    for clm in range(1, 5):\n",
    "        if row == clm:\n",
    "            print('* ', end='')\n",
    "        else:\n",
    "            print('# ', end='')\n",
    "        \n",
    "        \n",
    "    print()"
   ]
  },
  {
   "cell_type": "code",
   "execution_count": null,
   "id": "b9e7f3ff",
   "metadata": {},
   "outputs": [],
   "source": []
  }
 ],
 "metadata": {
  "kernelspec": {
   "display_name": "Python 3",
   "language": "python",
   "name": "python3"
  },
  "language_info": {
   "codemirror_mode": {
    "name": "ipython",
    "version": 3
   },
   "file_extension": ".py",
   "mimetype": "text/x-python",
   "name": "python",
   "nbconvert_exporter": "python",
   "pygments_lexer": "ipython3",
   "version": "3.8.3"
  }
 },
 "nbformat": 4,
 "nbformat_minor": 5
}
