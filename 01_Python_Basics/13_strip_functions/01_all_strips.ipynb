{
 "cells": [
  {
   "cell_type": "markdown",
   "id": "8d2a79eb",
   "metadata": {},
   "source": [
    "## Strip Functions"
   ]
  },
  {
   "cell_type": "code",
   "execution_count": null,
   "id": "3e1c0cfa",
   "metadata": {},
   "outputs": [],
   "source": [
    "1. Total 3 strip functions.\n",
    "2. Strip functions are string class functions\n",
    "3. These functions are used to strip the long spaces from a string.\n",
    "4. Strip function can't remove middle extra spaces.\n",
    "\n",
    "    => strip()\n",
    "    => lstrip()\n",
    "    => rstrip()\n",
    "    \n",
    "Syntax : string.strip()"
   ]
  },
  {
   "cell_type": "markdown",
   "id": "f66d4b6a",
   "metadata": {},
   "source": [
    "### strip()"
   ]
  },
  {
   "cell_type": "code",
   "execution_count": 9,
   "id": "bdaebb65",
   "metadata": {},
   "outputs": [
    {
     "name": "stdout",
     "output_type": "stream",
     "text": [
      "SURESH VJ\n"
     ]
    }
   ],
   "source": [
    "s1 = '            SURESH VJ           '\n",
    "print(s1.strip())"
   ]
  },
  {
   "cell_type": "code",
   "execution_count": 10,
   "id": "7f63e7d3",
   "metadata": {},
   "outputs": [
    {
     "name": "stdout",
     "output_type": "stream",
     "text": [
      "aaa              aaa\n"
     ]
    }
   ],
   "source": [
    "# Strip function can't remove middle extra spaces.\n",
    "\n",
    "s2 = 'aaa              aaa'\n",
    "print(s2.strip())"
   ]
  },
  {
   "cell_type": "markdown",
   "id": "81a12b2b",
   "metadata": {},
   "source": [
    "### lstrip()"
   ]
  },
  {
   "cell_type": "code",
   "execution_count": null,
   "id": "16cec233",
   "metadata": {},
   "outputs": [],
   "source": [
    "=> It will remove lift side spaces"
   ]
  },
  {
   "cell_type": "code",
   "execution_count": 11,
   "id": "41db2733",
   "metadata": {},
   "outputs": [
    {
     "name": "stdout",
     "output_type": "stream",
     "text": [
      "SURESH VJ           \n"
     ]
    }
   ],
   "source": [
    "s1 = '            SURESH VJ           '\n",
    "print(s1.lstrip())"
   ]
  },
  {
   "cell_type": "markdown",
   "id": "ea1d7771",
   "metadata": {},
   "source": [
    "### rstrip()"
   ]
  },
  {
   "cell_type": "code",
   "execution_count": null,
   "id": "bc072ff0",
   "metadata": {},
   "outputs": [],
   "source": [
    "=> It will remove right side spaces"
   ]
  },
  {
   "cell_type": "code",
   "execution_count": 12,
   "id": "e2187c20",
   "metadata": {},
   "outputs": [
    {
     "name": "stdout",
     "output_type": "stream",
     "text": [
      "            SURESH VJ\n"
     ]
    }
   ],
   "source": [
    "s1 = '            SURESH VJ           '\n",
    "print(s1.rstrip())"
   ]
  }
 ],
 "metadata": {
  "kernelspec": {
   "display_name": "Python 3",
   "language": "python",
   "name": "python3"
  },
  "language_info": {
   "codemirror_mode": {
    "name": "ipython",
    "version": 3
   },
   "file_extension": ".py",
   "mimetype": "text/x-python",
   "name": "python",
   "nbconvert_exporter": "python",
   "pygments_lexer": "ipython3",
   "version": "3.8.3"
  }
 },
 "nbformat": 4,
 "nbformat_minor": 5
}
