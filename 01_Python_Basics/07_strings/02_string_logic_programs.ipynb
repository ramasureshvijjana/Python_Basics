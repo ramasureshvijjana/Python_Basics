{
 "cells": [
  {
   "cell_type": "markdown",
   "id": "dd587ac4",
   "metadata": {},
   "source": [
    "# STRING LOGICAL PROGRAM"
   ]
  },
  {
   "cell_type": "markdown",
   "id": "538fb673",
   "metadata": {},
   "source": [
    "### 1. Printing the words in a string"
   ]
  },
  {
   "cell_type": "code",
   "execution_count": 4,
   "id": "8f576860",
   "metadata": {},
   "outputs": [
    {
     "name": "stdout",
     "output_type": "stream",
     "text": [
      "Rama\n",
      "Suresh\n",
      "VJ\n",
      "Naveen\n",
      "Eswar\n"
     ]
    }
   ],
   "source": [
    "# Print each word in a string\n",
    "\n",
    "string_var = 'Rama Suresh VJ Naveen Eswar'\n",
    "\n",
    "for name in string_var.split():\n",
    "    print(name)"
   ]
  },
  {
   "cell_type": "markdown",
   "id": "9c60b6d9",
   "metadata": {},
   "source": [
    "### 2. Python program to check whether the string is Symmetrical or Palindrome."
   ]
  },
  {
   "cell_type": "markdown",
   "id": "031ce3f4",
   "metadata": {},
   "source": [
    "=> A string is said to be symmetrical if both the halves of the string are the same.  \n",
    "=> a string is said to be a palindrome string if one half of the string is the reverse of the other half or if a string appears same when read forward or backward."
   ]
  },
  {
   "cell_type": "code",
   "execution_count": 8,
   "id": "dec5c3a7",
   "metadata": {},
   "outputs": [
    {
     "name": "stdout",
     "output_type": "stream",
     "text": [
      "mmmm  is a symmetric\n",
      "mmmm  is a palindrome\n"
     ]
    }
   ],
   "source": [
    "str_var = 'mmmm'\n",
    "\n",
    "half_num = len(str_var) // 2\n",
    "if len(str_var) % 2 == 0:\n",
    "    \n",
    "    if (str_var[0:half_num] == str_var[half_num:]):\n",
    "        print(str_var, ' is a symmetric')\n",
    "    else:\n",
    "        print(str_var, ' not a symmetric')\n",
    "        \n",
    "    if (str_var[0:half_num] == str_var[half_num:][::-1]):\n",
    "        print(str_var, ' is a palindrome')\n",
    "    else:\n",
    "        print(str_var, ' not a palindrome')\n",
    "        \n",
    "else:\n",
    "    if (str_var[0:half_num] == str_var[half_num+1:]):\n",
    "        print(str_var, ' is a symmetric')\n",
    "    else:\n",
    "        print(str_var, ' not a symmetric')\n",
    "    \n",
    "    if (str_var[0:half_num] == str_var[half_num+1:][::-1]):\n",
    "        print(str_var, ' is a palindrome')\n",
    "    else:\n",
    "        print(str_var, ' not a palindrome')\n",
    "    \n",
    "        "
   ]
  },
  {
   "cell_type": "markdown",
   "id": "e7a3b5f9",
   "metadata": {},
   "source": [
    "### 3. Reverse words itselfe in a given String in Python"
   ]
  },
  {
   "cell_type": "code",
   "execution_count": 15,
   "id": "3b7ecd65",
   "metadata": {},
   "outputs": [
    {
     "name": "stdout",
     "output_type": "stream",
     "text": [
      "Enter a sentance:  I LOVE YOU\n",
      "I EVOL UOY \n"
     ]
    }
   ],
   "source": [
    "str_var_1 = input('Enter a sentance:  ')\n",
    "rev_word_str = ''\n",
    "\n",
    "for i in str_var_1.split():\n",
    "    rev_word_str = rev_word_str + i[::-1] + \" \"\n",
    "    \n",
    "print(rev_word_str)"
   ]
  },
  {
   "cell_type": "markdown",
   "id": "e917a95b",
   "metadata": {},
   "source": [
    "### 4. Reverse words in a given String in Python\n",
    "\n",
    "INPUT  : I LOVE YOU  \n",
    "OUTPUT : YOU LOVE I"
   ]
  },
  {
   "cell_type": "code",
   "execution_count": 16,
   "id": "7314fe7d",
   "metadata": {},
   "outputs": [
    {
     "name": "stdout",
     "output_type": "stream",
     "text": [
      "Enter a sentance:  I LOVE YOU\n",
      "YOU LOVE I\n"
     ]
    }
   ],
   "source": [
    "str_var_2 = input('Enter a sentance:  ')\n",
    "\n",
    "words = str_var_2.split()\n",
    "rev_words_str = ' '.join(reversed(words))\n",
    "\n",
    "print(rev_words_str)"
   ]
  },
  {
   "cell_type": "markdown",
   "id": "ac7b0277",
   "metadata": {},
   "source": [
    "### 5. Convert numeric words to numbers\n",
    "\n",
    "Input: 1908  \n",
    "Output: one nine zero eight"
   ]
  },
  {
   "cell_type": "code",
   "execution_count": 26,
   "id": "24249040",
   "metadata": {},
   "outputs": [
    {
     "name": "stdout",
     "output_type": "stream",
     "text": [
      "Enter a number: 3567\n",
      "three five six seven \n"
     ]
    }
   ],
   "source": [
    "# lets take a dictionary\n",
    "num_dict = {1 : 'one',\n",
    "           2 : 'two',\n",
    "           3 : 'three',\n",
    "           4 : 'foure',\n",
    "           5 : 'five',\n",
    "           6 : 'six',\n",
    "           7 : 'seven',\n",
    "           8 : 'eight',\n",
    "           9 : 'nine'}\n",
    "\n",
    "num_str = ''\n",
    "\n",
    "number = input('Enter a number: ')\n",
    "\n",
    "for i in number:\n",
    "    num_str = num_str + num_dict[int(i)] +' '\n",
    "\n",
    "print(num_str)"
   ]
  },
  {
   "cell_type": "code",
   "execution_count": null,
   "id": "7ae50e4b",
   "metadata": {},
   "outputs": [],
   "source": []
  },
  {
   "cell_type": "code",
   "execution_count": null,
   "id": "62028289",
   "metadata": {},
   "outputs": [],
   "source": []
  },
  {
   "cell_type": "code",
   "execution_count": null,
   "id": "6c9d2b89",
   "metadata": {},
   "outputs": [],
   "source": []
  },
  {
   "cell_type": "code",
   "execution_count": null,
   "id": "b362e90a",
   "metadata": {},
   "outputs": [],
   "source": []
  },
  {
   "cell_type": "code",
   "execution_count": null,
   "id": "e766bd92",
   "metadata": {},
   "outputs": [],
   "source": []
  },
  {
   "cell_type": "code",
   "execution_count": null,
   "id": "1dc1af48",
   "metadata": {},
   "outputs": [],
   "source": []
  },
  {
   "cell_type": "code",
   "execution_count": null,
   "id": "0d8d5e7c",
   "metadata": {},
   "outputs": [],
   "source": []
  },
  {
   "cell_type": "code",
   "execution_count": null,
   "id": "9f89322c",
   "metadata": {},
   "outputs": [],
   "source": []
  },
  {
   "cell_type": "code",
   "execution_count": null,
   "id": "b7707a2b",
   "metadata": {},
   "outputs": [],
   "source": []
  }
 ],
 "metadata": {
  "kernelspec": {
   "display_name": "Python 3",
   "language": "python",
   "name": "python3"
  },
  "language_info": {
   "codemirror_mode": {
    "name": "ipython",
    "version": 3
   },
   "file_extension": ".py",
   "mimetype": "text/x-python",
   "name": "python",
   "nbconvert_exporter": "python",
   "pygments_lexer": "ipython3",
   "version": "3.8.3"
  }
 },
 "nbformat": 4,
 "nbformat_minor": 5
}
