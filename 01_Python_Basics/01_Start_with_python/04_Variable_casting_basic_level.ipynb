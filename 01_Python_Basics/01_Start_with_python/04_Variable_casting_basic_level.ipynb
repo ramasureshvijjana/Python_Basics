{
 "cells": [
  {
   "cell_type": "markdown",
   "id": "9a93fb43",
   "metadata": {},
   "source": [
    "# TYPE CASTING"
   ]
  },
  {
   "cell_type": "code",
   "execution_count": null,
   "id": "e9ddc475",
   "metadata": {},
   "outputs": [],
   "source": [
    "\n",
    "1. Type-casting is a process of converting one data type to another data type.  \n",
    "2. Converting into int or float or string are comes under basic level type-casting.  \n",
    "3. The in-depth of this concept we can learning after inheritance topic, But up to now focus on basic only.  \n",
    "4. Casting in python is done by using constructor functions. \n"
   ]
  },
  {
   "cell_type": "markdown",
   "id": "6a1fbf0b",
   "metadata": {},
   "source": [
    "## Convert in to integer"
   ]
  },
  {
   "cell_type": "code",
   "execution_count": null,
   "id": "b83758a2",
   "metadata": {},
   "outputs": [],
   "source": [
    "\n",
    "=> The int() constructor is used to convert into int.\n"
   ]
  },
  {
   "cell_type": "code",
   "execution_count": 6,
   "id": "254b8160",
   "metadata": {},
   "outputs": [
    {
     "name": "stdout",
     "output_type": "stream",
     "text": [
      "value is:  2         Type is:  <class 'int'>\n",
      "value is:  98        Type is:  <class 'int'>\n",
      "value is:  26        Type is:  <class 'int'>\n",
      "value is:  1        Type is:  <class 'int'>\n"
     ]
    }
   ],
   "source": [
    "int_conv = int(2)\n",
    "print('value is: ', int_conv, '        Type is: ', type(int_conv))\n",
    "\n",
    "float_conv = int(98.45)\n",
    "print('value is: ', float_conv, '       Type is: ', type(float_conv))\n",
    "\n",
    "str_conv = int('26')\n",
    "print('value is: ', str_conv, '       Type is: ', type(str_conv))\n",
    "\n",
    "bool_conv = int(True)\n",
    "print('value is: ', bool_conv, '       Type is: ', type(bool_conv))\n",
    "\n",
    "# NOT WORKING WAYS\n",
    "# wron_way = int('MATHS')  ----------------->   ValueError: invalid literal for int() with base 10: 'MATHS'\n",
    "# complex_conv = int(5+4j)"
   ]
  },
  {
   "cell_type": "markdown",
   "id": "65a96bdc",
   "metadata": {},
   "source": [
    "## Convert in to float"
   ]
  },
  {
   "cell_type": "markdown",
   "id": "f086cc11",
   "metadata": {},
   "source": [
    "=> The float() constructor is used to convert into float."
   ]
  },
  {
   "cell_type": "code",
   "execution_count": 10,
   "id": "e247faff",
   "metadata": {
    "scrolled": true
   },
   "outputs": [
    {
     "name": "stdout",
     "output_type": "stream",
     "text": [
      "value is:  5.0         Type is:  <class 'float'>\n",
      "value is:  5.98        Type is:  <class 'float'>\n",
      "value is:  78.0        Type is:  <class 'float'>\n",
      "value is:  34.09       Type is:  <class 'float'>\n",
      "value is:  1.0         Type is:  <class 'float'>\n"
     ]
    }
   ],
   "source": [
    "int_flt_conv = float(5)\n",
    "print('value is: ', int_flt_conv, '        Type is: ', type(int_flt_conv))\n",
    "\n",
    "flt_flt_conv = float(5.98)\n",
    "print('value is: ', flt_flt_conv, '       Type is: ', type(flt_flt_conv))\n",
    "\n",
    "str1_flt_conv = float('78')\n",
    "print('value is: ', str1_flt_conv, '       Type is: ', type(str1_flt_conv))\n",
    "\n",
    "str2_flt_conv = float('34.09')\n",
    "print('value is: ', str2_flt_conv, '      Type is: ', type(str2_flt_conv))\n",
    "\n",
    "bool_conv = float(True)\n",
    "print('value is: ',bool_conv, '        Type is: ', type(bool_conv))\n",
    "\n",
    "# NOT WORKING WAYS\n",
    "# wron_way = float('MATHS')  ----------------->   ValueError: could not convert string to float: 'MATHS'"
   ]
  },
  {
   "cell_type": "markdown",
   "id": "f684ed08",
   "metadata": {},
   "source": [
    "## Convert in to string"
   ]
  },
  {
   "cell_type": "code",
   "execution_count": null,
   "id": "86a139c9",
   "metadata": {},
   "outputs": [],
   "source": [
    "=> The string() constructor is used to convert into string."
   ]
  },
  {
   "cell_type": "code",
   "execution_count": 22,
   "id": "19f99626",
   "metadata": {},
   "outputs": [
    {
     "name": "stdout",
     "output_type": "stream",
     "text": [
      "value is:  54    Type is:  <class 'str'>\n",
      "value is:  56.09        Type is:  <class 'str'>\n",
      "value is:  VJ           Type is:  <class 'str'>\n",
      "value is:  True         Type is:  <class 'str'>\n",
      "value is:  (4+5j)         Type is:  <class 'str'>\n",
      "value is:  [(4+5j), 6, 8]       Type is:  <class 'str'>\n",
      "value is:  ((4+5j), 9, 7, 6.9)       Type is:  <class 'str'>\n",
      "value is:  {9, (4+5j), 4, 7}       Type is:  <class 'str'>\n",
      "value is:  {1: (4+5j), 'name': 'Rama'}       Type is:  <class 'str'>\n"
     ]
    }
   ],
   "source": [
    "int_str_conv = str(54)\n",
    "print('value is: ', int_str_conv, '   Type is: ', type(int_str_conv))\n",
    "\n",
    "float_str_conv = str(56.09)\n",
    "print('value is: ', float_str_conv, '       Type is: ', type(float_str_conv))\n",
    "\n",
    "str_str_conv = str('VJ')\n",
    "print('value is: ', str_str_conv, '          Type is: ', type(str_str_conv))\n",
    "\n",
    "boolean_str_conv = str(True)\n",
    "print('value is: ', boolean_str_conv, '        Type is: ', type(boolean_str_conv))\n",
    "\n",
    "cmx_conv = str(4+5j)\n",
    "print('value is: ', cmx_conv, '        Type is: ', type(cmx_conv))\n",
    "\n",
    "list_conv = str([4+5j, 6, 8])\n",
    "print('value is: ', list_conv, '      Type is: ', type(list_conv))\n",
    "\n",
    "tuple_conv = str((4+5j, 9, 7, 6.9))\n",
    "print('value is: ', tuple_conv, '      Type is: ', type(tuple_conv))\n",
    "\n",
    "set_conv = str({4+5j, 4,7,9})\n",
    "print('value is: ', set_conv, '      Type is: ', type(set_conv))\n",
    "\n",
    "dict_conv = str({1: 4+5j, 'name': 'Rama'})\n",
    "print('value is: ', dict_conv, '      Type is: ', type(dict_conv))\n"
   ]
  },
  {
   "cell_type": "markdown",
   "id": "f597b07a",
   "metadata": {},
   "source": [
    "## Convert Into Boolean"
   ]
  },
  {
   "cell_type": "code",
   "execution_count": 4,
   "id": "da5818ba",
   "metadata": {},
   "outputs": [
    {
     "name": "stdout",
     "output_type": "stream",
     "text": [
      "value is: 1     ---> True      Type is: <class 'bool'>\n",
      "value is: 0     ---> False      Type is: <class 'bool'>\n",
      "value is: 0     ---> False      Type is: <class 'bool'>\n",
      "value is: 75     ---> True      Type is: <class 'bool'>\n",
      "value is: 23     ---> True      Type is: <class 'bool'>\n",
      "value is: 34.567     ---> True      Type is: <class 'bool'>\n",
      "value is: Suresh     ---> True      Type is: <class 'bool'>\n",
      "value is: True     ---> True      Type is: <class 'bool'>\n",
      "value is: False     ---> False      Type is: <class 'bool'>\n",
      "value is: (4+5j)     ---> True      Type is: <class 'bool'>\n",
      "value is: [2, 3]     ---> True      Type is: <class 'bool'>\n",
      "value is: (3, 4)     ---> True      Type is: <class 'bool'>\n",
      "value is: {5, 6}     ---> True      Type is: <class 'bool'>\n",
      "value is: {'A': 3, 'B': 4}     ---> True      Type is: <class 'bool'>\n"
     ]
    }
   ],
   "source": [
    "def bool_conv(arg):\n",
    "    try:\n",
    "        bool_val = bool(arg)\n",
    "        print(f'value is: {arg}     ---> {bool_val}      Type is: {type(bool_val)}')\n",
    "    except e:\n",
    "        print(e)\n",
    "    \n",
    "all_vals = [1, 0, 0b000, 0b1001011, 23, 34.567, 'Suresh', True, False, 4+5j, [2,3], (3,4), {5,6}, {'A': 3, 'B': 4}]\n",
    "\n",
    "for i in all_vals:\n",
    "    bool_conv(i)\n"
   ]
  },
  {
   "cell_type": "markdown",
   "id": "b9fe664c",
   "metadata": {},
   "source": [
    "## Convert Into Complex"
   ]
  },
  {
   "cell_type": "code",
   "execution_count": 33,
   "id": "8987c9f3",
   "metadata": {},
   "outputs": [
    {
     "name": "stdout",
     "output_type": "stream",
     "text": [
      "value is: 23     ---> (23+0j)      Type is: <class 'complex'>\n",
      "value is: j     ---> 1j      Type is: <class 'complex'>\n",
      "value is: 34.567     ---> (34.567+0j)      Type is: <class 'complex'>\n",
      "value is: 1     ---> (1+0j)      Type is: <class 'complex'>\n",
      "value is: 0     ---> 0j      Type is: <class 'complex'>\n",
      "value is: True     ---> (1+0j)      Type is: <class 'complex'>\n",
      "value is: False     ---> 0j      Type is: <class 'complex'>\n",
      "value is: (4+5j)     ---> (4+5j)      Type is: <class 'complex'>\n",
      "complex() arg is a malformed string\n",
      "complex() first argument must be a string or a number, not 'list'\n",
      "complex() first argument must be a string or a number, not 'tuple'\n",
      "complex() first argument must be a string or a number, not 'set'\n",
      "complex() first argument must be a string or a number, not 'dict'\n"
     ]
    }
   ],
   "source": [
    "def complex_conv(arg):\n",
    "    try:\n",
    "        bool_val = complex(arg)\n",
    "        print(f'value is: {arg}     ---> {bool_val}      Type is: {type(bool_val)}')\n",
    "    except Exception as e:\n",
    "        print(e)\n",
    "    \n",
    "all_vals = [23, 'j', 34.567, 1, 0, True, False, 4+5j, 'Suresh', [2,3], (3,4), {5,6}, {'A': 3, 'B': 4}]\n",
    "\n",
    "for i in all_vals:\n",
    "    complex_conv(i)"
   ]
  },
  {
   "cell_type": "markdown",
   "id": "7446dc92",
   "metadata": {},
   "source": [
    "## Convert Into List"
   ]
  },
  {
   "cell_type": "code",
   "execution_count": 34,
   "id": "48c786c6",
   "metadata": {},
   "outputs": [
    {
     "name": "stdout",
     "output_type": "stream",
     "text": [
      "'int' object is not iterable\n",
      "value is: j     ---> ['j']      Type is: <class 'list'>\n",
      "'float' object is not iterable\n",
      "'int' object is not iterable\n",
      "'int' object is not iterable\n",
      "'bool' object is not iterable\n",
      "'bool' object is not iterable\n",
      "'complex' object is not iterable\n",
      "value is: Suresh     ---> ['S', 'u', 'r', 'e', 's', 'h']      Type is: <class 'list'>\n",
      "value is: [2, 3]     ---> [2, 3]      Type is: <class 'list'>\n",
      "value is: (3, 4)     ---> [3, 4]      Type is: <class 'list'>\n",
      "value is: {5, 6}     ---> [5, 6]      Type is: <class 'list'>\n",
      "value is: {'A': 3, 'B': 4}     ---> ['A', 'B']      Type is: <class 'list'>\n"
     ]
    }
   ],
   "source": [
    "def list_conv(arg):\n",
    "    try:\n",
    "        bool_val = list(arg)\n",
    "        print(f'value is: {arg}     ---> {bool_val}      Type is: {type(bool_val)}')\n",
    "    except Exception as e:\n",
    "        print(e)\n",
    "    \n",
    "all_vals = [23, 'j', 34.567, 1, 0, True, False, 4+5j, 'Suresh', [2,3], (3,4), {5,6}, {'A': 3, 'B': 4}]\n",
    "\n",
    "for i in all_vals:\n",
    "    list_conv(i)"
   ]
  },
  {
   "cell_type": "markdown",
   "id": "9f6c3560",
   "metadata": {},
   "source": [
    "## Convert Into Tuple"
   ]
  },
  {
   "cell_type": "code",
   "execution_count": 35,
   "id": "1618e45c",
   "metadata": {},
   "outputs": [
    {
     "name": "stdout",
     "output_type": "stream",
     "text": [
      "'int' object is not iterable\n",
      "value is: j     ---> ('j',)      Type is: <class 'tuple'>\n",
      "'float' object is not iterable\n",
      "'int' object is not iterable\n",
      "'int' object is not iterable\n",
      "'bool' object is not iterable\n",
      "'bool' object is not iterable\n",
      "'complex' object is not iterable\n",
      "value is: Suresh     ---> ('S', 'u', 'r', 'e', 's', 'h')      Type is: <class 'tuple'>\n",
      "value is: [2, 3]     ---> (2, 3)      Type is: <class 'tuple'>\n",
      "value is: (3, 4)     ---> (3, 4)      Type is: <class 'tuple'>\n",
      "value is: {5, 6}     ---> (5, 6)      Type is: <class 'tuple'>\n",
      "value is: {'A': 3, 'B': 4}     ---> ('A', 'B')      Type is: <class 'tuple'>\n"
     ]
    }
   ],
   "source": [
    "def tuple_conv(arg):\n",
    "    try:\n",
    "        bool_val = tuple(arg)\n",
    "        print(f'value is: {arg}     ---> {bool_val}      Type is: {type(bool_val)}')\n",
    "    except Exception as e:\n",
    "        print(e)\n",
    "    \n",
    "all_vals = [23, 'j', 34.567, 1, 0, True, False, 4+5j, 'Suresh', [2,3], (3,4), {5,6}, {'A': 3, 'B': 4}]\n",
    "\n",
    "for i in all_vals:\n",
    "    tuple_conv(i)"
   ]
  },
  {
   "cell_type": "markdown",
   "id": "00730037",
   "metadata": {},
   "source": [
    "## Convert Into Set"
   ]
  },
  {
   "cell_type": "code",
   "execution_count": 37,
   "id": "2ad1d7b1",
   "metadata": {},
   "outputs": [
    {
     "name": "stdout",
     "output_type": "stream",
     "text": [
      "'int' object is not iterable\n",
      "value is: j     ---> {'j'}      Type is: <class 'set'>\n",
      "'float' object is not iterable\n",
      "'int' object is not iterable\n",
      "'int' object is not iterable\n",
      "'bool' object is not iterable\n",
      "'bool' object is not iterable\n",
      "'complex' object is not iterable\n",
      "value is: Suresh     ---> {'h', 'u', 'S', 'r', 's', 'e'}      Type is: <class 'set'>\n",
      "value is: [2, 3]     ---> {2, 3}      Type is: <class 'set'>\n",
      "value is: (3, 4)     ---> {3, 4}      Type is: <class 'set'>\n",
      "value is: {5, 6}     ---> {5, 6}      Type is: <class 'set'>\n",
      "value is: {'A': 3, 'B': 4}     ---> {'B', 'A'}      Type is: <class 'set'>\n"
     ]
    }
   ],
   "source": [
    "def set_conv(arg):\n",
    "    try:\n",
    "        bool_val = set(arg)\n",
    "        print(f'value is: {arg}     ---> {bool_val}      Type is: {type(bool_val)}')\n",
    "    except Exception as e:\n",
    "        print(e)\n",
    "    \n",
    "all_vals = [23, 'j', 34.567, 1, 0, True, False, 4+5j, 'Suresh', [2,3], (3,4), {5,6}, {'A': 3, 'B': 4}]\n",
    "\n",
    "for i in all_vals:\n",
    "    set_conv(i)"
   ]
  },
  {
   "cell_type": "markdown",
   "id": "34c1bbaa",
   "metadata": {},
   "source": [
    "## Convert Into Dict"
   ]
  },
  {
   "cell_type": "code",
   "execution_count": 38,
   "id": "7b2e0c8e",
   "metadata": {},
   "outputs": [
    {
     "name": "stdout",
     "output_type": "stream",
     "text": [
      "'int' object is not iterable\n",
      "dictionary update sequence element #0 has length 1; 2 is required\n",
      "'float' object is not iterable\n",
      "'int' object is not iterable\n",
      "'int' object is not iterable\n",
      "'bool' object is not iterable\n",
      "'bool' object is not iterable\n",
      "'complex' object is not iterable\n",
      "dictionary update sequence element #0 has length 1; 2 is required\n",
      "cannot convert dictionary update sequence element #0 to a sequence\n",
      "cannot convert dictionary update sequence element #0 to a sequence\n",
      "cannot convert dictionary update sequence element #0 to a sequence\n",
      "value is: {'A': 3, 'B': 4}     ---> {'A': 3, 'B': 4}      Type is: <class 'dict'>\n"
     ]
    }
   ],
   "source": [
    "def dict_conv(arg):\n",
    "    try:\n",
    "        bool_val = dict(arg)\n",
    "        print(f'value is: {arg}     ---> {bool_val}      Type is: {type(bool_val)}')\n",
    "    except Exception as e:\n",
    "        print(e)\n",
    "    \n",
    "all_vals = [23, 'j', 34.567, 1, 0, True, False, 4+5j, 'Suresh', [2,3], (3,4), {5,6}, {'A': 3, 'B': 4}]\n",
    "\n",
    "for i in all_vals:\n",
    "    dict_conv(i)"
   ]
  }
 ],
 "metadata": {
  "kernelspec": {
   "display_name": "Python 3",
   "language": "python",
   "name": "python3"
  },
  "language_info": {
   "codemirror_mode": {
    "name": "ipython",
    "version": 3
   },
   "file_extension": ".py",
   "mimetype": "text/x-python",
   "name": "python",
   "nbconvert_exporter": "python",
   "pygments_lexer": "ipython3",
   "version": "3.8.3"
  }
 },
 "nbformat": 4,
 "nbformat_minor": 5
}
