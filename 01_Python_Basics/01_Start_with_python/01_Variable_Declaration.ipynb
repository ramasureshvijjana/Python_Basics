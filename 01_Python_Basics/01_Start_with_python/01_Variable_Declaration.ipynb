{
 "cells": [
  {
   "cell_type": "markdown",
   "id": "2d198c5e",
   "metadata": {},
   "source": [
    "## Variable Declaration \n",
    "\n",
    "#### Not Eligible Names:  \n",
    "> Variable names should not start with numbers.  \n",
    "> Variable names should not start and contain special characters except underscore ( _ ).  \n",
    "> Variable names should not have spaces.  \n",
    ">> Ex: 25friend, @surname, job role\n",
    "\n",
    "#### Eligible Names:  \n",
    "> Variable names can contain numbers in the middle and at the end, but it's not recommendable in industrial practice.     \n",
    "> Using capital letters in the variable name is allowed, but it's not recommendable in industrial practice.  \n",
    "> Variable names can start and contain underscore ( _ ).\n",
    ">> Ex: fri25end, Surname, _job_role\n",
    "\n",
    "#### Best Way Of  Variable Declaration:  \n",
    "> Variable name should be in lower case.  \n",
    "> Don't use any numbers.  \n",
    "> Separate the words with an underscore ( _ ) if the varible name has two words.\n",
    ">> Ex: job_role"
   ]
  },
  {
   "cell_type": "markdown",
   "id": "54a81ad4",
   "metadata": {},
   "source": [
    "### Variable Declaration"
   ]
  },
  {
   "cell_type": "code",
   "execution_count": 1,
   "id": "85ccc69a",
   "metadata": {},
   "outputs": [
    {
     "name": "stdout",
     "output_type": "stream",
     "text": [
      "Naveen\n"
     ]
    }
   ],
   "source": [
    "friend = 'Naveen'\n",
    "print(friend)"
   ]
  },
  {
   "cell_type": "markdown",
   "id": "d9b075d1",
   "metadata": {},
   "source": [
    "### Not Eligible Names"
   ]
  },
  {
   "cell_type": "code",
   "execution_count": 3,
   "id": "333c570d",
   "metadata": {},
   "outputs": [
    {
     "ename": "SyntaxError",
     "evalue": "invalid syntax (<ipython-input-3-8cfa77defc98>, line 1)",
     "output_type": "error",
     "traceback": [
      "\u001b[1;36m  File \u001b[1;32m\"<ipython-input-3-8cfa77defc98>\"\u001b[1;36m, line \u001b[1;32m1\u001b[0m\n\u001b[1;33m    25friend = 'Naveen'\u001b[0m\n\u001b[1;37m      ^\u001b[0m\n\u001b[1;31mSyntaxError\u001b[0m\u001b[1;31m:\u001b[0m invalid syntax\n"
     ]
    }
   ],
   "source": [
    "25friend = 'Naveen'\n"
   ]
  },
  {
   "cell_type": "code",
   "execution_count": 4,
   "id": "a0023424",
   "metadata": {},
   "outputs": [
    {
     "ename": "SyntaxError",
     "evalue": "invalid syntax (<ipython-input-4-f48ee6627d1a>, line 1)",
     "output_type": "error",
     "traceback": [
      "\u001b[1;36m  File \u001b[1;32m\"<ipython-input-4-f48ee6627d1a>\"\u001b[1;36m, line \u001b[1;32m1\u001b[0m\n\u001b[1;33m    @surname = 'Punnam'\u001b[0m\n\u001b[1;37m             ^\u001b[0m\n\u001b[1;31mSyntaxError\u001b[0m\u001b[1;31m:\u001b[0m invalid syntax\n"
     ]
    }
   ],
   "source": [
    "@surname = 'Punnam'"
   ]
  },
  {
   "cell_type": "code",
   "execution_count": 5,
   "id": "5902a0e7",
   "metadata": {},
   "outputs": [
    {
     "ename": "SyntaxError",
     "evalue": "invalid syntax (<ipython-input-5-574e969f66cb>, line 1)",
     "output_type": "error",
     "traceback": [
      "\u001b[1;36m  File \u001b[1;32m\"<ipython-input-5-574e969f66cb>\"\u001b[1;36m, line \u001b[1;32m1\u001b[0m\n\u001b[1;33m    job role = 'CA'\u001b[0m\n\u001b[1;37m        ^\u001b[0m\n\u001b[1;31mSyntaxError\u001b[0m\u001b[1;31m:\u001b[0m invalid syntax\n"
     ]
    }
   ],
   "source": [
    "job role = 'CA'"
   ]
  },
  {
   "cell_type": "markdown",
   "id": "601e3e5a",
   "metadata": {},
   "source": [
    "### Eligible Names"
   ]
  },
  {
   "cell_type": "code",
   "execution_count": 6,
   "id": "8c1ccc93",
   "metadata": {},
   "outputs": [
    {
     "name": "stdout",
     "output_type": "stream",
     "text": [
      "Anand\n"
     ]
    }
   ],
   "source": [
    "fri25end = 'Anand'\n",
    "print(fri25end)"
   ]
  },
  {
   "cell_type": "code",
   "execution_count": 7,
   "id": "483afdda",
   "metadata": {},
   "outputs": [
    {
     "name": "stdout",
     "output_type": "stream",
     "text": [
      "Kalavakolanu\n"
     ]
    }
   ],
   "source": [
    "Surname = 'Kalavakolanu'\n",
    "print(Surname)"
   ]
  },
  {
   "cell_type": "code",
   "execution_count": 8,
   "id": "61083d97",
   "metadata": {},
   "outputs": [
    {
     "name": "stdout",
     "output_type": "stream",
     "text": [
      "Devloper\n"
     ]
    }
   ],
   "source": [
    "_job_role = 'Devloper'\n",
    "print(_job_role)"
   ]
  },
  {
   "cell_type": "markdown",
   "id": "46ae865c",
   "metadata": {},
   "source": [
    "### Best Way Of Variable Declaration"
   ]
  },
  {
   "cell_type": "code",
   "execution_count": 9,
   "id": "d1be51eb",
   "metadata": {},
   "outputs": [
    {
     "name": "stdout",
     "output_type": "stream",
     "text": [
      "Data Scientist\n"
     ]
    }
   ],
   "source": [
    "job_role = 'Data Scientist'\n",
    "print(job_role)"
   ]
  }
 ],
 "metadata": {
  "kernelspec": {
   "display_name": "Python 3",
   "language": "python",
   "name": "python3"
  },
  "language_info": {
   "codemirror_mode": {
    "name": "ipython",
    "version": 3
   },
   "file_extension": ".py",
   "mimetype": "text/x-python",
   "name": "python",
   "nbconvert_exporter": "python",
   "pygments_lexer": "ipython3",
   "version": "3.8.3"
  }
 },
 "nbformat": 4,
 "nbformat_minor": 5
}
