{
 "cells": [
  {
   "cell_type": "markdown",
   "id": "0a63c872",
   "metadata": {},
   "source": [
    "## Print any information in console"
   ]
  },
  {
   "cell_type": "code",
   "execution_count": null,
   "id": "731722ad",
   "metadata": {},
   "outputs": [],
   "source": [
    "1. print a string\n",
    "2. Using , or +\n",
    "3. .formate(a,b)\n",
    "4. f'suresh {var_1} is a {var_2} boy'\n",
    "5. 'suresh {0} is a {1} boy'.format(a,b)\n",
    "6. end = '' parameter\n",
    "7. sep = '' parameter"
   ]
  },
  {
   "cell_type": "code",
   "execution_count": null,
   "id": "d30c57cf",
   "metadata": {},
   "outputs": [],
   "source": [
    "=> Print() is a method in python used to print any information or string in the console."
   ]
  },
  {
   "cell_type": "code",
   "execution_count": 1,
   "id": "7ae166ea",
   "metadata": {},
   "outputs": [
    {
     "name": "stdout",
     "output_type": "stream",
     "text": [
      "VJ\n"
     ]
    }
   ],
   "source": [
    "print(\"VJ\")"
   ]
  },
  {
   "cell_type": "code",
   "execution_count": 4,
   "id": "67f5c34c",
   "metadata": {},
   "outputs": [
    {
     "name": "stdout",
     "output_type": "stream",
     "text": [
      "Name : Rama Suresh\n",
      "Name : Rama Suresh\n"
     ]
    }
   ],
   "source": [
    "x, y = 'Rama', 'Suresh'\n",
    "\n",
    "# Using ,\n",
    "print('Name :', x, y)\n",
    "\n",
    "# Using +\n",
    "print('Name : '+ x +' '+ y)"
   ]
  },
  {
   "cell_type": "code",
   "execution_count": 14,
   "id": "ae3b1755",
   "metadata": {},
   "outputs": [
    {
     "name": "stdout",
     "output_type": "stream",
     "text": [
      "First name : Rama \n",
      "Last name  : Suresh\n"
     ]
    }
   ],
   "source": [
    "print('First name : {} \\nLast name  : {}'.format(x,y))"
   ]
  },
  {
   "cell_type": "code",
   "execution_count": 5,
   "id": "c371a752",
   "metadata": {},
   "outputs": [
    {
     "name": "stdout",
     "output_type": "stream",
     "text": [
      "suresh Good is a Boy boy\n"
     ]
    }
   ],
   "source": [
    "a, b = 'Good', 'Boy'\n",
    "print(f'suresh {a} is a {b} boy')"
   ]
  },
  {
   "cell_type": "code",
   "execution_count": 7,
   "id": "381798de",
   "metadata": {},
   "outputs": [
    {
     "name": "stdout",
     "output_type": "stream",
     "text": [
      "suresh Good is a Boy boy\n"
     ]
    }
   ],
   "source": [
    "print('suresh {0} is a {1} boy'.format(a,b))"
   ]
  },
  {
   "cell_type": "code",
   "execution_count": 8,
   "id": "10ab6ce1",
   "metadata": {},
   "outputs": [
    {
     "name": "stdout",
     "output_type": "stream",
     "text": [
      "Enter your name : Rama Suresh\n",
      "Rama Suresh\n"
     ]
    }
   ],
   "source": [
    "print(input('Enter your name : '))"
   ]
  },
  {
   "cell_type": "code",
   "execution_count": 11,
   "id": "350dd118",
   "metadata": {},
   "outputs": [
    {
     "name": "stdout",
     "output_type": "stream",
     "text": [
      "rama suresg\n"
     ]
    }
   ],
   "source": [
    "print('rama suresg', sep='**')"
   ]
  },
  {
   "cell_type": "markdown",
   "id": "12bd9b8f",
   "metadata": {},
   "source": [
    "### 6. end parameter"
   ]
  },
  {
   "cell_type": "code",
   "execution_count": 13,
   "id": "bf414919",
   "metadata": {},
   "outputs": [
    {
     "name": "stdout",
     "output_type": "stream",
     "text": [
      "Rama@Suresh\n"
     ]
    }
   ],
   "source": [
    "print('Rama', end='@')\n",
    "print('Suresh')"
   ]
  },
  {
   "cell_type": "markdown",
   "id": "6dd0b166",
   "metadata": {},
   "source": [
    "### 7. sep = '' parameter"
   ]
  },
  {
   "cell_type": "code",
   "execution_count": 15,
   "id": "4d43ee03",
   "metadata": {},
   "outputs": [
    {
     "name": "stdout",
     "output_type": "stream",
     "text": [
      "26/05/1997\n"
     ]
    }
   ],
   "source": [
    "print('26','05','1997', sep = '/')"
   ]
  }
 ],
 "metadata": {
  "kernelspec": {
   "display_name": "Python 3",
   "language": "python",
   "name": "python3"
  },
  "language_info": {
   "codemirror_mode": {
    "name": "ipython",
    "version": 3
   },
   "file_extension": ".py",
   "mimetype": "text/x-python",
   "name": "python",
   "nbconvert_exporter": "python",
   "pygments_lexer": "ipython3",
   "version": "3.8.3"
  }
 },
 "nbformat": 4,
 "nbformat_minor": 5
}
