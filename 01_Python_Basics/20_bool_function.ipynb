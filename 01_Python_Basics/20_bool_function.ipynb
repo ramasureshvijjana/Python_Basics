{
 "cells": [
  {
   "cell_type": "markdown",
   "id": "6c543edc",
   "metadata": {},
   "source": [
    "# bool() Function"
   ]
  },
  {
   "cell_type": "code",
   "execution_count": null,
   "id": "7d680a18",
   "metadata": {},
   "outputs": [],
   "source": [
    "=> Checking bool() function at every empty value."
   ]
  },
  {
   "cell_type": "code",
   "execution_count": 6,
   "id": "e0549348",
   "metadata": {},
   "outputs": [
    {
     "name": "stdout",
     "output_type": "stream",
     "text": [
      "0 ----------> False\n",
      "0.0 ----------> False\n",
      " ----------> False\n",
      "None ----------> False\n",
      "False ----------> False\n",
      "0j ----------> False\n",
      "[] ----------> False\n",
      "() ----------> False\n",
      "0 ----------> False\n",
      "{} ----------> False\n",
      "{0} ----------> True\n",
      "{0: 0} ----------> True\n",
      "[0] ----------> True\n",
      "(0,) ----------> True\n"
     ]
    }
   ],
   "source": [
    "all_vals = [0, 0.0, '', None, False, 0+0j, [], (), (0), {}, {0}, {0:0}, [0], (0,)]\n",
    "\n",
    "for i in all_vals:\n",
    "    print(f'{i} ----------> {bool(i)}')"
   ]
  }
 ],
 "metadata": {
  "kernelspec": {
   "display_name": "Python 3",
   "language": "python",
   "name": "python3"
  },
  "language_info": {
   "codemirror_mode": {
    "name": "ipython",
    "version": 3
   },
   "file_extension": ".py",
   "mimetype": "text/x-python",
   "name": "python",
   "nbconvert_exporter": "python",
   "pygments_lexer": "ipython3",
   "version": "3.8.3"
  }
 },
 "nbformat": 4,
 "nbformat_minor": 5
}
