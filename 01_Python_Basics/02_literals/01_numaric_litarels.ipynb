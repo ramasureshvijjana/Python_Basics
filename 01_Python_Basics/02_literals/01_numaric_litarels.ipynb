{
 "cells": [
  {
   "cell_type": "markdown",
   "id": "62bd2d46",
   "metadata": {},
   "source": [
    "### Numeric literals"
   ]
  },
  {
   "cell_type": "code",
   "execution_count": null,
   "id": "c16beaa0",
   "metadata": {},
   "outputs": [],
   "source": [
    "=> First 4 numbers should define as like as below syntax only."
   ]
  },
  {
   "cell_type": "code",
   "execution_count": 7,
   "id": "fd407e09",
   "metadata": {},
   "outputs": [
    {
     "name": "stdout",
     "output_type": "stream",
     "text": [
      "4 100 141 301\n",
      "100.5 150.0\n",
      "(5+3.14j) 3.14 5.0\n"
     ]
    }
   ],
   "source": [
    "x = 0b0100 #Binary Literals  \n",
    "y = 100 #Decimal Literal   \n",
    "z = 0o215 #Octal Literal  \n",
    "u = 0x12d #Hexadecimal Literal  \n",
    "  \n",
    "#Float Literal  \n",
    "float_1 = 100.5   \n",
    "float_2 = 1.5e2  \n",
    "  \n",
    "#Complex Literal   \n",
    "a = 5+3.14j  \n",
    "  \n",
    "print(x, y, z, u)  \n",
    "print(float_1, float_2)  \n",
    "\n",
    "print(a, a.imag, a.real)  "
   ]
  }
 ],
 "metadata": {
  "kernelspec": {
   "display_name": "Python 3",
   "language": "python",
   "name": "python3"
  },
  "language_info": {
   "codemirror_mode": {
    "name": "ipython",
    "version": 3
   },
   "file_extension": ".py",
   "mimetype": "text/x-python",
   "name": "python",
   "nbconvert_exporter": "python",
   "pygments_lexer": "ipython3",
   "version": "3.8.3"
  }
 },
 "nbformat": 4,
 "nbformat_minor": 5
}
