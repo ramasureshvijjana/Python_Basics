{
 "cells": [
  {
   "cell_type": "code",
   "execution_count": 2,
   "id": "4a10f676-9356-4559-a265-e187a5a239d3",
   "metadata": {},
   "outputs": [
    {
     "ename": "SyntaxError",
     "evalue": "'break' outside loop (2419920375.py, line 4)",
     "output_type": "error",
     "traceback": [
      "\u001b[1;36m  Cell \u001b[1;32mIn[2], line 4\u001b[1;36m\u001b[0m\n\u001b[1;33m    break\u001b[0m\n\u001b[1;37m    ^\u001b[0m\n\u001b[1;31mSyntaxError\u001b[0m\u001b[1;31m:\u001b[0m 'break' outside loop\n"
     ]
    }
   ],
   "source": [
    "def check_string(text):\n",
    "    print(f\"The string is: {text}\")\n",
    "    if not text.is_numaric():\n",
    "        continue\n",
    "    print(f\"The string {text} is not numaric.\")\n",
    "\n",
    "check_string(input(\"Enter String\"))"
   ]
  },
  {
   "cell_type": "code",
   "execution_count": null,
   "id": "1d6dcd87-4f4b-4394-8238-2e022fbb2e01",
   "metadata": {},
   "outputs": [],
   "source": []
  }
 ],
 "metadata": {
  "kernelspec": {
   "display_name": "Python 3 (ipykernel)",
   "language": "python",
   "name": "python3"
  },
  "language_info": {
   "codemirror_mode": {
    "name": "ipython",
    "version": 3
   },
   "file_extension": ".py",
   "mimetype": "text/x-python",
   "name": "python",
   "nbconvert_exporter": "python",
   "pygments_lexer": "ipython3",
   "version": "3.11.7"
  }
 },
 "nbformat": 4,
 "nbformat_minor": 5
}
