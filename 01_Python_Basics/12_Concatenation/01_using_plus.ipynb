{
 "cells": [
  {
   "cell_type": "markdown",
   "id": "f43ed818",
   "metadata": {},
   "source": [
    "# Perform the concatenate using +"
   ]
  },
  {
   "cell_type": "code",
   "execution_count": null,
   "id": "61e9737a",
   "metadata": {},
   "outputs": [],
   "source": [
    "1. Itselfe concatenation using +\n",
    "2. concatenate with other iterables using +"
   ]
  },
  {
   "cell_type": "code",
   "execution_count": 12,
   "id": "8cc6cd7b",
   "metadata": {},
   "outputs": [],
   "source": [
    "def vals():\n",
    "    \n",
    "    str_var = 'Rama Suresh Vijjana'\n",
    "    \n",
    "    list_var = [1, 54, 8, 23, 4, 6, 9]\n",
    "    \n",
    "    tuple_var = (1, 54, 8, 23, 4, 6, 9)\n",
    "    \n",
    "    set_var = {1, 54, 8, 23, 4, 6, 9}\n",
    "    \n",
    "    dict_var = {1: 4, 54: 5, 8: 7, 23: 4, 4: 33, 6: 45}\n",
    "    \n",
    "    all_vars = [str_var, list_var, tuple_var, set_var, dict_var]\n",
    "    return all_vars"
   ]
  },
  {
   "cell_type": "markdown",
   "id": "4490b80e",
   "metadata": {},
   "source": [
    "## 1. Itselfe concatenation using +"
   ]
  },
  {
   "cell_type": "code",
   "execution_count": 13,
   "id": "9f3df6a7",
   "metadata": {},
   "outputs": [],
   "source": [
    "def itselfe_cnct(arg):\n",
    "    typ = type(arg)\n",
    "    try:\n",
    "        cnct_val = arg + arg\n",
    "        print(f'Type: {typ} \\n{cnct_val}')\n",
    "    except Exception as e:\n",
    "        print(f'{typ} to {typ} concatenation not possible using + \\n {e}')\n",
    "    finally:\n",
    "        print('==========================================')"
   ]
  },
  {
   "cell_type": "code",
   "execution_count": 14,
   "id": "fe3315bb",
   "metadata": {},
   "outputs": [
    {
     "name": "stdout",
     "output_type": "stream",
     "text": [
      "Type: <class 'str'> \n",
      "Rama Suresh VijjanaRama Suresh Vijjana\n",
      "==========================================\n",
      "Type: <class 'list'> \n",
      "[1, 54, 8, 23, 4, 6, 9, 1, 54, 8, 23, 4, 6, 9]\n",
      "==========================================\n",
      "Type: <class 'tuple'> \n",
      "(1, 54, 8, 23, 4, 6, 9, 1, 54, 8, 23, 4, 6, 9)\n",
      "==========================================\n",
      "<class 'set'> to <class 'set'> concatenation not possible using + \n",
      " unsupported operand type(s) for +: 'set' and 'set'\n",
      "==========================================\n",
      "<class 'dict'> to <class 'dict'> concatenation not possible using + \n",
      " unsupported operand type(s) for +: 'dict' and 'dict'\n",
      "==========================================\n"
     ]
    }
   ],
   "source": [
    "all_vals = vals()\n",
    "for i in all_vals:\n",
    "    itselfe_cnct(i)"
   ]
  },
  {
   "cell_type": "markdown",
   "id": "84c65c32",
   "metadata": {},
   "source": [
    "## 2. concatenate with other iterables using +"
   ]
  },
  {
   "cell_type": "code",
   "execution_count": 21,
   "id": "16aa1eae",
   "metadata": {},
   "outputs": [],
   "source": [
    "def cnct_with_others(arg1, arg2):\n",
    "    typ1, typ2 = type(arg1), type(arg2)\n",
    "    try:\n",
    "        cnct_val = arg1 + arg2\n",
    "        print(f'Type: {typ1} and {typ2} \\n{cnct_val}')\n",
    "    except Exception as e:\n",
    "        print(f'{typ1} to {typ2} concatenation not possible using + \\n {e}')\n",
    "    finally:\n",
    "        print('==============================================')"
   ]
  },
  {
   "cell_type": "code",
   "execution_count": 22,
   "id": "2ee0e6ae",
   "metadata": {},
   "outputs": [
    {
     "name": "stdout",
     "output_type": "stream",
     "text": [
      "Type: <class 'str'> and <class 'str'> \n",
      "Rama Suresh VijjanaRama Suresh Vijjana\n",
      "==============================================\n",
      "<class 'str'> to <class 'list'> concatenation not possible using + \n",
      " can only concatenate str (not \"list\") to str\n",
      "==============================================\n",
      "<class 'str'> to <class 'tuple'> concatenation not possible using + \n",
      " can only concatenate str (not \"tuple\") to str\n",
      "==============================================\n",
      "<class 'str'> to <class 'set'> concatenation not possible using + \n",
      " can only concatenate str (not \"set\") to str\n",
      "==============================================\n",
      "<class 'str'> to <class 'dict'> concatenation not possible using + \n",
      " can only concatenate str (not \"dict\") to str\n",
      "==============================================\n",
      "=================================================\n",
      "\n",
      "\n",
      "\n",
      "<class 'list'> to <class 'str'> concatenation not possible using + \n",
      " can only concatenate list (not \"str\") to list\n",
      "==============================================\n",
      "Type: <class 'list'> and <class 'list'> \n",
      "[1, 54, 8, 23, 4, 6, 9, 1, 54, 8, 23, 4, 6, 9]\n",
      "==============================================\n",
      "<class 'list'> to <class 'tuple'> concatenation not possible using + \n",
      " can only concatenate list (not \"tuple\") to list\n",
      "==============================================\n",
      "<class 'list'> to <class 'set'> concatenation not possible using + \n",
      " can only concatenate list (not \"set\") to list\n",
      "==============================================\n",
      "<class 'list'> to <class 'dict'> concatenation not possible using + \n",
      " can only concatenate list (not \"dict\") to list\n",
      "==============================================\n",
      "=================================================\n",
      "\n",
      "\n",
      "\n",
      "<class 'tuple'> to <class 'str'> concatenation not possible using + \n",
      " can only concatenate tuple (not \"str\") to tuple\n",
      "==============================================\n",
      "<class 'tuple'> to <class 'list'> concatenation not possible using + \n",
      " can only concatenate tuple (not \"list\") to tuple\n",
      "==============================================\n",
      "Type: <class 'tuple'> and <class 'tuple'> \n",
      "(1, 54, 8, 23, 4, 6, 9, 1, 54, 8, 23, 4, 6, 9)\n",
      "==============================================\n",
      "<class 'tuple'> to <class 'set'> concatenation not possible using + \n",
      " can only concatenate tuple (not \"set\") to tuple\n",
      "==============================================\n",
      "<class 'tuple'> to <class 'dict'> concatenation not possible using + \n",
      " can only concatenate tuple (not \"dict\") to tuple\n",
      "==============================================\n",
      "=================================================\n",
      "\n",
      "\n",
      "\n",
      "<class 'set'> to <class 'str'> concatenation not possible using + \n",
      " unsupported operand type(s) for +: 'set' and 'str'\n",
      "==============================================\n",
      "<class 'set'> to <class 'list'> concatenation not possible using + \n",
      " unsupported operand type(s) for +: 'set' and 'list'\n",
      "==============================================\n",
      "<class 'set'> to <class 'tuple'> concatenation not possible using + \n",
      " unsupported operand type(s) for +: 'set' and 'tuple'\n",
      "==============================================\n",
      "<class 'set'> to <class 'set'> concatenation not possible using + \n",
      " unsupported operand type(s) for +: 'set' and 'set'\n",
      "==============================================\n",
      "<class 'set'> to <class 'dict'> concatenation not possible using + \n",
      " unsupported operand type(s) for +: 'set' and 'dict'\n",
      "==============================================\n",
      "=================================================\n",
      "\n",
      "\n",
      "\n",
      "<class 'dict'> to <class 'str'> concatenation not possible using + \n",
      " unsupported operand type(s) for +: 'dict' and 'str'\n",
      "==============================================\n",
      "<class 'dict'> to <class 'list'> concatenation not possible using + \n",
      " unsupported operand type(s) for +: 'dict' and 'list'\n",
      "==============================================\n",
      "<class 'dict'> to <class 'tuple'> concatenation not possible using + \n",
      " unsupported operand type(s) for +: 'dict' and 'tuple'\n",
      "==============================================\n",
      "<class 'dict'> to <class 'set'> concatenation not possible using + \n",
      " unsupported operand type(s) for +: 'dict' and 'set'\n",
      "==============================================\n",
      "<class 'dict'> to <class 'dict'> concatenation not possible using + \n",
      " unsupported operand type(s) for +: 'dict' and 'dict'\n",
      "==============================================\n",
      "=================================================\n",
      "\n",
      "\n",
      "\n"
     ]
    }
   ],
   "source": [
    "for i in all_vals:\n",
    "    for j in all_vals:\n",
    "        cnct_with_others(i, j)\n",
    "    print('=================================================\\n\\n\\n')"
   ]
  }
 ],
 "metadata": {
  "kernelspec": {
   "display_name": "Python 3",
   "language": "python",
   "name": "python3"
  },
  "language_info": {
   "codemirror_mode": {
    "name": "ipython",
    "version": 3
   },
   "file_extension": ".py",
   "mimetype": "text/x-python",
   "name": "python",
   "nbconvert_exporter": "python",
   "pygments_lexer": "ipython3",
   "version": "3.8.3"
  }
 },
 "nbformat": 4,
 "nbformat_minor": 5
}
