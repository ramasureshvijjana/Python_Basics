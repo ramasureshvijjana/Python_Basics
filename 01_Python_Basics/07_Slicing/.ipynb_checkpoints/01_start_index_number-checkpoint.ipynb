{
 "cells": [
  {
   "cell_type": "code",
   "execution_count": 7,
   "id": "2e1a92d0",
   "metadata": {},
   "outputs": [
    {
     "name": "stdout",
     "output_type": "stream",
     "text": [
      "[2, 65, 5, 78]\n"
     ]
    }
   ],
   "source": [
    "list_var = [2, 65, 5, 78, 78] \n",
    "print(list_var[0:-1])"
   ]
  },
  {
   "cell_type": "code",
   "execution_count": 6,
   "id": "ac7ca3d0",
   "metadata": {},
   "outputs": [
    {
     "name": "stdout",
     "output_type": "stream",
     "text": [
      "(2, 65, 5, 78)\n"
     ]
    }
   ],
   "source": [
    "tuple_var = (2, 65, 5, 78, 78)\n",
    "print(tuple_var[0:-1])"
   ]
  },
  {
   "cell_type": "code",
   "execution_count": null,
   "id": "8f2c47f6",
   "metadata": {},
   "outputs": [],
   "source": []
  }
 ],
 "metadata": {
  "kernelspec": {
   "display_name": "Python 3",
   "language": "python",
   "name": "python3"
  },
  "language_info": {
   "codemirror_mode": {
    "name": "ipython",
    "version": 3
   },
   "file_extension": ".py",
   "mimetype": "text/x-python",
   "name": "python",
   "nbconvert_exporter": "python",
   "pygments_lexer": "ipython3",
   "version": "3.8.3"
  }
 },
 "nbformat": 4,
 "nbformat_minor": 5
}
