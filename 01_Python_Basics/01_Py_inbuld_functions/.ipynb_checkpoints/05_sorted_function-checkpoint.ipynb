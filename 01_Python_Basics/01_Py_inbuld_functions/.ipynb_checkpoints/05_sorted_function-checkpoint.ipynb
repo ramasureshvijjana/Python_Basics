{
 "cells": [
  {
   "cell_type": "markdown",
   "id": "bd9a05db",
   "metadata": {},
   "source": [
    "# sorted() Function"
   ]
  },
  {
   "cell_type": "code",
   "execution_count": null,
   "id": "26927371",
   "metadata": {},
   "outputs": [],
   "source": [
    "1. This function worked for all iterable data type.\n",
    "2. The return type is list.\n",
    "3. It will return everything in the form of a list after sorting.\n",
    "4. It sort only keys in dict.\n"
   ]
  },
  {
   "cell_type": "code",
   "execution_count": 2,
   "id": "140e48e5",
   "metadata": {},
   "outputs": [],
   "source": [
    "str_var_1 = 'Rama Suresh Vijjana'\n",
    "str_var_2 = '8309995547242412444'\n",
    "\n",
    "list_var_1 = [1, 54, 8, 23, 4, 6, 9]\n",
    "list_var_2 = ['Rama', 'Suresh', 'Eswar', 'Anand', 'Naveen']\n",
    "\n",
    "tuple_var_1 = (1, 54, 8, 23, 4, 6, 9)\n",
    "tuple_var_2 = ('Rama', 'Suresh', 'Eswar', 'Anand', 'Naveen')\n",
    "\n",
    "set_var_1 = {1, 54, 8, 23, 4, 6, 9}\n",
    "set_var_2 = {'Rama', 'Suresh', 'Eswar', 'Anand', 'Naveen'}\n",
    "\n",
    "dict_var_1 = {1: 4, 54: 5, 8: 7, 23: 4, 4: 33, 6: 45}\n",
    "dict_var_2 = {'Rama': 24, 'Suresh': 23, 'Eswar': 25, 'Anand': 20, 'Naveen': 24}\n",
    "\n",
    "all_vars = [str_var_1, str_var_2, list_var_1, list_var_2, tuple_var_1, tuple_var_2, \\\n",
    "            set_var_1, set_var_2, dict_var_1, dict_var_2]"
   ]
  },
  {
   "cell_type": "code",
   "execution_count": 3,
   "id": "33c22d86",
   "metadata": {},
   "outputs": [],
   "source": [
    "def sorting(arg):\n",
    "    try:\n",
    "        \n",
    "        ascending, descending = sorted(arg), sorted(arg, reverse = True)\n",
    "        print(f'Ascending:  {ascending} \\nDescending: {descending}')\n",
    "        \n",
    "    except Exception as e:\n",
    "        \n",
    "        print(e)\n",
    "        \n",
    "    finally:\n",
    "        \n",
    "        print('=========================================================')"
   ]
  },
  {
   "cell_type": "code",
   "execution_count": 4,
   "id": "4f9e03c3",
   "metadata": {},
   "outputs": [
    {
     "name": "stdout",
     "output_type": "stream",
     "text": [
      "Ascending:  [' ', ' ', 'R', 'S', 'V', 'a', 'a', 'a', 'a', 'e', 'h', 'i', 'j', 'j', 'm', 'n', 'r', 's', 'u'] \n",
      "Descending: ['u', 's', 'r', 'n', 'm', 'j', 'j', 'i', 'h', 'e', 'a', 'a', 'a', 'a', 'V', 'S', 'R', ' ', ' ']\n",
      "=========================================================\n",
      "Ascending:  ['0', '1', '2', '2', '2', '3', '4', '4', '4', '4', '4', '4', '5', '5', '7', '8', '9', '9', '9'] \n",
      "Descending: ['9', '9', '9', '8', '7', '5', '5', '4', '4', '4', '4', '4', '4', '3', '2', '2', '2', '1', '0']\n",
      "=========================================================\n",
      "Ascending:  [1, 4, 6, 8, 9, 23, 54] \n",
      "Descending: [54, 23, 9, 8, 6, 4, 1]\n",
      "=========================================================\n",
      "Ascending:  ['Anand', 'Eswar', 'Naveen', 'Rama', 'Suresh'] \n",
      "Descending: ['Suresh', 'Rama', 'Naveen', 'Eswar', 'Anand']\n",
      "=========================================================\n",
      "Ascending:  [1, 4, 6, 8, 9, 23, 54] \n",
      "Descending: [54, 23, 9, 8, 6, 4, 1]\n",
      "=========================================================\n",
      "Ascending:  ['Anand', 'Eswar', 'Naveen', 'Rama', 'Suresh'] \n",
      "Descending: ['Suresh', 'Rama', 'Naveen', 'Eswar', 'Anand']\n",
      "=========================================================\n",
      "Ascending:  [1, 4, 6, 8, 9, 23, 54] \n",
      "Descending: [54, 23, 9, 8, 6, 4, 1]\n",
      "=========================================================\n",
      "Ascending:  ['Anand', 'Eswar', 'Naveen', 'Rama', 'Suresh'] \n",
      "Descending: ['Suresh', 'Rama', 'Naveen', 'Eswar', 'Anand']\n",
      "=========================================================\n",
      "Ascending:  [1, 4, 6, 8, 23, 54] \n",
      "Descending: [54, 23, 8, 6, 4, 1]\n",
      "=========================================================\n",
      "Ascending:  ['Anand', 'Eswar', 'Naveen', 'Rama', 'Suresh'] \n",
      "Descending: ['Suresh', 'Rama', 'Naveen', 'Eswar', 'Anand']\n",
      "=========================================================\n"
     ]
    }
   ],
   "source": [
    "for i in all_vars:\n",
    "    sorting(i)"
   ]
  },
  {
   "cell_type": "markdown",
   "id": "8b8ca807",
   "metadata": {},
   "source": [
    "### Now the task is, We need to convert the returned list into that respective data type."
   ]
  },
  {
   "cell_type": "code",
   "execution_count": 7,
   "id": "f0f5f68d",
   "metadata": {},
   "outputs": [],
   "source": [
    "def sorting(arg):\n",
    "    try:\n",
    "        arg_type = type(arg)\n",
    "        ascending, descending = sorted(arg), sorted(arg, reverse = True)\n",
    "        \n",
    "        if arg_type == str:\n",
    "            \n",
    "            #\n",
    "            ascending, descending = ''.join(ascending), ''.join(descending)\n",
    "            \n",
    "        elif arg_type == dict:\n",
    "            \n",
    "            x, y = {}, {}\n",
    "            for (i,j) in zip(ascending, descending):\n",
    "                x[i], y[j] = arg.get(i), arg.get(j)\n",
    "            ascending, descending = x, y\n",
    "    except Exception as e:\n",
    "        \n",
    "        print(e)\n",
    "        \n",
    "    finally:\n",
    "        print(f'Type: {arg_type}\\nAscending:  {ascending} \\nDescending: {descending}')\n",
    "        print('=========================================================')"
   ]
  },
  {
   "cell_type": "code",
   "execution_count": 8,
   "id": "9983ccd1",
   "metadata": {},
   "outputs": [
    {
     "name": "stdout",
     "output_type": "stream",
     "text": [
      "Type: <class 'str'>\n",
      "Ascending:    RSVaaaaehijjmnrsu \n",
      "Descending: usrnmjjiheaaaaVSR  \n",
      "=========================================================\n",
      "Type: <class 'str'>\n",
      "Ascending:  0122234444445578999 \n",
      "Descending: 9998755444444322210\n",
      "=========================================================\n",
      "Type: <class 'list'>\n",
      "Ascending:  [1, 4, 6, 8, 9, 23, 54] \n",
      "Descending: [54, 23, 9, 8, 6, 4, 1]\n",
      "=========================================================\n",
      "Type: <class 'list'>\n",
      "Ascending:  ['Anand', 'Eswar', 'Naveen', 'Rama', 'Suresh'] \n",
      "Descending: ['Suresh', 'Rama', 'Naveen', 'Eswar', 'Anand']\n",
      "=========================================================\n",
      "Type: <class 'tuple'>\n",
      "Ascending:  [1, 4, 6, 8, 9, 23, 54] \n",
      "Descending: [54, 23, 9, 8, 6, 4, 1]\n",
      "=========================================================\n",
      "Type: <class 'tuple'>\n",
      "Ascending:  ['Anand', 'Eswar', 'Naveen', 'Rama', 'Suresh'] \n",
      "Descending: ['Suresh', 'Rama', 'Naveen', 'Eswar', 'Anand']\n",
      "=========================================================\n",
      "Type: <class 'set'>\n",
      "Ascending:  [1, 4, 6, 8, 9, 23, 54] \n",
      "Descending: [54, 23, 9, 8, 6, 4, 1]\n",
      "=========================================================\n",
      "Type: <class 'set'>\n",
      "Ascending:  ['Anand', 'Eswar', 'Naveen', 'Rama', 'Suresh'] \n",
      "Descending: ['Suresh', 'Rama', 'Naveen', 'Eswar', 'Anand']\n",
      "=========================================================\n",
      "Type: <class 'dict'>\n",
      "Ascending:  {1: 4, 4: 33, 6: 45, 8: 7, 23: 4, 54: 5} \n",
      "Descending: {54: 5, 23: 4, 8: 7, 6: 45, 4: 33, 1: 4}\n",
      "=========================================================\n",
      "Type: <class 'dict'>\n",
      "Ascending:  {'Anand': 20, 'Eswar': 25, 'Naveen': 24, 'Rama': 24, 'Suresh': 23} \n",
      "Descending: {'Suresh': 23, 'Rama': 24, 'Naveen': 24, 'Eswar': 25, 'Anand': 20}\n",
      "=========================================================\n"
     ]
    }
   ],
   "source": [
    "for i in all_vars:\n",
    "    sorting(i)"
   ]
  }
 ],
 "metadata": {
  "kernelspec": {
   "display_name": "Python 3",
   "language": "python",
   "name": "python3"
  },
  "language_info": {
   "codemirror_mode": {
    "name": "ipython",
    "version": 3
   },
   "file_extension": ".py",
   "mimetype": "text/x-python",
   "name": "python",
   "nbconvert_exporter": "python",
   "pygments_lexer": "ipython3",
   "version": "3.8.3"
  }
 },
 "nbformat": 4,
 "nbformat_minor": 5
}
