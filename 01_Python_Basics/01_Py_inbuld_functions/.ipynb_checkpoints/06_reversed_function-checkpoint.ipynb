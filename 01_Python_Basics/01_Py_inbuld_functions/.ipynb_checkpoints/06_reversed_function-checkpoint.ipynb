{
 "cells": [
  {
   "cell_type": "markdown",
   "id": "c06bda9b",
   "metadata": {},
   "source": [
    "Refer below link:  \n",
    "\n",
    "    link: http://localhost:8888/notebooks/01_Python_Basics/11_sort_and_reverse/02_reverse.ipynb\n",
    "    "
   ]
  },
  {
   "cell_type": "code",
   "execution_count": null,
   "id": "93876384",
   "metadata": {},
   "outputs": [],
   "source": [
    "Go down and learn this topic : 2. Using reversed()"
   ]
  }
 ],
 "metadata": {
  "kernelspec": {
   "display_name": "Python 3",
   "language": "python",
   "name": "python3"
  },
  "language_info": {
   "codemirror_mode": {
    "name": "ipython",
    "version": 3
   },
   "file_extension": ".py",
   "mimetype": "text/x-python",
   "name": "python",
   "nbconvert_exporter": "python",
   "pygments_lexer": "ipython3",
   "version": "3.8.3"
  }
 },
 "nbformat": 4,
 "nbformat_minor": 5
}
