{
 "cells": [
  {
   "cell_type": "markdown",
   "id": "eac52e26",
   "metadata": {},
   "source": [
    "# sum() Function"
   ]
  },
  {
   "cell_type": "code",
   "execution_count": 6,
   "id": "1a4a4332",
   "metadata": {},
   "outputs": [],
   "source": [
    "def sum_vals(arg):\n",
    "    try:\n",
    "        print(sum(arg))\n",
    "    except Exception as e:\n",
    "        print(e)"
   ]
  },
  {
   "cell_type": "code",
   "execution_count": 7,
   "id": "dc199b18",
   "metadata": {},
   "outputs": [],
   "source": [
    "list_v1 = [1, 2, 3, 4, 5, 6]\n",
    "list_v2 = [1, 'rama', 3, 4, 5, 6]\n",
    "string = 'Suresh VJ'\n",
    "tuple_v1 = (1, 2, 3, 4, 5, 6)\n",
    "tuple_v2 = (1, 'rama', 3, 4, 5, 6)\n",
    "set_v1 = {1, 2, 3, 4, 5, 6}\n",
    "set_v2 = {1, 'rama', 3, 4, 5, 6}\n",
    "dict_v1 = {1: 2, 2: 5}\n",
    "dict_v2 = {1: 5667, 2: 'rama'}\n",
    "\n",
    "all_vals = [list_v1, list_v2, string, tuple_v1, tuple_v2, set_v1, set_v2, dict_v1, dict_v2]\n"
   ]
  },
  {
   "cell_type": "code",
   "execution_count": 8,
   "id": "5c730418",
   "metadata": {},
   "outputs": [
    {
     "name": "stdout",
     "output_type": "stream",
     "text": [
      "21\n",
      "unsupported operand type(s) for +: 'int' and 'str'\n",
      "unsupported operand type(s) for +: 'int' and 'str'\n",
      "21\n",
      "unsupported operand type(s) for +: 'int' and 'str'\n",
      "21\n",
      "unsupported operand type(s) for +: 'int' and 'str'\n",
      "3\n",
      "3\n"
     ]
    }
   ],
   "source": [
    "for arg in all_vals:\n",
    "    sum_vals(arg)"
   ]
  },
  {
   "cell_type": "code",
   "execution_count": 10,
   "id": "39f28787",
   "metadata": {},
   "outputs": [
    {
     "name": "stdout",
     "output_type": "stream",
     "text": [
      "11000012800159\n"
     ]
    }
   ],
   "source": [
    "print(sum([3176365435415, 7823647364744]))"
   ]
  },
  {
   "cell_type": "code",
   "execution_count": 11,
   "id": "e26931aa",
   "metadata": {},
   "outputs": [
    {
     "ename": "TypeError",
     "evalue": "'int' object is not iterable",
     "output_type": "error",
     "traceback": [
      "\u001b[1;31m---------------------------------------------------------------------------\u001b[0m",
      "\u001b[1;31mTypeError\u001b[0m                                 Traceback (most recent call last)",
      "\u001b[1;32m<ipython-input-11-08a058c2a622>\u001b[0m in \u001b[0;36m<module>\u001b[1;34m\u001b[0m\n\u001b[1;32m----> 1\u001b[1;33m \u001b[0msum\u001b[0m\u001b[1;33m(\u001b[0m\u001b[1;36m5\u001b[0m\u001b[1;33m,\u001b[0m\u001b[1;36m6\u001b[0m\u001b[1;33m)\u001b[0m\u001b[1;33m\u001b[0m\u001b[1;33m\u001b[0m\u001b[0m\n\u001b[0m",
      "\u001b[1;31mTypeError\u001b[0m: 'int' object is not iterable"
     ]
    }
   ],
   "source": [
    "sum(5,6)"
   ]
  }
 ],
 "metadata": {
  "kernelspec": {
   "display_name": "Python 3",
   "language": "python",
   "name": "python3"
  },
  "language_info": {
   "codemirror_mode": {
    "name": "ipython",
    "version": 3
   },
   "file_extension": ".py",
   "mimetype": "text/x-python",
   "name": "python",
   "nbconvert_exporter": "python",
   "pygments_lexer": "ipython3",
   "version": "3.8.3"
  }
 },
 "nbformat": 4,
 "nbformat_minor": 5
}
