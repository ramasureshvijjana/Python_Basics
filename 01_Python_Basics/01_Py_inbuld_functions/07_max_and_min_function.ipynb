{
 "cells": [
  {
   "cell_type": "markdown",
   "id": "24d6ce94",
   "metadata": {},
   "source": [
    "# max() and min() functions"
   ]
  },
  {
   "cell_type": "code",
   "execution_count": null,
   "id": "14160038",
   "metadata": {},
   "outputs": [],
   "source": [
    "1. max()\n",
    "2. min()"
   ]
  },
  {
   "cell_type": "markdown",
   "id": "80029e57",
   "metadata": {},
   "source": [
    "## 1. max()"
   ]
  },
  {
   "cell_type": "code",
   "execution_count": 6,
   "id": "0c6c1831",
   "metadata": {},
   "outputs": [],
   "source": [
    "str_var_1 = 'Rama Suresh Vijjana'\n",
    "str_var_2 = '8309995547242412444'\n",
    "\n",
    "list_var_1 = [1, 54, 8, 23, 4, 6, 9]\n",
    "list_var_2 = ['Rama', 'Suresh', 'Eswar', 'Anand', 'Naveen']\n",
    "\n",
    "tuple_var_1 = (1, 54, 8, 23, 4, 78, 9)\n",
    "tuple_var_2 = ('Rama', 'Suresh', 'Eswar', 'Anand', 'Naveen')\n",
    "\n",
    "set_var_1 = {1, 54, 76546364, 23, 4, 6, 9}\n",
    "set_var_2 = {'Rama', 'Suresh', 'Eswar', 'Anand', 'Naveen'}\n",
    "\n",
    "dict_var_1 = {1: 4, 54: 5, 8: 7, 23: 4, 4: 33, 6: 45}\n",
    "dict_var_2 = {'Rama': 24, 'Suresh': 23, 'Eswar': 25, 'Anand': 20, 'Naveen': 24}\n",
    "\n",
    "all_vars = [str_var_1, str_var_2, list_var_1, list_var_2, tuple_var_1, tuple_var_2, \\\n",
    "            set_var_1, set_var_2, dict_var_1, dict_var_2]"
   ]
  },
  {
   "cell_type": "code",
   "execution_count": 7,
   "id": "e7e0b9f2",
   "metadata": {},
   "outputs": [
    {
     "name": "stdout",
     "output_type": "stream",
     "text": [
      "Type: <class 'str'> \n",
      "u\n",
      "=====================\n",
      "Type: <class 'str'> \n",
      "9\n",
      "=====================\n",
      "Type: <class 'list'> \n",
      "54\n",
      "=====================\n",
      "Type: <class 'list'> \n",
      "Suresh\n",
      "=====================\n",
      "Type: <class 'tuple'> \n",
      "78\n",
      "=====================\n",
      "Type: <class 'tuple'> \n",
      "Suresh\n",
      "=====================\n",
      "Type: <class 'set'> \n",
      "76546364\n",
      "=====================\n",
      "Type: <class 'set'> \n",
      "Suresh\n",
      "=====================\n",
      "Type: <class 'dict'> \n",
      "54\n",
      "=====================\n",
      "Type: <class 'dict'> \n",
      "Suresh\n",
      "=====================\n"
     ]
    }
   ],
   "source": [
    "def max_val(arg):\n",
    "        print(f'Type: {type(arg)} \\n{max(arg)}\\n=====================')\n",
    "        \n",
    "for arg in all_vars:\n",
    "    max_val(arg)"
   ]
  },
  {
   "cell_type": "markdown",
   "id": "08bb7562",
   "metadata": {},
   "source": [
    "## 2. min()"
   ]
  },
  {
   "cell_type": "code",
   "execution_count": 8,
   "id": "db354431",
   "metadata": {},
   "outputs": [
    {
     "name": "stdout",
     "output_type": "stream",
     "text": [
      "Type: <class 'str'> \n",
      " \n",
      "=====================\n",
      "Type: <class 'str'> \n",
      "0\n",
      "=====================\n",
      "Type: <class 'list'> \n",
      "1\n",
      "=====================\n",
      "Type: <class 'list'> \n",
      "Anand\n",
      "=====================\n",
      "Type: <class 'tuple'> \n",
      "1\n",
      "=====================\n",
      "Type: <class 'tuple'> \n",
      "Anand\n",
      "=====================\n",
      "Type: <class 'set'> \n",
      "1\n",
      "=====================\n",
      "Type: <class 'set'> \n",
      "Anand\n",
      "=====================\n",
      "Type: <class 'dict'> \n",
      "1\n",
      "=====================\n",
      "Type: <class 'dict'> \n",
      "Anand\n",
      "=====================\n"
     ]
    }
   ],
   "source": [
    "def max_val(arg):\n",
    "        print(f'Type: {type(arg)} \\n{min(arg)}\\n=====================')\n",
    "        \n",
    "for arg in all_vars:\n",
    "    max_val(arg)"
   ]
  },
  {
   "cell_type": "code",
   "execution_count": null,
   "id": "5945412d",
   "metadata": {},
   "outputs": [],
   "source": []
  }
 ],
 "metadata": {
  "kernelspec": {
   "display_name": "Python 3",
   "language": "python",
   "name": "python3"
  },
  "language_info": {
   "codemirror_mode": {
    "name": "ipython",
    "version": 3
   },
   "file_extension": ".py",
   "mimetype": "text/x-python",
   "name": "python",
   "nbconvert_exporter": "python",
   "pygments_lexer": "ipython3",
   "version": "3.8.3"
  }
 },
 "nbformat": 4,
 "nbformat_minor": 5
}
