{
 "cells": [
  {
   "cell_type": "markdown",
   "id": "bd1dbb28",
   "metadata": {},
   "source": [
    "# map() Function"
   ]
  },
  {
   "cell_type": "code",
   "execution_count": null,
   "id": "f8cf7017",
   "metadata": {},
   "outputs": [],
   "source": [
    "SYNTAX:\n",
    "    map(function, iterable)"
   ]
  },
  {
   "cell_type": "code",
   "execution_count": 1,
   "id": "c2526e3c",
   "metadata": {},
   "outputs": [
    {
     "data": {
      "text/plain": [
       "['Rs',\n",
       " 'Tlp',\n",
       " 'Dffdl',\n",
       " 'Pppy',\n",
       " 'Snflwr',\n",
       " 'Blbll',\n",
       " 'Rs',\n",
       " 'Snwdrp',\n",
       " 'Chrry blssm']"
      ]
     },
     "execution_count": 1,
     "metadata": {},
     "output_type": "execute_result"
    }
   ],
   "source": [
    "list_var = ['Rose', 'Tulip', 'Daffodil', 'Poppy', 'Sunflower', 'Bluebell', 'Rose', 'Snowdrop', 'Cherry blossom']\n",
    "\n",
    "def remove_ovels(f_name):\n",
    "    ovels = 'aeiou'\n",
    "    for i in ovels:        \n",
    "        f_name = f_name.replace(i, '')\n",
    "    return f_name\n",
    "\n",
    "list(map(remove_ovels, list_var))"
   ]
  },
  {
   "cell_type": "code",
   "execution_count": 2,
   "id": "84daa2bf",
   "metadata": {},
   "outputs": [
    {
     "data": {
      "text/plain": [
       "[4, 5, 8, 5, 9, 8, 4, 8, 14]"
      ]
     },
     "execution_count": 2,
     "metadata": {},
     "output_type": "execute_result"
    }
   ],
   "source": [
    "list(map(len, list_var))\n"
   ]
  },
  {
   "cell_type": "code",
   "execution_count": 3,
   "id": "24395330",
   "metadata": {},
   "outputs": [
    {
     "data": {
      "text/plain": [
       "[str, str, str, str, str, str, str, str, str]"
      ]
     },
     "execution_count": 3,
     "metadata": {},
     "output_type": "execute_result"
    }
   ],
   "source": [
    "list(map(type, list_var))\n"
   ]
  },
  {
   "cell_type": "code",
   "execution_count": 7,
   "id": "e94c75ad",
   "metadata": {},
   "outputs": [
    {
     "data": {
      "text/plain": [
       "[152, 92, 865, 526, 25, 12, 25, 526, 865, 92, 152]"
      ]
     },
     "execution_count": 7,
     "metadata": {},
     "output_type": "execute_result"
    }
   ],
   "source": [
    "list_var1 = [4, 6, 2, 8, 2, 6, 23, 518, 863, 86, 148]\n",
    "list_var2 = [4, 6, 2, 8, 2, 6, 23, 518, 863, 86, 148]\n",
    "\n",
    "def sum_lists(list_1, list_2):\n",
    "    return list_1 + list_2\n",
    "\n",
    "list(map(sum_lists, list_var1, list_var2[::-1]))"
   ]
  },
  {
   "cell_type": "markdown",
   "id": "79b804fa",
   "metadata": {},
   "source": [
    "## Test Every iterable"
   ]
  },
  {
   "cell_type": "code",
   "execution_count": 14,
   "id": "5bda97b4",
   "metadata": {},
   "outputs": [],
   "source": [
    "list_var = [4, 6, 2, 8, 2, 6, 23, 518, 863, 86, 148]\n",
    "str_var = 'qwertyuioplk'\n",
    "tuple_var =(54,7,23,56,8,23,54)\n",
    "set_var = {1,2,3,4,5,6,7,8,9,0}\n",
    "dict_var = {'a': 1, '2': 3}\n",
    "\n",
    "def x(y):\n",
    "    return y * 2\n",
    "\n",
    "def char_vals(v):\n",
    "    return ord(v)"
   ]
  },
  {
   "cell_type": "code",
   "execution_count": 17,
   "id": "9d770ca6",
   "metadata": {},
   "outputs": [
    {
     "name": "stdout",
     "output_type": "stream",
     "text": [
      " [8, 12, 4, 16, 4, 12, 46, 1036, 1726, 172, 296] \n",
      " [113, 119, 101, 114, 116, 121, 117, 105, 111, 112, 108, 107] \n",
      " [108, 14, 46, 112, 16, 46, 108] \n",
      " [0, 2, 4, 6, 8, 10, 12, 14, 16, 18] \n",
      " [97, 50]\n"
     ]
    }
   ],
   "source": [
    "lst_res = list(map(x, list_var))\n",
    "str_res = list(map(char_vals, str_var))\n",
    "tuple_res = list(map(x, tuple_var))\n",
    "set_res = list(map(x, set_var))\n",
    "dict_res = list(map(char_vals, dict_var)) # It will take keys only\n",
    "\n",
    "print(f' {lst_res} \\n {str_res} \\n {tuple_res} \\n {set_res} \\n {dict_res}')"
   ]
  },
  {
   "cell_type": "markdown",
   "id": "616b32c1",
   "metadata": {},
   "source": [
    "# Logical programs"
   ]
  },
  {
   "cell_type": "markdown",
   "id": "379c0ac4",
   "metadata": {},
   "source": [
    "### 1. Write a Python program to triple all numbers of a given list of integers. Use Python map. "
   ]
  },
  {
   "cell_type": "code",
   "execution_count": 21,
   "id": "d830f76c",
   "metadata": {},
   "outputs": [
    {
     "name": "stdout",
     "output_type": "stream",
     "text": [
      "[12, 18, 6, 24, 6, 18, 69, 1554, 2589, 258, 444]\n"
     ]
    }
   ],
   "source": [
    "def triple(num):\n",
    "    return num * 3\n",
    "\n",
    "\n",
    "list_var = [4, 6, 2, 8, 2, 6, 23, 518, 863, 86, 148]\n",
    "op = list(map(triple, list_var))\n",
    "print(op)"
   ]
  },
  {
   "cell_type": "markdown",
   "id": "d5239818",
   "metadata": {},
   "source": [
    "### 2. Write a Python program to listify the list of given strings individually using Python map."
   ]
  },
  {
   "cell_type": "code",
   "execution_count": 23,
   "id": "3a3748fb",
   "metadata": {},
   "outputs": [
    {
     "name": "stdout",
     "output_type": "stream",
     "text": [
      "[['R', 'o', 's', 'e'], ['T', 'u', 'l', 'i', 'p'], ['D', 'a', 'f', 'f', 'o', 'd', 'i', 'l'], ['P', 'o', 'p', 'p', 'y'], ['S', 'u', 'n', 'f', 'l', 'o', 'w', 'e', 'r'], ['B', 'l', 'u', 'e', 'b', 'e', 'l', 'l'], ['R', 'o', 's', 'e'], ['S', 'n', 'o', 'w', 'd', 'r', 'o', 'p'], ['C', 'h', 'e', 'r', 'r', 'y', ' ', 'b', 'l', 'o', 's', 's', 'o', 'm']]\n"
     ]
    }
   ],
   "source": [
    "list_var = ['Rose', 'Tulip', 'Daffodil', 'Poppy', 'Sunflower', 'Bluebell', 'Rose', 'Snowdrop', 'Cherry blossom']\n",
    "\n",
    "def str_to_list(str_val):\n",
    "    \n",
    "    return list(str_val)\n",
    "\n",
    "op = list(map(str_to_list, list_var))\n",
    "print(op)"
   ]
  },
  {
   "cell_type": "code",
   "execution_count": null,
   "id": "6d37acb5",
   "metadata": {},
   "outputs": [],
   "source": []
  }
 ],
 "metadata": {
  "kernelspec": {
   "display_name": "Python 3",
   "language": "python",
   "name": "python3"
  },
  "language_info": {
   "codemirror_mode": {
    "name": "ipython",
    "version": 3
   },
   "file_extension": ".py",
   "mimetype": "text/x-python",
   "name": "python",
   "nbconvert_exporter": "python",
   "pygments_lexer": "ipython3",
   "version": "3.8.3"
  }
 },
 "nbformat": 4,
 "nbformat_minor": 5
}
