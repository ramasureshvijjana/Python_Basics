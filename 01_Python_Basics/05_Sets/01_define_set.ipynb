{
 "cells": [
  {
   "cell_type": "markdown",
   "id": "829af16a",
   "metadata": {},
   "source": [
    "# Set\n",
    "=> Sets are used to store multiple items in a single variable.  \n",
    "=> Sets are written with curly brackets.  "
   ]
  },
  {
   "cell_type": "markdown",
   "id": "9a735a52",
   "metadata": {},
   "source": [
    "## Define a set"
   ]
  },
  {
   "cell_type": "markdown",
   "id": "774ede63",
   "metadata": {},
   "source": [
    "=> We can define a set in two ways, those are using {} or by using set() constructor.   "
   ]
  },
  {
   "cell_type": "markdown",
   "id": "331fbbe8",
   "metadata": {},
   "source": [
    "### Way-1: using {}"
   ]
  },
  {
   "cell_type": "code",
   "execution_count": 3,
   "id": "21b1af8e",
   "metadata": {},
   "outputs": [
    {
     "name": "stdout",
     "output_type": "stream",
     "text": [
      "{'Rame', 'Suresh', 'Pandu', 'Varun'}\n"
     ]
    }
   ],
   "source": [
    "# Define a set variable\n",
    "set_var = {'Rame', 'Suresh', 'Pandu', 'Varun'}\n",
    "\n",
    "print(set_var)"
   ]
  },
  {
   "cell_type": "markdown",
   "id": "7cbb0e73",
   "metadata": {},
   "source": [
    "### Way-2: using set() constructor."
   ]
  },
  {
   "cell_type": "code",
   "execution_count": 4,
   "id": "a3feffcb",
   "metadata": {},
   "outputs": [
    {
     "name": "stdout",
     "output_type": "stream",
     "text": [
      "{'Rame', 'Suresh', 'Pandu', 'Varun'}\n"
     ]
    }
   ],
   "source": [
    "\n",
    "set_var_1 = set(('Rame', 'Suresh', 'Pandu', 'Varun'))\n",
    "\n",
    "print(set_var_1)"
   ]
  }
 ],
 "metadata": {
  "kernelspec": {
   "display_name": "Python 3",
   "language": "python",
   "name": "python3"
  },
  "language_info": {
   "codemirror_mode": {
    "name": "ipython",
    "version": 3
   },
   "file_extension": ".py",
   "mimetype": "text/x-python",
   "name": "python",
   "nbconvert_exporter": "python",
   "pygments_lexer": "ipython3",
   "version": "3.8.3"
  }
 },
 "nbformat": 4,
 "nbformat_minor": 5
}
