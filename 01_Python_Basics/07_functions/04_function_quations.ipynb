{
 "cells": [
  {
   "cell_type": "markdown",
   "id": "68db69ec",
   "metadata": {},
   "source": [
    "### Q1: Write a function which takes a list and print it's first and last element.\n"
   ]
  },
  {
   "cell_type": "code",
   "execution_count": 2,
   "id": "a48471be",
   "metadata": {},
   "outputs": [
    {
     "name": "stdout",
     "output_type": "stream",
     "text": [
      "First value: 3 \n",
      "Last value: 89\n"
     ]
    }
   ],
   "source": [
    "def first_last_list(list_var):\n",
    "    return list_var[0], list_var[-1]\n",
    "\n",
    "first, last = first_last_list([3,78,4,90,6,34,89,54,89])\n",
    "\n",
    "print(f'First value: {first} \\nLast value: {last}')"
   ]
  },
  {
   "cell_type": "code",
   "execution_count": 5,
   "id": "e2d7cd1a",
   "metadata": {},
   "outputs": [
    {
     "name": "stdout",
     "output_type": "stream",
     "text": [
      "in first if 1121\n",
      "in second if 20\n",
      "in second if 34\n",
      "in second if 899\n",
      "899\n"
     ]
    }
   ],
   "source": [
    "x = [1121,1121,20,34,899,89,345,76,67,23]\n",
    "maximum_no = 0\n",
    "second_max = 0\n",
    "\n",
    "for i in x:\n",
    "    if i > maximum_no:\n",
    "        second_max = maximum_no\n",
    "        maximum_no = i\n",
    "        print('in first if',i)\n",
    "    if i > second_max and i < maximum_no:\n",
    "        second_max = i\n",
    "        print('in second if',i)\n",
    "if maximum_no == second_max:\n",
    "    print('Second Max DNE')\n",
    "else:\n",
    "    print(second_max)\n"
   ]
  },
  {
   "cell_type": "markdown",
   "id": "0cfec8f3",
   "metadata": {},
   "source": [
    "### Q1) Write a fun which will take a No (only int) and print wheter that no is odd or even\n",
    "\n"
   ]
  },
  {
   "cell_type": "markdown",
   "id": "8aeace64",
   "metadata": {},
   "source": [
    "### Q2) Write a fun which will take a list of no(only int) and return a list which"
   ]
  },
  {
   "cell_type": "code",
   "execution_count": null,
   "id": "74f01306",
   "metadata": {},
   "outputs": [],
   "source": [
    "\n",
    "contains 'odd' corresponding to the odd element, 'even' corresponding to the\n",
    "even element.\n",
    "\n",
    "input to fun => [1,2,3,44,54,6]\n",
    "output => ['odd','even','odd','even','even','even']\n",
    "\n",
    "input to fun => [1,2]\n",
    "output to fun=> ['odd','even']\n"
   ]
  },
  {
   "cell_type": "code",
   "execution_count": 8,
   "id": "e2fd4b66",
   "metadata": {},
   "outputs": [
    {
     "name": "stdout",
     "output_type": "stream",
     "text": [
      "['Odd', 'Even', 'Odd', 'Even', 'Even', 'Even']\n",
      "['Odd', 'Even']\n"
     ]
    }
   ],
   "source": [
    "def even_oddd_data(list_in):\n",
    "    result = []\n",
    "    for i in list_in:\n",
    "        if i % 2 == 0:\n",
    "            result.append('Even')\n",
    "        else:\n",
    "            result.append('Odd')\n",
    "    return result\n",
    "\n",
    "print(even_oddd_data( [1,2,3,44,54,6]))\n",
    "print(even_oddd_data( [1,2]))"
   ]
  },
  {
   "cell_type": "code",
   "execution_count": null,
   "id": "7dd9c43d",
   "metadata": {},
   "outputs": [],
   "source": [
    "### Q3) 'Pythonist 2$' → 'pYTHONIST 2$' Swapping Case"
   ]
  },
  {
   "cell_type": "code",
   "execution_count": 10,
   "id": "07b07fc5",
   "metadata": {},
   "outputs": [
    {
     "data": {
      "text/plain": [
       "'pYTHONIST 2$'"
      ]
     },
     "execution_count": 10,
     "metadata": {},
     "output_type": "execute_result"
    }
   ],
   "source": [
    "def swap_case(str_in):\n",
    "    str_out = ''\n",
    "    for char in str_in:\n",
    "        if char.islower():\n",
    "            str_out += char.upper()\n",
    "        else:\n",
    "            str_out += char.lower()\n",
    "    return str_out\n",
    "\n",
    "swap_case('Pythonist 2$')"
   ]
  },
  {
   "cell_type": "markdown",
   "id": "846ef571",
   "metadata": {},
   "source": [
    "### way -2"
   ]
  },
  {
   "cell_type": "code",
   "execution_count": 11,
   "id": "350e7040",
   "metadata": {},
   "outputs": [
    {
     "data": {
      "text/plain": [
       "'pYTHONIST 2$'"
      ]
     },
     "execution_count": 11,
     "metadata": {},
     "output_type": "execute_result"
    }
   ],
   "source": [
    "'Pythonist 2$'.swapcase()"
   ]
  },
  {
   "cell_type": "code",
   "execution_count": null,
   "id": "2ab1a30b",
   "metadata": {},
   "outputs": [],
   "source": []
  }
 ],
 "metadata": {
  "kernelspec": {
   "display_name": "Python 3",
   "language": "python",
   "name": "python3"
  },
  "language_info": {
   "codemirror_mode": {
    "name": "ipython",
    "version": 3
   },
   "file_extension": ".py",
   "mimetype": "text/x-python",
   "name": "python",
   "nbconvert_exporter": "python",
   "pygments_lexer": "ipython3",
   "version": "3.8.3"
  }
 },
 "nbformat": 4,
 "nbformat_minor": 5
}
