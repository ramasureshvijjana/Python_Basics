{
 "cells": [
  {
   "cell_type": "markdown",
   "id": "68db69ec",
   "metadata": {},
   "source": [
    "### Q1: Write a function which takes a list and print it's first and last element.\n"
   ]
  },
  {
   "cell_type": "code",
   "execution_count": 2,
   "id": "a48471be",
   "metadata": {},
   "outputs": [
    {
     "name": "stdout",
     "output_type": "stream",
     "text": [
      "First value: 3 \n",
      "Last value: 89\n"
     ]
    }
   ],
   "source": [
    "def first_last_list(list_var):\n",
    "    return list_var[0], list_var[-1]\n",
    "\n",
    "first, last = first_last_list([3,78,4,90,6,34,89,54,89])\n",
    "\n",
    "print(f'First value: {first} \\nLast value: {last}')"
   ]
  },
  {
   "cell_type": "code",
   "execution_count": 5,
   "id": "e2d7cd1a",
   "metadata": {},
   "outputs": [
    {
     "name": "stdout",
     "output_type": "stream",
     "text": [
      "in first if 1121\n",
      "in second if 20\n",
      "in second if 34\n",
      "in second if 899\n",
      "899\n"
     ]
    }
   ],
   "source": [
    "x = [1121,1121,20,34,899,89,345,76,67,23]\n",
    "maximum_no = 0\n",
    "second_max = 0\n",
    "\n",
    "for i in x:\n",
    "    if i > maximum_no:\n",
    "        second_max = maximum_no\n",
    "        maximum_no = i\n",
    "        print('in first if',i)\n",
    "    if i > second_max and i < maximum_no:\n",
    "        second_max = i\n",
    "        print('in second if',i)\n",
    "if maximum_no == second_max:\n",
    "    print('Second Max DNE')\n",
    "else:\n",
    "    print(second_max)\n"
   ]
  },
  {
   "cell_type": "code",
   "execution_count": 4,
   "id": "8f71386b",
   "metadata": {},
   "outputs": [
    {
     "name": "stdout",
     "output_type": "stream",
     "text": [
      "If you are New user enter 1, If you are old custome enter 2:  7\n"
     ]
    },
    {
     "ename": "NameError",
     "evalue": "name 'existance_check' is not defined",
     "output_type": "error",
     "traceback": [
      "\u001b[1;31m---------------------------------------------------------------------------\u001b[0m",
      "\u001b[1;31mNameError\u001b[0m                                 Traceback (most recent call last)",
      "\u001b[1;32m<ipython-input-4-1907395bc1e0>\u001b[0m in \u001b[0;36m<module>\u001b[1;34m\u001b[0m\n\u001b[1;32m----> 1\u001b[1;33m \u001b[1;32mclass\u001b[0m \u001b[0mLoan\u001b[0m\u001b[1;33m:\u001b[0m\u001b[1;33m\u001b[0m\u001b[1;33m\u001b[0m\u001b[0m\n\u001b[0m\u001b[0;32m      2\u001b[0m \u001b[1;33m\u001b[0m\u001b[0m\n\u001b[0;32m      3\u001b[0m     \u001b[1;32mdef\u001b[0m \u001b[0muser_existance\u001b[0m\u001b[1;33m(\u001b[0m\u001b[1;33m)\u001b[0m\u001b[1;33m:\u001b[0m\u001b[1;33m\u001b[0m\u001b[1;33m\u001b[0m\u001b[0m\n\u001b[0;32m      4\u001b[0m         \u001b[0mstatus\u001b[0m \u001b[1;33m=\u001b[0m \u001b[0minput\u001b[0m\u001b[1;33m(\u001b[0m\u001b[1;34m\"If you are New user enter 1, If you are old custome enter 2:  \"\u001b[0m\u001b[1;33m)\u001b[0m\u001b[1;33m\u001b[0m\u001b[1;33m\u001b[0m\u001b[0m\n\u001b[0;32m      5\u001b[0m         \u001b[0mexistance_check\u001b[0m\u001b[1;33m(\u001b[0m\u001b[0mstatus\u001b[0m\u001b[1;33m)\u001b[0m\u001b[1;33m\u001b[0m\u001b[1;33m\u001b[0m\u001b[0m\n",
      "\u001b[1;32m<ipython-input-4-1907395bc1e0>\u001b[0m in \u001b[0;36mLoan\u001b[1;34m()\u001b[0m\n\u001b[0;32m     16\u001b[0m             \u001b[0muser_existance\u001b[0m\u001b[1;33m(\u001b[0m\u001b[1;33m)\u001b[0m\u001b[1;33m\u001b[0m\u001b[1;33m\u001b[0m\u001b[0m\n\u001b[0;32m     17\u001b[0m \u001b[1;33m\u001b[0m\u001b[0m\n\u001b[1;32m---> 18\u001b[1;33m     \u001b[0muser_existance\u001b[0m\u001b[1;33m(\u001b[0m\u001b[1;33m)\u001b[0m\u001b[1;33m\u001b[0m\u001b[1;33m\u001b[0m\u001b[0m\n\u001b[0m\u001b[0;32m     19\u001b[0m \u001b[1;33m\u001b[0m\u001b[0m\n",
      "\u001b[1;32m<ipython-input-4-1907395bc1e0>\u001b[0m in \u001b[0;36muser_existance\u001b[1;34m()\u001b[0m\n\u001b[0;32m      3\u001b[0m     \u001b[1;32mdef\u001b[0m \u001b[0muser_existance\u001b[0m\u001b[1;33m(\u001b[0m\u001b[1;33m)\u001b[0m\u001b[1;33m:\u001b[0m\u001b[1;33m\u001b[0m\u001b[1;33m\u001b[0m\u001b[0m\n\u001b[0;32m      4\u001b[0m         \u001b[0mstatus\u001b[0m \u001b[1;33m=\u001b[0m \u001b[0minput\u001b[0m\u001b[1;33m(\u001b[0m\u001b[1;34m\"If you are New user enter 1, If you are old custome enter 2:  \"\u001b[0m\u001b[1;33m)\u001b[0m\u001b[1;33m\u001b[0m\u001b[1;33m\u001b[0m\u001b[0m\n\u001b[1;32m----> 5\u001b[1;33m         \u001b[0mexistance_check\u001b[0m\u001b[1;33m(\u001b[0m\u001b[0mstatus\u001b[0m\u001b[1;33m)\u001b[0m\u001b[1;33m\u001b[0m\u001b[1;33m\u001b[0m\u001b[0m\n\u001b[0m\u001b[0;32m      6\u001b[0m \u001b[1;33m\u001b[0m\u001b[0m\n\u001b[0;32m      7\u001b[0m     \u001b[1;32mdef\u001b[0m \u001b[0mexistance_check\u001b[0m\u001b[1;33m(\u001b[0m\u001b[0mstatus\u001b[0m\u001b[1;33m)\u001b[0m\u001b[1;33m:\u001b[0m\u001b[1;33m\u001b[0m\u001b[1;33m\u001b[0m\u001b[0m\n",
      "\u001b[1;31mNameError\u001b[0m: name 'existance_check' is not defined"
     ]
    }
   ],
   "source": [
    "class Loan:\n",
    "    \n",
    "    def user_existance():   \n",
    "        status = input(\"If you are New user enter 1, If you are old custome enter 2:  \")\n",
    "        existance_check(int(status))\n",
    "\n",
    "    def existance_check(status):\n",
    "        if status == 1:\n",
    "            print('1')\n",
    "    \n",
    "        elif status == 2:\n",
    "            print('2')\n",
    "    \n",
    "        else:\n",
    "            print('Worning: Please enter valied responce')\n",
    "            user_existance()\n",
    "        \n",
    "    user_existance()\n",
    "    \n"
   ]
  },
  {
   "cell_type": "code",
   "execution_count": null,
   "id": "d508caab",
   "metadata": {},
   "outputs": [],
   "source": []
  }
 ],
 "metadata": {
  "kernelspec": {
   "display_name": "Python 3",
   "language": "python",
   "name": "python3"
  },
  "language_info": {
   "codemirror_mode": {
    "name": "ipython",
    "version": 3
   },
   "file_extension": ".py",
   "mimetype": "text/x-python",
   "name": "python",
   "nbconvert_exporter": "python",
   "pygments_lexer": "ipython3",
   "version": "3.8.3"
  }
 },
 "nbformat": 4,
 "nbformat_minor": 5
}
