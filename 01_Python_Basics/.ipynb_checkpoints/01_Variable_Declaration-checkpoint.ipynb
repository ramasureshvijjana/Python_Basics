{
 "cells": [
  {
   "cell_type": "markdown",
   "id": "2d198c5e",
   "metadata": {},
   "source": [
    "## Variable Declaration \n",
    "\n",
    "#### Not Eligible Names:  \n",
    "> Variable names should not start with numbers.  \n",
    "> Variable names should not start and contain special characters except underscore ( _ ).  \n",
    "> Variable names should not have spaces.  \n",
    ">> Ex: 25ganesh, @suresh, anand kk\n",
    "\n",
    "#### Eligible Names:  \n",
    "> Variable names can contain numbers in the middle and at the end, but it's not recommendable in industrial practice.     \n",
    "> Using capital letters in the variable name is allowed, but it's not recommendable in industrial practice.  \n",
    "> Variable names can start and contain underscore ( _ ).\n",
    ">> Ex: gan2esh5, SuResh, _anand_kk\n",
    "\n",
    "#### Best Way Of  Variable Declaration:  \n",
    "> Variable name should be in lower case.  \n",
    "> Don't use any numbers.  \n",
    "> Separate the words with an underscore ( _ ) if the varible name has two words."
   ]
  },
  {
   "cell_type": "code",
   "execution_count": null,
   "id": "85ccc69a",
   "metadata": {},
   "outputs": [],
   "source": []
  }
 ],
 "metadata": {
  "kernelspec": {
   "display_name": "Python 3",
   "language": "python",
   "name": "python3"
  },
  "language_info": {
   "codemirror_mode": {
    "name": "ipython",
    "version": 3
   },
   "file_extension": ".py",
   "mimetype": "text/x-python",
   "name": "python",
   "nbconvert_exporter": "python",
   "pygments_lexer": "ipython3",
   "version": "3.8.3"
  }
 },
 "nbformat": 4,
 "nbformat_minor": 5
}
