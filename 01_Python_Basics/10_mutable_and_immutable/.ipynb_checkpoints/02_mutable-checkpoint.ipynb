{
 "cells": [
  {
   "cell_type": "markdown",
   "id": "73840739",
   "metadata": {},
   "source": [
    "### Set"
   ]
  },
  {
   "cell_type": "code",
   "execution_count": 4,
   "id": "0ac0158f",
   "metadata": {},
   "outputs": [
    {
     "name": "stdout",
     "output_type": "stream",
     "text": [
      "Way-1\n",
      "\n",
      "Before Change:  2741481893952\n",
      "After Change:   2741481893952\n",
      "\n",
      "Way-2\n",
      "\n",
      "Before Change:  2741488441376 {'Anand', 'Suresh VJ'}\n",
      "After Change:   2741488441376 {'Anand', 'Ram', 'Suresh VJ'}\n"
     ]
    }
   ],
   "source": [
    "############################ Method - 1 ############################\n",
    "print('Way-1\\n')\n",
    "set_var_1 = {'Suresh', 'Eswar'}\n",
    "print('Before Change: ', id(set_var_1))\n",
    "\n",
    "tuple_var_1 = {'Ram', 'Naveen'}\n",
    "print('After Change:  ', id(set_var_1))\n",
    "\n",
    "############################ Method - 2 ############################\n",
    "print('\\nWay-2\\n')\n",
    "set_var_2 = {'Suresh VJ', 'Anand'}\n",
    "print('Before Change: ', id(set_var_2), set_var_2)\n",
    "\n",
    "\n",
    "set_var_2.add('Ram')\n",
    "print('After Change:  ', id(set_var_2), set_var_2)"
   ]
  },
  {
   "cell_type": "code",
   "execution_count": null,
   "id": "ee52831d",
   "metadata": {},
   "outputs": [],
   "source": [
    "############################ Method - 1 ############################\n",
    "print('Way-1\\n')\n",
    "set_var_1 = ['Suresh', 'Eswar']\n",
    "print('Before Change: ', id(set_var_1))\n",
    "\n",
    "tuple_var_1 = {'Ram', 'Naveen'}\n",
    "print('After Change:  ', id(set_var_1))\n",
    "\n",
    "############################ Method - 2 ############################\n",
    "print('\\nWay-2\\n')\n",
    "set_var_2 = {'Suresh VJ', 'Anand'}\n",
    "print('Before Change: ', id(set_var_2), set_var_2)\n",
    "\n",
    "\n",
    "set_var_2.add('Ram')\n",
    "print('After Change:  ', id(set_var_2), set_var_2)"
   ]
  }
 ],
 "metadata": {
  "kernelspec": {
   "display_name": "Python 3",
   "language": "python",
   "name": "python3"
  },
  "language_info": {
   "codemirror_mode": {
    "name": "ipython",
    "version": 3
   },
   "file_extension": ".py",
   "mimetype": "text/x-python",
   "name": "python",
   "nbconvert_exporter": "python",
   "pygments_lexer": "ipython3",
   "version": "3.8.3"
  }
 },
 "nbformat": 4,
 "nbformat_minor": 5
}
