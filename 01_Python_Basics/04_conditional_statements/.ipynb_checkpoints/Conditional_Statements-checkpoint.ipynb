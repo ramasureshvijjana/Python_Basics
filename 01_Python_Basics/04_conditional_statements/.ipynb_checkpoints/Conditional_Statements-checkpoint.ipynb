{
 "cells": [
  {
   "cell_type": "markdown",
   "id": "d609b6b4-3f51-45fb-9cfb-31b767c65c68",
   "metadata": {},
   "source": [
    "# Conditional Statements"
   ]
  },
  {
   "cell_type": "markdown",
   "id": "4e99671b-610d-4f11-996a-255a6f76425e",
   "metadata": {},
   "source": [
    "### 1. if Condition:"
   ]
  },
  {
   "cell_type": "code",
   "execution_count": 1,
   "id": "b331dd83-1913-4ea0-868d-c58cf642b148",
   "metadata": {},
   "outputs": [
    {
     "name": "stdout",
     "output_type": "stream",
     "text": [
      "He is eligible for vote\n"
     ]
    }
   ],
   "source": [
    "age = 26\n",
    "\n",
    "if age > 18:\n",
    "    print(\"He is eligible for vote\")"
   ]
  },
  {
   "cell_type": "code",
   "execution_count": 2,
   "id": "ae46857c-b29d-4e6f-bb31-f693ee0dd1b1",
   "metadata": {},
   "outputs": [
    {
     "name": "stdout",
     "output_type": "stream",
     "text": [
      "He is eligible for vote\n"
     ]
    }
   ],
   "source": [
    "# Nested if \n",
    "age = 26\n",
    "gender = 'male'\n",
    "if age > 18:\n",
    "    if gender == 'male':\n",
    "        print(\"He is eligible for vote\")"
   ]
  },
  {
   "cell_type": "markdown",
   "id": "fb20f933-46de-4f76-8e39-439f87f89566",
   "metadata": {},
   "source": [
    "### 2. if - else Condition:"
   ]
  },
  {
   "cell_type": "code",
   "execution_count": 3,
   "id": "6edc7528-3c6e-4c46-87c8-a39a97bc7cf6",
   "metadata": {},
   "outputs": [
    {
     "name": "stdout",
     "output_type": "stream",
     "text": [
      "He is not eligible for vote\n"
     ]
    }
   ],
   "source": [
    "age = 12\n",
    "\n",
    "if age > 18:\n",
    "    print(\"He is eligible for vote\")\n",
    "else:\n",
    "    print(\"He is not eligible for vote\")"
   ]
  },
  {
   "cell_type": "code",
   "execution_count": 4,
   "id": "ae48a1f5-9905-41b6-a676-ae7bfe1c91f2",
   "metadata": {},
   "outputs": [
    {
     "name": "stdout",
     "output_type": "stream",
     "text": [
      "He is not eligible for vote\n"
     ]
    }
   ],
   "source": [
    "# Nested if - else\n",
    "age = 12\n",
    "gender = 'male'\n",
    "\n",
    "if age > 18:\n",
    "    if gender == 'male':\n",
    "        print(\"He is eligible for vote\")\n",
    "    else:\n",
    "        print(\"She is eligible for vote\")\n",
    "else:\n",
    "    if gender == 'male':\n",
    "        print(\"He is not eligible for vote\")\n",
    "    else:\n",
    "        print(\"She is not eligible for vote\")"
   ]
  },
  {
   "cell_type": "markdown",
   "id": "8f47392a-f417-449f-8868-ecba3a37cdd1",
   "metadata": {},
   "source": [
    "### 3. elif Condition:"
   ]
  },
  {
   "cell_type": "code",
   "execution_count": 5,
   "id": "f71e0b39-d89b-484e-84fa-193b05a61b10",
   "metadata": {},
   "outputs": [
    {
     "name": "stdout",
     "output_type": "stream",
     "text": [
      "The person is a teenager\n"
     ]
    }
   ],
   "source": [
    "age = 12\n",
    "\n",
    "if age < 11:\n",
    "    print(\"The person is a kid\")\n",
    "elif age >= 11 and age < 20:\n",
    "    print(\"The person is a teenager\")\n",
    "elif age >= 20 and age < 30:\n",
    "    print(\"The person is younger\")\n",
    "elif age >= 30 and age < 40:\n",
    "    print(\"This is a mid age person\")\n",
    "else:\n",
    "    print(\"This is a old age person\")"
   ]
  },
  {
   "cell_type": "markdown",
   "id": "f40c1eed-1dfb-4691-ade5-7cff489abdd3",
   "metadata": {},
   "source": [
    "### 4. Inline if"
   ]
  },
  {
   "cell_type": "code",
   "execution_count": 11,
   "id": "6138f8c8-70c1-4d5c-af39-adaece5bbd92",
   "metadata": {},
   "outputs": [
    {
     "name": "stdout",
     "output_type": "stream",
     "text": [
      "He is eligible for vote\n"
     ]
    }
   ],
   "source": [
    "age = 19\n",
    "if age >= 18: print(\"He is eligible for vote\")"
   ]
  },
  {
   "cell_type": "markdown",
   "id": "b79680fb-c93a-42d6-a1ad-2c7c1b18f1a7",
   "metadata": {},
   "source": [
    "### 5. Inline if-else - Ternary operation"
   ]
  },
  {
   "cell_type": "code",
   "execution_count": 12,
   "id": "a56ace37-fda0-469b-a59d-89e50d943a32",
   "metadata": {},
   "outputs": [
    {
     "name": "stdout",
     "output_type": "stream",
     "text": [
      "Eligible for vote\n"
     ]
    }
   ],
   "source": [
    "age = 19\n",
    "print(\"Eligible for vote\" if age >= 18 else \"Not eligible for vote\")"
   ]
  },
  {
   "cell_type": "code",
   "execution_count": 13,
   "id": "c0b262c4-3496-469c-a27c-564b5abbee4f",
   "metadata": {},
   "outputs": [
    {
     "name": "stdout",
     "output_type": "stream",
     "text": [
      "Eligible for vote\n"
     ]
    }
   ],
   "source": [
    "age = 19\n",
    "print(\"Eligible for vote\") if age >= 18 else print(\"Not eligible for vote\")"
   ]
  },
  {
   "cell_type": "code",
   "execution_count": 18,
   "id": "67163d5f-6923-4d3d-a8b0-07b262241639",
   "metadata": {},
   "outputs": [
    {
     "name": "stdout",
     "output_type": "stream",
     "text": [
      "Login success\n"
     ]
    }
   ],
   "source": [
    "user_name = \"Suresh vj\"\n",
    "status = \"Login success\" if user_name == \"Suresh vj\" else \"Login fails\"\n",
    "\n",
    "print(status)"
   ]
  },
  {
   "cell_type": "markdown",
   "id": "91fbfe43-9778-40bd-98a7-36256e82c1ab",
   "metadata": {},
   "source": [
    "### 6. Inline elif "
   ]
  },
  {
   "cell_type": "code",
   "execution_count": 21,
   "id": "d08b521c-bc3f-4773-a491-c79c78717294",
   "metadata": {},
   "outputs": [
    {
     "name": "stdout",
     "output_type": "stream",
     "text": [
      "The person is a teenager\n"
     ]
    }
   ],
   "source": [
    "age = 12\n",
    "print(\"The person is a kid\" if age < 11 else \"The person is a teenager\" if age >= 11 and age < 20 else \\\n",
    "      \"The person is younger\" if age >= 20 and age < 30 else \"This is a mid age person\" if age >= 30 and age < 40 else \"This is a old age person\")\n"
   ]
  }
 ],
 "metadata": {
  "kernelspec": {
   "display_name": "Python 3 (ipykernel)",
   "language": "python",
   "name": "python3"
  },
  "language_info": {
   "codemirror_mode": {
    "name": "ipython",
    "version": 3
   },
   "file_extension": ".py",
   "mimetype": "text/x-python",
   "name": "python",
   "nbconvert_exporter": "python",
   "pygments_lexer": "ipython3",
   "version": "3.11.7"
  }
 },
 "nbformat": 4,
 "nbformat_minor": 5
}
