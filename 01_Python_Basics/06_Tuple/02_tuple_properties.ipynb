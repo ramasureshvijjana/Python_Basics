{
 "cells": [
  {
   "cell_type": "markdown",
   "id": "05b8aa47",
   "metadata": {},
   "source": [
    "# Tuple properties\n",
    "=> Tuple is iterable.  \n",
    "=> Tuple items are ordered.  \n",
    "=> Unchangeable.  \n",
    "=> Allow duplicate values.  \n",
    "=> Allow all data types.  \n",
    "=> Tuple is immutable.  \n",
    "=> Tuple don't have intering property."
   ]
  },
  {
   "cell_type": "markdown",
   "id": "d33a260b",
   "metadata": {},
   "source": [
    "### Tuple is iterable."
   ]
  },
  {
   "cell_type": "code",
   "execution_count": 2,
   "id": "35dd74e7",
   "metadata": {},
   "outputs": [
    {
     "name": "stdout",
     "output_type": "stream",
     "text": [
      "Naveen\n",
      "Eswar\n",
      "Anand\n"
     ]
    }
   ],
   "source": [
    "# We can iterate the tuple directly in loops.\n",
    "tuple_var_1 = ('Naveen', 'Eswar', 'Anand')\n",
    "\n",
    "for name in tuple_var_1:\n",
    "    print(name)"
   ]
  },
  {
   "cell_type": "markdown",
   "id": "a5140ca9",
   "metadata": {},
   "source": [
    "### Tuple items are ordered."
   ]
  },
  {
   "cell_type": "markdown",
   "id": "2fd36604",
   "metadata": {},
   "source": [
    "=> Tuple elements are ordered.  \n",
    "=> Index number start from 0."
   ]
  },
  {
   "cell_type": "code",
   "execution_count": 5,
   "id": "c8bc41fa",
   "metadata": {},
   "outputs": [
    {
     "name": "stdout",
     "output_type": "stream",
     "text": [
      "Index no:  0           value is:  Naveen\n",
      "Index no:  1           value is:  Eswar\n",
      "Index no:  2           value is:  Anand\n"
     ]
    }
   ],
   "source": [
    "for name in tuple_var_1:\n",
    "    print('Index no: ', tuple_var_1.index(name), '          value is: ', name)"
   ]
  },
  {
   "cell_type": "markdown",
   "id": "aa05069b",
   "metadata": {},
   "source": [
    "### Unchangeable."
   ]
  },
  {
   "cell_type": "markdown",
   "id": "7f4e1a03",
   "metadata": {},
   "source": [
    "=> We can not change or add or remove the values of tuple."
   ]
  },
  {
   "cell_type": "markdown",
   "id": "39bf8902",
   "metadata": {},
   "source": [
    "### Allow duplicate values."
   ]
  },
  {
   "cell_type": "code",
   "execution_count": 2,
   "id": "b526c818",
   "metadata": {},
   "outputs": [
    {
     "name": "stdout",
     "output_type": "stream",
     "text": [
      "(22, 45, 78, 44, 22, 45)\n"
     ]
    }
   ],
   "source": [
    "# Create a tuple with some duplicate values.\n",
    "tuple_var_2 = (22,45,78,44,22,45)\n",
    "\n",
    "print(tuple_var_2)"
   ]
  },
  {
   "cell_type": "markdown",
   "id": "ac3ef975",
   "metadata": {},
   "source": [
    "### Allow all data types."
   ]
  },
  {
   "cell_type": "code",
   "execution_count": 11,
   "id": "277178fb",
   "metadata": {},
   "outputs": [
    {
     "name": "stdout",
     "output_type": "stream",
     "text": [
      "('Suresh vj', 98, 26, 5.1997, True, (26+2j))\n"
     ]
    }
   ],
   "source": [
    "# Create a tuple with a different types of data values.\n",
    "tuple_diff_data = ('Suresh vj', 98, 26, 5.1997, True, 26+2j)\n",
    "\n",
    "print(tuple_diff_data)"
   ]
  },
  {
   "cell_type": "markdown",
   "id": "e6d3ac0a",
   "metadata": {},
   "source": [
    "### Tuple is immutable "
   ]
  },
  {
   "cell_type": "code",
   "execution_count": 2,
   "id": "c856cd65",
   "metadata": {},
   "outputs": [
    {
     "name": "stdout",
     "output_type": "stream",
     "text": [
      "1343819374400\n",
      "140720101866272\n",
      "1343819419792\n",
      "140720101865952\n"
     ]
    }
   ],
   "source": [
    "tuple_var_3 = (33, 66, 55)\n",
    "print(id(tuple_var_3))\n",
    "print(id(tuple_var_3[0]))\n",
    "\n",
    "tuple_var_3 = (23, 66, 55, 45)\n",
    "print(id(tuple_var_3))\n",
    "print(id(tuple_var_3[0]))\n"
   ]
  },
  {
   "cell_type": "markdown",
   "id": "8530a85f",
   "metadata": {},
   "source": [
    "### Tuple don't have intering property."
   ]
  },
  {
   "cell_type": "code",
   "execution_count": 14,
   "id": "187de88a",
   "metadata": {},
   "outputs": [
    {
     "name": "stdout",
     "output_type": "stream",
     "text": [
      "2283503611632\n",
      "2283504869760\n"
     ]
    }
   ],
   "source": [
    "tuple_var_4 = (33, 66, 5, 5)\n",
    "tuple_var_5 = (33, 66, 5, 5)\n",
    "\n",
    "print(id(tuple_var_4))\n",
    "print(id(tuple_var_5))"
   ]
  }
 ],
 "metadata": {
  "kernelspec": {
   "display_name": "Python 3",
   "language": "python",
   "name": "python3"
  },
  "language_info": {
   "codemirror_mode": {
    "name": "ipython",
    "version": 3
   },
   "file_extension": ".py",
   "mimetype": "text/x-python",
   "name": "python",
   "nbconvert_exporter": "python",
   "pygments_lexer": "ipython3",
   "version": "3.8.3"
  }
 },
 "nbformat": 4,
 "nbformat_minor": 5
}
