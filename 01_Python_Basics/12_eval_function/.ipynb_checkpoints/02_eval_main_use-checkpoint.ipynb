{
 "cells": [
  {
   "cell_type": "markdown",
   "id": "b3bce36e",
   "metadata": {},
   "source": [
    "## eval() Main Use"
   ]
  },
  {
   "cell_type": "code",
   "execution_count": null,
   "id": "f07c3cf5",
   "metadata": {},
   "outputs": [],
   "source": [
    "=> If you construct an arithmetic expression as a string, you can use eval() to evaluate it at a later time (ex: \"3 * x + 2\")."
   ]
  },
  {
   "cell_type": "code",
   "execution_count": 13,
   "id": "88d3adcc",
   "metadata": {},
   "outputs": [
    {
     "name": "stdout",
     "output_type": "stream",
     "text": [
      "3.7265699999999997\n"
     ]
    }
   ],
   "source": [
    "x = 5\n",
    "w = 0.679994\n",
    "\n",
    "y = '(w * x) + (x- 4.6734)'\n",
    "\n",
    "print(eval(y))"
   ]
  }
 ],
 "metadata": {
  "kernelspec": {
   "display_name": "Python 3",
   "language": "python",
   "name": "python3"
  },
  "language_info": {
   "codemirror_mode": {
    "name": "ipython",
    "version": 3
   },
   "file_extension": ".py",
   "mimetype": "text/x-python",
   "name": "python",
   "nbconvert_exporter": "python",
   "pygments_lexer": "ipython3",
   "version": "3.8.3"
  }
 },
 "nbformat": 4,
 "nbformat_minor": 5
}
