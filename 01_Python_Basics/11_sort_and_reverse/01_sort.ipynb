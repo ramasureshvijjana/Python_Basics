{
 "cells": [
  {
   "cell_type": "markdown",
   "id": "73fd20b4",
   "metadata": {},
   "source": [
    "# 1. Sorting The Sequels Data Types"
   ]
  },
  {
   "cell_type": "code",
   "execution_count": null,
   "id": "da58d78d",
   "metadata": {},
   "outputs": [],
   "source": [
    "1. Sequel Data Types:\n",
    "    1. str\n",
    "    2. list\n",
    "    3. tuple\n",
    "    4. set\n",
    "    5. dict\n",
    "    \n",
    "2. Only list have a special function for sorting.\n",
    "3. For the remaining type, we should use the python inbuild function sorted() for sorting."
   ]
  },
  {
   "cell_type": "markdown",
   "id": "d07ba4b7",
   "metadata": {},
   "source": [
    "## 1. List Sorting"
   ]
  },
  {
   "cell_type": "code",
   "execution_count": 13,
   "id": "1ba92e99",
   "metadata": {},
   "outputs": [],
   "source": [
    "list_var_1 = [1, 54, 8, 23, 4, 6, 9]\n",
    "list_var_2 = ['Rama', 'Suresh', 'Eswar', 'Anand', 'Naveen']\n",
    "list_var_3 = [23, 54, 87, 'Eswar', 67.9, 'Anand']\n",
    "list_var_4 = [23, 34.567, 1, 0, 'Suresh', True, False, 4+5j, [2,3], (3,4), {5,6}, {'A': 3, 'B': 4}]\n",
    "\n",
    "all_lists = [list_var_1, list_var_2, list_var_3, list_var_4]\n",
    "\n",
    "def sorting(arg):\n",
    "    try:\n",
    "        lst_copy = arg.copy()\n",
    "        arg.sort()\n",
    "        lst_copy.sort(reverse = True)       \n",
    "        print(f'Ascending:  {arg} \\nDescending: {lst_copy}')\n",
    "        \n",
    "    except Exception as e:\n",
    "        print(e)\n",
    "    finally:\n",
    "        print('=========================================================')"
   ]
  },
  {
   "cell_type": "code",
   "execution_count": 14,
   "id": "31cf2ffb",
   "metadata": {},
   "outputs": [
    {
     "name": "stdout",
     "output_type": "stream",
     "text": [
      "Ascending:  [1, 4, 6, 8, 9, 23, 54] \n",
      "Descending: [54, 23, 9, 8, 6, 4, 1]\n",
      "=========================================================\n",
      "Ascending:  ['Anand', 'Eswar', 'Naveen', 'Rama', 'Suresh'] \n",
      "Descending: ['Suresh', 'Rama', 'Naveen', 'Eswar', 'Anand']\n",
      "=========================================================\n",
      "'<' not supported between instances of 'str' and 'int'\n",
      "=========================================================\n",
      "'<' not supported between instances of 'str' and 'int'\n",
      "=========================================================\n"
     ]
    }
   ],
   "source": [
    "for i in all_lists:\n",
    "    sorting(i)"
   ]
  },
  {
   "cell_type": "markdown",
   "id": "ae51c907",
   "metadata": {},
   "source": [
    "## 2. Sorting with sorted() function"
   ]
  },
  {
   "cell_type": "markdown",
   "id": "7280da53",
   "metadata": {},
   "source": [
    "Refer the below link:\n",
    "\n",
    "link: http://localhost:8888/notebooks/01_Python_Basics/01_Py_inbuld_functions/04_sorted_function.ipynb"
   ]
  }
 ],
 "metadata": {
  "kernelspec": {
   "display_name": "Python 3",
   "language": "python",
   "name": "python3"
  },
  "language_info": {
   "codemirror_mode": {
    "name": "ipython",
    "version": 3
   },
   "file_extension": ".py",
   "mimetype": "text/x-python",
   "name": "python",
   "nbconvert_exporter": "python",
   "pygments_lexer": "ipython3",
   "version": "3.8.3"
  }
 },
 "nbformat": 4,
 "nbformat_minor": 5
}
