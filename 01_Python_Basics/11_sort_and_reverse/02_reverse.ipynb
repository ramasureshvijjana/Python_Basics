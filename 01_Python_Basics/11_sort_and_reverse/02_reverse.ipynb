{
 "cells": [
  {
   "cell_type": "markdown",
   "id": "3e9b7fd5",
   "metadata": {},
   "source": [
    "# Reverse The Sequels Data Types"
   ]
  },
  {
   "cell_type": "code",
   "execution_count": 1,
   "id": "dc6c966b",
   "metadata": {},
   "outputs": [],
   "source": [
    "def vals():\n",
    "    \n",
    "    str_var_1 = 'Rama Suresh Vijjana'\n",
    "    str_var_2 = '8309995547242412444'\n",
    "    \n",
    "    list_var_1 = [1, 54, 8, 23, 4, 6, 9]\n",
    "    list_var_2 = ['Rama', 'Suresh', 'Eswar', 'Anand', 'Naveen']\n",
    "    \n",
    "    tuple_var_1 = (1, 54, 8, 23, 4, 6, 9)\n",
    "    tuple_var_2 = ('Rama', 'Suresh', 'Eswar', 'Anand', 'Naveen')\n",
    "    \n",
    "    set_var_1 = {1, 54, 8, 23, 4, 6, 9}\n",
    "    set_var_2 = {'Rama', 'Suresh', 'Eswar', 'Anand', 'Naveen'}\n",
    "    \n",
    "    dict_var_1 = {1: 4, 54: 5, 8: 7, 23: 4, 4: 33, 6: 45}\n",
    "    dict_var_2 = {'Rama': 24, 'Suresh': 23, 'Eswar': 25, 'Anand': 20, 'Naveen': 24}\n",
    "    \n",
    "    all_vars = [str_var_1, str_var_2, list_var_1, list_var_2, tuple_var_1, tuple_var_2, \\\n",
    "                set_var_1, set_var_2, dict_var_1, dict_var_2]\n",
    "    return all_vars"
   ]
  },
  {
   "cell_type": "markdown",
   "id": "7530d552",
   "metadata": {},
   "source": [
    "## 1. Using x[::-1]"
   ]
  },
  {
   "cell_type": "code",
   "execution_count": 2,
   "id": "e9ae1812",
   "metadata": {},
   "outputs": [
    {
     "name": "stdout",
     "output_type": "stream",
     "text": [
      "anajjiV hseruS amaR\n",
      "=========================================================\n",
      "4442142427455999038\n",
      "=========================================================\n",
      "[9, 6, 4, 23, 8, 54, 1]\n",
      "=========================================================\n",
      "['Naveen', 'Anand', 'Eswar', 'Suresh', 'Rama']\n",
      "=========================================================\n",
      "(9, 6, 4, 23, 8, 54, 1)\n",
      "=========================================================\n",
      "('Naveen', 'Anand', 'Eswar', 'Suresh', 'Rama')\n",
      "=========================================================\n",
      "'set' object is not subscriptable\n",
      "=========================================================\n",
      "'set' object is not subscriptable\n",
      "=========================================================\n",
      "unhashable type: 'slice'\n",
      "=========================================================\n",
      "unhashable type: 'slice'\n",
      "=========================================================\n"
     ]
    }
   ],
   "source": [
    "all_vars = vals()\n",
    "def rvrs(arg):\n",
    "    try:   \n",
    "        print(arg[::-1])\n",
    "        \n",
    "    except Exception as e:\n",
    "        print(e)\n",
    "    finally:\n",
    "        print('=========================================================')\n",
    "    \n",
    "for i in all_vars:\n",
    "    rvrs(i)"
   ]
  },
  {
   "cell_type": "markdown",
   "id": "8fa3d8d6",
   "metadata": {},
   "source": [
    "## 2. Using reversed()"
   ]
  },
  {
   "cell_type": "code",
   "execution_count": 3,
   "id": "8edba7af",
   "metadata": {},
   "outputs": [
    {
     "name": "stdout",
     "output_type": "stream",
     "text": [
      "Type: <class 'str'> \n",
      "anajjiV hseruS amaR\n",
      "=========================================================\n",
      "Type: <class 'str'> \n",
      "4442142427455999038\n",
      "=========================================================\n",
      "Type: <class 'list'> \n",
      "[9, 6, 4, 23, 8, 54, 1]\n",
      "=========================================================\n",
      "Type: <class 'list'> \n",
      "['Naveen', 'Anand', 'Eswar', 'Suresh', 'Rama']\n",
      "=========================================================\n",
      "Type: <class 'tuple'> \n",
      "(9, 6, 4, 23, 8, 54, 1)\n",
      "=========================================================\n",
      "Type: <class 'tuple'> \n",
      "('Naveen', 'Anand', 'Eswar', 'Suresh', 'Rama')\n",
      "=========================================================\n",
      "'set' object is not reversible\n",
      "=========================================================\n",
      "'set' object is not reversible\n",
      "=========================================================\n",
      "cannot convert dictionary update sequence element #0 to a sequence\n",
      "=========================================================\n",
      "dictionary update sequence element #0 has length 6; 2 is required\n",
      "=========================================================\n"
     ]
    }
   ],
   "source": [
    "all_ = vals()\n",
    "def rvrs(arg):\n",
    "    try:\n",
    "        type_var = type(arg)\n",
    "        rvr = reversed(arg)\n",
    "        if type_var == str:\n",
    "            rvr = ''.join(rvr)\n",
    "        print(f'Type: {type_var} \\n{type_var(rvr)}')\n",
    "        \n",
    "    except Exception as e:\n",
    "        print(e)\n",
    "    finally:\n",
    "        print('=========================================================')\n",
    "    \n",
    "for i in all_:\n",
    "    rvrs(i)"
   ]
  },
  {
   "cell_type": "code",
   "execution_count": null,
   "id": "9ea4b219",
   "metadata": {},
   "outputs": [],
   "source": []
  }
 ],
 "metadata": {
  "kernelspec": {
   "display_name": "Python 3",
   "language": "python",
   "name": "python3"
  },
  "language_info": {
   "codemirror_mode": {
    "name": "ipython",
    "version": 3
   },
   "file_extension": ".py",
   "mimetype": "text/x-python",
   "name": "python",
   "nbconvert_exporter": "python",
   "pygments_lexer": "ipython3",
   "version": "3.8.3"
  }
 },
 "nbformat": 4,
 "nbformat_minor": 5
}
