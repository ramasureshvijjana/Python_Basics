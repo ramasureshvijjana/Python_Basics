{
 "cells": [
  {
   "cell_type": "markdown",
   "id": "73fd20b4",
   "metadata": {},
   "source": [
    "# 1. Sorting The Sequels Data Types"
   ]
  },
  {
   "cell_type": "code",
   "execution_count": null,
   "id": "da58d78d",
   "metadata": {},
   "outputs": [],
   "source": [
    "1. Sequel Data Types:\n",
    "    1. str\n",
    "    2. list\n",
    "    3. tuple\n",
    "    4. set\n",
    "    5. dict\n",
    "    \n",
    "2. Only list have a special function for sorting.\n",
    "3. For the remaining type, we should use the python inbuild function sorted() for sorting."
   ]
  },
  {
   "cell_type": "markdown",
   "id": "d07ba4b7",
   "metadata": {},
   "source": [
    "## 1. List Sorting"
   ]
  },
  {
   "cell_type": "code",
   "execution_count": 13,
   "id": "1ba92e99",
   "metadata": {},
   "outputs": [],
   "source": [
    "list_var_1 = [1, 54, 8, 23, 4, 6, 9]\n",
    "list_var_2 = ['Rama', 'Suresh', 'Eswar', 'Anand', 'Naveen']\n",
    "list_var_3 = [23, 54, 87, 'Eswar', 67.9, 'Anand']\n",
    "list_var_4 = [23, 34.567, 1, 0, 'Suresh', True, False, 4+5j, [2,3], (3,4), {5,6}, {'A': 3, 'B': 4}]\n",
    "\n",
    "all_lists = [list_var_1, list_var_2, list_var_3, list_var_4]\n",
    "\n",
    "def sorting(arg):\n",
    "    try:\n",
    "        lst_copy = arg.copy()\n",
    "        arg.sort()\n",
    "        lst_copy.sort(reverse = True)       \n",
    "        print(f'Ascending:  {arg} \\nDescending: {lst_copy}')\n",
    "        \n",
    "    except Exception as e:\n",
    "        print(e)\n",
    "    finally:\n",
    "        print('=========================================================')"
   ]
  },
  {
   "cell_type": "code",
   "execution_count": 14,
   "id": "31cf2ffb",
   "metadata": {},
   "outputs": [
    {
     "name": "stdout",
     "output_type": "stream",
     "text": [
      "Ascending:  [1, 4, 6, 8, 9, 23, 54] \n",
      "Descending: [54, 23, 9, 8, 6, 4, 1]\n",
      "=========================================================\n",
      "Ascending:  ['Anand', 'Eswar', 'Naveen', 'Rama', 'Suresh'] \n",
      "Descending: ['Suresh', 'Rama', 'Naveen', 'Eswar', 'Anand']\n",
      "=========================================================\n",
      "'<' not supported between instances of 'str' and 'int'\n",
      "=========================================================\n",
      "'<' not supported between instances of 'str' and 'int'\n",
      "=========================================================\n"
     ]
    }
   ],
   "source": [
    "for i in all_lists:\n",
    "    sorting(i)"
   ]
  },
  {
   "cell_type": "markdown",
   "id": "ae51c907",
   "metadata": {},
   "source": [
    "## 2. Sorting with sorted() function"
   ]
  },
  {
   "cell_type": "markdown",
   "id": "7280da53",
   "metadata": {},
   "source": [
    "Refer the below link:\n",
    "\n",
    "link: http://localhost:8888/notebooks/01_Python_Basics/01_Py_inbuld_functions/04_sorted_function.ipynb"
   ]
  },
  {
   "cell_type": "markdown",
   "id": "dafd57e6",
   "metadata": {},
   "source": [
    "# 2. Reverse The Sequels Data Types"
   ]
  },
  {
   "cell_type": "code",
   "execution_count": 21,
   "id": "5bc1f260",
   "metadata": {},
   "outputs": [],
   "source": [
    "def vals():\n",
    "    \n",
    "    str_var_1 = 'Rama Suresh Vijjana'\n",
    "    str_var_2 = '8309995547242412444'\n",
    "    \n",
    "    list_var_1 = [1, 54, 8, 23, 4, 6, 9]\n",
    "    list_var_2 = ['Rama', 'Suresh', 'Eswar', 'Anand', 'Naveen']\n",
    "    \n",
    "    tuple_var_1 = (1, 54, 8, 23, 4, 6, 9)\n",
    "    tuple_var_2 = ('Rama', 'Suresh', 'Eswar', 'Anand', 'Naveen')\n",
    "    \n",
    "    set_var_1 = {1, 54, 8, 23, 4, 6, 9}\n",
    "    set_var_2 = {'Rama', 'Suresh', 'Eswar', 'Anand', 'Naveen'}\n",
    "    \n",
    "    dict_var_1 = {1: 4, 54: 5, 8: 7, 23: 4, 4: 33, 6: 45}\n",
    "    dict_var_2 = {'Rama': 24, 'Suresh': 23, 'Eswar': 25, 'Anand': 20, 'Naveen': 24}\n",
    "    \n",
    "    all_vars = [str_var_1, str_var_2, list_var_1, list_var_2, tuple_var_1, tuple_var_2, \\\n",
    "                set_var_1, set_var_2, dict_var_1, dict_var_2]\n",
    "    return all_vars"
   ]
  },
  {
   "cell_type": "code",
   "execution_count": 17,
   "id": "a0646d13",
   "metadata": {},
   "outputs": [
    {
     "name": "stdout",
     "output_type": "stream",
     "text": [
      "anajjiV hseruS amaR\n",
      "=========================================================\n",
      "4442142427455999038\n",
      "=========================================================\n",
      "[9, 6, 4, 23, 8, 54, 1]\n",
      "=========================================================\n",
      "['Naveen', 'Anand', 'Eswar', 'Suresh', 'Rama']\n",
      "=========================================================\n",
      "(9, 6, 4, 23, 8, 54, 1)\n",
      "=========================================================\n",
      "('Naveen', 'Anand', 'Eswar', 'Suresh', 'Rama')\n",
      "=========================================================\n",
      "'set' object is not subscriptable\n",
      "=========================================================\n",
      "'set' object is not subscriptable\n",
      "=========================================================\n",
      "unhashable type: 'slice'\n",
      "=========================================================\n",
      "unhashable type: 'slice'\n",
      "=========================================================\n"
     ]
    }
   ],
   "source": [
    "all_vars = vals()\n",
    "def rvrs(arg):\n",
    "    try:   \n",
    "        print(arg[::-1])\n",
    "        \n",
    "    except Exception as e:\n",
    "        print(e)\n",
    "    finally:\n",
    "        print('=========================================================')\n",
    "    \n",
    "for i in all_vars:\n",
    "    rvrs(i)"
   ]
  },
  {
   "cell_type": "code",
   "execution_count": 34,
   "id": "e95ae514",
   "metadata": {},
   "outputs": [
    {
     "name": "stdout",
     "output_type": "stream",
     "text": [
      "Type: <class 'str'> \n",
      "anajjiV hseruS amaR\n",
      "=========================================================\n",
      "Type: <class 'str'> \n",
      "4442142427455999038\n",
      "=========================================================\n",
      "Type: <class 'list'> \n",
      "[9, 6, 4, 23, 8, 54, 1]\n",
      "=========================================================\n",
      "Type: <class 'list'> \n",
      "['Naveen', 'Anand', 'Eswar', 'Suresh', 'Rama']\n",
      "=========================================================\n",
      "Type: <class 'tuple'> \n",
      "(9, 6, 4, 23, 8, 54, 1)\n",
      "=========================================================\n",
      "Type: <class 'tuple'> \n",
      "('Naveen', 'Anand', 'Eswar', 'Suresh', 'Rama')\n",
      "=========================================================\n",
      "'set' object is not reversible\n",
      "=========================================================\n",
      "'set' object is not reversible\n",
      "=========================================================\n",
      "cannot convert dictionary update sequence element #0 to a sequence\n",
      "=========================================================\n",
      "dictionary update sequence element #0 has length 6; 2 is required\n",
      "=========================================================\n"
     ]
    }
   ],
   "source": [
    "all_ = vals()\n",
    "def rvrs(arg):\n",
    "    try:\n",
    "        type_var = type(arg)\n",
    "        rvr = reversed(arg)\n",
    "        if type_var == str:\n",
    "            rvr = ''.join(rvr)\n",
    "        print(f'Type: {type_var} \\n{type_var(rvr)}')\n",
    "        \n",
    "    except Exception as e:\n",
    "        print(e)\n",
    "    finally:\n",
    "        print('=========================================================')\n",
    "    \n",
    "for i in all_:\n",
    "    rvrs(i)"
   ]
  }
 ],
 "metadata": {
  "kernelspec": {
   "display_name": "Python 3",
   "language": "python",
   "name": "python3"
  },
  "language_info": {
   "codemirror_mode": {
    "name": "ipython",
    "version": 3
   },
   "file_extension": ".py",
   "mimetype": "text/x-python",
   "name": "python",
   "nbconvert_exporter": "python",
   "pygments_lexer": "ipython3",
   "version": "3.8.3"
  }
 },
 "nbformat": 4,
 "nbformat_minor": 5
}
