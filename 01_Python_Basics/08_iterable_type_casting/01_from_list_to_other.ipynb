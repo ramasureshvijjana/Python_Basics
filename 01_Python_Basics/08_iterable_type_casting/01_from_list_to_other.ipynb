{
 "cells": [
  {
   "cell_type": "markdown",
   "id": "ca9e3305",
   "metadata": {},
   "source": [
    "### List to tuple"
   ]
  },
  {
   "cell_type": "markdown",
   "id": "44232edd",
   "metadata": {},
   "source": [
    "#### Using tuple()"
   ]
  },
  {
   "cell_type": "code",
   "execution_count": 1,
   "id": "30943b5c",
   "metadata": {},
   "outputs": [
    {
     "name": "stdout",
     "output_type": "stream",
     "text": [
      "('Suresh', 'VJ')\n"
     ]
    }
   ],
   "source": [
    "# Create a list\n",
    "list_var = ['Suresh', 'VJ']\n",
    "\n",
    "# tuple() will covert list to tuple\n",
    "tuple_var = tuple(list_var)\n",
    "print(tuple_var)"
   ]
  },
  {
   "cell_type": "markdown",
   "id": "6b3ea385",
   "metadata": {},
   "source": [
    "#### Method-2"
   ]
  },
  {
   "cell_type": "code",
   "execution_count": null,
   "id": "120b510c",
   "metadata": {},
   "outputs": [],
   "source": [
    "=> This essentially unpacks the list list_var inside a tuple literal which is created due to the presence of the single \n",
    "   comma (, ). \n",
    "=> This approach is a bit faster but suffers from readability."
   ]
  },
  {
   "cell_type": "code",
   "execution_count": 2,
   "id": "5727b056",
   "metadata": {},
   "outputs": [
    {
     "name": "stdout",
     "output_type": "stream",
     "text": [
      "('Suresh', 'VJ')\n"
     ]
    }
   ],
   "source": [
    "# observe this syntax : (*list_var,)\n",
    "tuple_var_1 = (*list_var,)\n",
    "\n",
    "print(tuple_var_1)"
   ]
  }
 ],
 "metadata": {
  "kernelspec": {
   "display_name": "Python 3",
   "language": "python",
   "name": "python3"
  },
  "language_info": {
   "codemirror_mode": {
    "name": "ipython",
    "version": 3
   },
   "file_extension": ".py",
   "mimetype": "text/x-python",
   "name": "python",
   "nbconvert_exporter": "python",
   "pygments_lexer": "ipython3",
   "version": "3.8.3"
  }
 },
 "nbformat": 4,
 "nbformat_minor": 5
}
