{
 "cells": [
  {
   "cell_type": "markdown",
   "id": "153db74f",
   "metadata": {},
   "source": [
    "# Append Mode"
   ]
  },
  {
   "cell_type": "code",
   "execution_count": null,
   "id": "6a7b4a65",
   "metadata": {},
   "outputs": [],
   "source": [
    "1. Two modes:\n",
    "    1. a\n",
    "    2. a+\n",
    "    \n",
    "2. Add content at the end.\n",
    "3. Create a file if does not exist.`\n",
    "4. read() does not work.\n",
    "5. It's not override the file."
   ]
  },
  {
   "cell_type": "code",
   "execution_count": null,
   "id": "d7bf7e49",
   "metadata": {},
   "outputs": [],
   "source": [
    "Question=> sir if user want to adding data but file does not exist so how it is done\n",
    "if we code like w+ or w then user lost their data\n",
    "\n",
    "Solution\n",
    "use 'a' mode"
   ]
  },
  {
   "cell_type": "markdown",
   "id": "d51cb27f",
   "metadata": {},
   "source": [
    "## 1. r mode"
   ]
  },
  {
   "cell_type": "code",
   "execution_count": 1,
   "id": "feb70951",
   "metadata": {},
   "outputs": [],
   "source": [
    "\n",
    "fp = open('../17_File_Handling/files/append_mode_file.txt', 'a')\n",
    "fp.write('I LOVE MACHINE LEARNING')\n",
    "fp.close()"
   ]
  },
  {
   "cell_type": "code",
   "execution_count": 2,
   "id": "6f45e098",
   "metadata": {},
   "outputs": [
    {
     "ename": "UnsupportedOperation",
     "evalue": "not readable",
     "output_type": "error",
     "traceback": [
      "\u001b[1;31m---------------------------------------------------------------------------\u001b[0m",
      "\u001b[1;31mUnsupportedOperation\u001b[0m                      Traceback (most recent call last)",
      "\u001b[1;32m<ipython-input-2-8b512bc9a0bc>\u001b[0m in \u001b[0;36m<module>\u001b[1;34m\u001b[0m\n\u001b[0;32m      1\u001b[0m \u001b[0mfp\u001b[0m \u001b[1;33m=\u001b[0m \u001b[0mopen\u001b[0m\u001b[1;33m(\u001b[0m\u001b[1;34m'../17_File_Handling/files/append_mode_file.txt'\u001b[0m\u001b[1;33m,\u001b[0m \u001b[1;34m'a'\u001b[0m\u001b[1;33m)\u001b[0m\u001b[1;33m\u001b[0m\u001b[1;33m\u001b[0m\u001b[0m\n\u001b[1;32m----> 2\u001b[1;33m \u001b[0mfp\u001b[0m\u001b[1;33m.\u001b[0m\u001b[0mread\u001b[0m\u001b[1;33m(\u001b[0m\u001b[1;33m)\u001b[0m\u001b[1;33m\u001b[0m\u001b[1;33m\u001b[0m\u001b[0m\n\u001b[0m",
      "\u001b[1;31mUnsupportedOperation\u001b[0m: not readable"
     ]
    }
   ],
   "source": [
    "fp = open('../17_File_Handling/files/append_mode_file.txt', 'a')\n",
    "fp.read()"
   ]
  },
  {
   "cell_type": "code",
   "execution_count": 3,
   "id": "1a9a270c",
   "metadata": {},
   "outputs": [],
   "source": [
    "fp.close()"
   ]
  },
  {
   "cell_type": "markdown",
   "id": "a9943110",
   "metadata": {},
   "source": [
    "## 2. r+ mode"
   ]
  },
  {
   "cell_type": "code",
   "execution_count": 4,
   "id": "2a49faac",
   "metadata": {},
   "outputs": [],
   "source": [
    "fp = open('../17_File_Handling/files/append_aplus_file.txt', 'a+')\n",
    "fp.write('Prasad Achanta')\n",
    "fp.close()"
   ]
  },
  {
   "cell_type": "code",
   "execution_count": 5,
   "id": "877f7355",
   "metadata": {},
   "outputs": [
    {
     "data": {
      "text/plain": [
       "''"
      ]
     },
     "execution_count": 5,
     "metadata": {},
     "output_type": "execute_result"
    }
   ],
   "source": [
    "fp = open('../17_File_Handling/files/append_mode_file.txt', 'a+')\n",
    "fp.read()"
   ]
  },
  {
   "cell_type": "code",
   "execution_count": 6,
   "id": "9e0c4fbb",
   "metadata": {},
   "outputs": [],
   "source": [
    "fp.close()"
   ]
  }
 ],
 "metadata": {
  "kernelspec": {
   "display_name": "Python 3",
   "language": "python",
   "name": "python3"
  },
  "language_info": {
   "codemirror_mode": {
    "name": "ipython",
    "version": 3
   },
   "file_extension": ".py",
   "mimetype": "text/x-python",
   "name": "python",
   "nbconvert_exporter": "python",
   "pygments_lexer": "ipython3",
   "version": "3.8.3"
  }
 },
 "nbformat": 4,
 "nbformat_minor": 5
}
