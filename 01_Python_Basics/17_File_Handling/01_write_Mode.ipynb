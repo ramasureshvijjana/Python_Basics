{
 "cells": [
  {
   "cell_type": "markdown",
   "id": "a9bf8d86",
   "metadata": {},
   "source": [
    "# File Operation Modes"
   ]
  },
  {
   "cell_type": "code",
   "execution_count": null,
   "id": "63dca38a",
   "metadata": {},
   "outputs": [],
   "source": [
    "File Operation Modes:\n",
    "    w and w+ (for writing)\n",
    "    r and r+ (for reading)\n",
    "    a and a+ (for appending)"
   ]
  },
  {
   "cell_type": "markdown",
   "id": "80d60eec",
   "metadata": {},
   "source": [
    "### Write Mode"
   ]
  },
  {
   "cell_type": "code",
   "execution_count": null,
   "id": "83d3e45a",
   "metadata": {},
   "outputs": [],
   "source": [
    "1. w\n",
    "2. w+"
   ]
  },
  {
   "cell_type": "markdown",
   "id": "99f69436",
   "metadata": {},
   "source": [
    "### Write mode with w"
   ]
  },
  {
   "cell_type": "code",
   "execution_count": null,
   "id": "1cb3a43b",
   "metadata": {},
   "outputs": [],
   "source": [
    "=> w : Opens in write-only mode. The pointer is placed at the beginning of the file and this will overwrite any existing \n",
    "   file with the same name\n",
    "=> We can't use read() when you open a file with w"
   ]
  },
  {
   "cell_type": "code",
   "execution_count": 2,
   "id": "6657ca21",
   "metadata": {},
   "outputs": [],
   "source": [
    "fp = open('../17_File_Handling/files/first_file.txt','w')\n",
    "fp.write('This is Suresh VJ')\n",
    "fp.close()"
   ]
  },
  {
   "cell_type": "code",
   "execution_count": 4,
   "id": "de9c1ef2",
   "metadata": {},
   "outputs": [],
   "source": [
    "fp = open('../17_File_Handling/files/first_file.txt','w')\n",
    "fp.write('My Besties are Anand, Kiran kumar')\n",
    "fp.close()"
   ]
  },
  {
   "cell_type": "code",
   "execution_count": 5,
   "id": "78faa650",
   "metadata": {},
   "outputs": [
    {
     "ename": "UnsupportedOperation",
     "evalue": "not readable",
     "output_type": "error",
     "traceback": [
      "\u001b[1;31m---------------------------------------------------------------------------\u001b[0m",
      "\u001b[1;31mUnsupportedOperation\u001b[0m                      Traceback (most recent call last)",
      "\u001b[1;32m<ipython-input-5-abf798fd7f3d>\u001b[0m in \u001b[0;36m<module>\u001b[1;34m\u001b[0m\n\u001b[0;32m      1\u001b[0m \u001b[1;31m# We can't use read() when youopen a file with w\u001b[0m\u001b[1;33m\u001b[0m\u001b[1;33m\u001b[0m\u001b[1;33m\u001b[0m\u001b[0m\n\u001b[0;32m      2\u001b[0m \u001b[0mfp\u001b[0m \u001b[1;33m=\u001b[0m \u001b[0mopen\u001b[0m\u001b[1;33m(\u001b[0m\u001b[1;34m'../17_File_Handling/files/first_file.txt'\u001b[0m\u001b[1;33m,\u001b[0m\u001b[1;34m'w'\u001b[0m\u001b[1;33m)\u001b[0m\u001b[1;33m\u001b[0m\u001b[1;33m\u001b[0m\u001b[0m\n\u001b[1;32m----> 3\u001b[1;33m \u001b[0mfp\u001b[0m\u001b[1;33m.\u001b[0m\u001b[0mread\u001b[0m\u001b[1;33m(\u001b[0m\u001b[1;33m)\u001b[0m\u001b[1;33m\u001b[0m\u001b[1;33m\u001b[0m\u001b[0m\n\u001b[0m\u001b[0;32m      4\u001b[0m \u001b[0mfp\u001b[0m\u001b[1;33m.\u001b[0m\u001b[0mclose\u001b[0m\u001b[1;33m(\u001b[0m\u001b[1;33m)\u001b[0m\u001b[1;33m\u001b[0m\u001b[1;33m\u001b[0m\u001b[0m\n",
      "\u001b[1;31mUnsupportedOperation\u001b[0m: not readable"
     ]
    }
   ],
   "source": [
    "# We can't use read() when youopen a file with w\n",
    "fp = open('../17_File_Handling/files/first_file.txt','w')\n",
    "fp.read()\n",
    "fp.close()"
   ]
  },
  {
   "cell_type": "markdown",
   "id": "3210daf3",
   "metadata": {},
   "source": [
    "### Write mode with w+"
   ]
  },
  {
   "cell_type": "code",
   "execution_count": null,
   "id": "93ab8f46",
   "metadata": {},
   "outputs": [],
   "source": [
    "1. w+  : Opens a file for writing and reading. \n",
    "2. wb+ : Opens a file for writing and reading in binary mode."
   ]
  },
  {
   "cell_type": "code",
   "execution_count": 7,
   "id": "6a3d7efb",
   "metadata": {},
   "outputs": [
    {
     "name": "stdout",
     "output_type": "stream",
     "text": [
      "\n"
     ]
    }
   ],
   "source": [
    "# We can use read() function in W+ mode.\n",
    "fp = open('../17_File_Handling/files/first_file.txt','w+')\n",
    "fp.write('This is Suresh VJ')\n",
    "print(fp.read())\n",
    "fp.close()"
   ]
  },
  {
   "cell_type": "code",
   "execution_count": 1,
   "id": "37cc181d",
   "metadata": {},
   "outputs": [],
   "source": [
    "# Override is happening.\n",
    "fp = open('../14_File_Handling/files/first_file.txt','w+')\n",
    "fp.write('My Besties are Mahesh, Anand, Kiran kumar')\n",
    "fp.close()"
   ]
  }
 ],
 "metadata": {
  "kernelspec": {
   "display_name": "Python 3",
   "language": "python",
   "name": "python3"
  },
  "language_info": {
   "codemirror_mode": {
    "name": "ipython",
    "version": 3
   },
   "file_extension": ".py",
   "mimetype": "text/x-python",
   "name": "python",
   "nbconvert_exporter": "python",
   "pygments_lexer": "ipython3",
   "version": "3.8.3"
  }
 },
 "nbformat": 4,
 "nbformat_minor": 5
}
