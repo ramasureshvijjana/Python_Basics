{
 "cells": [
  {
   "cell_type": "markdown",
   "id": "84d45165",
   "metadata": {},
   "source": [
    "# Read mode"
   ]
  },
  {
   "cell_type": "code",
   "execution_count": null,
   "id": "40f2b6f0",
   "metadata": {},
   "outputs": [],
   "source": [
    "1. r\n",
    "2. r+"
   ]
  },
  {
   "cell_type": "code",
   "execution_count": null,
   "id": "66641980",
   "metadata": {},
   "outputs": [],
   "source": [
    "r : \n",
    "    1. r mode will work in read-only mode.\n",
    "    2. write() will not work in this mode.\n",
    "r+ : \n",
    "    1. r+ mode will work in reading and write mode.\n",
    "    2. We can use write()  in this mode.\n",
    "    3. It does not overwrite the file."
   ]
  },
  {
   "cell_type": "markdown",
   "id": "f29e3757",
   "metadata": {},
   "source": [
    "## 1. r mode"
   ]
  },
  {
   "cell_type": "code",
   "execution_count": 1,
   "id": "c1262775",
   "metadata": {},
   "outputs": [
    {
     "name": "stdout",
     "output_type": "stream",
     "text": [
      "This is Suresh VJ\n"
     ]
    }
   ],
   "source": [
    "# 1. r mode will work in read-only mode.\n",
    "\n",
    "fp = open('../17_File_Handling/files/first_file.txt', 'r')\n",
    "print(fp.read())"
   ]
  },
  {
   "cell_type": "code",
   "execution_count": 2,
   "id": "37cf1bcf",
   "metadata": {},
   "outputs": [
    {
     "ename": "UnsupportedOperation",
     "evalue": "not writable",
     "output_type": "error",
     "traceback": [
      "\u001b[1;31m---------------------------------------------------------------------------\u001b[0m",
      "\u001b[1;31mUnsupportedOperation\u001b[0m                      Traceback (most recent call last)",
      "\u001b[1;32m<ipython-input-2-897663d44ba6>\u001b[0m in \u001b[0;36m<module>\u001b[1;34m\u001b[0m\n\u001b[1;32m----> 1\u001b[1;33m \u001b[0mfp\u001b[0m\u001b[1;33m.\u001b[0m\u001b[0mwrite\u001b[0m\u001b[1;33m(\u001b[0m\u001b[1;34m'I am here'\u001b[0m\u001b[1;33m)\u001b[0m\u001b[1;33m\u001b[0m\u001b[1;33m\u001b[0m\u001b[0m\n\u001b[0m",
      "\u001b[1;31mUnsupportedOperation\u001b[0m: not writable"
     ]
    }
   ],
   "source": [
    "# 2. write() will not work in this mode.\n",
    "\n",
    "fp.write('I am here')"
   ]
  },
  {
   "cell_type": "code",
   "execution_count": 5,
   "id": "a4d08e59",
   "metadata": {},
   "outputs": [],
   "source": [
    "fp.close()"
   ]
  },
  {
   "cell_type": "markdown",
   "id": "3dfa963e",
   "metadata": {},
   "source": [
    "## 2. r+ mode"
   ]
  },
  {
   "cell_type": "code",
   "execution_count": 6,
   "id": "8a09d083",
   "metadata": {},
   "outputs": [
    {
     "name": "stdout",
     "output_type": "stream",
     "text": [
      "This is Suresh VJ\n"
     ]
    },
    {
     "data": {
      "text/plain": [
       "9"
      ]
     },
     "execution_count": 6,
     "metadata": {},
     "output_type": "execute_result"
    }
   ],
   "source": [
    "# 1. r+ mode will work in reading and write mode.\n",
    "\n",
    "fp = open('../17_File_Handling/files/first_file.txt', 'r+')\n",
    "print(fp.read())\n",
    "\n",
    "# 2. We can use write()  in this mode.\n",
    "fp.write('I am here')"
   ]
  },
  {
   "cell_type": "code",
   "execution_count": 7,
   "id": "82ef8587",
   "metadata": {},
   "outputs": [
    {
     "name": "stdout",
     "output_type": "stream",
     "text": [
      "\n"
     ]
    }
   ],
   "source": [
    "# Changes we can't see untill we close it\n",
    "print(fp.read())"
   ]
  },
  {
   "cell_type": "code",
   "execution_count": 9,
   "id": "6ff3a77c",
   "metadata": {},
   "outputs": [
    {
     "name": "stdout",
     "output_type": "stream",
     "text": [
      "This is Suresh VJI am here\n"
     ]
    }
   ],
   "source": [
    "# 3. It does not overwrite the file.\n",
    "fp.close()\n",
    "\n",
    "fp = open('../17_File_Handling/files/first_file.txt', 'r+')\n",
    "print(fp.read())"
   ]
  },
  {
   "cell_type": "code",
   "execution_count": 10,
   "id": "b8076ff9",
   "metadata": {},
   "outputs": [],
   "source": [
    "fp.close()"
   ]
  }
 ],
 "metadata": {
  "kernelspec": {
   "display_name": "Python 3",
   "language": "python",
   "name": "python3"
  },
  "language_info": {
   "codemirror_mode": {
    "name": "ipython",
    "version": 3
   },
   "file_extension": ".py",
   "mimetype": "text/x-python",
   "name": "python",
   "nbconvert_exporter": "python",
   "pygments_lexer": "ipython3",
   "version": "3.8.3"
  }
 },
 "nbformat": 4,
 "nbformat_minor": 5
}
