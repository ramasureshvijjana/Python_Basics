{
 "cells": [
  {
   "cell_type": "markdown",
   "id": "f745652b",
   "metadata": {},
   "source": [
    "## Set Methods"
   ]
  },
  {
   "cell_type": "code",
   "execution_count": 1,
   "id": "db53a5ab",
   "metadata": {},
   "outputs": [
    {
     "name": "stdout",
     "output_type": "stream",
     "text": [
      "{'Kiran Kumar', 'Rama', 'Suresh'}\n"
     ]
    }
   ],
   "source": [
    "# Copy() method for copy the total set.\n",
    "set_var = {'Rama', \"Suresh\", 'Kiran Kumar'}\n",
    "\n",
    "copy_data = set_var.copy()\n",
    "print(copy_data)"
   ]
  }
 ],
 "metadata": {
  "kernelspec": {
   "display_name": "Python 3",
   "language": "python",
   "name": "python3"
  },
  "language_info": {
   "codemirror_mode": {
    "name": "ipython",
    "version": 3
   },
   "file_extension": ".py",
   "mimetype": "text/x-python",
   "name": "python",
   "nbconvert_exporter": "python",
   "pygments_lexer": "ipython3",
   "version": "3.8.3"
  }
 },
 "nbformat": 4,
 "nbformat_minor": 5
}
