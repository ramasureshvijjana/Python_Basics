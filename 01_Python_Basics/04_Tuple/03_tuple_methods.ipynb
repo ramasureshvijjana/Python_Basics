{
 "cells": [
  {
   "cell_type": "markdown",
   "id": "a455d14f",
   "metadata": {},
   "source": [
    "# Tuple Methods"
   ]
  },
  {
   "cell_type": "markdown",
   "id": "3ad5bdb6",
   "metadata": {},
   "source": [
    "=> Tuple doesn't have changeable methods. because tuple has unchangeable property."
   ]
  },
  {
   "cell_type": "code",
   "execution_count": 2,
   "id": "d5fe7b28",
   "metadata": {},
   "outputs": [
    {
     "name": "stdout",
     "output_type": "stream",
     "text": [
      "0\n"
     ]
    }
   ],
   "source": [
    "# index() --------------> Searches the tuple for a specified value and returns the position of where it was found\n",
    "tuple_var = ('Rama', 'Naveen', 'Eswar')\n",
    "\n",
    "print(tuple_var.index('Rama'))"
   ]
  },
  {
   "cell_type": "code",
   "execution_count": 3,
   "id": "e2d2c7c7",
   "metadata": {},
   "outputs": [
    {
     "name": "stdout",
     "output_type": "stream",
     "text": [
      "1\n"
     ]
    }
   ],
   "source": [
    "# count() --------------> Returns the number of times a specified value occurs in a tuple.\n",
    "\n",
    "print(tuple_var.count('Rama'))"
   ]
  }
 ],
 "metadata": {
  "kernelspec": {
   "display_name": "Python 3",
   "language": "python",
   "name": "python3"
  },
  "language_info": {
   "codemirror_mode": {
    "name": "ipython",
    "version": 3
   },
   "file_extension": ".py",
   "mimetype": "text/x-python",
   "name": "python",
   "nbconvert_exporter": "python",
   "pygments_lexer": "ipython3",
   "version": "3.8.3"
  }
 },
 "nbformat": 4,
 "nbformat_minor": 5
}
