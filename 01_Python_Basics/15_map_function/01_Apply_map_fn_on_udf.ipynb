{
 "cells": [
  {
   "cell_type": "markdown",
   "id": "c26019a1",
   "metadata": {},
   "source": [
    "### map() Function"
   ]
  },
  {
   "cell_type": "code",
   "execution_count": null,
   "id": "fb69b46d",
   "metadata": {},
   "outputs": [],
   "source": [
    "=> map() for map a function to iterables"
   ]
  },
  {
   "cell_type": "code",
   "execution_count": 10,
   "id": "46d5ce99",
   "metadata": {},
   "outputs": [
    {
     "data": {
      "text/plain": [
       "[' Wellcome Rama', ' Wellcome Anand']"
      ]
     },
     "execution_count": 10,
     "metadata": {},
     "output_type": "execute_result"
    }
   ],
   "source": [
    "def wellcome(name):\n",
    "    return 'Wellcome '+name\n",
    "\n",
    "names = ['Rama', 'Anand']\n",
    "list(map(wellcome, names))"
   ]
  },
  {
   "cell_type": "markdown",
   "id": "88af9362",
   "metadata": {},
   "source": [
    "### Apply on inbulid functions"
   ]
  },
  {
   "cell_type": "code",
   "execution_count": 12,
   "id": "9105dff7",
   "metadata": {},
   "outputs": [
    {
     "data": {
      "text/plain": [
       "[4, 5]"
      ]
     },
     "execution_count": 12,
     "metadata": {},
     "output_type": "execute_result"
    }
   ],
   "source": [
    "list(map(len, names))"
   ]
  },
  {
   "cell_type": "code",
   "execution_count": 13,
   "id": "587988cd",
   "metadata": {},
   "outputs": [
    {
     "data": {
      "text/plain": [
       "[('R', 'a', 'm', 'a'), ('A', 'n', 'a', 'n', 'd')]"
      ]
     },
     "execution_count": 13,
     "metadata": {},
     "output_type": "execute_result"
    }
   ],
   "source": [
    "list(map(tuple, names))"
   ]
  },
  {
   "cell_type": "code",
   "execution_count": 25,
   "id": "2b1d47a6",
   "metadata": {},
   "outputs": [
    {
     "data": {
      "text/plain": [
       "[False, True, False, False, True]"
      ]
     },
     "execution_count": 25,
     "metadata": {},
     "output_type": "execute_result"
    }
   ],
   "source": [
    "list_var = [3434, 'rama', 7.989, 88, 'Ramash']\n",
    "\n",
    "def filter_strs(list_var):\n",
    "    if type(list_var) == str:\n",
    "        return True\n",
    "    else:\n",
    "        return False\n",
    "    \n",
    "list(map(filter_strs, list_var))"
   ]
  }
 ],
 "metadata": {
  "kernelspec": {
   "display_name": "Python 3",
   "language": "python",
   "name": "python3"
  },
  "language_info": {
   "codemirror_mode": {
    "name": "ipython",
    "version": 3
   },
   "file_extension": ".py",
   "mimetype": "text/x-python",
   "name": "python",
   "nbconvert_exporter": "python",
   "pygments_lexer": "ipython3",
   "version": "3.8.3"
  }
 },
 "nbformat": 4,
 "nbformat_minor": 5
}
