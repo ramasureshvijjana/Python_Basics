{
 "cells": [
  {
   "cell_type": "markdown",
   "id": "c26019a1",
   "metadata": {},
   "source": [
    "### map() Function"
   ]
  },
  {
   "cell_type": "markdown",
   "id": "0bbc7ef1-17b1-4303-9c0a-1242a89f5d04",
   "metadata": {},
   "source": [
    "> map() for map a function to iterables"
   ]
  },
  {
   "cell_type": "code",
   "execution_count": 1,
   "id": "46d5ce99",
   "metadata": {},
   "outputs": [
    {
     "data": {
      "text/plain": [
       "['Wellcome Rama', 'Wellcome Anand']"
      ]
     },
     "execution_count": 1,
     "metadata": {},
     "output_type": "execute_result"
    }
   ],
   "source": [
    "def wellcome(name):\n",
    "    return 'Wellcome '+name\n",
    "\n",
    "names = ['Rama', 'Anand']\n",
    "list(map(wellcome, names))"
   ]
  },
  {
   "cell_type": "markdown",
   "id": "88af9362",
   "metadata": {},
   "source": [
    "### Apply on inbulid functions"
   ]
  },
  {
   "cell_type": "code",
   "execution_count": 2,
   "id": "9105dff7",
   "metadata": {},
   "outputs": [
    {
     "data": {
      "text/plain": [
       "[4, 5]"
      ]
     },
     "execution_count": 2,
     "metadata": {},
     "output_type": "execute_result"
    }
   ],
   "source": [
    "list(map(len, names))"
   ]
  },
  {
   "cell_type": "code",
   "execution_count": 3,
   "id": "587988cd",
   "metadata": {},
   "outputs": [
    {
     "data": {
      "text/plain": [
       "[('R', 'a', 'm', 'a'), ('A', 'n', 'a', 'n', 'd')]"
      ]
     },
     "execution_count": 3,
     "metadata": {},
     "output_type": "execute_result"
    }
   ],
   "source": [
    "list(map(tuple, names))"
   ]
  },
  {
   "cell_type": "code",
   "execution_count": 4,
   "id": "2b1d47a6",
   "metadata": {},
   "outputs": [
    {
     "data": {
      "text/plain": [
       "[False, True, False, False, True]"
      ]
     },
     "execution_count": 4,
     "metadata": {},
     "output_type": "execute_result"
    }
   ],
   "source": [
    "list_var = [3434, 'rama', 7.989, 88, 'Ramash']\n",
    "\n",
    "def filter_strs(list_var):\n",
    "    if type(list_var) == str:\n",
    "        return True\n",
    "    else:\n",
    "        return False\n",
    "    \n",
    "list(map(filter_strs, list_var))"
   ]
  },
  {
   "cell_type": "markdown",
   "id": "07971680-9b2a-4323-b67e-d5f49fa8d2fb",
   "metadata": {},
   "source": [
    "### map() with lambda:"
   ]
  },
  {
   "cell_type": "code",
   "execution_count": 11,
   "id": "52f3922b-3146-42c0-9d3a-70564a305d55",
   "metadata": {},
   "outputs": [
    {
     "data": {
      "text/plain": [
       "[False, True, False, False, True]"
      ]
     },
     "execution_count": 11,
     "metadata": {},
     "output_type": "execute_result"
    }
   ],
   "source": [
    "list_var = [3434, 'rama', 7.989, 88, 'Ramesh']\n",
    "\n",
    "filter_strs = lambda val: True if type(val) == str else False\n",
    "    \n",
    "list(map(filter_strs, list_var))"
   ]
  },
  {
   "cell_type": "code",
   "execution_count": 14,
   "id": "91a444bb-cfc9-4fac-9753-e410eb3db4cc",
   "metadata": {},
   "outputs": [
    {
     "data": {
      "text/plain": [
       "[False, True, False, False, True]"
      ]
     },
     "execution_count": 14,
     "metadata": {},
     "output_type": "execute_result"
    }
   ],
   "source": [
    "list_var = [3434, 'rama', 7.989, 88, 'Ramesh']\n",
    "\n",
    "filter_strs = lambda val: type(val) == str\n",
    "    \n",
    "list(map(filter_strs, list_var))"
   ]
  },
  {
   "cell_type": "code",
   "execution_count": 15,
   "id": "82d73269-1bfd-4ef6-a754-e8e48393790f",
   "metadata": {},
   "outputs": [],
   "source": [
    "import itertools\n",
    "\n",
    "# Defining lambda function.\n",
    "doubler = lambda input_num, multiplier : input_num * multiplier\n",
    "\n",
    "# Defining data with list\n",
    "data = [4, 85, 29]\n",
    "\n",
    "output = list(map(doubler, data, itertools.repeat(2))) # OUTPUT: [8, 170, 58]"
   ]
  },
  {
   "cell_type": "code",
   "execution_count": 16,
   "id": "8b242809-788c-497d-924f-9f030ad52e9a",
   "metadata": {},
   "outputs": [
    {
     "data": {
      "text/plain": [
       "[8, 170, 58]"
      ]
     },
     "execution_count": 16,
     "metadata": {},
     "output_type": "execute_result"
    }
   ],
   "source": [
    "output"
   ]
  },
  {
   "cell_type": "code",
   "execution_count": null,
   "id": "d4bc371b-4b79-4a7f-a2a4-0dc30ef70af7",
   "metadata": {},
   "outputs": [],
   "source": []
  }
 ],
 "metadata": {
  "kernelspec": {
   "display_name": "Python 3 (ipykernel)",
   "language": "python",
   "name": "python3"
  },
  "language_info": {
   "codemirror_mode": {
    "name": "ipython",
    "version": 3
   },
   "file_extension": ".py",
   "mimetype": "text/x-python",
   "name": "python",
   "nbconvert_exporter": "python",
   "pygments_lexer": "ipython3",
   "version": "3.11.7"
  }
 },
 "nbformat": 4,
 "nbformat_minor": 5
}
