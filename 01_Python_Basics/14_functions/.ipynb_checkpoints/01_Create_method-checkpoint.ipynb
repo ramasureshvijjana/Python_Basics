{
 "cells": [
  {
   "cell_type": "markdown",
   "id": "a41aee05",
   "metadata": {},
   "source": [
    "## What is Method"
   ]
  },
  {
   "cell_type": "markdown",
   "id": "2fea74ff",
   "metadata": {},
   "source": [
    "=> A function is a block of code which only runs when it is called.  \n",
    "=> You can pass data, known as parameters.  \n",
    "=> A function can return data as a result.  \n",
    "\n",
    "#### Types of functions\n",
    "\n",
    "=> Without arguments  \n",
    "=> with arguments  \n",
    "=> Keyword arguments  "
   ]
  },
  {
   "cell_type": "markdown",
   "id": "bce5e188",
   "metadata": {},
   "source": [
    "## Creating a Function\n",
    "=> In Python a function is defined using the def keyword.  "
   ]
  },
  {
   "cell_type": "code",
   "execution_count": 2,
   "id": "59caca32",
   "metadata": {},
   "outputs": [
    {
     "name": "stdout",
     "output_type": "stream",
     "text": [
      "Suresh VJ\n"
     ]
    }
   ],
   "source": [
    "# Create a function with name ram()\n",
    "def ram():\n",
    "    print('Suresh VJ')\n",
    "\n",
    "# Calling the ram() function \n",
    "ram()"
   ]
  },
  {
   "cell_type": "markdown",
   "id": "89ad36c9",
   "metadata": {},
   "source": [
    "### Creating function with arguments"
   ]
  },
  {
   "cell_type": "code",
   "execution_count": 3,
   "id": "7c8e0915",
   "metadata": {},
   "outputs": [
    {
     "name": "stdout",
     "output_type": "stream",
     "text": [
      "101\n"
     ]
    }
   ],
   "source": [
    "# Create a function with name add_two_nums(x, y)\n",
    "def add_two_nums(x, y):\n",
    "    print(x + y)\n",
    "\n",
    "# Calling the add_two_nums(x, y) function \n",
    "add_two_nums(23, 78)"
   ]
  },
  {
   "cell_type": "markdown",
   "id": "b6cc82b7",
   "metadata": {},
   "source": [
    "### Keyword Arguments\n",
    "=> You can also send arguments with the key = value syntax.  \n",
    "=> This way the order of the arguments does not matter.  "
   ]
  },
  {
   "cell_type": "code",
   "execution_count": 8,
   "id": "3b582367",
   "metadata": {},
   "outputs": [
    {
     "name": "stdout",
     "output_type": "stream",
     "text": [
      "131.07823000000002\n"
     ]
    }
   ],
   "source": [
    "# Create a function with name add_two_nums(x, y)\n",
    "def add_two_nums(x, y):\n",
    "    print(x + y)\n",
    "\n",
    "# Calling the add_two_nums(x, y) function \n",
    "add_two_nums(x = 53, y = 78.07823)\n",
    "\n",
    "\n",
    "##################### ERROR ############################\n",
    "\n",
    "# def add_two_nums(u, z):\n",
    "#     print(u + y)\n",
    "\n",
    "# # What keys we are passing from function calling same keys should maintain in method head also\n",
    "# add_two_nums(x = 53, y = 78.07823)\n"
   ]
  }
 ],
 "metadata": {
  "kernelspec": {
   "display_name": "Python 3",
   "language": "python",
   "name": "python3"
  },
  "language_info": {
   "codemirror_mode": {
    "name": "ipython",
    "version": 3
   },
   "file_extension": ".py",
   "mimetype": "text/x-python",
   "name": "python",
   "nbconvert_exporter": "python",
   "pygments_lexer": "ipython3",
   "version": "3.8.3"
  }
 },
 "nbformat": 4,
 "nbformat_minor": 5
}
