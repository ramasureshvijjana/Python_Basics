{
 "cells": [
  {
   "cell_type": "code",
   "execution_count": null,
   "id": "52110bde",
   "metadata": {},
   "outputs": [],
   "source": [
    "Short way / one liner way of making a list with some logic."
   ]
  },
  {
   "cell_type": "code",
   "execution_count": null,
   "id": "1bb854d5",
   "metadata": {},
   "outputs": [],
   "source": [
    "Syntax:\n",
    "    \n",
    "    [Write code inside these square brackets with some syntax for different styles.]"
   ]
  },
  {
   "cell_type": "markdown",
   "id": "57cda10d",
   "metadata": {},
   "source": [
    "## 1. With one condition"
   ]
  },
  {
   "cell_type": "code",
   "execution_count": null,
   "id": "5543e4a4",
   "metadata": {},
   "outputs": [],
   "source": [
    "1. One if condition is possible after for. \n",
    "2. if else is not possible after for."
   ]
  },
  {
   "cell_type": "code",
   "execution_count": 1,
   "id": "e39ad1dc",
   "metadata": {},
   "outputs": [
    {
     "name": "stdout",
     "output_type": "stream",
     "text": [
      "[2, 4, 6, 8]\n"
     ]
    }
   ],
   "source": [
    "list_var = [1,2,3,4,5,6,7,8,9]\n",
    "\n",
    "rslt = [i for i in list_var if i % 2 == 0]\n",
    "print(rslt)"
   ]
  },
  {
   "cell_type": "code",
   "execution_count": 4,
   "id": "f1a54874",
   "metadata": {},
   "outputs": [
    {
     "name": "stdout",
     "output_type": "stream",
     "text": [
      "[1, 3, 5, 7, 9]\n"
     ]
    }
   ],
   "source": [
    "list_var = [1,2,3,4,5,6,7,8,9]\n",
    "\n",
    "rslt = [i for i in list_var if i % 2 != 0]\n",
    "print(rslt)"
   ]
  },
  {
   "cell_type": "markdown",
   "id": "05b13cf5",
   "metadata": {},
   "source": [
    "## 2. Some process after filter"
   ]
  },
  {
   "cell_type": "code",
   "execution_count": 5,
   "id": "5f55315b",
   "metadata": {},
   "outputs": [
    {
     "name": "stdout",
     "output_type": "stream",
     "text": [
      "[4, 16, 36, 64]\n"
     ]
    }
   ],
   "source": [
    "list_var = [1,2,3,4,5,6,7,8,9]\n",
    "\n",
    "rslt = [i ** 2 for i in list_var if i % 2 == 0]\n",
    "print(rslt)"
   ]
  },
  {
   "cell_type": "code",
   "execution_count": 6,
   "id": "f1080d81",
   "metadata": {},
   "outputs": [
    {
     "name": "stdout",
     "output_type": "stream",
     "text": [
      "['Wellcome Rama', 'Wellcome Naveen']\n"
     ]
    }
   ],
   "source": [
    "list_var = ['Rama', 'Eswar', 'Naveen']\n",
    "\n",
    "rslt = ['Wellcome ' + i for i in list_var if len(i) % 2 == 0]\n",
    "print(rslt)"
   ]
  },
  {
   "cell_type": "markdown",
   "id": "49547e95",
   "metadata": {},
   "source": [
    "## 3. Without any condition"
   ]
  },
  {
   "cell_type": "code",
   "execution_count": 7,
   "id": "956367c9",
   "metadata": {},
   "outputs": [
    {
     "name": "stdout",
     "output_type": "stream",
     "text": [
      "[1, 8, 27, 64, 125, 216, 343, 512, 729]\n"
     ]
    }
   ],
   "source": [
    "rslt = [i ** 3 for i in range(1, 10)]\n",
    "print(rslt)"
   ]
  },
  {
   "cell_type": "markdown",
   "id": "fff1563c",
   "metadata": {},
   "source": [
    "## 4. Using if-else "
   ]
  },
  {
   "cell_type": "code",
   "execution_count": null,
   "id": "53e08e9c",
   "metadata": {},
   "outputs": [],
   "source": [
    "1. We can use if else before the for loop"
   ]
  },
  {
   "cell_type": "code",
   "execution_count": 11,
   "id": "48104437",
   "metadata": {},
   "outputs": [
    {
     "name": "stdout",
     "output_type": "stream",
     "text": [
      "[None, None, None, None, None, None, None, None, None]\n",
      "[2, 4, 6, 8]\n",
      "[1, 3, 5, 7, 9]\n"
     ]
    }
   ],
   "source": [
    "even, odd = [], []\n",
    "\n",
    "list_var = [1,2,3,4,5,6,7,8,9]\n",
    "\n",
    "rslt = [even.append(i) if i % 2 == 0 else odd.append(i) for i in list_var]\n",
    "print(rslt) # It stores None because append() function None\n",
    "print(even)\n",
    "print(odd)"
   ]
  },
  {
   "cell_type": "code",
   "execution_count": 12,
   "id": "268ce839",
   "metadata": {},
   "outputs": [
    {
     "name": "stdout",
     "output_type": "stream",
     "text": [
      "['odd', 'even', 'odd', 'even', 'odd', 'even', 'odd', 'even', 'odd']\n"
     ]
    }
   ],
   "source": [
    "list_var = [1,2,3,4,5,6,7,8,9]\n",
    "\n",
    "rslt = ['even' if i % 2 == 0 else 'odd' for i in list_var]\n",
    "print(rslt) "
   ]
  },
  {
   "cell_type": "markdown",
   "id": "f97115da",
   "metadata": {},
   "source": [
    "## 5. zip() use in this concept"
   ]
  },
  {
   "cell_type": "code",
   "execution_count": 13,
   "id": "ea7c15a5",
   "metadata": {},
   "outputs": [
    {
     "data": {
      "text/plain": [
       "[6, 8, 10, 12]"
      ]
     },
     "execution_count": 13,
     "metadata": {},
     "output_type": "execute_result"
    }
   ],
   "source": [
    "\n",
    "l1 = [1,2,3,4]\n",
    "l2 = [5,6,7,8]\n",
    "\n",
    "[v1+v2 for v1,v2 in zip(l1,l2)]"
   ]
  },
  {
   "cell_type": "markdown",
   "id": "6b7fe6e5",
   "metadata": {},
   "source": [
    "## 6. Using nester for loop"
   ]
  },
  {
   "cell_type": "code",
   "execution_count": null,
   "id": "89e2bc21",
   "metadata": {},
   "outputs": [],
   "source": [
    "Syntax:\n",
    "    [output first for loop nested for loop]\n",
    "    \n",
    "1. We can use nested for loops also"
   ]
  },
  {
   "cell_type": "code",
   "execution_count": 14,
   "id": "c8a3db47",
   "metadata": {},
   "outputs": [
    {
     "data": {
      "text/plain": [
       "[2, 4, 6, 8, 10, 12, 14, 16, 18, 20, 7, 14, 21, 28, 35, 42, 49, 56, 63, 70]"
      ]
     },
     "execution_count": 14,
     "metadata": {},
     "output_type": "execute_result"
    }
   ],
   "source": [
    "[multiplication_table*i for multiplication_table in [2,7] for i in range(1,11)]"
   ]
  }
 ],
 "metadata": {
  "kernelspec": {
   "display_name": "Python 3",
   "language": "python",
   "name": "python3"
  },
  "language_info": {
   "codemirror_mode": {
    "name": "ipython",
    "version": 3
   },
   "file_extension": ".py",
   "mimetype": "text/x-python",
   "name": "python",
   "nbconvert_exporter": "python",
   "pygments_lexer": "ipython3",
   "version": "3.8.3"
  }
 },
 "nbformat": 4,
 "nbformat_minor": 5
}
