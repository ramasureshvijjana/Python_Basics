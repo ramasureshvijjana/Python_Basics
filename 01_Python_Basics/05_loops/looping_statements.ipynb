{
 "cells": [
  {
   "cell_type": "markdown",
   "id": "2d3f87ca-2739-46a6-b544-9d960613b853",
   "metadata": {},
   "source": [
    "# Looping Statements"
   ]
  },
  {
   "cell_type": "code",
   "execution_count": null,
   "id": "a4079c79-20e7-4721-96e4-8cb92b20d35c",
   "metadata": {},
   "outputs": [],
   "source": []
  }
 ],
 "metadata": {
  "kernelspec": {
   "display_name": "Python 3 (ipykernel)",
   "language": "python",
   "name": "python3"
  },
  "language_info": {
   "codemirror_mode": {
    "name": "ipython",
    "version": 3
   },
   "file_extension": ".py",
   "mimetype": "text/x-python",
   "name": "python",
   "nbconvert_exporter": "python",
   "pygments_lexer": "ipython3",
   "version": "3.11.7"
  }
 },
 "nbformat": 4,
 "nbformat_minor": 5
}
