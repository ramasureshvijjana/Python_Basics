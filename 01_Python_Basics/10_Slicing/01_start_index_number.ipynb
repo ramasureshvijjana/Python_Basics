{
 "cells": [
  {
   "cell_type": "markdown",
   "id": "1fcdf3fe",
   "metadata": {},
   "source": [
    "# Slicing"
   ]
  },
  {
   "cell_type": "code",
   "execution_count": null,
   "id": "43fff5c3",
   "metadata": {},
   "outputs": [],
   "source": [
    "1. SYNTAX:\n",
    "    x[start : end : step]\n",
    "    \n",
    "2. Slicing aplicable to only:\n",
    "    1. Str\n",
    "    2. List\n",
    "    3. Tuple\n",
    "    \n",
    "3. Ways:\n",
    "    1. From staring to ending\n",
    "\n",
    "4. Possibility table\n",
    "--------------------------------------------------\n",
    "state         index          step          output\n",
    "--------------------------------------------------\n",
    "  F           +ve            +ve              F\n",
    "  R           +ve            -ve              R\n",
    "  F           -ve            +ve              F\n",
    "  R           -ve            -ve              R"
   ]
  },
  {
   "cell_type": "markdown",
   "id": "d8321336",
   "metadata": {},
   "source": [
    "## String Slicing"
   ]
  },
  {
   "cell_type": "code",
   "execution_count": 3,
   "id": "0d711e7c",
   "metadata": {},
   "outputs": [],
   "source": [
    "def slicing(arg):\n",
    "    print(f'Forword ------> arg[:] or arg[0:]    =>  {arg[:]}, {arg[0:]}')\n",
    "    print(f'Forword ------> arg[0:3] or arg[:3]  =>  {arg[0:3]}, {arg[:3]}')\n",
    "    \n",
    "    print(f'Forword ------> arg[3:]              =>  {arg[3:]}')\n",
    "    print(f'Reverse ------> arg[-3:]             =>  {arg[-3:]}')\n",
    "    \n",
    "    print(f'Forword ------> arg[2:5]             =>  {arg[2:5]}')\n",
    "    print(f'Reverse ------> arg[5:2]             =>  {arg[5:2]}')\n",
    "    \n",
    "    print(f'Forword ------> arg[-5:-2]           =>  {arg[-5:-2]}')\n",
    "    print(f'Reverse ------> arg[-2:-5]           =>  {arg[-2:-5]}')\n",
    "     \n",
    "    print(f'Forword ------> arg[2:8:-1]          =>  {arg[2:8:-1]}')\n",
    "    print(f'Forword ------> arg[2:8:-2]          =>  {arg[2:8:-2]}')\n",
    "    \n",
    "    print(f'Reverse ------> arg[8:2:-1]          =>  {arg[8:2:-1]}')\n",
    "    print(f'Reverse ------> arg[8:2:-2]          =>  {arg[8:2:-2]}')\n",
    "    \n",
    "    print(f'arg[::-1]           =>  {arg[::-1]}')\n",
    "    print(f'arg[::-2]           =>  {arg[::-2]}') "
   ]
  },
  {
   "cell_type": "markdown",
   "id": "808a33bb",
   "metadata": {},
   "source": [
    "## String Slicing"
   ]
  },
  {
   "cell_type": "code",
   "execution_count": 4,
   "id": "8f2c47f6",
   "metadata": {},
   "outputs": [
    {
     "name": "stdout",
     "output_type": "stream",
     "text": [
      "Forword ------> arg[:] or arg[0:]    =>  Rama Suresh Vijjana, Rama Suresh Vijjana\n",
      "Forword ------> arg[0:3] or arg[:3]  =>  Ram, Ram\n",
      "Forword ------> arg[3:]              =>  a Suresh Vijjana\n",
      "Reverse ------> arg[-3:]             =>  ana\n",
      "Forword ------> arg[2:5]             =>  ma \n",
      "Reverse ------> arg[5:2]             =>  \n",
      "Forword ------> arg[-5:-2]           =>  jja\n",
      "Reverse ------> arg[-2:-5]           =>  \n",
      "Forword ------> arg[2:8:-1]          =>  \n",
      "Forword ------> arg[2:8:-2]          =>  \n",
      "Reverse ------> arg[8:2:-1]          =>  eruS a\n",
      "Reverse ------> arg[8:2:-2]          =>  eu \n",
      "arg[::-1]           =>  anajjiV hseruS amaR\n",
      "arg[::-2]           =>  aajVheu mR\n"
     ]
    }
   ],
   "source": [
    "slicing('Rama Suresh Vijjana')"
   ]
  },
  {
   "cell_type": "markdown",
   "id": "3a3127cc",
   "metadata": {},
   "source": [
    "## List Slicing"
   ]
  },
  {
   "cell_type": "code",
   "execution_count": 16,
   "id": "b6b15ec8",
   "metadata": {},
   "outputs": [
    {
     "name": "stdout",
     "output_type": "stream",
     "text": [
      "arg[:] or arg[0:]   =>  [23, 6, 25, 76, 'Anand', 'Eswar'], [23, 6, 25, 76, 'Anand', 'Eswar']\n",
      "arg[0:3] or arg[:3] =>  [23, 6, 25], [23, 6, 25]\n",
      "arg[3:]             =>  [76, 'Anand', 'Eswar']\n",
      "arg[2:5]            =>  [25, 76, 'Anand']\n",
      "arg[-2:-5]          =>  [6, 25, 76]\n",
      "arg[2:8-1]          =>  [25, 76, 'Anand', 'Eswar']\n",
      "arg[2:8-2]          =>  [25, 76, 'Anand', 'Eswar']\n",
      "arg[::-1]           =>  ['Eswar', 'Anand', 76, 25, 6, 23]\n",
      "arg[::-2]           =>  ['Eswar', 76, 6]\n"
     ]
    }
   ],
   "source": [
    "slicing([23, 6, 25, 76, 'Anand', 'Eswar'])"
   ]
  },
  {
   "cell_type": "markdown",
   "id": "bc425733",
   "metadata": {},
   "source": [
    "## Tuple Slicing"
   ]
  },
  {
   "cell_type": "code",
   "execution_count": 17,
   "id": "00b1ba78",
   "metadata": {},
   "outputs": [
    {
     "name": "stdout",
     "output_type": "stream",
     "text": [
      "arg[:] or arg[0:]   =>  (23, 6, 25, 76, 'Anand', 'Eswar'), (23, 6, 25, 76, 'Anand', 'Eswar')\n",
      "arg[0:3] or arg[:3] =>  (23, 6, 25), (23, 6, 25)\n",
      "arg[3:]             =>  (76, 'Anand', 'Eswar')\n",
      "arg[2:5]            =>  (25, 76, 'Anand')\n",
      "arg[-2:-5]          =>  (6, 25, 76)\n",
      "arg[2:8-1]          =>  (25, 76, 'Anand', 'Eswar')\n",
      "arg[2:8-2]          =>  (25, 76, 'Anand', 'Eswar')\n",
      "arg[::-1]           =>  ('Eswar', 'Anand', 76, 25, 6, 23)\n",
      "arg[::-2]           =>  ('Eswar', 76, 6)\n"
     ]
    }
   ],
   "source": [
    "slicing((23, 6, 25, 76, 'Anand', 'Eswar'))"
   ]
  }
 ],
 "metadata": {
  "kernelspec": {
   "display_name": "Python 3",
   "language": "python",
   "name": "python3"
  },
  "language_info": {
   "codemirror_mode": {
    "name": "ipython",
    "version": 3
   },
   "file_extension": ".py",
   "mimetype": "text/x-python",
   "name": "python",
   "nbconvert_exporter": "python",
   "pygments_lexer": "ipython3",
   "version": "3.8.3"
  }
 },
 "nbformat": 4,
 "nbformat_minor": 5
}
