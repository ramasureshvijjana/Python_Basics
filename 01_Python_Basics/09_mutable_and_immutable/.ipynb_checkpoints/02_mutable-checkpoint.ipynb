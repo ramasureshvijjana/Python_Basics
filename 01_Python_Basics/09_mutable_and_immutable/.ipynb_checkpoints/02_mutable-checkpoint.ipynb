{
 "cells": [
  {
   "cell_type": "markdown",
   "id": "54f04b81",
   "metadata": {},
   "source": [
    "# Mutable"
   ]
  },
  {
   "cell_type": "code",
   "execution_count": null,
   "id": "beb29c8b",
   "metadata": {},
   "outputs": [],
   "source": [
    "=> Mutable data types:\n",
    "    1. List\n",
    "    2. Set\n",
    "    3. Dict"
   ]
  },
  {
   "cell_type": "markdown",
   "id": "452bbf11",
   "metadata": {},
   "source": [
    "## 1. List"
   ]
  },
  {
   "cell_type": "code",
   "execution_count": 11,
   "id": "f49ac678",
   "metadata": {},
   "outputs": [
    {
     "name": "stdout",
     "output_type": "stream",
     "text": [
      "Way-1\n",
      "\n",
      "Before Change:  3197578747840\n",
      "After Change:   3197577860096\n",
      "\n",
      "Way-2\n",
      "\n",
      "Before Change:  3197579478656 ['Suresh VJ', 'Anand']\n",
      "Before Change:  3197578823664 Suresh VJ\n",
      "\n",
      "After Change:   3197579478656 ['Mahesh', 'Suresh VJ', 'Anand']\n",
      "After Change:   3197578823664 Suresh VJ\n"
     ]
    }
   ],
   "source": [
    "############################ Method - 1 ############################\n",
    "print('Way-1\\n')\n",
    "list_var_1 = ['Suresh', 'Eswar']\n",
    "print('Before Change: ', id(list_var_1))\n",
    "\n",
    "list_var_1 = ['Ram', 'Naveen']\n",
    "print('After Change:  ', id(list_var_1))\n",
    "\n",
    "############################ Method - 2 ############################\n",
    "print('\\nWay-2\\n')\n",
    "list_var_1 = ['Suresh VJ', 'Anand']\n",
    "print('Before Change: ', id(list_var_1), list_var_1)\n",
    "print('Before Change: ', id(list_var_1[0]), list_var_1[0])\n",
    "\n",
    "\n",
    "list_var_1.insert(0, 'Mahesh')\n",
    "print('\\nAfter Change:  ', id(list_var_1), list_var_1)\n",
    "print('After Change:  ', id(list_var_1[1]), list_var_1[1])"
   ]
  },
  {
   "cell_type": "markdown",
   "id": "8c349f27",
   "metadata": {},
   "source": [
    "### 2. Set"
   ]
  },
  {
   "cell_type": "code",
   "execution_count": 12,
   "id": "454c022d",
   "metadata": {},
   "outputs": [
    {
     "name": "stdout",
     "output_type": "stream",
     "text": [
      "Way-1\n",
      "\n",
      "Before Change:  3197585566624\n",
      "After Change:   3197585567072\n",
      "\n",
      "Way-2\n",
      "\n",
      "Before Change:  3197585566624 {'Anand', 'Suresh VJ'}\n",
      "After Change:   3197585566624 {'Anand', 'Ram', 'Suresh VJ'}\n"
     ]
    }
   ],
   "source": [
    "############################ Method - 1 ############################\n",
    "print('Way-1\\n')\n",
    "set_var_1 = {'Suresh', 'Eswar'}\n",
    "print('Before Change: ', id(set_var_1))\n",
    "\n",
    "set_var_1 = {'Ram', 'Naveen'}\n",
    "print('After Change:  ', id(set_var_1))\n",
    "\n",
    "############################ Method - 2 ############################\n",
    "print('\\nWay-2\\n')\n",
    "set_var_2 = {'Suresh VJ', 'Anand'}\n",
    "print('Before Change: ', id(set_var_2), set_var_2)\n",
    "\n",
    "\n",
    "set_var_2.add('Ram')\n",
    "print('After Change:  ', id(set_var_2), set_var_2)"
   ]
  },
  {
   "cell_type": "markdown",
   "id": "f9cb5848",
   "metadata": {},
   "source": [
    "## 3. Dict"
   ]
  },
  {
   "cell_type": "code",
   "execution_count": 10,
   "id": "14588b09",
   "metadata": {},
   "outputs": [
    {
     "name": "stdout",
     "output_type": "stream",
     "text": [
      "Way-1\n",
      "\n",
      "Before Change:  3197578766272\n",
      "After Change:   3197578766976\n",
      "\n",
      "Way-2\n",
      "\n",
      "Before Change:  3197578766272 {1: 'Suresh VJ', 2: 'Anand'}\n",
      "After Change:   3197578766272 {1: 'VJ', 2: 'Anand', 3: 'Ram'}\n"
     ]
    }
   ],
   "source": [
    "############################ Method - 1 ############################\n",
    "print('Way-1\\n')\n",
    "dict_var_1 = {1: 'Suresh', 2: 'Eswar'}\n",
    "print('Before Change: ', id(dict_var_1))\n",
    "\n",
    "dict_var_1 = {1: 'Ram', 2: 'Naveen'}\n",
    "print('After Change:  ', id(dict_var_1))\n",
    "\n",
    "############################ Method - 2 ############################\n",
    "print('\\nWay-2\\n')\n",
    "dict_var_2 = {1: 'Suresh VJ', 2: 'Anand'}\n",
    "print('Before Change: ', id(dict_var_2), dict_var_2)\n",
    "\n",
    "\n",
    "dict_var_2.update({3:'Ram', 1: 'VJ'})\n",
    "print('After Change:  ', id(dict_var_2), dict_var_2)"
   ]
  }
 ],
 "metadata": {
  "kernelspec": {
   "display_name": "Python 3",
   "language": "python",
   "name": "python3"
  },
  "language_info": {
   "codemirror_mode": {
    "name": "ipython",
    "version": 3
   },
   "file_extension": ".py",
   "mimetype": "text/x-python",
   "name": "python",
   "nbconvert_exporter": "python",
   "pygments_lexer": "ipython3",
   "version": "3.8.3"
  }
 },
 "nbformat": 4,
 "nbformat_minor": 5
}
