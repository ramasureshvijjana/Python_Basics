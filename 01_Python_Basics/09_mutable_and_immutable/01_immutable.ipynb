{
 "cells": [
  {
   "cell_type": "markdown",
   "id": "f01e8889",
   "metadata": {},
   "source": [
    "## Immutable"
   ]
  },
  {
   "cell_type": "markdown",
   "id": "954f6807",
   "metadata": {},
   "source": [
    "### Integer"
   ]
  },
  {
   "cell_type": "code",
   "execution_count": 15,
   "id": "1af7e7a6",
   "metadata": {},
   "outputs": [
    {
     "name": "stdout",
     "output_type": "stream",
     "text": [
      "Way-1\n",
      "Before Change:  140720194336832\n",
      "After Change:   140720194337152\n",
      "Way-2\n",
      "Before Change:  140720194336544\n",
      "After Change:   140720194337184\n"
     ]
    }
   ],
   "source": [
    "############################ Method - 1 ############################\n",
    "print('Way-1')\n",
    "x = 10\n",
    "print('Before Change: ', id(x))\n",
    "x = 20\n",
    "print('After Change:  ', id(x))\n",
    "\n",
    "############################ Method - 2 ############################\n",
    "print('Way-2')\n",
    "y = 1\n",
    "print('Before Change: ', id(y))\n",
    "y += 20\n",
    "print('After Change:  ', id(y))"
   ]
  },
  {
   "cell_type": "markdown",
   "id": "7cf863a9",
   "metadata": {},
   "source": [
    "### Float"
   ]
  },
  {
   "cell_type": "code",
   "execution_count": 17,
   "id": "1ca8c0ac",
   "metadata": {},
   "outputs": [
    {
     "name": "stdout",
     "output_type": "stream",
     "text": [
      "Way-1\n",
      "\n",
      "Before Change:  140720194336832\n",
      "After Change:   140720194337152\n",
      "\n",
      "Way-2\n",
      "\n",
      "Before Change:  140720194336544\n",
      "After Change:   140720194337184\n"
     ]
    }
   ],
   "source": [
    "############################ Method - 1 ############################\n",
    "print('Way-1\\n')\n",
    "flt_var_1 = 10\n",
    "print('Before Change: ', id(flt_var_1))\n",
    "flt_var_1 = 20\n",
    "print('After Change:  ', id(flt_var_1))\n",
    "\n",
    "############################ Method - 2 ############################\n",
    "print('\\nWay-2\\n')\n",
    "flt_var_2 = 1\n",
    "print('Before Change: ', id(flt_var_2))\n",
    "flt_var_2 += 20\n",
    "print('After Change:  ', id(flt_var_2))"
   ]
  },
  {
   "cell_type": "markdown",
   "id": "b4a9c2a9",
   "metadata": {},
   "source": [
    "### Complex"
   ]
  },
  {
   "cell_type": "code",
   "execution_count": 22,
   "id": "138b976d",
   "metadata": {},
   "outputs": [
    {
     "name": "stdout",
     "output_type": "stream",
     "text": [
      "Way-1\n",
      "\n",
      "Before Change:  1410936581104\n",
      "After Change:   1410936582000\n",
      "\n",
      "Way-2\n",
      "\n",
      "Before Change:  1410936581104\n",
      "After Change:   1410936581872 (21+3j)\n"
     ]
    }
   ],
   "source": [
    "############################ Method - 1 ############################\n",
    "print('Way-1\\n')\n",
    "complex_var_1 = 10+5j\n",
    "print('Before Change: ', id(complex_var_1))\n",
    "complex_var_1 = 20+6j\n",
    "print('After Change:  ', id(complex_var_1))\n",
    "\n",
    "############################ Method - 2 ############################\n",
    "print('\\nWay-2\\n')\n",
    "complex_var_2 = 1+3j\n",
    "print('Before Change: ', id(complex_var_2))\n",
    "complex_var_2 += 20\n",
    "print('After Change:  ', id(complex_var_2), complex_var_2)"
   ]
  },
  {
   "cell_type": "markdown",
   "id": "9e5840ba",
   "metadata": {},
   "source": [
    "### String"
   ]
  },
  {
   "cell_type": "code",
   "execution_count": 1,
   "id": "2b5c11fc",
   "metadata": {},
   "outputs": [
    {
     "name": "stdout",
     "output_type": "stream",
     "text": [
      "Way-1\n",
      "\n",
      "Before Change:  2060209422256\n",
      "After Change:   2060209500592\n",
      "\n",
      "Way-2\n",
      "\n",
      "Before Change:  2060209500656\n",
      "After Change:   2060209420336 Suresh VJRama\n"
     ]
    }
   ],
   "source": [
    "############################ Method - 1 ############################\n",
    "print('Way-1\\n')\n",
    "str_var_1 = 'Suresh'\n",
    "print('Before Change: ', id(str_var_1))\n",
    "str_var_1 = 'Ram'\n",
    "print('After Change:  ', id(str_var_1))\n",
    "\n",
    "############################ Method - 2 ############################\n",
    "print('\\nWay-2\\n')\n",
    "str_var_2 = 'Suresh VJ'\n",
    "print('Before Change: ', id(str_var_2))\n",
    "str_var_2 += 'Rama'\n",
    "print('After Change:  ', id(str_var_2), str_var_2)"
   ]
  },
  {
   "cell_type": "markdown",
   "id": "ed5f0469",
   "metadata": {},
   "source": [
    "### Tuple"
   ]
  },
  {
   "cell_type": "code",
   "execution_count": 30,
   "id": "838a9a50",
   "metadata": {},
   "outputs": [
    {
     "name": "stdout",
     "output_type": "stream",
     "text": [
      "Way-1\n",
      "\n",
      "Before Change:  1410940402176\n",
      "After Change:   1410940381888\n",
      "\n",
      "Way-2\n",
      "\n",
      "Before Change:  1410940392704\n",
      "After Change:   1410927642240\n"
     ]
    }
   ],
   "source": [
    "############################ Method - 1 ############################\n",
    "print('Way-1\\n')\n",
    "tuple_var_1 = ('Suresh', 'Eswar')\n",
    "print('Before Change: ', id(tuple_var_1))\n",
    "tuple_var_1 = ('Ram', 'Naveen')\n",
    "print('After Change:  ', id(tuple_var_1))\n",
    "\n",
    "############################ Method - 2 ############################\n",
    "print('\\nWay-2\\n')\n",
    "tuple_var_2 = ('Suresh VJ', 'Anand')\n",
    "print('Before Change: ', id(tuple_var_2))\n",
    "\n",
    "# We can't change tuple\n",
    "tuple_var_2 = ('Suresh VJ', 'Anand', 'Ram')\n",
    "print('After Change:  ', id(tuple_var_2))"
   ]
  },
  {
   "cell_type": "markdown",
   "id": "e0d3d561",
   "metadata": {},
   "source": [
    "### Boolean"
   ]
  },
  {
   "cell_type": "code",
   "execution_count": 28,
   "id": "ff15613f",
   "metadata": {},
   "outputs": [
    {
     "name": "stdout",
     "output_type": "stream",
     "text": [
      "Way-1\n",
      "Before Change:  140720194053968\n",
      "After Change:   140720194054000\n"
     ]
    }
   ],
   "source": [
    "x = True\n",
    "print('Before Change: ', id(x))\n",
    "x = False\n",
    "print('After Change:  ', id(x))\n"
   ]
  }
 ],
 "metadata": {
  "kernelspec": {
   "display_name": "Python 3",
   "language": "python",
   "name": "python3"
  },
  "language_info": {
   "codemirror_mode": {
    "name": "ipython",
    "version": 3
   },
   "file_extension": ".py",
   "mimetype": "text/x-python",
   "name": "python",
   "nbconvert_exporter": "python",
   "pygments_lexer": "ipython3",
   "version": "3.8.3"
  }
 },
 "nbformat": 4,
 "nbformat_minor": 5
}
