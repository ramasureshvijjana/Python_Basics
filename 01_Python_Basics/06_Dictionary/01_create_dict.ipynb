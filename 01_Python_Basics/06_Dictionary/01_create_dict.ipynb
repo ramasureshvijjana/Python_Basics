{
 "cells": [
  {
   "cell_type": "markdown",
   "id": "a7b40257",
   "metadata": {},
   "source": [
    "# Create Dictionary"
   ]
  },
  {
   "cell_type": "markdown",
   "id": "e3473092",
   "metadata": {},
   "source": [
    "=> Dictionaries are used to store data values in key:value pairs.  \n",
    "=> Create dicioary in two ways, one is with {} and another one is with dict() counstructor.  \n",
    " "
   ]
  },
  {
   "cell_type": "markdown",
   "id": "a70d9abd",
   "metadata": {},
   "source": [
    "### Way-1: creating with {}"
   ]
  },
  {
   "cell_type": "code",
   "execution_count": 1,
   "id": "6599a960",
   "metadata": {},
   "outputs": [
    {
     "name": "stdout",
     "output_type": "stream",
     "text": [
      "{'name': 'Suresh VJ', 'age': 24, 'DBO': '26/02/1997'}\n"
     ]
    }
   ],
   "source": [
    "# Create with  {}\n",
    "person = {'name' : 'Suresh VJ',\n",
    "         'age' : 24,\n",
    "         'DBO' : '26/02/1997'}\n",
    "\n",
    "print(person)"
   ]
  },
  {
   "cell_type": "markdown",
   "id": "f1959eee",
   "metadata": {},
   "source": [
    "### Way-2: creating with dict() constructor"
   ]
  },
  {
   "cell_type": "code",
   "execution_count": 2,
   "id": "c9d61c15",
   "metadata": {},
   "outputs": [
    {
     "name": "stdout",
     "output_type": "stream",
     "text": [
      "{'name': 'Suresh VJ', 'age': 23}\n"
     ]
    }
   ],
   "source": [
    "# Create with dict() constructore \n",
    "\n",
    "dict_var = dict(name = 'Suresh VJ', age = 23)\n",
    "print(dict_var)"
   ]
  },
  {
   "cell_type": "code",
   "execution_count": null,
   "id": "7c37b7ef",
   "metadata": {},
   "outputs": [],
   "source": []
  }
 ],
 "metadata": {
  "kernelspec": {
   "display_name": "Python 3",
   "language": "python",
   "name": "python3"
  },
  "language_info": {
   "codemirror_mode": {
    "name": "ipython",
    "version": 3
   },
   "file_extension": ".py",
   "mimetype": "text/x-python",
   "name": "python",
   "nbconvert_exporter": "python",
   "pygments_lexer": "ipython3",
   "version": "3.8.3"
  }
 },
 "nbformat": 4,
 "nbformat_minor": 5
}
