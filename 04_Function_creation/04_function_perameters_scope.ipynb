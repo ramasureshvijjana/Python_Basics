{
 "cells": [
  {
   "cell_type": "markdown",
   "id": "a5cbb18c-3f6e-49b0-94f4-6df9025c4941",
   "metadata": {},
   "source": [
    "# Function Parameters Scope"
   ]
  },
  {
   "cell_type": "code",
   "execution_count": 7,
   "id": "69fba487-8d3a-478f-be48-c303fb692dd2",
   "metadata": {},
   "outputs": [
    {
     "name": "stdout",
     "output_type": "stream",
     "text": [
      "3064094845504\n",
      "3064094845504\n",
      "[5]\n",
      "3064094845504\n",
      "3064094845504\n",
      "[5, 5]\n"
     ]
    }
   ],
   "source": [
    "# Define a function with a default list parameter.\n",
    "def add_element(itr:list = []):\n",
    "    print(id(itr))\n",
    "    itr.append(5)\n",
    "    print(id(itr))\n",
    "    return itr\n",
    "\n",
    "print(add_element())\n",
    "print(add_element())"
   ]
  },
  {
   "cell_type": "code",
   "execution_count": 11,
   "id": "455015f1-5d23-44d6-be4b-176a268b3d30",
   "metadata": {},
   "outputs": [
    {
     "ename": "UnboundLocalError",
     "evalue": "cannot access local variable 'itr' where it is not associated with a value",
     "output_type": "error",
     "traceback": [
      "\u001b[1;31m---------------------------------------------------------------------------\u001b[0m",
      "\u001b[1;31mUnboundLocalError\u001b[0m                         Traceback (most recent call last)",
      "Cell \u001b[1;32mIn[11], line 10\u001b[0m\n\u001b[0;32m      7\u001b[0m     \u001b[38;5;28mprint\u001b[39m(\u001b[38;5;28mid\u001b[39m(itr))\n\u001b[0;32m      8\u001b[0m     \u001b[38;5;28;01mreturn\u001b[39;00m itr\n\u001b[1;32m---> 10\u001b[0m \u001b[38;5;28mprint\u001b[39m(add_element())\n\u001b[0;32m     11\u001b[0m \u001b[38;5;28mprint\u001b[39m(add_element())\n",
      "Cell \u001b[1;32mIn[11], line 3\u001b[0m, in \u001b[0;36madd_element\u001b[1;34m()\u001b[0m\n\u001b[0;32m      2\u001b[0m \u001b[38;5;28;01mdef\u001b[39;00m \u001b[38;5;21madd_element\u001b[39m():\n\u001b[1;32m----> 3\u001b[0m     \u001b[38;5;28mprint\u001b[39m(\u001b[38;5;28mid\u001b[39m(itr))\n\u001b[0;32m      4\u001b[0m     itr \u001b[38;5;241m=\u001b[39m []\n\u001b[0;32m      5\u001b[0m     \u001b[38;5;28mprint\u001b[39m(\u001b[38;5;28mid\u001b[39m(itr))\n",
      "\u001b[1;31mUnboundLocalError\u001b[0m: cannot access local variable 'itr' where it is not associated with a value"
     ]
    }
   ],
   "source": [
    "# Define a function with a default list parameter.\n",
    "def add_element():\n",
    "    itr = []\n",
    "    print(id(itr))\n",
    "    itr.append(5)\n",
    "    print(id(itr))\n",
    "    return itr\n",
    "\n",
    "print(add_element())\n",
    "print(add_element())"
   ]
  },
  {
   "cell_type": "code",
   "execution_count": 9,
   "id": "d6f85c75-53ba-40b0-b3d0-1e2680bd3c49",
   "metadata": {},
   "outputs": [
    {
     "name": "stdout",
     "output_type": "stream",
     "text": [
      "140709816464536\n",
      "2897404490800\n",
      "VJ\n",
      "140709816464536\n",
      "2897404516720\n",
      "VJ\n"
     ]
    }
   ],
   "source": [
    "# Define a function with a default list parameter.\n",
    "def add_element(str_in:list = \"V\"):\n",
    "    print(id(str_in))\n",
    "    str_in += \"J\"\n",
    "    print(id(str_in))\n",
    "    return str_in\n",
    "\n",
    "print(add_element())\n",
    "print(add_element())"
   ]
  },
  {
   "cell_type": "code",
   "execution_count": 10,
   "id": "ff216c6c-ff5a-40a9-8880-4dc41c0605fa",
   "metadata": {},
   "outputs": [
    {
     "name": "stdout",
     "output_type": "stream",
     "text": [
      "140709816440544\n",
      "140709816464312\n",
      "R\n",
      "140709816440544\n",
      "140709816464312\n",
      "R\n"
     ]
    }
   ],
   "source": [
    "def add_element():\n",
    "    str_in = \"\"\n",
    "    print(id(str_in))\n",
    "    str_in += \"R\"\n",
    "    print(id(str_in))\n",
    "    return str_in\n",
    "\n",
    "print(add_element())\n",
    "print(add_element())"
   ]
  },
  {
   "cell_type": "code",
   "execution_count": null,
   "id": "07e73ce2-ab3b-41ca-8bab-5ce4cb1afaf1",
   "metadata": {},
   "outputs": [],
   "source": []
  }
 ],
 "metadata": {
  "kernelspec": {
   "display_name": "Python 3 (ipykernel)",
   "language": "python",
   "name": "python3"
  },
  "language_info": {
   "codemirror_mode": {
    "name": "ipython",
    "version": 3
   },
   "file_extension": ".py",
   "mimetype": "text/x-python",
   "name": "python",
   "nbconvert_exporter": "python",
   "pygments_lexer": "ipython3",
   "version": "3.11.7"
  }
 },
 "nbformat": 4,
 "nbformat_minor": 5
}
