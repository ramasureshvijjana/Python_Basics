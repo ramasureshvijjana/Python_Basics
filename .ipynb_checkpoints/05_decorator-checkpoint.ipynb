{
 "cells": [
  {
   "cell_type": "markdown",
   "id": "7045212f-fed6-4b3c-b40b-48459f034a14",
   "metadata": {},
   "source": [
    "# Decorator "
   ]
  },
  {
   "cell_type": "code",
   "execution_count": 13,
   "id": "995f47c9-435b-44d5-907f-fe45ca070422",
   "metadata": {},
   "outputs": [
    {
     "name": "stdout",
     "output_type": "stream",
     "text": [
      "inf\n"
     ]
    }
   ],
   "source": [
    "def div(x, y):\n",
    "    return x / y\n",
    "\n",
    "\n",
    "def div_wrapper(function):\n",
    "    def div_inner(x, y):\n",
    "        if y > x: \n",
    "            x, y = y, x\n",
    "        if y == 0: return 'inf'\n",
    "        return function(x, y)\n",
    "    return div_inner\n",
    "\n",
    "div = div_wrapper(div)\n",
    "print(div(2, 0))\n",
    "            "
   ]
  },
  {
   "cell_type": "code",
   "execution_count": null,
   "id": "43141c41-3d71-4260-aff9-f80ef596da59",
   "metadata": {},
   "outputs": [],
   "source": []
  }
 ],
 "metadata": {
  "kernelspec": {
   "display_name": "Python 3 (ipykernel)",
   "language": "python",
   "name": "python3"
  },
  "language_info": {
   "codemirror_mode": {
    "name": "ipython",
    "version": 3
   },
   "file_extension": ".py",
   "mimetype": "text/x-python",
   "name": "python",
   "nbconvert_exporter": "python",
   "pygments_lexer": "ipython3",
   "version": "3.11.7"
  }
 },
 "nbformat": 4,
 "nbformat_minor": 5
}
