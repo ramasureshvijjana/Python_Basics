{
 "cells": [
  {
   "cell_type": "markdown",
   "id": "7045212f-fed6-4b3c-b40b-48459f034a14",
   "metadata": {},
   "source": [
    "# Decorator "
   ]
  },
  {
   "cell_type": "code",
   "execution_count": 13,
   "id": "995f47c9-435b-44d5-907f-fe45ca070422",
   "metadata": {},
   "outputs": [
    {
     "name": "stdout",
     "output_type": "stream",
     "text": [
      "inf\n"
     ]
    }
   ],
   "source": [
    "def div(x, y):\n",
    "    return x / y\n",
    "\n",
    "\n",
    "def div_wrapper(function):\n",
    "    def div_inner(x, y):\n",
    "        if y > x: \n",
    "            x, y = y, x\n",
    "        if y == 0: return 'inf'\n",
    "        return function(x, y)\n",
    "    return div_inner\n",
    "\n",
    "div = div_wrapper(div)\n",
    "print(div(2, 0))\n",
    "            "
   ]
  },
  {
   "cell_type": "markdown",
   "id": "03f5f25d-0462-40b6-bfc0-7b67cbc02962",
   "metadata": {},
   "source": [
    "## Decorator with arbitory args:"
   ]
  },
  {
   "cell_type": "code",
   "execution_count": 7,
   "id": "4aad9495-a952-4479-9df9-a7fc7d4b958d",
   "metadata": {},
   "outputs": [
    {
     "data": {
      "text/plain": [
       "5.0"
      ]
     },
     "execution_count": 7,
     "metadata": {},
     "output_type": "execute_result"
    }
   ],
   "source": [
    "def div_wrapper(function):\n",
    "    def div_inner(**kwargs):\n",
    "        if kwargs['y'] > kwargs['x']:\n",
    "             kwargs['x'], kwargs['y'] = kwargs['y'],  kwargs['x']\n",
    "        return function(**kwargs)\n",
    "        \n",
    "    return div_inner\n",
    "\n",
    "def div(**kwargs):\n",
    "    return kwargs['x'] / kwargs['y']\n",
    "\n",
    "div = div_wrapper(div)\n",
    "div(x = 10, y = 2, message=\"division\")"
   ]
  },
  {
   "cell_type": "markdown",
   "id": "b4f7d8a2-f69e-4551-8fd5-0ab92fc05808",
   "metadata": {},
   "source": [
    "## Decorator with anotation:"
   ]
  },
  {
   "cell_type": "code",
   "execution_count": 8,
   "id": "6f775f53-e840-4d27-9b26-4452f9efaceb",
   "metadata": {},
   "outputs": [
    {
     "data": {
      "text/plain": [
       "5.0"
      ]
     },
     "execution_count": 8,
     "metadata": {},
     "output_type": "execute_result"
    }
   ],
   "source": [
    "def div_wrapper(function):\n",
    "    def div_inner(**kwargs):\n",
    "        if kwargs['y'] > kwargs['x']:\n",
    "             kwargs['x'], kwargs['y'] = kwargs['y'],  kwargs['x']\n",
    "        return function(**kwargs)\n",
    "        \n",
    "    return div_inner\n",
    "\n",
    "@div_wrapper\n",
    "def div(**kwargs):\n",
    "    return kwargs['x'] / kwargs['y']\n",
    "\n",
    "div(x = 10, y = 2, message=\"division\")"
   ]
  },
  {
   "cell_type": "code",
   "execution_count": null,
   "id": "213e3842-fe08-4ac9-9849-e79f10c62fcd",
   "metadata": {},
   "outputs": [],
   "source": []
  }
 ],
 "metadata": {
  "kernelspec": {
   "display_name": "Python 3 (ipykernel)",
   "language": "python",
   "name": "python3"
  },
  "language_info": {
   "codemirror_mode": {
    "name": "ipython",
    "version": 3
   },
   "file_extension": ".py",
   "mimetype": "text/x-python",
   "name": "python",
   "nbconvert_exporter": "python",
   "pygments_lexer": "ipython3",
   "version": "3.11.7"
  }
 },
 "nbformat": 4,
 "nbformat_minor": 5
}
