{
 "cells": [
  {
   "cell_type": "code",
   "execution_count": 3,
   "id": "662519f6",
   "metadata": {},
   "outputs": [
    {
     "name": "stdout",
     "output_type": "stream",
     "text": [
      "True\n"
     ]
    }
   ],
   "source": [
    "a = (\"p\" *2)* 3\n",
    "b = (\"p\" *3)* 2\n",
    "print(a == b)"
   ]
  },
  {
   "cell_type": "code",
   "execution_count": 3,
   "id": "46f6b56e",
   "metadata": {},
   "outputs": [
    {
     "name": "stdout",
     "output_type": "stream",
     "text": [
      "OOOOOOO\n",
      "AA\n"
     ]
    }
   ],
   "source": [
    "s = 'OAOAOAOAOAOAO'\n",
    "print(s[::2])\n",
    "print(s[1:5:2])"
   ]
  },
  {
   "cell_type": "markdown",
   "id": "b841ab5c",
   "metadata": {},
   "source": [
    "## Q2)Check which of the following string contains all the 26 Alphabets\n",
    "##    a)\"the quick brown fox jumps over a lazy dog\"\n",
    "##    b)\"the quick red fox jumps over a lazy dog\"\n"
   ]
  },
  {
   "cell_type": "code",
   "execution_count": 8,
   "id": "10abab64",
   "metadata": {},
   "outputs": [
    {
     "name": "stdout",
     "output_type": "stream",
     "text": [
      "the quick brown fox jumps over a lazy dog\n"
     ]
    }
   ],
   "source": [
    "import string\n",
    "count_all = []\n",
    "\n",
    "str_1 = \"the quick brown fox jumps over a lazy dog\"\n",
    "str_2 = \"the quick red fox jumps over a lazy dog\"\n",
    "\n",
    "list_str = [str_1, str_2]\n",
    "alphabet = list(string.ascii_lowercase)\n",
    "\n",
    "\n",
    "for strs in list_str:\n",
    "    count = 0\n",
    "    for i in alphabet:\n",
    "        if i in strs:\n",
    "            count += 1\n",
    "        else:\n",
    "            break\n",
    "    count_all.append(count)\n",
    "            \n",
    "print(list_str[count_all.index(26)])"
   ]
  },
  {
   "cell_type": "markdown",
   "id": "cc5cbef3",
   "metadata": {},
   "source": [
    "## Q3)find the length of the string \"Edyoda\" without using len function.\n",
    "\n",
    "### Intuition:\n",
    "    You already studied Loops, and you know string is iterable.\n",
    "    \n",
    "### Pseudocode:\n",
    "    1)create a variable length = 0.\n",
    "    2)loop over the string and increase it's value.\n"
   ]
  },
  {
   "cell_type": "code",
   "execution_count": 12,
   "id": "5c0ef83e",
   "metadata": {},
   "outputs": [
    {
     "name": "stdout",
     "output_type": "stream",
     "text": [
      "Edyoda lenth is 6\n"
     ]
    }
   ],
   "source": [
    "str_1 = 'Edyoda'\n",
    "count = 0\n",
    "for i in str_1:\n",
    "    count += 1\n",
    "        \n",
    "print(f'{str_1} lenth is {count}')"
   ]
  },
  {
   "cell_type": "markdown",
   "id": "a1332d35",
   "metadata": {},
   "source": [
    "## Q4) Check if the word 'china'  is present in the string\n",
    "##    a)\"Who is responsible for this great year 2020?\"        \n",
    "##     b)\"Is it you china?\"\n",
    "\n",
    "## Intuition:\n",
    "    You already studied some operators, use them, or maybe use some builtin string functions\n"
   ]
  },
  {
   "cell_type": "code",
   "execution_count": 17,
   "id": "e8f17292",
   "metadata": {},
   "outputs": [
    {
     "name": "stdout",
     "output_type": "stream",
     "text": [
      "Who is responsible for this great year 2020? =========== no\n",
      "Is it you china? =========== yes\n"
     ]
    }
   ],
   "source": [
    "str_list = [\"Who is responsible for this great year 2020?\", \"Is it you china?\"]\n",
    "x = 'china'\n",
    "for i in str_list:\n",
    "    if x in i:\n",
    "        print(i, '=========== yes' )\n",
    "    else:\n",
    "         print(i, '=========== no' )"
   ]
  },
  {
   "cell_type": "markdown",
   "id": "49f82fe1",
   "metadata": {},
   "source": [
    "## Q5) find the first and the last occurence of the letter 'o' and character ',' in \"Hello, World\".Print both the index.\n",
    "\n",
    "## Intuition: Use built in function\n"
   ]
  },
  {
   "cell_type": "code",
   "execution_count": 28,
   "id": "e3083621",
   "metadata": {},
   "outputs": [
    {
     "name": "stdout",
     "output_type": "stream",
     "text": [
      "First index of o ch is:  4 Last index of o ch is:  8\n",
      "First index of , ch is:  5 Last index of , ch is:  5\n"
     ]
    }
   ],
   "source": [
    "s = \"Hello, World\"\n",
    "ch = ['o', ',']\n",
    "\n",
    "for i in ch:\n",
    "    print(f'First index of {i} ch is: ', s.index(str(i)), f'Last index of {i} ch is: ', s.rindex(str(i)))\n",
    "    \n"
   ]
  },
  {
   "cell_type": "markdown",
   "id": "a89e439c",
   "metadata": {},
   "source": [
    "## Q1)find out the largest and smallest word in the string \"The Surprising Benefits of Sarcasm\".\n",
    "\n",
    "### Intuition: How can we split the words such that we can count their length and compare with each other?\n",
    "\n",
    "### Pseudocode:\n",
    "    1.)Take maxx as -inf, and minn as +inf\n",
    "    2.)convert the string into a list using split() function\n",
    "    3.)loop/iterate through the list and find the maximum length word by using len() function.\n",
    "    Similarly the minimum\n"
   ]
  },
  {
   "cell_type": "code",
   "execution_count": 32,
   "id": "1d6aad2d",
   "metadata": {},
   "outputs": [
    {
     "name": "stdout",
     "output_type": "stream",
     "text": [
      "Surprising\n"
     ]
    }
   ],
   "source": [
    "str_in = \"The Surprising Benefits of Sarcasm\"\n",
    "str_list = str_in.split()\n",
    "count_list = []\n",
    "\n",
    "for i in str_list:\n",
    "    count_list.append(len(i))\n",
    "print(str_list[count_list.index(max(count_list))])"
   ]
  },
  {
   "cell_type": "markdown",
   "id": "dd9c4bd6",
   "metadata": {},
   "source": [
    "## Q2.) Make a list with alphabets from m to z\n",
    "\n",
    "### Intuition: Range function can create numbers and chr() can convert them to alphabets\n",
    "\n",
    "### Pseudocode:\n",
    "    1.) Create an empty list\n",
    "    2.) make 2 variables for start and end alphabets. convert them to numbers\n",
    "    3.) loop from start to end and convert each one of them to alphabet\n",
    "    4.) save each one of them to list.\n"
   ]
  },
  {
   "cell_type": "code",
   "execution_count": 1,
   "id": "f0e7c237",
   "metadata": {},
   "outputs": [
    {
     "ename": "TypeError",
     "evalue": "ord() expected a character, but string of length 3 found",
     "output_type": "error",
     "traceback": [
      "\u001b[1;31m---------------------------------------------------------------------------\u001b[0m",
      "\u001b[1;31mTypeError\u001b[0m                                 Traceback (most recent call last)",
      "\u001b[1;32m<ipython-input-1-fcfb99a2e7ea>\u001b[0m in \u001b[0;36m<module>\u001b[1;34m\u001b[0m\n\u001b[1;32m----> 1\u001b[1;33m \u001b[0mprint\u001b[0m\u001b[1;33m(\u001b[0m\u001b[0mord\u001b[0m\u001b[1;33m(\u001b[0m\u001b[1;34m'foo'\u001b[0m\u001b[1;33m)\u001b[0m\u001b[1;33m)\u001b[0m\u001b[1;33m\u001b[0m\u001b[1;33m\u001b[0m\u001b[0m\n\u001b[0m",
      "\u001b[1;31mTypeError\u001b[0m: ord() expected a character, but string of length 3 found"
     ]
    }
   ],
   "source": [
    "print(ord('foo'))"
   ]
  },
  {
   "cell_type": "code",
   "execution_count": 2,
   "id": "7cb704a9",
   "metadata": {},
   "outputs": [
    {
     "name": "stdout",
     "output_type": "stream",
     "text": [
      "True\n"
     ]
    }
   ],
   "source": [
    "s = 'foo'\n",
    "t = 'bar'\n",
    "print('barf' in 2 * (s + t))"
   ]
  },
  {
   "cell_type": "code",
   "execution_count": 3,
   "id": "90c3bffb",
   "metadata": {},
   "outputs": [
    {
     "data": {
      "text/plain": [
       "True"
      ]
     },
     "execution_count": 3,
     "metadata": {},
     "output_type": "execute_result"
    }
   ],
   "source": [
    "'12'.isdigit()"
   ]
  },
  {
   "cell_type": "code",
   "execution_count": 4,
   "id": "fd37d9c3",
   "metadata": {},
   "outputs": [
    {
     "name": "stdout",
     "output_type": "stream",
     "text": [
      "True\n"
     ]
    }
   ],
   "source": [
    " print('hello'==\"hello\")"
   ]
  },
  {
   "cell_type": "code",
   "execution_count": 5,
   "id": "3865562c",
   "metadata": {},
   "outputs": [
    {
     "name": "stdout",
     "output_type": "stream",
     "text": [
      "c\n"
     ]
    }
   ],
   "source": [
    "print(chr(ord('b')+1))"
   ]
  },
  {
   "cell_type": "code",
   "execution_count": 6,
   "id": "c9e88a1f",
   "metadata": {},
   "outputs": [
    {
     "data": {
      "text/plain": [
       "98"
      ]
     },
     "execution_count": 6,
     "metadata": {},
     "output_type": "execute_result"
    }
   ],
   "source": [
    "ord('b')"
   ]
  },
  {
   "cell_type": "code",
   "execution_count": 7,
   "id": "f9e7e432",
   "metadata": {},
   "outputs": [
    {
     "name": "stdout",
     "output_type": "stream",
     "text": [
      "['ab', 'cd', 'ef', 'cd', 'gh.cd']\n"
     ]
    }
   ],
   "source": [
    "print('ab,cd,ef,cd,gh.cd'.split(','))"
   ]
  },
  {
   "cell_type": "code",
   "execution_count": 14,
   "id": "a041f817",
   "metadata": {},
   "outputs": [
    {
     "ename": "SyntaxError",
     "evalue": "invalid syntax (<ipython-input-14-8ecf732fce45>, line 6)",
     "output_type": "error",
     "traceback": [
      "\u001b[1;36m  File \u001b[1;32m\"<ipython-input-14-8ecf732fce45>\"\u001b[1;36m, line \u001b[1;32m6\u001b[0m\n\u001b[1;33m    i + = 1\u001b[0m\n\u001b[1;37m        ^\u001b[0m\n\u001b[1;31mSyntaxError\u001b[0m\u001b[1;31m:\u001b[0m invalid syntax\n"
     ]
    }
   ],
   "source": [
    "i = 1\n",
    "while True:\n",
    "    if i%3 == 0:\n",
    "        break\n",
    "    print(i)\n",
    "    i + = 1"
   ]
  },
  {
   "cell_type": "code",
   "execution_count": 9,
   "id": "b2a1477b",
   "metadata": {},
   "outputs": [
    {
     "name": "stdout",
     "output_type": "stream",
     "text": [
      "a\n",
      "a\n",
      "a\n",
      "a\n"
     ]
    }
   ],
   "source": [
    "x = 'abcd'\n",
    "\n",
    "for i in range(len(x)):\n",
    "    x = 'a'\n",
    "    print(x)"
   ]
  },
  {
   "cell_type": "code",
   "execution_count": 10,
   "id": "f3a7bc97",
   "metadata": {},
   "outputs": [],
   "source": [
    "for i in range(0):\n",
    "    print(i)"
   ]
  },
  {
   "cell_type": "code",
   "execution_count": 13,
   "id": "c6d3b9a1",
   "metadata": {},
   "outputs": [
    {
     "name": "stdout",
     "output_type": "stream",
     "text": [
      "art\n"
     ]
    }
   ],
   "source": [
    "s1 = 'a'\n",
    "s2 = 'rt'\n",
    "\n",
    "s3 = s1+s2\n",
    "print(s3)"
   ]
  },
  {
   "cell_type": "code",
   "execution_count": null,
   "id": "4b8a287e",
   "metadata": {},
   "outputs": [],
   "source": []
  }
 ],
 "metadata": {
  "kernelspec": {
   "display_name": "Python 3",
   "language": "python",
   "name": "python3"
  },
  "language_info": {
   "codemirror_mode": {
    "name": "ipython",
    "version": 3
   },
   "file_extension": ".py",
   "mimetype": "text/x-python",
   "name": "python",
   "nbconvert_exporter": "python",
   "pygments_lexer": "ipython3",
   "version": "3.8.3"
  }
 },
 "nbformat": 4,
 "nbformat_minor": 5
}
