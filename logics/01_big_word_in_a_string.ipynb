{
 "cells": [
  {
   "cell_type": "code",
   "execution_count": 19,
   "id": "27c508e0",
   "metadata": {},
   "outputs": [
    {
     "name": "stdout",
     "output_type": "stream",
     "text": [
      "{'Suresh_vj': 9, 'is': 2, 'a': 1, 'Machine': 7, 'Learning': 8, 'engineer': 8}\n",
      "Big word:    Suresh_vj\n",
      "Small word:  a\n"
     ]
    }
   ],
   "source": [
    "x = 'Suresh_vj is a Machine Learning engineer'\n",
    "splits = x.split()\n",
    "\n",
    "len_words = {}\n",
    "\n",
    "for i in splits:\n",
    "    len_words[i] = len(i)\n",
    "    \n",
    "print(len_words)\n",
    "    \n",
    "print('Big word:   ',max(len_words, key=len_words.get))\n",
    "print('Small word: ',min(len_words, key=len_words.get))"
   ]
  }
 ],
 "metadata": {
  "kernelspec": {
   "display_name": "Python 3",
   "language": "python",
   "name": "python3"
  },
  "language_info": {
   "codemirror_mode": {
    "name": "ipython",
    "version": 3
   },
   "file_extension": ".py",
   "mimetype": "text/x-python",
   "name": "python",
   "nbconvert_exporter": "python",
   "pygments_lexer": "ipython3",
   "version": "3.8.3"
  }
 },
 "nbformat": 4,
 "nbformat_minor": 5
}
