{
 "cells": [
  {
   "cell_type": "markdown",
   "id": "d377a87c",
   "metadata": {},
   "source": [
    "# Swaping Data"
   ]
  },
  {
   "cell_type": "code",
   "execution_count": null,
   "id": "2c34a173",
   "metadata": {},
   "outputs": [],
   "source": [
    "1. Swap 2 values\n",
    "2. Swap 3 values"
   ]
  },
  {
   "cell_type": "markdown",
   "id": "add1bcf1",
   "metadata": {},
   "source": [
    "### 1. Swap 2 values"
   ]
  },
  {
   "cell_type": "code",
   "execution_count": 4,
   "id": "f13fccbb",
   "metadata": {},
   "outputs": [
    {
     "name": "stdout",
     "output_type": "stream",
     "text": [
      "a: 98\n",
      "b: 78\n",
      "============\n",
      "a: 78\n",
      "b: 98\n"
     ]
    }
   ],
   "source": [
    "a, b = 98, 78\n",
    "print(f'a: {a}\\nb: {b}\\n============')\n",
    "a,b = b,a\n",
    "print(f'a: {a}\\nb: {b}')"
   ]
  },
  {
   "cell_type": "markdown",
   "id": "aefdaf19",
   "metadata": {},
   "source": [
    "### 2. Swap 3 values"
   ]
  },
  {
   "cell_type": "code",
   "execution_count": 6,
   "id": "5f589628",
   "metadata": {},
   "outputs": [
    {
     "name": "stdout",
     "output_type": "stream",
     "text": [
      "a: 98\n",
      "b: -1\n",
      "c: 0\n",
      "============\n",
      "a: 0\n",
      "b: 98\n",
      "c: -1\n"
     ]
    }
   ],
   "source": [
    "a, b, c = 98, -1, 0\n",
    "print(f'a: {a}\\nb: {b}\\nc: {c}\\n============')\n",
    "b,c,a = a,b,c\n",
    "print(f'a: {a}\\nb: {b}\\nc: {c}')"
   ]
  }
 ],
 "metadata": {
  "kernelspec": {
   "display_name": "Python 3",
   "language": "python",
   "name": "python3"
  },
  "language_info": {
   "codemirror_mode": {
    "name": "ipython",
    "version": 3
   },
   "file_extension": ".py",
   "mimetype": "text/x-python",
   "name": "python",
   "nbconvert_exporter": "python",
   "pygments_lexer": "ipython3",
   "version": "3.8.3"
  }
 },
 "nbformat": 4,
 "nbformat_minor": 5
}
