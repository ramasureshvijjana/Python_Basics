{
 "cells": [
  {
   "cell_type": "markdown",
   "id": "bf36e4cc",
   "metadata": {},
   "source": [
    "### Q) Separate each and every element from a list based on data type."
   ]
  },
  {
   "cell_type": "code",
   "execution_count": null,
   "id": "23728818",
   "metadata": {},
   "outputs": [],
   "source": [
    "Input: [4, 56, 67.09, 5+6j, 'Rama', 34.7, 'Murthy', 'Anand', 'Chandu']\n",
    "    "
   ]
  },
  {
   "cell_type": "code",
   "execution_count": null,
   "id": "0b328686",
   "metadata": {},
   "outputs": [],
   "source": [
    "list_var = [4, 56, 67.09, 5+6j, 'Rama', 34.7, 'Murthy', 'Anand', 'Chandu']\n",
    "\n",
    "def separate_data(list_var):"
   ]
  },
  {
   "cell_type": "code",
   "execution_count": 10,
   "id": "666b4e0e",
   "metadata": {},
   "outputs": [
    {
     "name": "stdout",
     "output_type": "stream",
     "text": [
      "Rama has ovels\n"
     ]
    }
   ],
   "source": [
    "check = list('aeiou')\n",
    "input_str = 'Rama'\n",
    "\n",
    "fun = lambda check, input_val : input_val in check\n",
    "\n",
    "for i in list(input_str):\n",
    "    if fun(check, i) == True:\n",
    "        print(f'{input_str} has ovels')\n",
    "        break"
   ]
  },
  {
   "cell_type": "code",
   "execution_count": 19,
   "id": "db7664c0",
   "metadata": {},
   "outputs": [
    {
     "data": {
      "text/plain": [
       "[[True, False, False, False, True],\n",
       " [False, True, False, True, False],\n",
       " [False, False, True, False, False, False, True],\n",
       " [False, True, False, False, True]]"
      ]
     },
     "execution_count": 19,
     "metadata": {},
     "output_type": "execute_result"
    }
   ],
   "source": [
    "l=[\"akshu\",\"pavan\",\"krishna\",\"verma\"] \n",
    "\n",
    "list(map(lambda x: list(map(lambda y: y in list('aeiou'),x)) ,l))\n"
   ]
  },
  {
   "cell_type": "code",
   "execution_count": 20,
   "id": "8b04f4e0",
   "metadata": {},
   "outputs": [
    {
     "ename": "SyntaxError",
     "evalue": "invalid syntax (<ipython-input-20-f69f834e55f2>, line 2)",
     "output_type": "error",
     "traceback": [
      "\u001b[1;36m  File \u001b[1;32m\"<ipython-input-20-f69f834e55f2>\"\u001b[1;36m, line \u001b[1;32m2\u001b[0m\n\u001b[1;33m    final = [i map(lambda i: i if i%2 == 0, list_var)]\u001b[0m\n\u001b[1;37m               ^\u001b[0m\n\u001b[1;31mSyntaxError\u001b[0m\u001b[1;31m:\u001b[0m invalid syntax\n"
     ]
    }
   ],
   "source": [
    "list_var = [4, 56, 67.09]\n",
    "final = [i ]"
   ]
  },
  {
   "cell_type": "code",
   "execution_count": null,
   "id": "a0492b74",
   "metadata": {},
   "outputs": [],
   "source": [
    "Q2) x = ['apple','kiwi','mango','apricot','avocado']\n",
    "Use list comprehension and output only those fruits which start with a.\n"
   ]
  },
  {
   "cell_type": "code",
   "execution_count": 24,
   "id": "c1142f6b",
   "metadata": {},
   "outputs": [
    {
     "name": "stdout",
     "output_type": "stream",
     "text": [
      "['apple', 'apricot', 'avocado']\n"
     ]
    }
   ],
   "source": [
    "import re\n",
    "x = ['apple','kiwi','mango','apricot','avocado']\n",
    "final = [frt for frt in x if re.match(r'^a', frt)]\n",
    "print(final)"
   ]
  },
  {
   "cell_type": "code",
   "execution_count": 26,
   "id": "694d82e8",
   "metadata": {},
   "outputs": [
    {
     "name": "stdout",
     "output_type": "stream",
     "text": [
      "Emma 25\n"
     ]
    }
   ],
   "source": [
    "def x(name, age=20):\n",
    "    print(name, age)\n",
    "    \n",
    "x('Emma', 25)"
   ]
  },
  {
   "cell_type": "code",
   "execution_count": 31,
   "id": "c79981b2",
   "metadata": {},
   "outputs": [
    {
     "name": "stdout",
     "output_type": "stream",
     "text": [
      "I live eat mango\n"
     ]
    }
   ],
   "source": [
    "x = 'apple mango kiwi'\n",
    "\n",
    "def y(frt1, frt2, frt3):\n",
    "    print(\"I live eat\", frt2)\n",
    "    \n",
    "y(*tuple(x.split(' ')))"
   ]
  },
  {
   "cell_type": "code",
   "execution_count": 38,
   "id": "987999ad",
   "metadata": {},
   "outputs": [
    {
     "name": "stdout",
     "output_type": "stream",
     "text": [
      "15\n"
     ]
    }
   ],
   "source": [
    "def outerFun(a, b):\n",
    "    def innerFun(c, d):\n",
    "        return c+d\n",
    "        return a\n",
    "    return innerFun(a, b)\n",
    "    return a\n",
    "\n",
    "print(outerFun(5,10))"
   ]
  },
  {
   "cell_type": "code",
   "execution_count": 40,
   "id": "adc5d194",
   "metadata": {},
   "outputs": [
    {
     "ename": "NameError",
     "evalue": "name 'num' is not defined",
     "output_type": "error",
     "traceback": [
      "\u001b[1;31m---------------------------------------------------------------------------\u001b[0m",
      "\u001b[1;31mNameError\u001b[0m                                 Traceback (most recent call last)",
      "\u001b[1;32m<ipython-input-40-404f5260c6b7>\u001b[0m in \u001b[0;36m<module>\u001b[1;34m\u001b[0m\n\u001b[0;32m      3\u001b[0m \u001b[1;33m\u001b[0m\u001b[0m\n\u001b[0;32m      4\u001b[0m \u001b[0mfun1\u001b[0m\u001b[1;33m(\u001b[0m\u001b[1;36m5\u001b[0m\u001b[1;33m)\u001b[0m\u001b[1;33m\u001b[0m\u001b[1;33m\u001b[0m\u001b[0m\n\u001b[1;32m----> 5\u001b[1;33m \u001b[0mprint\u001b[0m\u001b[1;33m(\u001b[0m\u001b[0mnum\u001b[0m\u001b[1;33m)\u001b[0m\u001b[1;33m\u001b[0m\u001b[1;33m\u001b[0m\u001b[0m\n\u001b[0m",
      "\u001b[1;31mNameError\u001b[0m: name 'num' is not defined"
     ]
    }
   ],
   "source": [
    "def fun1(num):\n",
    "    return num+25\n",
    "\n",
    "fun1(5)\n",
    "print(num)"
   ]
  },
  {
   "cell_type": "code",
   "execution_count": 46,
   "id": "320a465d",
   "metadata": {},
   "outputs": [
    {
     "name": "stdout",
     "output_type": "stream",
     "text": [
      "name\n",
      "age\n"
     ]
    }
   ],
   "source": [
    "def x(**arg):\n",
    "    for i in arg:\n",
    "        print(i)\n",
    "x(name= 'emma', age= 25)"
   ]
  },
  {
   "cell_type": "code",
   "execution_count": 47,
   "id": "aeae4c5e",
   "metadata": {},
   "outputs": [
    {
     "name": "stdout",
     "output_type": "stream",
     "text": [
      "Duke\n"
     ]
    }
   ],
   "source": [
    "x = {'tsh': 'Duke gah jhasdh sah', 'sho': 'first kjsdh dh af hhfo'}\n",
    "\n",
    "def ingo(tsh, sho):\n",
    "    print(tsh.split(' ')[0])\n",
    "    \n",
    "ingo(**x)"
   ]
  },
  {
   "cell_type": "code",
   "execution_count": 56,
   "id": "d80aa7b2",
   "metadata": {},
   "outputs": [
    {
     "name": "stdout",
     "output_type": "stream",
     "text": [
      "[1, 3, 4, 7, 56]\n"
     ]
    }
   ],
   "source": [
    "x = [7,3,4,56,1]\n",
    "y = sorted(x)\n",
    "print(y)"
   ]
  },
  {
   "cell_type": "code",
   "execution_count": 57,
   "id": "73f7921c",
   "metadata": {},
   "outputs": [
    {
     "ename": "UnboundLocalError",
     "evalue": "local variable 'x' referenced before assignment",
     "output_type": "error",
     "traceback": [
      "\u001b[1;31m---------------------------------------------------------------------------\u001b[0m",
      "\u001b[1;31mUnboundLocalError\u001b[0m                         Traceback (most recent call last)",
      "\u001b[1;32m<ipython-input-57-c01cc1ef5677>\u001b[0m in \u001b[0;36m<module>\u001b[1;34m\u001b[0m\n\u001b[0;32m      5\u001b[0m     \u001b[0mprint\u001b[0m\u001b[1;33m(\u001b[0m\u001b[0mx\u001b[0m\u001b[1;33m)\u001b[0m\u001b[1;33m\u001b[0m\u001b[1;33m\u001b[0m\u001b[0m\n\u001b[0;32m      6\u001b[0m \u001b[1;33m\u001b[0m\u001b[0m\n\u001b[1;32m----> 7\u001b[1;33m \u001b[0mmyfun\u001b[0m\u001b[1;33m(\u001b[0m\u001b[1;33m)\u001b[0m\u001b[1;33m\u001b[0m\u001b[1;33m\u001b[0m\u001b[0m\n\u001b[0m\u001b[0;32m      8\u001b[0m \u001b[0mprint\u001b[0m\u001b[1;33m(\u001b[0m\u001b[0mx\u001b[0m\u001b[1;33m)\u001b[0m\u001b[1;33m\u001b[0m\u001b[1;33m\u001b[0m\u001b[0m\n",
      "\u001b[1;32m<ipython-input-57-c01cc1ef5677>\u001b[0m in \u001b[0;36mmyfun\u001b[1;34m()\u001b[0m\n\u001b[0;32m      2\u001b[0m \u001b[1;33m\u001b[0m\u001b[0m\n\u001b[0;32m      3\u001b[0m \u001b[1;32mdef\u001b[0m \u001b[0mmyfun\u001b[0m\u001b[1;33m(\u001b[0m\u001b[1;33m)\u001b[0m\u001b[1;33m:\u001b[0m\u001b[1;33m\u001b[0m\u001b[1;33m\u001b[0m\u001b[0m\n\u001b[1;32m----> 4\u001b[1;33m     \u001b[0mx\u001b[0m \u001b[1;33m=\u001b[0m \u001b[0mx\u001b[0m\u001b[1;33m+\u001b[0m\u001b[1;36m1\u001b[0m\u001b[1;33m\u001b[0m\u001b[1;33m\u001b[0m\u001b[0m\n\u001b[0m\u001b[0;32m      5\u001b[0m     \u001b[0mprint\u001b[0m\u001b[1;33m(\u001b[0m\u001b[0mx\u001b[0m\u001b[1;33m)\u001b[0m\u001b[1;33m\u001b[0m\u001b[1;33m\u001b[0m\u001b[0m\n\u001b[0;32m      6\u001b[0m \u001b[1;33m\u001b[0m\u001b[0m\n",
      "\u001b[1;31mUnboundLocalError\u001b[0m: local variable 'x' referenced before assignment"
     ]
    }
   ],
   "source": [
    "x = 75\n",
    "\n",
    "def myfun():\n",
    "    x = x+1\n",
    "    print(x)\n",
    "    \n",
    "myfun()\n",
    "print(x)"
   ]
  },
  {
   "cell_type": "code",
   "execution_count": 58,
   "id": "449bd6b4",
   "metadata": {},
   "outputs": [
    {
     "name": "stdout",
     "output_type": "stream",
     "text": [
      " sad\n"
     ]
    }
   ],
   "source": [
    "x = 'happy'\n",
    "\n",
    "def myfun(a):\n",
    "    global x \n",
    "    x = ' sad'\n",
    "    \n",
    "myfun('vkhgadkgkh')\n",
    "print(x)"
   ]
  },
  {
   "cell_type": "code",
   "execution_count": 59,
   "id": "bb0679ff",
   "metadata": {},
   "outputs": [
    {
     "ename": "SyntaxError",
     "evalue": "invalid syntax (<ipython-input-59-0933f6eea82d>, line 1)",
     "output_type": "error",
     "traceback": [
      "\u001b[1;36m  File \u001b[1;32m\"<ipython-input-59-0933f6eea82d>\"\u001b[1;36m, line \u001b[1;32m1\u001b[0m\n\u001b[1;33m    defs x():\u001b[0m\n\u001b[1;37m         ^\u001b[0m\n\u001b[1;31mSyntaxError\u001b[0m\u001b[1;31m:\u001b[0m invalid syntax\n"
     ]
    }
   ],
   "source": [
    "defs x():\n",
    "    print('jhfgf')\n",
    "    "
   ]
  },
  {
   "cell_type": "code",
   "execution_count": null,
   "id": "516daeb2",
   "metadata": {},
   "outputs": [],
   "source": []
  }
 ],
 "metadata": {
  "kernelspec": {
   "display_name": "Python 3",
   "language": "python",
   "name": "python3"
  },
  "language_info": {
   "codemirror_mode": {
    "name": "ipython",
    "version": 3
   },
   "file_extension": ".py",
   "mimetype": "text/x-python",
   "name": "python",
   "nbconvert_exporter": "python",
   "pygments_lexer": "ipython3",
   "version": "3.8.3"
  }
 },
 "nbformat": 4,
 "nbformat_minor": 5
}
