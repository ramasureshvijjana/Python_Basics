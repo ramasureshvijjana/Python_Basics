{
 "cells": [
  {
   "cell_type": "code",
   "execution_count": 3,
   "id": "662519f6",
   "metadata": {},
   "outputs": [
    {
     "name": "stdout",
     "output_type": "stream",
     "text": [
      "True\n"
     ]
    }
   ],
   "source": [
    "a = (\"p\" *2)* 3\n",
    "b = (\"p\" *3)* 2\n",
    "print(a == b)"
   ]
  },
  {
   "cell_type": "code",
   "execution_count": 3,
   "id": "46f6b56e",
   "metadata": {},
   "outputs": [
    {
     "name": "stdout",
     "output_type": "stream",
     "text": [
      "OOOOOOO\n",
      "AA\n"
     ]
    }
   ],
   "source": [
    "s = 'OAOAOAOAOAOAO'\n",
    "print(s[::2])\n",
    "print(s[1:5:2])"
   ]
  },
  {
   "cell_type": "markdown",
   "id": "b841ab5c",
   "metadata": {},
   "source": [
    "## Q2)Check which of the following string contains all the 26 Alphabets\n",
    "##    a)\"the quick brown fox jumps over a lazy dog\"\n",
    "##    b)\"the quick red fox jumps over a lazy dog\"\n"
   ]
  },
  {
   "cell_type": "code",
   "execution_count": 10,
   "id": "10abab64",
   "metadata": {},
   "outputs": [
    {
     "name": "stdout",
     "output_type": "stream",
     "text": [
      "the quick brown fox jumps over a lazy dog\n"
     ]
    }
   ],
   "source": [
    "import string\n",
    "count_all = []\n",
    "\n",
    "str_1 = \"the quick brown fox jumps over a lazy dog\"\n",
    "str_2 = \"the quick red fox jumps over a lazy dog\"\n",
    "c\n",
    "list_str = [str_1, str_2]\n",
    "alphabet = list(string.ascii_lowercase)\n",
    "\n",
    "\n",
    "for strs in list_str:\n",
    "    count = 0\n",
    "    for i in alphabet:\n",
    "        if i in strs:\n",
    "            count += 1\n",
    "        else:\n",
    "            continue\n",
    "    count_all.append(count)\n",
    "            \n",
    "print(list_str[count_all.index(26)])"
   ]
  },
  {
   "cell_type": "markdown",
   "id": "cc5cbef3",
   "metadata": {},
   "source": [
    "## Q3)find the length of the string \"Edyoda\" without using len function.\n",
    "\n",
    "### Intuition:\n",
    "    You already studied Loops, and you know string is iterable.\n",
    "    \n",
    "### Pseudocode:\n",
    "    1)create a variable length = 0.\n",
    "    2)loop over the string and increase it's value.\n"
   ]
  },
  {
   "cell_type": "code",
   "execution_count": 12,
   "id": "5c0ef83e",
   "metadata": {},
   "outputs": [
    {
     "name": "stdout",
     "output_type": "stream",
     "text": [
      "Edyoda lenth is 6\n"
     ]
    }
   ],
   "source": [
    "str_1 = 'Edyoda'\n",
    "count = 0\n",
    "for i in str_1:\n",
    "    count += 1\n",
    "        \n",
    "print(f'{str_1} lenth is {count}')"
   ]
  },
  {
   "cell_type": "markdown",
   "id": "a1332d35",
   "metadata": {},
   "source": [
    "## Q4) Check if the word 'china'  is present in the string\n",
    "##    a)\"Who is responsible for this great year 2020?\"        \n",
    "##     b)\"Is it you china?\"\n",
    "\n",
    "## Intuition:\n",
    "    You already studied some operators, use them, or maybe use some builtin string functions\n"
   ]
  },
  {
   "cell_type": "code",
   "execution_count": 17,
   "id": "e8f17292",
   "metadata": {},
   "outputs": [
    {
     "name": "stdout",
     "output_type": "stream",
     "text": [
      "Who is responsible for this great year 2020? =========== no\n",
      "Is it you china? =========== yes\n"
     ]
    }
   ],
   "source": [
    "str_list = [\"Who is responsible for this great year 2020?\", \"Is it you china?\"]\n",
    "x = 'china'\n",
    "for i in str_list:\n",
    "    if x in i:\n",
    "        print(i, '=========== yes' )\n",
    "    else:\n",
    "         print(i, '=========== no' )"
   ]
  },
  {
   "cell_type": "markdown",
   "id": "49f82fe1",
   "metadata": {},
   "source": [
    "## Q5) find the first and the last occurence of the letter 'o' and character ',' in \"Hello, World\".Print both the index.\n",
    "\n",
    "## Intuition: Use built in function\n"
   ]
  },
  {
   "cell_type": "code",
   "execution_count": 28,
   "id": "e3083621",
   "metadata": {},
   "outputs": [
    {
     "name": "stdout",
     "output_type": "stream",
     "text": [
      "First index of o ch is:  4 Last index of o ch is:  8\n",
      "First index of , ch is:  5 Last index of , ch is:  5\n"
     ]
    }
   ],
   "source": [
    "s = \"Hello, World\"\n",
    "ch = ['o', ',']\n",
    "\n",
    "for i in ch:\n",
    "    print(f'First index of {i} ch is: ', s.index(str(i)), f'Last index of {i} ch is: ', s.rindex(str(i)))\n",
    "    \n"
   ]
  },
  {
   "cell_type": "markdown",
   "id": "a89e439c",
   "metadata": {},
   "source": [
    "## Q1)find out the largest and smallest word in the string \"The Surprising Benefits of Sarcasm\".\n",
    "\n",
    "### Intuition: How can we split the words such that we can count their length and compare with each other?\n",
    "\n",
    "### Pseudocode:\n",
    "    1.)Take maxx as -inf, and minn as +inf\n",
    "    2.)convert the string into a list using split() function\n",
    "    3.)loop/iterate through the list and find the maximum length word by using len() function.\n",
    "    Similarly the minimum\n"
   ]
  },
  {
   "cell_type": "code",
   "execution_count": 32,
   "id": "1d6aad2d",
   "metadata": {},
   "outputs": [
    {
     "name": "stdout",
     "output_type": "stream",
     "text": [
      "Surprising\n"
     ]
    }
   ],
   "source": [
    "str_in = \"The Surprising Benefits of Sarcasm\"\n",
    "str_list = str_in.split()\n",
    "count_list = []\n",
    "\n",
    "for i in str_list:\n",
    "    count_list.append(len(i))\n",
    "print(str_list[count_list.index(max(count_list))])"
   ]
  },
  {
   "cell_type": "markdown",
   "id": "dd9c4bd6",
   "metadata": {},
   "source": [
    "## Q2.) Make a list with alphabets from m to z\n",
    "\n",
    "### Intuition: Range function can create numbers and chr() can convert them to alphabets\n",
    "\n",
    "### Pseudocode:\n",
    "    1.) Create an empty list\n",
    "    2.) make 2 variables for start and end alphabets. convert them to numbers\n",
    "    3.) loop from start to end and convert each one of them to alphabet\n",
    "    4.) save each one of them to list.\n"
   ]
  },
  {
   "cell_type": "code",
   "execution_count": null,
   "id": "f0e7c237",
   "metadata": {},
   "outputs": [],
   "source": []
  }
 ],
 "metadata": {
  "kernelspec": {
   "display_name": "Python 3",
   "language": "python",
   "name": "python3"
  },
  "language_info": {
   "codemirror_mode": {
    "name": "ipython",
    "version": 3
   },
   "file_extension": ".py",
   "mimetype": "text/x-python",
   "name": "python",
   "nbconvert_exporter": "python",
   "pygments_lexer": "ipython3",
   "version": "3.8.3"
  }
 },
 "nbformat": 4,
 "nbformat_minor": 5
}
