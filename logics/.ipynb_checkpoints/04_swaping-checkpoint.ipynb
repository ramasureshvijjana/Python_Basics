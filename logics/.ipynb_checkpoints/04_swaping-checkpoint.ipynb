{
 "cells": [
  {
   "cell_type": "markdown",
   "id": "85528148",
   "metadata": {},
   "source": [
    "# Swaping Data"
   ]
  },
  {
   "cell_type": "code",
   "execution_count": null,
   "id": "305740b7",
   "metadata": {},
   "outputs": [],
   "source": [
    "1. Swap 2 values\n",
    "2. Swap 3 values"
   ]
  },
  {
   "cell_type": "code",
   "execution_count": 4,
   "id": "721958c1",
   "metadata": {},
   "outputs": [
    {
     "name": "stdout",
     "output_type": "stream",
     "text": [
      "a: 98\n",
      "b: 78\n",
      "============\n",
      "a: 78\n",
      "b: 98\n"
     ]
    }
   ],
   "source": [
    "a, b = 98, 78\n",
    "print(f'a: {a}\\nb: {b}\\n============')\n",
    "a,b = b,a\n",
    "print(f'a: {a}\\nb: {b}')"
   ]
  },
  {
   "cell_type": "code",
   "execution_count": 5,
   "id": "6baba249",
   "metadata": {},
   "outputs": [
    {
     "name": "stdout",
     "output_type": "stream",
     "text": [
      "a: 98\n",
      "b: -1\n",
      "c: 0\n",
      "============\n",
      "a: 0\n",
      "b: 98\n",
      "c: -1\n"
     ]
    }
   ],
   "source": [
    "a, b, c = 98, -1, 0\n",
    "print(f'a: {a}\\nb: {b}\\nc: {c}\\n============')\n",
    "b,c,a = a,b,c\n",
    "print(f'a: {a}\\nb: {b}\\nc: {c}')"
   ]
  },
  {
   "cell_type": "code",
   "execution_count": null,
   "id": "2416da24",
   "metadata": {},
   "outputs": [],
   "source": []
  }
 ],
 "metadata": {
  "kernelspec": {
   "display_name": "Python 3",
   "language": "python",
   "name": "python3"
  },
  "language_info": {
   "codemirror_mode": {
    "name": "ipython",
    "version": 3
   },
   "file_extension": ".py",
   "mimetype": "text/x-python",
   "name": "python",
   "nbconvert_exporter": "python",
   "pygments_lexer": "ipython3",
   "version": "3.8.3"
  }
 },
 "nbformat": 4,
 "nbformat_minor": 5
}
