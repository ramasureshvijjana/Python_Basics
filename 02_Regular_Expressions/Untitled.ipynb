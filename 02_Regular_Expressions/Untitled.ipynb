{
 "cells": [
  {
   "cell_type": "code",
   "execution_count": null,
   "id": "a6323254",
   "metadata": {},
   "outputs": [],
   "source": []
  },
  {
   "cell_type": "markdown",
   "id": "b05d62bb",
   "metadata": {},
   "source": [
    "## 1. dot(.)"
   ]
  },
  {
   "cell_type": "code",
   "execution_count": null,
   "id": "582fe941",
   "metadata": {},
   "outputs": [],
   "source": [
    ". (dot) => 1. matches with all the char(alphabets,digits,special symols,etc) except\n",
    "              the new line character('\\n')\n",
    "           2. single dot means single char and char could be anything as mentioned above."
   ]
  },
  {
   "cell_type": "code",
   "execution_count": 15,
   "id": "eeb93a80",
   "metadata": {},
   "outputs": [
    {
     "name": "stdout",
     "output_type": "stream",
     "text": [
      "<re.Match object; span=(0, 1), match='r'>\n"
     ]
    }
   ],
   "source": [
    "# Package importing.\n",
    "import re\n",
    "val = 'rama 45454@/ Sur'\n",
    "\n",
    "reslt = re.search(r'.', val)\n",
    "print(reslt)"
   ]
  },
  {
   "cell_type": "code",
   "execution_count": 16,
   "id": "8bf0b791",
   "metadata": {},
   "outputs": [
    {
     "name": "stdout",
     "output_type": "stream",
     "text": [
      "['r', 'a', 'm', 'a', ' ', '4', '5', '4', '5', '4', '@', '/', ' ', 'S', 'u', 'r']\n"
     ]
    }
   ],
   "source": [
    "reslt = re.findall(r'.', val)\n",
    "print(reslt)"
   ]
  },
  {
   "cell_type": "code",
   "execution_count": 17,
   "id": "7c9ab005",
   "metadata": {},
   "outputs": [
    {
     "name": "stdout",
     "output_type": "stream",
     "text": [
      "<re.Match object; span=(0, 1), match='r'>\n",
      "<re.Match object; span=(1, 2), match='a'>\n",
      "<re.Match object; span=(2, 3), match='m'>\n",
      "<re.Match object; span=(3, 4), match='a'>\n",
      "<re.Match object; span=(4, 5), match=' '>\n",
      "<re.Match object; span=(5, 6), match='4'>\n",
      "<re.Match object; span=(6, 7), match='5'>\n",
      "<re.Match object; span=(7, 8), match='4'>\n",
      "<re.Match object; span=(8, 9), match='5'>\n",
      "<re.Match object; span=(9, 10), match='4'>\n",
      "<re.Match object; span=(10, 11), match='@'>\n",
      "<re.Match object; span=(11, 12), match='/'>\n",
      "<re.Match object; span=(12, 13), match=' '>\n",
      "<re.Match object; span=(13, 14), match='S'>\n",
      "<re.Match object; span=(14, 15), match='u'>\n",
      "<re.Match object; span=(15, 16), match='r'>\n"
     ]
    }
   ],
   "source": [
    "\n",
    "for i in re.finditer(r'.', val):\n",
    "    print(i)\n"
   ]
  },
  {
   "cell_type": "markdown",
   "id": "addf6fe6",
   "metadata": {},
   "source": [
    "## 2. [a-z]"
   ]
  },
  {
   "cell_type": "code",
   "execution_count": 18,
   "id": "b2b90cf0",
   "metadata": {},
   "outputs": [
    {
     "name": "stdout",
     "output_type": "stream",
     "text": [
      "<re.Match object; span=(0, 1), match='r'>\n"
     ]
    }
   ],
   "source": [
    "reslt = re.search(r'[a-z]', val)\n",
    "print(reslt)"
   ]
  },
  {
   "cell_type": "code",
   "execution_count": 19,
   "id": "8fb6566b",
   "metadata": {},
   "outputs": [
    {
     "name": "stdout",
     "output_type": "stream",
     "text": [
      "['r', 'a', 'm', 'a', 'u', 'r']\n"
     ]
    }
   ],
   "source": [
    "reslt = re.findall(r'[a-z]', val)\n",
    "print(reslt)"
   ]
  },
  {
   "cell_type": "code",
   "execution_count": 20,
   "id": "6e2e3c66",
   "metadata": {},
   "outputs": [
    {
     "name": "stdout",
     "output_type": "stream",
     "text": [
      "<re.Match object; span=(0, 1), match='r'>\n"
     ]
    }
   ],
   "source": [
    "reslt = re.match(r'[a-z]', val)\n",
    "print(reslt)"
   ]
  },
  {
   "cell_type": "markdown",
   "id": "0cf3fe9e",
   "metadata": {},
   "source": [
    "## 3. [A-Z]"
   ]
  },
  {
   "cell_type": "code",
   "execution_count": 22,
   "id": "c1c46827",
   "metadata": {},
   "outputs": [],
   "source": [
    "val = 'GAuihsuf%&)238hdGGGGVNK'"
   ]
  },
  {
   "cell_type": "code",
   "execution_count": 23,
   "id": "68db2ec0",
   "metadata": {},
   "outputs": [
    {
     "name": "stdout",
     "output_type": "stream",
     "text": [
      "<re.Match object; span=(0, 1), match='G'>\n"
     ]
    }
   ],
   "source": [
    "reslt = re.search(r'[A-Z]', val)\n",
    "print(reslt)"
   ]
  },
  {
   "cell_type": "code",
   "execution_count": 25,
   "id": "d48f5bbf",
   "metadata": {},
   "outputs": [
    {
     "name": "stdout",
     "output_type": "stream",
     "text": [
      "['G', 'A', 'G', 'G', 'G', 'G', 'V', 'N', 'K']\n"
     ]
    }
   ],
   "source": [
    "reslt = re.findall(r'[A-Z]', val)\n",
    "print(reslt)"
   ]
  },
  {
   "cell_type": "markdown",
   "id": "16a5fd5b",
   "metadata": {},
   "source": [
    "## 4. [0-9]"
   ]
  },
  {
   "cell_type": "code",
   "execution_count": 26,
   "id": "daa96826",
   "metadata": {},
   "outputs": [
    {
     "name": "stdout",
     "output_type": "stream",
     "text": [
      "<re.Match object; span=(11, 12), match='2'>\n"
     ]
    }
   ],
   "source": [
    "\n",
    "reslt = re.search(r'[0-9]', val)\n",
    "print(reslt)"
   ]
  },
  {
   "cell_type": "code",
   "execution_count": 27,
   "id": "f349b391",
   "metadata": {},
   "outputs": [
    {
     "name": "stdout",
     "output_type": "stream",
     "text": [
      "['2', '3', '8']\n"
     ]
    }
   ],
   "source": [
    "reslt = re.findall(r'[0-9]', val)\n",
    "print(reslt)"
   ]
  },
  {
   "cell_type": "markdown",
   "id": "d2a7a5ff",
   "metadata": {},
   "source": [
    "## 5. [A-Za-z]"
   ]
  },
  {
   "cell_type": "code",
   "execution_count": 2,
   "id": "62c24173",
   "metadata": {},
   "outputs": [
    {
     "name": "stdout",
     "output_type": "stream",
     "text": [
      "<re.Match object; span=(0, 1), match='G'>\n"
     ]
    }
   ],
   "source": [
    "import re\n",
    "val = 'GAuihsuf%&)238hdGGGGVNK'\n",
    "\n",
    "reslt = re.search(r'[A-Za-z]', val)\n",
    "print(reslt)"
   ]
  },
  {
   "cell_type": "code",
   "execution_count": 3,
   "id": "7a95713b",
   "metadata": {},
   "outputs": [
    {
     "name": "stdout",
     "output_type": "stream",
     "text": [
      "['G', 'A', 'u', 'i', 'h', 's', 'u', 'f', 'h', 'd', 'G', 'G', 'G', 'G', 'V', 'N', 'K']\n"
     ]
    }
   ],
   "source": [
    "reslt = re.findall(r'[A-Za-z]', val)\n",
    "print(reslt)"
   ]
  },
  {
   "cell_type": "code",
   "execution_count": 29,
   "id": "fc574434",
   "metadata": {},
   "outputs": [
    {
     "name": "stdout",
     "output_type": "stream",
     "text": [
      "<re.Match object; span=(0, 17), match='rama234@yahoo.com'>\n"
     ]
    }
   ],
   "source": [
    "import re\n",
    "val = 'rama234@yahoo.com'\n",
    "\n",
    "reslt = re.search(r'^[a-z0-9]+[@][a-z]+[.][a-z]{2,3}$', val)\n",
    "print(reslt)"
   ]
  },
  {
   "cell_type": "code",
   "execution_count": 17,
   "id": "6d042f97",
   "metadata": {},
   "outputs": [
    {
     "name": "stdout",
     "output_type": "stream",
     "text": [
      "<re.Match object; span=(0, 10), match='GAuihsuf%&'>\n"
     ]
    }
   ],
   "source": [
    "import re\n",
    "val = 'GAuihsuf%&)238hdGGGGVNK'\n",
    "\n",
    "reslt = re.search(r'^[a-z0-9]+[@]', val)\n",
    "print(reslt)"
   ]
  },
  {
   "cell_type": "code",
   "execution_count": 64,
   "id": "bc1e3b10",
   "metadata": {},
   "outputs": [
    {
     "data": {
      "text/plain": [
       "<re.Match object; span=(0, 14), match='+91 8179765547'>"
      ]
     },
     "execution_count": 64,
     "metadata": {},
     "output_type": "execute_result"
    }
   ],
   "source": [
    "# phone number validation\n",
    "\n",
    "import re\n",
    "val = '+91 8179765547'\n",
    "re.match(r'^[+91\\s]+[0-9]{10}$', val)"
   ]
  },
  {
   "cell_type": "code",
   "execution_count": 80,
   "id": "9f956101",
   "metadata": {},
   "outputs": [
    {
     "data": {
      "text/plain": [
       "<re.Match object; span=(0, 5), match='Rama '>"
      ]
     },
     "execution_count": 80,
     "metadata": {},
     "output_type": "execute_result"
    }
   ],
   "source": [
    "# name validation\n",
    "\n",
    "import re\n",
    "val = 'Rama '\n",
    "re.fullmatch(r'^[A-Z][a-z]{2,15}\\s', val)"
   ]
  },
  {
   "cell_type": "code",
   "execution_count": null,
   "id": "572a3d05",
   "metadata": {},
   "outputs": [],
   "source": []
  }
 ],
 "metadata": {
  "kernelspec": {
   "display_name": "Python 3",
   "language": "python",
   "name": "python3"
  },
  "language_info": {
   "codemirror_mode": {
    "name": "ipython",
    "version": 3
   },
   "file_extension": ".py",
   "mimetype": "text/x-python",
   "name": "python",
   "nbconvert_exporter": "python",
   "pygments_lexer": "ipython3",
   "version": "3.8.3"
  }
 },
 "nbformat": 4,
 "nbformat_minor": 5
}
