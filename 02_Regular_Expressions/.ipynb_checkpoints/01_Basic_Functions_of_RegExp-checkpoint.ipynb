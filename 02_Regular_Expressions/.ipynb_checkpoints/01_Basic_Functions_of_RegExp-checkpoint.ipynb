{
 "cells": [
  {
   "cell_type": "markdown",
   "id": "9f0a71ef",
   "metadata": {},
   "source": [
    "# Basic Functions in Regular Expressions"
   ]
  },
  {
   "cell_type": "code",
   "execution_count": null,
   "id": "628374f7",
   "metadata": {},
   "outputs": [],
   "source": [
    "1. re.search()\n",
    "2. re.findall()\n",
    "3. re.finditer()\n",
    "4. re.compile()"
   ]
  },
  {
   "cell_type": "code",
   "execution_count": 2,
   "id": "c38f89cd",
   "metadata": {},
   "outputs": [],
   "source": [
    "import re\n",
    "\n",
    "input_str = '''Tired with all these, for restful death I cry,\n",
    "As to behold desert a beggar born,\n",
    "And needy nothing trimm'd in jollity,\n",
    "And purest faith unhappily forsworn,\n",
    "And gilded honour shamefully misplac'd,\n",
    "And maiden virtue rudely strumpeted,\n",
    "And right perfection wrongfully disgrac'd,\n",
    "And strength by limping sway disabled\n",
    "And art made tongue-tied by authority,\n",
    "And folly—doctor-like—controlling skill,\n",
    "And simple truth miscall'd simplicity,\n",
    "And captive good attending captain ill:\n",
    "Tir'd with all these, from these would I be gone,\n",
    "Save that, to die, I leave my love alone.'''\n"
   ]
  },
  {
   "cell_type": "markdown",
   "id": "14e6996a",
   "metadata": {},
   "source": [
    "## 1. re.search()"
   ]
  },
  {
   "cell_type": "code",
   "execution_count": null,
   "id": "b8ad5978",
   "metadata": {},
   "outputs": [],
   "source": [
    "1. Match the first occurrence only."
   ]
  },
  {
   "cell_type": "code",
   "execution_count": 3,
   "id": "1de145ff",
   "metadata": {},
   "outputs": [
    {
     "name": "stdout",
     "output_type": "stream",
     "text": [
      "<re.Match object; span=(26, 33), match='restful'>\n"
     ]
    }
   ],
   "source": [
    "print(re.search('restful', input_str))"
   ]
  },
  {
   "cell_type": "code",
   "execution_count": 4,
   "id": "f5e4465e",
   "metadata": {},
   "outputs": [
    {
     "name": "stdout",
     "output_type": "stream",
     "text": [
      "<re.Match object; span=(82, 85), match='And'>\n"
     ]
    }
   ],
   "source": [
    "print(re.search('And', input_str))"
   ]
  },
  {
   "cell_type": "markdown",
   "id": "e0640629",
   "metadata": {},
   "source": [
    "## 2. re.findall()"
   ]
  },
  {
   "cell_type": "code",
   "execution_count": null,
   "id": "d96732d2",
   "metadata": {},
   "outputs": [],
   "source": [
    "1. It returns all matched words\n",
    "2. Return type is list"
   ]
  },
  {
   "cell_type": "code",
   "execution_count": 4,
   "id": "099112fe",
   "metadata": {},
   "outputs": [
    {
     "name": "stdout",
     "output_type": "stream",
     "text": [
      "['restful']\n"
     ]
    }
   ],
   "source": [
    "print(re.findall('restful', input_str))"
   ]
  },
  {
   "cell_type": "code",
   "execution_count": 5,
   "id": "38a26503",
   "metadata": {},
   "outputs": [
    {
     "name": "stdout",
     "output_type": "stream",
     "text": [
      "['And', 'And', 'And', 'And', 'And', 'And', 'And', 'And', 'And', 'And']\n"
     ]
    }
   ],
   "source": [
    "print(re.findall('And', input_str))"
   ]
  },
  {
   "cell_type": "code",
   "execution_count": 6,
   "id": "72065f67",
   "metadata": {},
   "outputs": [
    {
     "name": "stdout",
     "output_type": "stream",
     "text": [
      "[]\n"
     ]
    }
   ],
   "source": [
    "# Searching word is case sensitive.\n",
    "print(re.findall('and', input_str))"
   ]
  },
  {
   "cell_type": "markdown",
   "id": "b5a55c3d",
   "metadata": {},
   "source": [
    "## 3. re.finditer()"
   ]
  },
  {
   "cell_type": "code",
   "execution_count": 11,
   "id": "03a0d410",
   "metadata": {},
   "outputs": [
    {
     "name": "stdout",
     "output_type": "stream",
     "text": [
      "<callable_iterator object at 0x0000025169D5E370>\n"
     ]
    }
   ],
   "source": [
    "print(re.finditer('restful', input_str))"
   ]
  },
  {
   "cell_type": "code",
   "execution_count": 12,
   "id": "f57b0ee2",
   "metadata": {},
   "outputs": [
    {
     "name": "stdout",
     "output_type": "stream",
     "text": [
      "<re.Match object; span=(26, 33), match='restful'>\n"
     ]
    }
   ],
   "source": [
    "res = re.finditer('restful', input_str)\n",
    "\n",
    "for i in res:\n",
    "    print(i)\n"
   ]
  },
  {
   "cell_type": "code",
   "execution_count": 13,
   "id": "ebfc600e",
   "metadata": {},
   "outputs": [
    {
     "name": "stdout",
     "output_type": "stream",
     "text": [
      "<re.Match object; span=(82, 85), match='And'>\n",
      "<re.Match object; span=(120, 123), match='And'>\n",
      "<re.Match object; span=(157, 160), match='And'>\n",
      "<re.Match object; span=(197, 200), match='And'>\n",
      "<re.Match object; span=(234, 237), match='And'>\n",
      "<re.Match object; span=(277, 280), match='And'>\n",
      "<re.Match object; span=(315, 318), match='And'>\n",
      "<re.Match object; span=(354, 357), match='And'>\n",
      "<re.Match object; span=(395, 398), match='And'>\n",
      "<re.Match object; span=(434, 437), match='And'>\n"
     ]
    }
   ],
   "source": [
    "for i in re.finditer('And', input_str):\n",
    "    print(i)\n"
   ]
  },
  {
   "cell_type": "markdown",
   "id": "789cd1a2",
   "metadata": {},
   "source": [
    "## 4. re.compile()"
   ]
  },
  {
   "cell_type": "code",
   "execution_count": null,
   "id": "af0172a4",
   "metadata": {},
   "outputs": [],
   "source": [
    "1. Used for change the mached result\n",
    "2. Not inplace match"
   ]
  },
  {
   "cell_type": "code",
   "execution_count": 17,
   "id": "1feedc3f",
   "metadata": {},
   "outputs": [
    {
     "name": "stdout",
     "output_type": "stream",
     "text": [
      "Tired with all these, for NOT RESTFULL death I cry,\n",
      "As to behold desert a beggar born,\n",
      "And needy nothing trimm'd in jollity,\n",
      "And purest faith unhappily forsworn,\n",
      "And gilded honour shamefully misplac'd,\n",
      "And maiden virtue rudely strumpeted,\n",
      "And right perfection wrongfully disgrac'd,\n",
      "And strength by limping sway disabled\n",
      "And art made tongue-tied by authority,\n",
      "And folly—doctor-like—controlling skill,\n",
      "And simple truth miscall'd simplicity,\n",
      "And captive good attending captain ill:\n",
      "Tir'd with all these, from these would I be gone,\n",
      "Save that, to die, I leave my love alone.\n"
     ]
    }
   ],
   "source": [
    "comp_obj = re.compile('restful')\n",
    "\n",
    "val = comp_obj.sub('NOT RESTFULL',input_str)\n",
    "print(val)"
   ]
  },
  {
   "cell_type": "code",
   "execution_count": 18,
   "id": "8cb4799e",
   "metadata": {},
   "outputs": [
    {
     "name": "stdout",
     "output_type": "stream",
     "text": [
      "Tired with all these, for restful death I cry,\n",
      "As to behold desert a beggar born,\n",
      "And needy nothing trimm'd in jollity,\n",
      "And purest faith unhappily forsworn,\n",
      "And gilded honour shamefully misplac'd,\n",
      "And maiden virtue rudely strumpeted,\n",
      "And right perfection wrongfully disgrac'd,\n",
      "And strength by limping sway disabled\n",
      "And art made tongue-tied by authority,\n",
      "And folly—doctor-like—controlling skill,\n",
      "And simple truth miscall'd simplicity,\n",
      "And captive good attending captain ill:\n",
      "Tir'd with all these, from these would I be gone,\n",
      "Save that, to die, I leave my love alone.\n"
     ]
    }
   ],
   "source": [
    "print(input_str)"
   ]
  }
 ],
 "metadata": {
  "kernelspec": {
   "display_name": "Python 3",
   "language": "python",
   "name": "python3"
  },
  "language_info": {
   "codemirror_mode": {
    "name": "ipython",
    "version": 3
   },
   "file_extension": ".py",
   "mimetype": "text/x-python",
   "name": "python",
   "nbconvert_exporter": "python",
   "pygments_lexer": "ipython3",
   "version": "3.8.3"
  }
 },
 "nbformat": 4,
 "nbformat_minor": 5
}
