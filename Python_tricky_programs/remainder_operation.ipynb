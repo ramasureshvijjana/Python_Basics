{
 "cells": [
  {
   "cell_type": "code",
   "execution_count": 1,
   "id": "4a147977-9849-4e66-b33d-f4ae243885ba",
   "metadata": {},
   "outputs": [
    {
     "name": "stdout",
     "output_type": "stream",
     "text": [
      "3\n"
     ]
    }
   ],
   "source": [
    "def rem(a,b):\n",
    "    return a % b\n",
    "print(rem(3,7))"
   ]
  },
  {
   "cell_type": "markdown",
   "id": "0e4e8035-cd26-4811-b6e5-62adebcfd9bf",
   "metadata": {},
   "source": [
    "### Explanation:\n",
    "1. The modulo operation (%) returns the remainder of the division of one number by another.   \n",
    "2. When we divide 3 by 7, the quotient is 0 and the remainder is 3.  \n",
    "\n",
    "   $3 ÷ 7 = 0$\n",
    "   \n",
    "    $ divisor) dividend (quotient$  \n",
    "    <span style=\"margin-right: 50px;\"></span>$remainder$ <br>\n",
    "  \n",
    "    $ 7) 3 (0$.  \n",
    "\n",
    "3. Python % cosiders $quotient$ as '0' if it is lessthan 1 $(0.4 ≈ 0)$. if $quotient = 0$ then it takes $dividend$ as $remainder$ $(dividend = remainder)$.\n",
    "\n",
    "Here:<br>\n",
    "$ quotient = 0 $ <br> \n",
    "$ remainder =  3 $    "
   ]
  },
  {
   "cell_type": "code",
   "execution_count": 2,
   "id": "8f0346d2-4d4a-4336-bec3-b379f46f60f0",
   "metadata": {},
   "outputs": [
    {
     "name": "stdout",
     "output_type": "stream",
     "text": [
      "4\n"
     ]
    }
   ],
   "source": [
    "def rem(a,b):\n",
    "    return a % b\n",
    "print(rem(4,10))"
   ]
  },
  {
   "cell_type": "code",
   "execution_count": 2,
   "id": "53486cbd-6fd0-4fab-af70-f981603121f6",
   "metadata": {},
   "outputs": [
    {
     "name": "stdout",
     "output_type": "stream",
     "text": [
      "0\n"
     ]
    }
   ],
   "source": [
    "def rem(a,b):\n",
    "    return a // b\n",
    "print(rem(4,10))"
   ]
  },
  {
   "cell_type": "code",
   "execution_count": null,
   "id": "009ecf75-cdec-4360-bb7e-a43b0067df00",
   "metadata": {},
   "outputs": [],
   "source": []
  }
 ],
 "metadata": {
  "kernelspec": {
   "display_name": "Python 3 (ipykernel)",
   "language": "python",
   "name": "python3"
  },
  "language_info": {
   "codemirror_mode": {
    "name": "ipython",
    "version": 3
   },
   "file_extension": ".py",
   "mimetype": "text/x-python",
   "name": "python",
   "nbconvert_exporter": "python",
   "pygments_lexer": "ipython3",
   "version": "3.11.7"
  }
 },
 "nbformat": 4,
 "nbformat_minor": 5
}
